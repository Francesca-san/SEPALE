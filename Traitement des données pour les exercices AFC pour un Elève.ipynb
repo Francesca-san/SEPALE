{
 "cells": [
  {
   "cell_type": "code",
   "execution_count": 1,
   "metadata": {},
   "outputs": [],
   "source": [
    "# On importe des petits modules python bien sympa\n",
    "# numpy : fonctions mathématiques vraiment convenables !\n",
    "import numpy as np\n",
    "import os\n",
    "# taille des figures\n",
    "from graphs import *\n",
    "from exo import *\n",
    "\n",
    "plt.rcParams[\"figure.figsize\"] = (10,10)\n",
    "plt.rcParams[\"font.size\"] = 20\n",
    "\n",
    "def get_files_directory(directory, pattern=\"AFC\"):\n",
    "    if directory[-1] != \"/\":\n",
    "        directory += \"/\"\n",
    "    return [directory + fichier for fichier in os.listdir(directory) if  pattern in fichier]\n",
    "\n",
    "# On définit la classe Eleve\n",
    "class Student:\n",
    "    '''\n",
    "    Ceci est la description de la classe\n",
    "    Si tu as un problème avec cette classe\n",
    "    tu peux taper help(Student)\n",
    "    '''\n",
    "\n",
    "    def __init__(self, directory, name_surname):\n",
    "        self.directory = directory\n",
    "        self.name_surname = name_surname\n",
    "        #self.file = file \n",
    "        self.create_exos()\n",
    "    \n",
    "    def create_exos(self):\n",
    "        # On crée des tuples qui associent un pattern\n",
    "        # dans un fichier à la classe d'Exo qui lui correspond\n",
    "        # les élements de assos sont des couples (pattern, classe)\n",
    "        assos = [(\"2AFC\", AFC2),\n",
    "                 (\"5AFC\", AFC5)]\n",
    "        exos = []\n",
    "        # Pour chaque pattern, classe dans la liste assos\n",
    "        for pattern, cl in assos:\n",
    "            # On récupère les paths des fichiers correspondant au pattern\n",
    "            # dans le directory de l'élève\n",
    "            path_list = get_files_directory(self.directory, pattern=pattern)\n",
    "            # Pour chacun de ces paths de fichiers\n",
    "            for exo_path in path_list:\n",
    "                # On instancie la classe d'exercice qui va bien\n",
    "                exo = cl(exo_path)\n",
    "                # On ajoute cette instance à la liste d'exos\n",
    "                exos.append(exo)\n",
    "        # Une fois la liste d'exos mise en place\n",
    "        # elle est attribuée à l'élève\n",
    "        self.exos = exos\n",
    "        \n",
    "    def criteria_by_key(self, key, criteria):\n",
    "        dico = {}\n",
    "        # Pour chaque exo, on récupère les labels et les values\n",
    "        for exo in self.exos:\n",
    "            labels, values = exo.criteria_by_key(key, criteria)\n",
    "            # print(labels, values)\n",
    "            # Pour chaque label récupéré\n",
    "            # On somme le nombre d'occurence\n",
    "            # avec ce qui a déja été sommé,\n",
    "            # mais si c'est\n",
    "            # la première fois qu'on rencontre ce\n",
    "            # label, il faut initialiser sa valeur dans le dico\n",
    "            for i , label in enumerate(labels):\n",
    "                if label not in dico.keys():\n",
    "                    dico[label] = values[i]\n",
    "                else:\n",
    "                    dico[label] += values[i]\n",
    "            \n",
    "        # On veut retourner une liste de labels\n",
    "        # et une liste de values sous la forme\n",
    "        # d'un np array pour notre fonction\n",
    "        # d'affichage.\n",
    "        # pour ce faire, on récupère les\n",
    "        # clés et les valeurs de notre dictionnaire\n",
    "        # dans un np array (d'où les deux lignes)\n",
    "        labels = np.array(list(dico.keys()))\n",
    "        values = np.array(list(dico.values()))\n",
    "        # Si la valeur vaut 0, rien !\n",
    "        sel_arr = values != 0\n",
    "        labels = labels[sel_arr]\n",
    "        values = values[sel_arr]\n",
    "        # On retourne nos petites données\n",
    "        return labels, values\n",
    "    \n",
    "    def chart_all_exos(self, key, criteria, title):\n",
    "        \n",
    "        for exo in self.exos:\n",
    "            labels, values = exo.criteria_by_key(key, criteria)\n",
    "            print(exo.path)\n",
    "            plot_chart(labels, values, title)\n",
    "            \n",
    "    def hist_all_exos(self, key, criteria, title, xlabel, ylabel, xrotation=None, yrotation=None):\n",
    "        for exo in self.exos:\n",
    "            labels, values = exo.criteria_by_key(key, criteria)\n",
    "            print(exo.path)\n",
    "            plot_hist(labels, values, title, xlabel, ylabel, xrotation=xrotation, yrotation=yrotation)\n",
    "\n",
    "            \n",
    "    "
   ]
  },
  {
   "cell_type": "code",
   "execution_count": 2,
   "metadata": {},
   "outputs": [],
   "source": [
    "example_directory = \"log_files/L1/Cassandra Amaro Ribeiro_1365824_assignsubmission_file_/logFiles/logFiles\"\n",
    "#AFC2_exemple = dossier_exemple + \"/5AFC_1_Sat_Feb_27_09_53_53_2021.log\"\n",
    "#AFC5_exemple = dossier_exemple + \"/5AFC_2_Sat_Feb_27_10_14_35_2021.log\""
   ]
  },
  {
   "cell_type": "code",
   "execution_count": 4,
   "metadata": {},
   "outputs": [
    {
     "name": "stdout",
     "output_type": "stream",
     "text": [
      "log_files/L1/Cassandra Amaro Ribeiro_1365824_assignsubmission_file_/logFiles/logFiles\n",
      "log_files/L1/Cassandra Amaro Ribeiro_1365824_assignsubmission_file_/logFiles/logFiles/2AFC_i_Thu_Mar_18_17_22_34_2021.log\n"
     ]
    },
    {
     "ename": "ValueError",
     "evalue": "could not convert string to float: 'i'",
     "output_type": "error",
     "traceback": [
      "\u001b[0;31m---------------------------------------------------------------------------\u001b[0m",
      "\u001b[0;31mValueError\u001b[0m                                Traceback (most recent call last)",
      "\u001b[0;32m<ipython-input-4-53f57e188688>\u001b[0m in \u001b[0;36m<module>\u001b[0;34m\u001b[0m\n\u001b[1;32m      1\u001b[0m \u001b[0mstudent\u001b[0m \u001b[0;34m=\u001b[0m \u001b[0mStudent\u001b[0m\u001b[0;34m(\u001b[0m\u001b[0mexample_directory\u001b[0m\u001b[0;34m,\u001b[0m \u001b[0;34m\"Student_name\"\u001b[0m\u001b[0;34m)\u001b[0m\u001b[0;34m\u001b[0m\u001b[0;34m\u001b[0m\u001b[0m\n\u001b[1;32m      2\u001b[0m \u001b[0mprint\u001b[0m\u001b[0;34m(\u001b[0m\u001b[0mstudent\u001b[0m\u001b[0;34m.\u001b[0m\u001b[0mdirectory\u001b[0m\u001b[0;34m)\u001b[0m\u001b[0;34m\u001b[0m\u001b[0;34m\u001b[0m\u001b[0m\n\u001b[0;32m----> 3\u001b[0;31m \u001b[0mstudent\u001b[0m\u001b[0;34m.\u001b[0m\u001b[0mchart_all_exos\u001b[0m\u001b[0;34m(\u001b[0m\u001b[0;34m\"Vowel\"\u001b[0m\u001b[0;34m,\u001b[0m \u001b[0;34m\"Repetitions\"\u001b[0m\u001b[0;34m,\u001b[0m \u001b[0;34m\"Repetitions per vowel\"\u001b[0m\u001b[0;34m)\u001b[0m\u001b[0;34m\u001b[0m\u001b[0;34m\u001b[0m\u001b[0m\n\u001b[0m\u001b[1;32m      4\u001b[0m \u001b[0mstudent\u001b[0m\u001b[0;34m.\u001b[0m\u001b[0mhist_all_exos\u001b[0m\u001b[0;34m(\u001b[0m\u001b[0;34m\"Vowel\"\u001b[0m\u001b[0;34m,\u001b[0m \u001b[0;34m\"Repetitions\"\u001b[0m\u001b[0;34m,\u001b[0m \u001b[0;34m\"Repetitions per vowel\"\u001b[0m\u001b[0;34m,\u001b[0m \u001b[0;34m\"Vowel\"\u001b[0m\u001b[0;34m,\u001b[0m \u001b[0;34m\"Repetitions\"\u001b[0m\u001b[0;34m)\u001b[0m\u001b[0;34m\u001b[0m\u001b[0;34m\u001b[0m\u001b[0m\n\u001b[1;32m      5\u001b[0m \u001b[0mstudent\u001b[0m\u001b[0;34m.\u001b[0m\u001b[0mcriteria_by_key\u001b[0m\u001b[0;34m(\u001b[0m\u001b[0;34m\"Vowel\"\u001b[0m\u001b[0;34m,\u001b[0m \u001b[0;34m\"Repetitions\"\u001b[0m\u001b[0;34m)\u001b[0m\u001b[0;34m\u001b[0m\u001b[0;34m\u001b[0m\u001b[0m\n",
      "\u001b[0;32m<ipython-input-1-21576bfec90e>\u001b[0m in \u001b[0;36mchart_all_exos\u001b[0;34m(self, key, criteria, title)\u001b[0m\n\u001b[1;32m     90\u001b[0m             \u001b[0mlabels\u001b[0m\u001b[0;34m,\u001b[0m \u001b[0mvalues\u001b[0m \u001b[0;34m=\u001b[0m \u001b[0mexo\u001b[0m\u001b[0;34m.\u001b[0m\u001b[0mcriteria_by_key\u001b[0m\u001b[0;34m(\u001b[0m\u001b[0mkey\u001b[0m\u001b[0;34m,\u001b[0m \u001b[0mcriteria\u001b[0m\u001b[0;34m)\u001b[0m\u001b[0;34m\u001b[0m\u001b[0;34m\u001b[0m\u001b[0m\n\u001b[1;32m     91\u001b[0m             \u001b[0mprint\u001b[0m\u001b[0;34m(\u001b[0m\u001b[0mexo\u001b[0m\u001b[0;34m.\u001b[0m\u001b[0mpath\u001b[0m\u001b[0;34m)\u001b[0m\u001b[0;34m\u001b[0m\u001b[0;34m\u001b[0m\u001b[0m\n\u001b[0;32m---> 92\u001b[0;31m             \u001b[0mplot_chart\u001b[0m\u001b[0;34m(\u001b[0m\u001b[0mlabels\u001b[0m\u001b[0;34m,\u001b[0m \u001b[0mvalues\u001b[0m\u001b[0;34m,\u001b[0m \u001b[0mtitle\u001b[0m\u001b[0;34m)\u001b[0m\u001b[0;34m\u001b[0m\u001b[0;34m\u001b[0m\u001b[0m\n\u001b[0m\u001b[1;32m     93\u001b[0m \u001b[0;34m\u001b[0m\u001b[0m\n\u001b[1;32m     94\u001b[0m     \u001b[0;32mdef\u001b[0m \u001b[0mhist_all_exos\u001b[0m\u001b[0;34m(\u001b[0m\u001b[0mself\u001b[0m\u001b[0;34m,\u001b[0m \u001b[0mkey\u001b[0m\u001b[0;34m,\u001b[0m \u001b[0mcriteria\u001b[0m\u001b[0;34m,\u001b[0m \u001b[0mtitle\u001b[0m\u001b[0;34m,\u001b[0m \u001b[0mxlabel\u001b[0m\u001b[0;34m,\u001b[0m \u001b[0mylabel\u001b[0m\u001b[0;34m,\u001b[0m \u001b[0mxrotation\u001b[0m\u001b[0;34m=\u001b[0m\u001b[0;32mNone\u001b[0m\u001b[0;34m,\u001b[0m \u001b[0myrotation\u001b[0m\u001b[0;34m=\u001b[0m\u001b[0;32mNone\u001b[0m\u001b[0;34m)\u001b[0m\u001b[0;34m:\u001b[0m\u001b[0;34m\u001b[0m\u001b[0;34m\u001b[0m\u001b[0m\n",
      "\u001b[0;32m~/Documents/notebooks_sepale/graphs.py\u001b[0m in \u001b[0;36mplot_chart\u001b[0;34m(labels, values, title)\u001b[0m\n\u001b[1;32m      7\u001b[0m \u001b[0;32mdef\u001b[0m \u001b[0mplot_chart\u001b[0m\u001b[0;34m(\u001b[0m\u001b[0mlabels\u001b[0m\u001b[0;34m,\u001b[0m \u001b[0mvalues\u001b[0m\u001b[0;34m,\u001b[0m \u001b[0mtitle\u001b[0m\u001b[0;34m)\u001b[0m\u001b[0;34m:\u001b[0m\u001b[0;34m\u001b[0m\u001b[0;34m\u001b[0m\u001b[0m\n\u001b[1;32m      8\u001b[0m     \u001b[0mfig1\u001b[0m\u001b[0;34m,\u001b[0m \u001b[0max1\u001b[0m \u001b[0;34m=\u001b[0m \u001b[0mplt\u001b[0m\u001b[0;34m.\u001b[0m\u001b[0msubplots\u001b[0m\u001b[0;34m(\u001b[0m\u001b[0;34m)\u001b[0m\u001b[0;34m\u001b[0m\u001b[0;34m\u001b[0m\u001b[0m\n\u001b[0;32m----> 9\u001b[0;31m     ax1.pie(values, labels=labels, autopct='%1.1f%%',\n\u001b[0m\u001b[1;32m     10\u001b[0m             shadow=False, startangle=90)\n\u001b[1;32m     11\u001b[0m     \u001b[0max1\u001b[0m\u001b[0;34m.\u001b[0m\u001b[0maxis\u001b[0m\u001b[0;34m(\u001b[0m\u001b[0;34m'equal'\u001b[0m\u001b[0;34m)\u001b[0m  \u001b[0;31m# Equal aspect ratio ensures that pie is drawn as a circle.\u001b[0m\u001b[0;34m\u001b[0m\u001b[0;34m\u001b[0m\u001b[0m\n",
      "\u001b[0;32m/usr/lib/python3/dist-packages/matplotlib/__init__.py\u001b[0m in \u001b[0;36minner\u001b[0;34m(ax, data, *args, **kwargs)\u001b[0m\n\u001b[1;32m   1599\u001b[0m     \u001b[0;32mdef\u001b[0m \u001b[0minner\u001b[0m\u001b[0;34m(\u001b[0m\u001b[0max\u001b[0m\u001b[0;34m,\u001b[0m \u001b[0;34m*\u001b[0m\u001b[0margs\u001b[0m\u001b[0;34m,\u001b[0m \u001b[0mdata\u001b[0m\u001b[0;34m=\u001b[0m\u001b[0;32mNone\u001b[0m\u001b[0;34m,\u001b[0m \u001b[0;34m**\u001b[0m\u001b[0mkwargs\u001b[0m\u001b[0;34m)\u001b[0m\u001b[0;34m:\u001b[0m\u001b[0;34m\u001b[0m\u001b[0;34m\u001b[0m\u001b[0m\n\u001b[1;32m   1600\u001b[0m         \u001b[0;32mif\u001b[0m \u001b[0mdata\u001b[0m \u001b[0;32mis\u001b[0m \u001b[0;32mNone\u001b[0m\u001b[0;34m:\u001b[0m\u001b[0;34m\u001b[0m\u001b[0;34m\u001b[0m\u001b[0m\n\u001b[0;32m-> 1601\u001b[0;31m             \u001b[0;32mreturn\u001b[0m \u001b[0mfunc\u001b[0m\u001b[0;34m(\u001b[0m\u001b[0max\u001b[0m\u001b[0;34m,\u001b[0m \u001b[0;34m*\u001b[0m\u001b[0mmap\u001b[0m\u001b[0;34m(\u001b[0m\u001b[0msanitize_sequence\u001b[0m\u001b[0;34m,\u001b[0m \u001b[0margs\u001b[0m\u001b[0;34m)\u001b[0m\u001b[0;34m,\u001b[0m \u001b[0;34m**\u001b[0m\u001b[0mkwargs\u001b[0m\u001b[0;34m)\u001b[0m\u001b[0;34m\u001b[0m\u001b[0;34m\u001b[0m\u001b[0m\n\u001b[0m\u001b[1;32m   1602\u001b[0m \u001b[0;34m\u001b[0m\u001b[0m\n\u001b[1;32m   1603\u001b[0m         \u001b[0mbound\u001b[0m \u001b[0;34m=\u001b[0m \u001b[0mnew_sig\u001b[0m\u001b[0;34m.\u001b[0m\u001b[0mbind\u001b[0m\u001b[0;34m(\u001b[0m\u001b[0max\u001b[0m\u001b[0;34m,\u001b[0m \u001b[0;34m*\u001b[0m\u001b[0margs\u001b[0m\u001b[0;34m,\u001b[0m \u001b[0;34m**\u001b[0m\u001b[0mkwargs\u001b[0m\u001b[0;34m)\u001b[0m\u001b[0;34m\u001b[0m\u001b[0;34m\u001b[0m\u001b[0m\n",
      "\u001b[0;32m/usr/lib/python3/dist-packages/matplotlib/axes/_axes.py\u001b[0m in \u001b[0;36mpie\u001b[0;34m(self, x, explode, labels, colors, autopct, pctdistance, shadow, labeldistance, startangle, radius, counterclock, wedgeprops, textprops, center, frame, rotatelabels)\u001b[0m\n\u001b[1;32m   2963\u001b[0m         \u001b[0;31m# The use of float32 is \"historical\", but can't be changed without\u001b[0m\u001b[0;34m\u001b[0m\u001b[0;34m\u001b[0m\u001b[0;34m\u001b[0m\u001b[0m\n\u001b[1;32m   2964\u001b[0m         \u001b[0;31m# regenerating the test baselines.\u001b[0m\u001b[0;34m\u001b[0m\u001b[0;34m\u001b[0m\u001b[0;34m\u001b[0m\u001b[0m\n\u001b[0;32m-> 2965\u001b[0;31m         \u001b[0mx\u001b[0m \u001b[0;34m=\u001b[0m \u001b[0mnp\u001b[0m\u001b[0;34m.\u001b[0m\u001b[0masarray\u001b[0m\u001b[0;34m(\u001b[0m\u001b[0mx\u001b[0m\u001b[0;34m,\u001b[0m \u001b[0mnp\u001b[0m\u001b[0;34m.\u001b[0m\u001b[0mfloat32\u001b[0m\u001b[0;34m)\u001b[0m\u001b[0;34m\u001b[0m\u001b[0;34m\u001b[0m\u001b[0m\n\u001b[0m\u001b[1;32m   2966\u001b[0m         \u001b[0;32mif\u001b[0m \u001b[0mx\u001b[0m\u001b[0;34m.\u001b[0m\u001b[0mndim\u001b[0m \u001b[0;34m!=\u001b[0m \u001b[0;36m1\u001b[0m \u001b[0;32mand\u001b[0m \u001b[0mx\u001b[0m\u001b[0;34m.\u001b[0m\u001b[0msqueeze\u001b[0m\u001b[0;34m(\u001b[0m\u001b[0;34m)\u001b[0m\u001b[0;34m.\u001b[0m\u001b[0mndim\u001b[0m \u001b[0;34m<=\u001b[0m \u001b[0;36m1\u001b[0m\u001b[0;34m:\u001b[0m\u001b[0;34m\u001b[0m\u001b[0;34m\u001b[0m\u001b[0m\n\u001b[1;32m   2967\u001b[0m             cbook.warn_deprecated(\n",
      "\u001b[0;32m/usr/lib/python3/dist-packages/numpy/core/_asarray.py\u001b[0m in \u001b[0;36masarray\u001b[0;34m(a, dtype, order)\u001b[0m\n\u001b[1;32m     83\u001b[0m \u001b[0;34m\u001b[0m\u001b[0m\n\u001b[1;32m     84\u001b[0m     \"\"\"\n\u001b[0;32m---> 85\u001b[0;31m     \u001b[0;32mreturn\u001b[0m \u001b[0marray\u001b[0m\u001b[0;34m(\u001b[0m\u001b[0ma\u001b[0m\u001b[0;34m,\u001b[0m \u001b[0mdtype\u001b[0m\u001b[0;34m,\u001b[0m \u001b[0mcopy\u001b[0m\u001b[0;34m=\u001b[0m\u001b[0;32mFalse\u001b[0m\u001b[0;34m,\u001b[0m \u001b[0morder\u001b[0m\u001b[0;34m=\u001b[0m\u001b[0morder\u001b[0m\u001b[0;34m)\u001b[0m\u001b[0;34m\u001b[0m\u001b[0;34m\u001b[0m\u001b[0m\n\u001b[0m\u001b[1;32m     86\u001b[0m \u001b[0;34m\u001b[0m\u001b[0m\n\u001b[1;32m     87\u001b[0m \u001b[0;34m\u001b[0m\u001b[0m\n",
      "\u001b[0;31mValueError\u001b[0m: could not convert string to float: 'i'"
     ]
    },
    {
     "data": {
      "image/png": "[encoded data removed]",
      "text/plain": [
       "<Figure size 720x720 with 1 Axes>"
      ]
     },
     "metadata": {
      "needs_background": "light"
     },
     "output_type": "display_data"
    }
   ],
   "source": [
    "student = Student(example_directory, \"Student_name\")\n",
    "print(student.directory)\n",
    "student.chart_all_exos(\"Vowel\", \"Repetitions\", \"Repetitions per vowel\")\n",
    "student.hist_all_exos(\"Vowel\", \"Repetitions\", \"Repetitions per vowel\", \"Vowel\", \"Repetitions\")\n",
    "student.criteria_by_key(\"Vowel\", \"Repetitions\")\n",
    "labels, values = student.criteria_by_key(\"Vowel\", \"Repetitions\")\n",
    "\n",
    "print(\"Chart et hist de tout\")\n",
    "plot_chart(labels, values, \"Repetitions per vowel for each AFC exercise\")\n",
    "plot_hist(labels, values, \"Repetitions per vowel for each AFC exercise\", \"Vowel\", \"Repetitions\")"
   ]
  },
  {
   "cell_type": "code",
   "execution_count": null,
   "metadata": {},
   "outputs": [],
   "source": []
  }
 ],
 "metadata": {
  "kernelspec": {
   "display_name": "Python 3",
   "language": "python",
   "name": "python3"
  },
  "language_info": {
   "codemirror_mode": {
    "name": "ipython",
    "version": 3
   },
   "file_extension": ".py",
   "mimetype": "text/x-python",
   "name": "python",
   "nbconvert_exporter": "python",
   "pygments_lexer": "ipython3",
   "version": "3.8.5"
  }
 },
 "nbformat": 4,
 "nbformat_minor": 4
}
