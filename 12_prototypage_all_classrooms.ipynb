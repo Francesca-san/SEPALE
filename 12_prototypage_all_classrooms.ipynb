{
 "cells": [
  {
   "cell_type": "code",
   "execution_count": null,
   "metadata": {},
   "outputs": [],
   "source": [
    "from all_classrooms import *\n",
    "import os\n",
    "\n",
    "plt.rcParams[\"figure.figsize\"] = (25,5)\n",
    "plt.rcParams[\"font.size\"] = 12"
   ]
  },
  {
   "cell_type": "markdown",
   "metadata": {},
   "source": [
    "## I. Per classroom: "
   ]
  },
  {
   "cell_type": "code",
   "execution_count": null,
   "metadata": {},
   "outputs": [],
   "source": [
    "base_class = \"./log_files/L1/\"\n",
    "Class = Classroom(base_class)\n",
    "key = \"Vowel\"\n",
    "Class.plot_criteria_by_date(key, \"NbErreurs\", 'Number of mistakes per' + \" \" + key + \" \" + \"through time\", \n",
    "                                  \"Date\", \"Averaged number of mistakes\", 90, days=0)"
   ]
  },
  {
   "cell_type": "code",
   "execution_count": null,
   "metadata": {},
   "outputs": [],
   "source": [
    "base_class = \"./log_files/L2/\"\n",
    "Class = Classroom(base_class)\n",
    "key = \"Vowel\"\n",
    "Class.plot_criteria_by_date(key, \"NbErreurs\", 'Number of mistakes per' + \" \" + key + \" \" + \"through time\", \n",
    "                                  \"Date\", \"Averaged number of mistakes\", 90, days=0)"
   ]
  },
  {
   "cell_type": "code",
   "execution_count": null,
   "metadata": {},
   "outputs": [],
   "source": [
    "base_class = \"./log_files/L3/\"\n",
    "Class = Classroom(base_class)\n",
    "key = \"Vowel\"\n",
    "Class.plot_criteria_by_date(key, \"NbErreurs\", 'Number of mistakes per' + \" \" + key + \" \" + \"through time\", \n",
    "                                  \"Date\", \"Averaged number of mistakes\", 90, days=0)\n",
    "\n",
    "#key2 = \"Stimulus\"\n",
    "#L1.plot_criteria_by_date(key2, \"NbErreurs\", ['Number of errors per' + \" \" + key2 + \" \" + \"through time\"],\"Date\", \"Averaged number of mistakes\", 90, days=30)"
   ]
  },
  {
   "cell_type": "code",
   "execution_count": null,
   "metadata": {},
   "outputs": [],
   "source": [
    "key = \"Vowel\"\n",
    "Class.hist_all_exos(key, \"NbErreurs\", \"Averaged number of mistakes per\" + \" \" + key, \n",
    "                          \"Vowel\", \"Averaged number of mistakes\")\n",
    "key2 = \"Stimulus\"\n",
    "Class.hist_all_exos(key2, \"NbErreurs\", \"Averaged number of mistakes per\" + \" \" + key2, \n",
    "                          \"Stimuli\", \"Averaged number of mistakes\", at_least=1.3)"
   ]
  },
  {
   "cell_type": "code",
   "execution_count": null,
   "metadata": {},
   "outputs": [],
   "source": [
    "base_class = \"./log_files/L1/\"\n",
    "Class = Classroom(base_class)\n",
    "\n",
    "Class.plot_table_by_key(\"Vowel\", xscale=0.5, yscale=4, at_least=0, target_criteria=\"NbErreurs\")\n",
    "Class.plot_table_by_key(\"Stimulus\", xscale=0.5, yscale=4, at_least=1.2, target_criteria=\"NbErreurs\")"
   ]
  },
  {
   "cell_type": "code",
   "execution_count": null,
   "metadata": {},
   "outputs": [],
   "source": [
    "base_class = \"./log_files/L2/\"\n",
    "Class = Classroom(base_class)\n",
    "\n",
    "Class.plot_table_by_key(\"Vowel\", xscale=0.5, yscale=4, at_least=0, target_criteria=\"NbErreurs\")\n",
    "Class.plot_table_by_key(\"Stimulus\", xscale=0.5, yscale=4, at_least=0.67, target_criteria=\"NbErreurs\")"
   ]
  },
  {
   "cell_type": "code",
   "execution_count": null,
   "metadata": {},
   "outputs": [],
   "source": [
    "base_class = \"./log_files/L3/\"\n",
    "Class = Classroom(base_class)\n",
    "\n",
    "Class.plot_table_by_key(\"Vowel\", xscale=0.5, yscale=4, at_least=0, target_criteria=\"NbErreurs\")\n",
    "Class.plot_table_by_key(\"Stimulus\", xscale=0.5, yscale=4, at_least=0.73, target_criteria=\"NbErreurs\")"
   ]
  },
  {
   "cell_type": "code",
   "execution_count": null,
   "metadata": {},
   "outputs": [],
   "source": [
    "base_class = \"./log_files/L1/\"\n",
    "Class = Classroom(base_class)\n",
    "\n",
    "Class.group_bar_hist(['NbErreurs', 'Repetitions'], \"Averaged number of mistakes and repetitions per vowel\", \n",
    "                     \"Averaged number of mistakes and repetitions\", xrotation=None, key=\"Vowel\")"
   ]
  },
  {
   "cell_type": "code",
   "execution_count": null,
   "metadata": {},
   "outputs": [],
   "source": [
    "base_class = \"./log_files/L2/\"\n",
    "Class = Classroom(base_class)\n",
    "\n",
    "Class.group_bar_hist(['NbErreurs', 'Repetitions'], \"Averaged number of mistakes and repetitions per vowel\", \n",
    "                     \"Averaged number of mistakes and repetitions\", xrotation=None, key=\"Vowel\")"
   ]
  },
  {
   "cell_type": "code",
   "execution_count": null,
   "metadata": {},
   "outputs": [],
   "source": [
    "base_class = \"./log_files/L3/\"\n",
    "Class = Classroom(base_class)\n",
    "\n",
    "Class.group_bar_hist(['NbErreurs', 'Repetitions'], \"Averaged number of mistakes and repetitions per vowel\", \n",
    "                     \"Averaged number of mistakes and repetitions\", xrotation=None, key=\"Vowel\")"
   ]
  },
  {
   "cell_type": "markdown",
   "metadata": {},
   "source": [
    "## II. All classrooms:"
   ]
  },
  {
   "cell_type": "code",
   "execution_count": null,
   "metadata": {},
   "outputs": [],
   "source": [
    "base_list = \"./log_files/\"\n",
    "all_classes = All_classrooms(base_list)"
   ]
  },
  {
   "cell_type": "code",
   "execution_count": null,
   "metadata": {},
   "outputs": [],
   "source": [
    "key = \"Vowel\"\n",
    "key2 = \"Stimulus\"\n",
    "all_classes.hist_all_exos(key, \"NbErreurs\", \"Averaged number of mistakes per\" + \" \" + key, \n",
    "                          \"Vowel\", \"Averaged number of mistakes\")\n",
    "all_classes.hist_all_exos(key2, \"NbErreurs\", \"Averaged number of mistakes per\" + \" \" + key2, \n",
    "                          \"Stimuli\", \"Averaged number of mistakes\", at_least=0.76)"
   ]
  },
  {
   "cell_type": "code",
   "execution_count": null,
   "metadata": {},
   "outputs": [],
   "source": [
    "key = \"Vowel\"\n",
    "key2 = \"Stimulus\"\n",
    "\n",
    "all_classes.plot_table_by_key(key, xscale=0.5, yscale=4, at_least=0, target_criteria=\"NbErreurs\")\n",
    "all_classes.plot_table_by_key(key2, xscale=0.5, yscale=4, at_least=0.76, target_criteria=\"NbErreurs\")"
   ]
  },
  {
   "cell_type": "code",
   "execution_count": null,
   "metadata": {},
   "outputs": [],
   "source": [
    "#all_classes.group_bar_hist(['NbErreurs', 'Repetitions'], \"Criteria by key\", \"Averaged number of mistakes and repetitions\", xrotation=None, key=\"Stimulus\")\n",
    "all_classes.group_bar_hist(['NbErreurs', 'Repetitions'], \"Averaged number of mistakes and repetitions per vowel\", \n",
    "                           \"Averaged number of mistakes and repetitions\", xrotation=None, key=\"Vowel\")"
   ]
  },
  {
   "cell_type": "code",
   "execution_count": null,
   "metadata": {},
   "outputs": [],
   "source": [
    "%matplotlib\n",
    "key = \"Vowel\"\n",
    "all_classes.plot_criteria_by_date(key, \"NbErreurs\", 'Number of mistakes per' + \" \" + key + \" \" + \"through time\", \n",
    "                                  \"Date\", \"Averaged number of mistakes\", 90, days=5)"
   ]
  },
  {
   "cell_type": "code",
   "execution_count": null,
   "metadata": {},
   "outputs": [],
   "source": []
  }
 ],
 "metadata": {
  "kernelspec": {
   "display_name": "Python 3",
   "language": "python",
   "name": "python3"
  },
  "language_info": {
   "codemirror_mode": {
    "name": "ipython",
    "version": 3
   },
   "file_extension": ".py",
   "mimetype": "text/x-python",
   "name": "python",
   "nbconvert_exporter": "python",
   "pygments_lexer": "ipython3",
   "version": "3.8.10"
  }
 },
 "nbformat": 4,
 "nbformat_minor": 4
}
