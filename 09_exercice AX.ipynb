{
 "cells": [
  {
   "cell_type": "code",
   "execution_count": 2,
   "metadata": {},
   "outputs": [
    {
     "name": "stdout",
     "output_type": "stream",
     "text": [
      "['L2', 'L3', 'L1']\n",
      "\n",
      "-----------------\n",
      "\n",
      "['2AFC_a_Wed_Feb_17_10_18_00_2021.log', 'ListeOddity_1_00.txt', '2AFC_av_Wed_Feb_17_10_27_50_2021.log', '5AFC_1_Sat_Feb_27_09_53_53_2021.log', 'AX_i_Wed_Feb_03_16_51_44_2021.log', 'ListeOddity_2_00.txt', 'AX_a_Wed_Feb_17_10_30_39_2021.log', '2AFC_i_Wed_Feb_17_10_25_03_2021.log', 'AX_av_Wed_Feb_17_10_34_03_2021.log', '5AFC_2_Sat_Feb_27_10_14_35_2021.log']\n"
     ]
    }
   ],
   "source": [
    "# Importe le module qui sert à dialoguer avec l'OS\n",
    "import os\n",
    "\n",
    "#Affiche le contenu du répertoire \"log_files\"\n",
    "print(os.listdir(\"log_files\"))\n",
    "print(\"\")\n",
    "print(\"-----------------\")\n",
    "print(\"\")\n",
    "print(os.listdir(\"log_files/L1/Sarah Moreira_1365881_assignsubmission_file_/logFiles (Sarah Moreira)/logFiles (Sarah Moreira)/\"))"
   ]
  },
  {
   "cell_type": "code",
   "execution_count": 25,
   "metadata": {},
   "outputs": [],
   "source": [
    "dossier_exemple = \"log_files/L1/Sarah Moreira_1365881_assignsubmission_file_/logFiles (Sarah Moreira)/logFiles (Sarah Moreira)/\"\n",
    "fic_ex = dossier_exemple + \"AX_i_Wed_Feb_03_16_51_44_2021.log\""
   ]
  },
  {
   "cell_type": "code",
   "execution_count": 26,
   "metadata": {},
   "outputs": [
    {
     "name": "stdout",
     "output_type": "stream",
     "text": [
      "log_files/L1/Sarah Moreira_1365881_assignsubmission_file_/logFiles (Sarah Moreira)/logFiles (Sarah Moreira)/AX_i_Wed_Feb_03_16_51_44_2021.log\n",
      " \n",
      "['#Wed Feb 03 16:51:44 2021#ListeAX_i.txt#00\\n', 'Sound File\\tStimulus\\tVowel\\tResponse Time\\tNbErreurs\\tRepetitions\\n', 'I_seek_H07-i_sick_H09\\t2\\t2\\t1\\t2.693819761276245\\t0\\t0\\n', 'i_bik_H08-I_beak_H04\\t2\\t1\\t0\\t1.680924892425537\\t1\\t0\\n', 'i_min_H07-i_min_H08\\t1\\t1\\t1\\t1.4032130241394043\\t0\\t0\\n', 'i_bin_H09-i_bin_H06\\t1\\t1\\t1\\t5.75315523147583\\t0\\t1\\n', 'I_mean_F05-i_min_F08\\t2\\t2\\t1\\t1.544856071472168\\t0\\t0\\n', 'I_cheap_F06-I_chip_F07\\t1\\t2\\t0\\t3.6091208457946777\\t2\\t1\\n', 'i_did_F09-i_did_F04\\t1\\t2\\t0\\t2.4622740745544434\\t1\\t0\\n', 'I_keep_F04-I_keep_F08\\t1\\t1\\t1\\t6.5836217403411865\\t0\\t0\\n', 'I_seek_F09-i_sick_F05\\t2\\t1\\t0\\t0.7008349895477295\\t1\\t0\\n', 'I_beak_H09-i_bik_H04\\t2\\t2\\t1\\t3.7633979320526123\\t0\\t0\\n', 'I_cheap_F09-i_cheap_F08\\t2\\t1\\t0\\t0.5257418155670166\\t2\\t0\\n', 'I_cheap_H09-i_cheap_H08\\t2\\t1\\t0\\t0.26532697677612305\\t1\\t0\\n', 'I_mean_F06-I_mean_F04\\t1\\t1\\t1\\t3.3391549587249756\\t0\\t0\\n', 'I_keep_H05-i_kip_H04\\t2\\t1\\t0\\t0.43523502349853516\\t1\\t0\\n', 'i_tick_H04-I_teak_H07\\t2\\t2\\t1\\t2.918320894241333\\t0\\t0\\n', 'i_sick_F05-i_sick_F04\\t1\\t1\\t1\\t2.4820761680603027\\t0\\t0\\n', 'I_mean_H07-i_min_H04\\t2\\t2\\t1\\t2.822474956512451\\t0\\t0\\n', 'i_lick_F05-i_lick_F06\\t1\\t2\\t0\\t0.3822908401489258\\t1\\t0\\n', 'i_lick_H09-i_lick_H08\\t1\\t2\\t0\\t0.5535588264465332\\t1\\t0\\n', 'I_beak_H08-I_beak_H09\\t1\\t2\\t0\\t0.819209098815918\\t1\\t2\\n', 'I_deed_H09-i_did_H07\\t2\\t2\\t1\\t1.423692226409912\\t0\\t0\\n', 'I_deed_F04-I_deed_F05\\t1\\t2\\t0\\t0.37314319610595703\\t1\\t0\\n', 'I_beak_F07-i_bik_F04\\t2\\t2\\t1\\t1.8888659477233887\\t0\\t0\\n', 'I_peak_F08-I_peak_F05\\t1\\t1\\t1\\t0.9354381561279297\\t0\\t0\\n', 'I_deed_F06-I_deed_F09\\t1\\t1\\t1\\t1.2915759086608887\\t0\\t1\\n', 'i_bik_H06-I_beak_H07\\t2\\t2\\t1\\t0.6885781288146973\\t0\\t0\\n', 'I_mean_F08-I_mean_F06\\t1\\t1\\t1\\t0.8631606101989746\\t0\\t1\\n', 'I_cheap_F04-I_chip_F05\\t1\\t2\\t0\\t0.46195411682128906\\t1\\t0\\n', 'i_tick_F04-I_teak_F07\\t2\\t2\\t1\\t1.5904438495635986\\t0\\t0\\n', 'I_mean_F07-i_min_F04\\t2\\t2\\t1\\t0.921044111251831\\t0\\t0\\n', '\\n', '#TotalErreurs#14#TempsTotal#4min 19sec\\n']\n"
     ]
    }
   ],
   "source": [
    "# on ouvre le fichier en lecture\n",
    "f = open(fic_ex, 'r')\n",
    "# on récupère les lignes\n",
    "lignes = f.readlines()\n",
    "# on ferme le fichier\n",
    "f.close()\n",
    "print(fic_ex)\n",
    "print(\" \")\n",
    "print(lignes)\n"
   ]
  },
  {
   "cell_type": "code",
   "execution_count": 27,
   "metadata": {},
   "outputs": [
    {
     "name": "stdout",
     "output_type": "stream",
     "text": [
      "log_files/L1/Sarah Moreira_1365881_assignsubmission_file_/logFiles (Sarah Moreira)/logFiles (Sarah Moreira)/AX_i_Wed_Feb_03_16_51_44_2021.log\n",
      " \n",
      "['#Wed Feb 03 16:51:44 2021#ListeAX_i.txt#00', 'Sound File\\tStimulus\\tVowel\\tResponse Time\\tNbErreurs\\tRepetitions', 'I_seek_H07-i_sick_H09\\t2\\t2\\t1\\t2.693819761276245\\t0\\t0', 'i_bik_H08-I_beak_H04\\t2\\t1\\t0\\t1.680924892425537\\t1\\t0', 'i_min_H07-i_min_H08\\t1\\t1\\t1\\t1.4032130241394043\\t0\\t0', 'i_bin_H09-i_bin_H06\\t1\\t1\\t1\\t5.75315523147583\\t0\\t1', 'I_mean_F05-i_min_F08\\t2\\t2\\t1\\t1.544856071472168\\t0\\t0', 'I_cheap_F06-I_chip_F07\\t1\\t2\\t0\\t3.6091208457946777\\t2\\t1', 'i_did_F09-i_did_F04\\t1\\t2\\t0\\t2.4622740745544434\\t1\\t0', 'I_keep_F04-I_keep_F08\\t1\\t1\\t1\\t6.5836217403411865\\t0\\t0', 'I_seek_F09-i_sick_F05\\t2\\t1\\t0\\t0.7008349895477295\\t1\\t0', 'I_beak_H09-i_bik_H04\\t2\\t2\\t1\\t3.7633979320526123\\t0\\t0', 'I_cheap_F09-i_cheap_F08\\t2\\t1\\t0\\t0.5257418155670166\\t2\\t0', 'I_cheap_H09-i_cheap_H08\\t2\\t1\\t0\\t0.26532697677612305\\t1\\t0', 'I_mean_F06-I_mean_F04\\t1\\t1\\t1\\t3.3391549587249756\\t0\\t0', 'I_keep_H05-i_kip_H04\\t2\\t1\\t0\\t0.43523502349853516\\t1\\t0', 'i_tick_H04-I_teak_H07\\t2\\t2\\t1\\t2.918320894241333\\t0\\t0', 'i_sick_F05-i_sick_F04\\t1\\t1\\t1\\t2.4820761680603027\\t0\\t0', 'I_mean_H07-i_min_H04\\t2\\t2\\t1\\t2.822474956512451\\t0\\t0', 'i_lick_F05-i_lick_F06\\t1\\t2\\t0\\t0.3822908401489258\\t1\\t0', 'i_lick_H09-i_lick_H08\\t1\\t2\\t0\\t0.5535588264465332\\t1\\t0', 'I_beak_H08-I_beak_H09\\t1\\t2\\t0\\t0.819209098815918\\t1\\t2', 'I_deed_H09-i_did_H07\\t2\\t2\\t1\\t1.423692226409912\\t0\\t0', 'I_deed_F04-I_deed_F05\\t1\\t2\\t0\\t0.37314319610595703\\t1\\t0', 'I_beak_F07-i_bik_F04\\t2\\t2\\t1\\t1.8888659477233887\\t0\\t0', 'I_peak_F08-I_peak_F05\\t1\\t1\\t1\\t0.9354381561279297\\t0\\t0', 'I_deed_F06-I_deed_F09\\t1\\t1\\t1\\t1.2915759086608887\\t0\\t1', 'i_bik_H06-I_beak_H07\\t2\\t2\\t1\\t0.6885781288146973\\t0\\t0', 'I_mean_F08-I_mean_F06\\t1\\t1\\t1\\t0.8631606101989746\\t0\\t1', 'I_cheap_F04-I_chip_F05\\t1\\t2\\t0\\t0.46195411682128906\\t1\\t0', 'i_tick_F04-I_teak_F07\\t2\\t2\\t1\\t1.5904438495635986\\t0\\t0', 'I_mean_F07-i_min_F04\\t2\\t2\\t1\\t0.921044111251831\\t0\\t0', '', '#TotalErreurs#14#TempsTotal#4min 19sec']\n"
     ]
    }
   ],
   "source": [
    "for i in range(len(lignes)):\n",
    "    lignes[i] = lignes[i].replace(\"\\n\", \"\")\n",
    "print(fic_ex)\n",
    "print(\" \")\n",
    "print(lignes)"
   ]
  },
  {
   "cell_type": "code",
   "execution_count": 28,
   "metadata": {},
   "outputs": [],
   "source": [
    "attributs = []\n",
    "for l in lignes:\n",
    "    attributs.append(l.split('\\t'))"
   ]
  },
  {
   "cell_type": "code",
   "execution_count": 29,
   "metadata": {
    "scrolled": true
   },
   "outputs": [
    {
     "name": "stdout",
     "output_type": "stream",
     "text": [
      "[['I_seek_H07-i_sick_H09' 'i_bik_H08-I_beak_H04' 'i_min_H07-i_min_H08'\n",
      "  'i_bin_H09-i_bin_H06' 'I_mean_F05-i_min_F08' 'I_cheap_F06-I_chip_F07'\n",
      "  'i_did_F09-i_did_F04' 'I_keep_F04-I_keep_F08' 'I_seek_F09-i_sick_F05'\n",
      "  'I_beak_H09-i_bik_H04' 'I_cheap_F09-i_cheap_F08'\n",
      "  'I_cheap_H09-i_cheap_H08' 'I_mean_F06-I_mean_F04'\n",
      "  'I_keep_H05-i_kip_H04' 'i_tick_H04-I_teak_H07' 'i_sick_F05-i_sick_F04'\n",
      "  'I_mean_H07-i_min_H04' 'i_lick_F05-i_lick_F06' 'i_lick_H09-i_lick_H08'\n",
      "  'I_beak_H08-I_beak_H09' 'I_deed_H09-i_did_H07' 'I_deed_F04-I_deed_F05'\n",
      "  'I_beak_F07-i_bik_F04' 'I_peak_F08-I_peak_F05' 'I_deed_F06-I_deed_F09'\n",
      "  'i_bik_H06-I_beak_H07' 'I_mean_F08-I_mean_F06' 'I_cheap_F04-I_chip_F05'\n",
      "  'i_tick_F04-I_teak_F07' 'I_mean_F07-i_min_F04']\n",
      " ['seek vs sick' 'bik vs beak' 'min vs min' 'bin vs bin' 'mean vs min'\n",
      "  'cheap vs chip' 'did vs did' 'keep vs keep' 'seek vs sick'\n",
      "  'beak vs bik' 'cheap vs cheap' 'cheap vs cheap' 'mean vs mean'\n",
      "  'keep vs kip' 'tick vs teak' 'sick vs sick' 'mean vs min'\n",
      "  'lick vs lick' 'lick vs lick' 'beak vs beak' 'deed vs did'\n",
      "  'deed vs deed' 'beak vs bik' 'peak vs peak' 'deed vs deed'\n",
      "  'bik vs beak' 'mean vs mean' 'cheap vs chip' 'tick vs teak'\n",
      "  'mean vs min']\n",
      " ['2.693819761276245' '1.680924892425537' '1.4032130241394043'\n",
      "  '5.75315523147583' '1.544856071472168' '3.6091208457946777'\n",
      "  '2.4622740745544434' '6.5836217403411865' '0.7008349895477295'\n",
      "  '3.7633979320526123' '0.5257418155670166' '0.26532697677612305'\n",
      "  '3.3391549587249756' '0.43523502349853516' '2.918320894241333'\n",
      "  '2.4820761680603027' '2.822474956512451' '0.3822908401489258'\n",
      "  '0.5535588264465332' '0.819209098815918' '1.423692226409912'\n",
      "  '0.37314319610595703' '1.8888659477233887' '0.9354381561279297'\n",
      "  '1.2915759086608887' '0.6885781288146973' '0.8631606101989746'\n",
      "  '0.46195411682128906' '1.5904438495635986' '0.921044111251831']\n",
      " ['0.0' '1.0' '0.0' '0.0' '0.0' '2.0' '1.0' '0.0' '1.0' '0.0' '2.0' '1.0'\n",
      "  '0.0' '1.0' '0.0' '0.0' '0.0' '1.0' '1.0' '1.0' '0.0' '1.0' '0.0' '0.0'\n",
      "  '0.0' '0.0' '0.0' '1.0' '0.0' '0.0']\n",
      " ['0.0' '0.0' '0.0' '1.0' '0.0' '1.0' '0.0' '0.0' '0.0' '0.0' '0.0' '0.0'\n",
      "  '0.0' '0.0' '0.0' '0.0' '0.0' '0.0' '0.0' '2.0' '0.0' '0.0' '0.0' '0.0'\n",
      "  '1.0' '0.0' '1.0' '0.0' '0.0' '0.0']]\n"
     ]
    }
   ],
   "source": [
    "import numpy as np\n",
    "\n",
    "def get_lines(path):\n",
    "    f = open(fic_ex, 'r')\n",
    "    # on récupère les lignes\n",
    "    lignes = f.readlines()\n",
    "    # on ferme le fichier\n",
    "    f.close()\n",
    "    return lignes\n",
    "\n",
    "def create_dico(path):\n",
    "    lines = get_lines(path)\n",
    "    # Delete \\n\n",
    "    for i in range(len(lignes)):\n",
    "        lignes[i] = lignes[i].replace(\"\\n\", \"\")\n",
    "        \n",
    "    attributs = []\n",
    "    for l in lignes:\n",
    "        attributs.append(l.split('\\t'))\n",
    "      \n",
    "    date = attributs[0]\n",
    "    keys = attributs[1]\n",
    "    stats_total = attributs[-1]\n",
    "    data = attributs[2:-1]\n",
    "    # On supprime la ligne vide\n",
    "    for i in range(len(data)):\n",
    "        if len(data[i]) == 1:\n",
    "            del data[i]\n",
    "    numeric = ['Response Time', 'NbErreurs', 'Repetitions']\n",
    "    dico = {}\n",
    "    for line in data:\n",
    "        for i, key in enumerate(keys):\n",
    "            if key not in dico.keys():\n",
    "                dico[key] = []\n",
    "\n",
    "            if key in numeric:\n",
    "                dico[key].append(float(line[i]))\n",
    "            else:\n",
    "                dico[key].append(line[i])\n",
    "    dico[\"date\"] = date\n",
    "    for key in dico.keys():\n",
    "        dico[key] = np.array(dico[key])\n",
    "    return dico\n",
    "\n",
    "attributs = []\n",
    "# We separate lines according to the tabulation\n",
    "for l in get_lines(fic_ex):\n",
    "    l = l.replace(\"\\n\", \"\")\n",
    "    attributs.append(l.split('\\t'))\n",
    "# The date is the first line -> 0\n",
    "date = attributs[0]\n",
    "\n",
    "# The keys are the second line --> 1\n",
    "keys = np.array(attributs[1])\n",
    "keys = np.array(['Sound File', 'Stimulus','Response Time', 'NbErreurs', 'Repetitions'])\n",
    "# The data is to be found from the third\n",
    "# line (2) to the antepenultimate (-2) (empty line at end)\n",
    "data_tmp = attributs[2:-2]\n",
    "data = []\n",
    "# do not take care of the three\n",
    "# following columns\n",
    "for l in data_tmp:\n",
    "    # splitting soudfile string\n",
    "    sf = l[0]\n",
    "    splitted = sf.split('-')\n",
    "    sleft = splitted[0].split('_')\n",
    "    sright = splitted[1].split('_')\n",
    "    vs = sleft[1] + \" vs \" + sright[1]\n",
    "    # do not take care of the three\n",
    "    # following columns\n",
    "    data.append([sf, vs, l[4], l[5], l[6]])\n",
    "# The last line is the number of mistakes\n",
    "# and repetitions --> stats_total\n",
    "    \n",
    "stats_total = attributs[-1]\n",
    "columns = []\n",
    "numeric_keys = ['Response Time', 'NbErreurs', 'Repetitions']\n",
    "#print(numeric_keys)\n",
    "for j, k in enumerate(keys):\n",
    "    if k in numeric_keys:\n",
    "        columns.append(np.array([float(data[i][j]) for i in range(len(data))]))\n",
    "    else:\n",
    "        columns.append(np.array([data[i][j] for i in range(len(data))]))\n",
    "\n",
    "# Pour ne pas perdre ses clés !\n",
    "key_to_index = {}\n",
    "for i, k in enumerate(keys):\n",
    "    key_to_index[k] = i\n",
    "print(np.array(columns))\n",
    "    "
   ]
  },
  {
   "cell_type": "code",
   "execution_count": null,
   "metadata": {},
   "outputs": [],
   "source": []
  },
  {
   "cell_type": "code",
   "execution_count": null,
   "metadata": {},
   "outputs": [],
   "source": []
  },
  {
   "cell_type": "code",
   "execution_count": null,
   "metadata": {},
   "outputs": [],
   "source": []
  },
  {
   "cell_type": "code",
   "execution_count": null,
   "metadata": {},
   "outputs": [],
   "source": []
  },
  {
   "cell_type": "code",
   "execution_count": null,
   "metadata": {},
   "outputs": [],
   "source": []
  },
  {
   "cell_type": "code",
   "execution_count": null,
   "metadata": {},
   "outputs": [],
   "source": []
  },
  {
   "cell_type": "code",
   "execution_count": null,
   "metadata": {},
   "outputs": [],
   "source": []
  },
  {
   "cell_type": "code",
   "execution_count": null,
   "metadata": {},
   "outputs": [],
   "source": []
  },
  {
   "cell_type": "code",
   "execution_count": null,
   "metadata": {},
   "outputs": [],
   "source": []
  },
  {
   "cell_type": "code",
   "execution_count": 35,
   "metadata": {},
   "outputs": [],
   "source": [
    "# On importe des petits modules python bien sympa\n",
    "# numpy : fonctions mathématiques vraiment convenables !\n",
    "import numpy as np\n",
    "# Pyplot : super ! ça va nous aider à afficher de belles courbes des familles !\n",
    "import matplotlib.pyplot as plt\n",
    "# paramètres d'affichage pyplot\n",
    "# taille des figures\n",
    "plt.rcParams[\"figure.figsize\"] = (10,10)\n",
    "plt.rcParams[\"font.size\"] = 15\n",
    "# On importe les fonctions faites maison de la mort qui tue\n",
    "# depuis le module utils (fichier utils.py) pour gérer les fichiers et tout\n",
    "from utils import create_dico\n",
    "\n",
    "# Là on rentre dans le dur ! on importe les fonctions d'analyse qui font briller en société !\n",
    "from analysis import *\n",
    "\n",
    "# On définit la classe Exo\n",
    "class Exo_AX:\n",
    "    '''\n",
    "    Ceci est la description de la classe\n",
    "    Si tu as un problème avec cette classe\n",
    "    tu peux taper help(Exo)\n",
    "    '''\n",
    "    # Ceci va être la fonction d'initialisation d'un exercice\n",
    "    # son argument est path, le chemin du fichier\n",
    "    def __init__(self, path):\n",
    "        # Ici nous définissons les attributs communs à tous les exos\n",
    "        self.path = path\n",
    "        # Les keys numériques valables pour tous les exos\n",
    "        self.numeric_keys = ['Stimulus', 'Vowel', 'Response Time', 'NbErreurs', 'Repetitions']\n",
    "        # Tout exo contient des lignes\n",
    "        self.get_lines()\n",
    "        self.clean_lines()\n",
    "        self.parse_lines()\n",
    "    \n",
    "    def get_lines(self):\n",
    "        f = open(self.path, 'r')\n",
    "        # on récupère les lignes\n",
    "        self.lines = f.readlines()\n",
    "        # on ferme le fichier\n",
    "        f.close()\n",
    "    \n",
    "    def clean_lines(self):\n",
    "        # On enlève les \\n pour tout le monde\n",
    "        for i in range(len(self.lines)):\n",
    "            self.lines[i] = self.lines[i].replace(\"\\n\", \"\")\n",
    "        # Si la ligne est vide, on la supprime\n",
    "        # On fait une liste contenant les indices\n",
    "        # des lignes vides pour leur défoncer la \n",
    "        # tronche ensuite mouhahahahaha\n",
    "        to_delete = []\n",
    "        for i in range(len(self.lines)):\n",
    "            if len(self.lines[i]) == 0:\n",
    "                to_delete.append(i)\n",
    "        # Défonçage dans 3, 2 ....\n",
    "        for i in to_delete:\n",
    "            del self.lines[i]   \n",
    "        \n",
    "    def parse_lines(self):\n",
    "        attributs = []\n",
    "        # On sépare les lignes selon les tabulations\n",
    "        for l in self.lines:\n",
    "            attributs.append(l.split('\\t'))\n",
    "        # On setup la date et les keys\n",
    "        self.date = attributs[0]\n",
    "        self.keys = np.array(attributs[1])\n",
    "        \n",
    "        data = attributs[2:-1]\n",
    "        \n",
    "        self.stats_total = attributs[-1]\n",
    "        columns = []\n",
    "        \n",
    "        for j, k in enumerate(self.keys):\n",
    "            if k in self.numeric_keys:\n",
    "                columns.append(np.array([float(data[i][j]) for i in range(len(data))]))\n",
    "            else:\n",
    "                columns.append(np.array([data[i][j] for i in range(len(data))]))\n",
    "        # On a bien contruit columns, c'est le notre maintenant !!\n",
    "        self.columns = columns\n",
    "        # Pour ne pas perdre ses clés !\n",
    "        self.key_to_index = {}\n",
    "        for i, k in enumerate(self.keys):\n",
    "            self.key_to_index[k] = i\n",
    "        \n",
    "    def display(self):\n",
    "        # on parcours les keys\n",
    "        for i in range(self.keys.shape[0]):\n",
    "            print(f'{self.keys[i]} {self.columns[i]}')\n",
    "            \n",
    "    def count_with_criteria(dico, key='Vowel', criteria='Response Time', count_one=False):\n",
    "        result = {}\n",
    "        assert criteria in ['NbErreurs', 'Repetitions', 'Response Time']\n",
    "        for i, val in enumerate(dico[criteria]):\n",
    "            if dico[key][i] not in result.keys():\n",
    "                result[dico[key][i]] = 0\n",
    "            if val > 0:\n",
    "                if count_one:\n",
    "                    result[dico[key][i]] += 1\n",
    "                else:\n",
    "                    result[dico[key][i]] += val\n",
    "        return result\n",
    "\n",
    "    \n",
    "    def criteria_by_key(self, key, criteria):\n",
    "        if key not in self.keys:\n",
    "            raise Exception('key not in my keys !')\n",
    "        if criteria not in self.keys:\n",
    "            raise Exception('criteria not in my keys !')\n",
    "            \n",
    "        # on récupère l'indice de la key/colonne\n",
    "        k_index = self.key_to_index[key]\n",
    "        # on récupère l'indice du criteria/colonne\n",
    "        c_index = self.key_to_index[criteria]\n",
    "        # On récopère les colonnes\n",
    "        key_column = self.columns[k_index]\n",
    "        criteria_column = self.columns[c_index]\n",
    "        \n",
    "        dico = {}\n",
    "        for i, k in enumerate(key_column):\n",
    "            if k not in dico.keys():\n",
    "                dico[k] = criteria_column[i]\n",
    "            else:\n",
    "                dico[k] += criteria_column[i]\n",
    "\n",
    "        # Pie chart, where the slices will be ordered and plotted counter-clockwise:\n",
    "        labels = np.array(list(dico.keys()))\n",
    "        values = np.array(list(dico.values()))\n",
    "        #donne les endroits où values est différent de 0\n",
    "        sel_arr = values != 0\n",
    "        labels = labels[sel_arr]\n",
    "        values = values[sel_arr]\n",
    "        return labels, values\n",
    "    \n",
    "    def with_errors(dico, key='Sound File', at_least=1):\n",
    "        result = []\n",
    "        for i, val in enumerate(dico['NbErreurs']):\n",
    "            if val >= at_least:\n",
    "                result.append(dico[key][i])\n",
    "        return result\n",
    "        \n",
    "\n",
    "# Nous définissons maintenant un type d'exercice particulier : les AX\n",
    "class AX(Exo_AX):\n",
    "    '''\n",
    "    Ceci est la description de la classe\n",
    "    Si tu as un problème avec cette classe\n",
    "    tu peux taper help(AX)\n",
    "    '''\n",
    "    # Ceci va être la fonction d'initialisation d'un exercice\n",
    "    # son argument est path, le chemin du fichier\n",
    "    def __init__(self, path):\n",
    "        # Ici nous définissons les attributs communs à tous les exos\n",
    "        super().__init__(path)\n"
   ]
  },
  {
   "cell_type": "code",
   "execution_count": 36,
   "metadata": {},
   "outputs": [],
   "source": [
    "def plot_chart(labels, values, title):\n",
    "    fig1, ax1 = plt.subplots()\n",
    "    ax1.pie(values, labels=labels, autopct='%1.1f%%',\n",
    "            shadow=False, startangle=90)\n",
    "    ax1.axis('equal')  # Equal aspect ratio ensures that pie is drawn as a circle.\n",
    "    plt.title(title)\n",
    "    plt.show()\n",
    "    \n",
    "def plot_hist(labels, values, title, xlabel, ylabel, xrotation=None, yrotation=None):\n",
    "    plt.bar(labels, values)\n",
    "    plt.title(title)\n",
    "    plt.xlabel(xlabel)\n",
    "    plt.ylabel(ylabel)\n",
    "    if xrotation:\n",
    "        plt.tick_params(axis='x', rotation=xrotation)\n",
    "    if yrotation:\n",
    "        plt.tick_params(axis='y', rotation=yrotation)\n",
    "    plt.show()"
   ]
  },
  {
   "cell_type": "code",
   "execution_count": 37,
   "metadata": {},
   "outputs": [],
   "source": [
    "import os\n",
    "dossier_exemple = \"log_files/L1/Lisa Metais_1365733_assignsubmission_file_/logFiles/logFiles/\"\n",
    "AX_exemple = dossier_exemple + \"AX_i_Mon_Jan_25_16_28_49_2021.log\""
   ]
  },
  {
   "cell_type": "code",
   "execution_count": 38,
   "metadata": {},
   "outputs": [
    {
     "ename": "TypeError",
     "evalue": "expected str, bytes or os.PathLike object, not dict",
     "output_type": "error",
     "traceback": [
      "\u001b[0;31m---------------------------------------------------------------------------\u001b[0m",
      "\u001b[0;31mTypeError\u001b[0m                                 Traceback (most recent call last)",
      "\u001b[0;32m<ipython-input-38-7c52852fe562>\u001b[0m in \u001b[0;36m<module>\u001b[0;34m\u001b[0m\n\u001b[1;32m      1\u001b[0m \u001b[0mdico_eleve\u001b[0m \u001b[0;34m=\u001b[0m \u001b[0mcreate_dico\u001b[0m\u001b[0;34m(\u001b[0m\u001b[0mAX_exemple\u001b[0m\u001b[0;34m)\u001b[0m\u001b[0;34m\u001b[0m\u001b[0;34m\u001b[0m\u001b[0m\n\u001b[0;32m----> 2\u001b[0;31m \u001b[0mstat_exo\u001b[0m\u001b[0;34m(\u001b[0m\u001b[0mdico_eleve\u001b[0m\u001b[0;34m,\u001b[0m \u001b[0mkey\u001b[0m\u001b[0;34m=\u001b[0m\u001b[0;34m\"Sound File\"\u001b[0m\u001b[0;34m)\u001b[0m\u001b[0;34m\u001b[0m\u001b[0;34m\u001b[0m\u001b[0m\n\u001b[0m",
      "\u001b[0;32m~/Documents/notebooks_sepale/analysis.py\u001b[0m in \u001b[0;36mstat_exo\u001b[0;34m(fichier, key)\u001b[0m\n\u001b[1;32m     51\u001b[0m \u001b[0;34m\u001b[0m\u001b[0m\n\u001b[1;32m     52\u001b[0m \u001b[0;32mdef\u001b[0m \u001b[0mstat_exo\u001b[0m\u001b[0;34m(\u001b[0m\u001b[0mfichier\u001b[0m\u001b[0;34m,\u001b[0m \u001b[0mkey\u001b[0m\u001b[0;34m=\u001b[0m\u001b[0;34m\"Vowel\"\u001b[0m\u001b[0;34m)\u001b[0m\u001b[0;34m:\u001b[0m\u001b[0;34m\u001b[0m\u001b[0;34m\u001b[0m\u001b[0m\n\u001b[0;32m---> 53\u001b[0;31m     \u001b[0mdico_exo\u001b[0m \u001b[0;34m=\u001b[0m \u001b[0mcreate_dico\u001b[0m\u001b[0;34m(\u001b[0m\u001b[0mfichier\u001b[0m\u001b[0;34m)\u001b[0m\u001b[0;34m\u001b[0m\u001b[0;34m\u001b[0m\u001b[0m\n\u001b[0m\u001b[1;32m     54\u001b[0m     \u001b[0merr_dico\u001b[0m \u001b[0;34m=\u001b[0m \u001b[0mcount_errors\u001b[0m\u001b[0;34m(\u001b[0m\u001b[0mdico_exo\u001b[0m\u001b[0;34m,\u001b[0m \u001b[0mkey\u001b[0m\u001b[0;34m=\u001b[0m\u001b[0mkey\u001b[0m\u001b[0;34m,\u001b[0m \u001b[0mcount_one\u001b[0m\u001b[0;34m=\u001b[0m\u001b[0;32mFalse\u001b[0m\u001b[0;34m)\u001b[0m\u001b[0;34m\u001b[0m\u001b[0;34m\u001b[0m\u001b[0m\n\u001b[1;32m     55\u001b[0m     \u001b[0mright_dico\u001b[0m \u001b[0;34m=\u001b[0m \u001b[0mcount_right\u001b[0m\u001b[0;34m(\u001b[0m\u001b[0mdico_exo\u001b[0m\u001b[0;34m,\u001b[0m \u001b[0mkey\u001b[0m\u001b[0;34m=\u001b[0m\u001b[0mkey\u001b[0m\u001b[0;34m)\u001b[0m\u001b[0;34m\u001b[0m\u001b[0;34m\u001b[0m\u001b[0m\n",
      "\u001b[0;32m~/Documents/notebooks_sepale/utils.py\u001b[0m in \u001b[0;36mcreate_dico\u001b[0;34m(path)\u001b[0m\n\u001b[1;32m     10\u001b[0m \u001b[0;34m\u001b[0m\u001b[0m\n\u001b[1;32m     11\u001b[0m \u001b[0;32mdef\u001b[0m \u001b[0mcreate_dico\u001b[0m\u001b[0;34m(\u001b[0m\u001b[0mpath\u001b[0m\u001b[0;34m)\u001b[0m\u001b[0;34m:\u001b[0m\u001b[0;34m\u001b[0m\u001b[0;34m\u001b[0m\u001b[0m\n\u001b[0;32m---> 12\u001b[0;31m     \u001b[0mlines\u001b[0m \u001b[0;34m=\u001b[0m \u001b[0mget_lines\u001b[0m\u001b[0;34m(\u001b[0m\u001b[0mpath\u001b[0m\u001b[0;34m)\u001b[0m\u001b[0;34m\u001b[0m\u001b[0;34m\u001b[0m\u001b[0m\n\u001b[0m\u001b[1;32m     13\u001b[0m     \u001b[0;31m# Delete \\n\u001b[0m\u001b[0;34m\u001b[0m\u001b[0;34m\u001b[0m\u001b[0;34m\u001b[0m\u001b[0m\n\u001b[1;32m     14\u001b[0m     \u001b[0;32mfor\u001b[0m \u001b[0mi\u001b[0m \u001b[0;32min\u001b[0m \u001b[0mrange\u001b[0m\u001b[0;34m(\u001b[0m\u001b[0mlen\u001b[0m\u001b[0;34m(\u001b[0m\u001b[0mlines\u001b[0m\u001b[0;34m)\u001b[0m\u001b[0;34m)\u001b[0m\u001b[0;34m:\u001b[0m\u001b[0;34m\u001b[0m\u001b[0;34m\u001b[0m\u001b[0m\n",
      "\u001b[0;32m~/Documents/notebooks_sepale/utils.py\u001b[0m in \u001b[0;36mget_lines\u001b[0;34m(path)\u001b[0m\n\u001b[1;32m      2\u001b[0m \u001b[0;34m\u001b[0m\u001b[0m\n\u001b[1;32m      3\u001b[0m \u001b[0;32mdef\u001b[0m \u001b[0mget_lines\u001b[0m\u001b[0;34m(\u001b[0m\u001b[0mpath\u001b[0m\u001b[0;34m)\u001b[0m\u001b[0;34m:\u001b[0m\u001b[0;34m\u001b[0m\u001b[0;34m\u001b[0m\u001b[0m\n\u001b[0;32m----> 4\u001b[0;31m     \u001b[0mf\u001b[0m \u001b[0;34m=\u001b[0m \u001b[0mopen\u001b[0m\u001b[0;34m(\u001b[0m\u001b[0mpath\u001b[0m\u001b[0;34m,\u001b[0m \u001b[0;34m'r'\u001b[0m\u001b[0;34m)\u001b[0m\u001b[0;34m\u001b[0m\u001b[0;34m\u001b[0m\u001b[0m\n\u001b[0m\u001b[1;32m      5\u001b[0m     \u001b[0;31m# on récupère les lignes\u001b[0m\u001b[0;34m\u001b[0m\u001b[0;34m\u001b[0m\u001b[0;34m\u001b[0m\u001b[0m\n\u001b[1;32m      6\u001b[0m     \u001b[0mlines\u001b[0m \u001b[0;34m=\u001b[0m \u001b[0mf\u001b[0m\u001b[0;34m.\u001b[0m\u001b[0mreadlines\u001b[0m\u001b[0;34m(\u001b[0m\u001b[0;34m)\u001b[0m\u001b[0;34m\u001b[0m\u001b[0;34m\u001b[0m\u001b[0m\n",
      "\u001b[0;31mTypeError\u001b[0m: expected str, bytes or os.PathLike object, not dict"
     ]
    }
   ],
   "source": [
    "dico_eleve = create_dico(AX_exemple)\n",
    "stat_exo(dico_eleve, key=\"Sound File\")"
   ]
  },
  {
   "cell_type": "code",
   "execution_count": 14,
   "metadata": {},
   "outputs": [
    {
     "data": {
      "image/png": "[encoded data removed]",
      "text/plain": [
       "<Figure size 720x720 with 1 Axes>"
      ]
     },
     "metadata": {},
     "output_type": "display_data"
    },
    {
     "data": {
      "image/png": "[encoded data removed]",
      "text/plain": [
       "<Figure size 720x720 with 1 Axes>"
      ]
     },
     "metadata": {
      "needs_background": "light"
     },
     "output_type": "display_data"
    }
   ],
   "source": [
    "exo_AX = AX(AX_exemple)\n",
    "#exo.display()\n",
    "labels, values = exo_AX.criteria_by_key(\"Stimulus\", \"NbErreurs\")\n",
    "\n",
    "plot_chart(labels, values, \"Number of repetitions per vowel\")\n",
    "\n",
    "plot_hist(labels, values, \"Number of repetitions per vowel\", \"Vowel\", \"Repetitions\", 50)"
   ]
  },
  {
   "cell_type": "code",
   "execution_count": null,
   "metadata": {},
   "outputs": [],
   "source": []
  }
 ],
 "metadata": {
  "kernelspec": {
   "display_name": "Python 3",
   "language": "python",
   "name": "python3"
  },
  "language_info": {
   "codemirror_mode": {
    "name": "ipython",
    "version": 3
   },
   "file_extension": ".py",
   "mimetype": "text/x-python",
   "name": "python",
   "nbconvert_exporter": "python",
   "pygments_lexer": "ipython3",
   "version": "3.8.5"
  }
 },
 "nbformat": 4,
 "nbformat_minor": 4
}
