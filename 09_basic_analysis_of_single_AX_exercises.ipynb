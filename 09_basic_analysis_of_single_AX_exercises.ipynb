{
 "cells": [
  {
   "cell_type": "markdown",
   "metadata": {},
   "source": [
    "# Basic analysis of a single AX exercise"
   ]
  },
  {
   "cell_type": "markdown",
   "metadata": {},
   "source": [
    "In this notebook we use the function criteria_by_key to retrieve some useful data."
   ]
  },
  {
   "cell_type": "markdown",
   "metadata": {},
   "source": [
    "## I. Importation of modules and functions from python scripts"
   ]
  },
  {
   "cell_type": "code",
   "execution_count": 1,
   "metadata": {},
   "outputs": [],
   "source": [
    "# We import the module whose function \n",
    "# is to communicate with the OS\n",
    "import os\n",
    "# From the module exo we import all (*)\n",
    "from exo import *"
   ]
  },
  {
   "cell_type": "markdown",
   "metadata": {},
   "source": [
    "## II. Setting the path to the logfile we are to anlyse"
   ]
  },
  {
   "cell_type": "markdown",
   "metadata": {},
   "source": [
    "The os.listdir function will simply make a list of the files you have in the directory."
   ]
  },
  {
   "cell_type": "code",
   "execution_count": 2,
   "metadata": {},
   "outputs": [
    {
     "name": "stdout",
     "output_type": "stream",
     "text": [
      "['L2', 'L3', 'L1']\n",
      "\n",
      "-----------------\n",
      "\n",
      "The files in this directory are:\n",
      "\n",
      "['2AFC_a_Wed_Feb_17_10_18_00_2021.log', 'ListeOddity_1_00.txt', '2AFC_av_Wed_Feb_17_10_27_50_2021.log', '5AFC_1_Sat_Feb_27_09_53_53_2021.log', 'AX_i_Wed_Feb_03_16_51_44_2021.log', 'ListeOddity_2_00.txt', 'AX_a_Wed_Feb_17_10_30_39_2021.log', '2AFC_i_Wed_Feb_17_10_25_03_2021.log', 'AX_av_Wed_Feb_17_10_34_03_2021.log', '5AFC_2_Sat_Feb_27_10_14_35_2021.log']\n"
     ]
    }
   ],
   "source": [
    "# We show the content of directory \"log_files\"\n",
    "print(os.listdir(\"log_files\"))\n",
    "print(\"\")\n",
    "print(\"-----------------\")\n",
    "print(\"\")\n",
    "print(\"The files in this directory are:\")\n",
    "print('')\n",
    "print(os.listdir(\"log_files/L1/Sarah Moreira_1365881_assignsubmission_file_/logFiles (Sarah Moreira)/logFiles (Sarah Moreira)/\"))"
   ]
  },
  {
   "cell_type": "markdown",
   "metadata": {},
   "source": [
    "After importing modules and functions, we determine a directory called \"example_directory\". In this cell, the path of the file from my computer is used, you'll need to put the logfiles in a special directory, find the path to these logfiles and paste it in quotation marks."
   ]
  },
  {
   "cell_type": "code",
   "execution_count": 3,
   "metadata": {},
   "outputs": [],
   "source": [
    "example_directory = \"log_files/L1/Sarah Moreira_1365881_assignsubmission_file_/logFiles (Sarah Moreira)/logFiles (Sarah Moreira)/\"\n",
    "example_file = example_directory + \"AX_a_Wed_Feb_17_10_30_39_2021.log\""
   ]
  },
  {
   "cell_type": "markdown",
   "metadata": {},
   "source": [
    "## III. We create an example of exercise (ex_exo)"
   ]
  },
  {
   "cell_type": "markdown",
   "metadata": {},
   "source": [
    "This new exercise belongs to a specific type of exercises, the AX, a subclass of the Exo class."
   ]
  },
  {
   "cell_type": "code",
   "execution_count": 4,
   "metadata": {},
   "outputs": [],
   "source": [
    "ex_exo = AX(example_file)"
   ]
  },
  {
   "cell_type": "markdown",
   "metadata": {},
   "source": [
    "## IV. Use of the function criteria_by_key"
   ]
  },
  {
   "cell_type": "markdown",
   "metadata": {},
   "source": [
    "The function criteria_by_key uses a criterion and a key and returns the sum of the criterion and the number of occurences."
   ]
  },
  {
   "cell_type": "code",
   "execution_count": 5,
   "metadata": {},
   "outputs": [
    {
     "data": {
      "text/plain": [
       "{'cud vs cud': [5.282448768615723, 3],\n",
       " 'back vs buck': [0.8026120662689209, 1],\n",
       " 'putt vs pat': [5.046529293060303, 2],\n",
       " 'lack vs lack': [2.177887201309204, 2],\n",
       " 'back vs back': [1.4871349334716797, 1],\n",
       " 'pat vs pat': [2.1268272399902344, 2],\n",
       " 'cup vs cap': [1.2895028591156006, 2],\n",
       " 'bun vs ban': [2.04677414894104, 1],\n",
       " 'cup vs cup': [4.484415054321289, 2],\n",
       " 'puck vs pack': [2.8990750312805176, 1],\n",
       " 'cat vs cat': [2.938601016998291, 2],\n",
       " 'tat vs tat': [0.389268159866333, 1],\n",
       " 'tat vs tut': [1.3563868999481201, 1],\n",
       " 'mutt vs mutt': [0.9373531341552734, 1],\n",
       " 'ban vs ban': [2.7860400676727295, 1],\n",
       " 'cud vs cad': [0.9553530216217041, 1],\n",
       " 'cad vs cad': [1.590519905090332, 1],\n",
       " 'luck vs lack': [1.058290958404541, 1],\n",
       " 'mutt vs mat': [0.24208307266235352, 1],\n",
       " 'buck vs buck': [0.8644828796386719, 1],\n",
       " 'lack vs luck': [0.27555108070373535, 1]}"
      ]
     },
     "execution_count": 5,
     "metadata": {},
     "output_type": "execute_result"
    }
   ],
   "source": [
    "ex_exo.criteria_by_key(\"Stimulus\", \"Response Time\")"
   ]
  }
 ],
 "metadata": {
  "kernelspec": {
   "display_name": "Python 3",
   "language": "python",
   "name": "python3"
  },
  "language_info": {
   "codemirror_mode": {
    "name": "ipython",
    "version": 3
   },
   "file_extension": ".py",
   "mimetype": "text/x-python",
   "name": "python",
   "nbconvert_exporter": "python",
   "pygments_lexer": "ipython3",
   "version": "3.8.5"
  }
 },
 "nbformat": 4,
 "nbformat_minor": 4
}
