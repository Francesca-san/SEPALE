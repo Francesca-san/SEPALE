{
 "cells": [
  {
   "cell_type": "markdown",
   "metadata": {},
   "source": [
    "# Analysis of the data for a Classroom"
   ]
  },
  {
   "cell_type": "markdown",
   "metadata": {},
   "source": [
    "## I. Importation of modules and functions from python scripts"
   ]
  },
  {
   "cell_type": "code",
   "execution_count": null,
   "metadata": {},
   "outputs": [],
   "source": [
    "# We import python modules\n",
    "# numpy : a mathematical function that is very useful!\n",
    "import numpy as np\n",
    "import os\n",
    "from graphs import *\n",
    "from exo import *\n",
    "from student import *\n",
    "#Here you have the parameters of the plots\n",
    "plt.rcParams[\"figure.figsize\"] = (30,40)\n",
    "plt.rcParams[\"font.size\"] = 20"
   ]
  },
  {
   "cell_type": "markdown",
   "metadata": {},
   "source": [
    "In this previous section, we imported modules and functions which will help us for the analysis. \n",
    "The class `Classroom` has been defined in the module python document *classroom.py*, we have imported all the modules which contain the functions that we presently need. \n",
    "\n",
    "If you want to see the detail of the functions, you can click on the other notebooks that are in the Home Page."
   ]
  },
  {
   "cell_type": "markdown",
   "metadata": {},
   "source": [
    "## II. Use of plots"
   ]
  },
  {
   "cell_type": "markdown",
   "metadata": {},
   "source": [
    "### 1. Histograms and pie charts"
   ]
  },
  {
   "cell_type": "markdown",
   "metadata": {},
   "source": [
    "We use the function __hist_all_exos__ it creates histograms for all the students in a classroom. We also use the function __chart_all_exos__ to make pie charts for the second-year students (L2)."
   ]
  },
  {
   "cell_type": "markdown",
   "metadata": {},
   "source": [
    "In this cell we make plots for the number of repetitions per vowel, but remember that you can change these parameters as you please! You can therefore change *Vowel*, and put *Stimulus* instead. Same goes for *Repetitions* which can be replaced by *NbErreurs*, or *Response Time*. Feel free to play around with it. However, remember to change the title, here it's *Repetitions per vowel*."
   ]
  },
  {
   "cell_type": "code",
   "execution_count": null,
   "metadata": {},
   "outputs": [],
   "source": [
    "base_L2 = \"./log_files/L2/\"\n",
    "\n",
    "student_list = []\n",
    "list_students = os.listdir(base_L2)\n",
    "for student_path in list_students:\n",
    "    student = Student(base_L2 + student_path)\n",
    "    student_list.append(student)\n",
    "\n",
    "for student in student_list:\n",
    "    print(student.name, student.surname)\n",
    "    student.hist_all_exos(\"Vowel\", \"NbErreurs\", \"Errors per vowel\", \"Vowel\",\"Errors\")\n",
    "    print(student.criteria_by_key(\"Vowel\", \"NbErreurs\"))\n",
    "    #student.chart_all_exos(\"Vowel\", \"Repetitions\", \"Repetitions per vowel\")"
   ]
  },
  {
   "cell_type": "markdown",
   "metadata": {},
   "source": [
    "### 2. Tables"
   ]
  },
  {
   "cell_type": "markdown",
   "metadata": {},
   "source": [
    "In this cell we use the function __plot_table_by_key__ to make a table of the average of all the parameters (*repetitions*, *number of errors*, and *response time*) per vowel and per stimuli."
   ]
  },
  {
   "cell_type": "code",
   "execution_count": null,
   "metadata": {},
   "outputs": [],
   "source": [
    "base_L2 = \"./log_files/L2/\"\n",
    "\n",
    "student_list = []\n",
    "list_students = os.listdir(base_L2)\n",
    "for student_path in list_students:\n",
    "    student = Student(base_L2 + student_path)\n",
    "    student_list.append(student)\n",
    "    \n",
    "\n",
    "for student in student_list:\n",
    "    print(student.name, student.surname)\n",
    "    student.plot_table_by_key(\"Vowel\", xscale=0.5, yscale=4)    \n",
    "    #student.plot_table_by_key(\"Stimulus\", xscale=0.5, yscale=4)\n",
    "    "
   ]
  },
  {
   "cell_type": "code",
   "execution_count": null,
   "metadata": {},
   "outputs": [],
   "source": []
  }
 ],
 "metadata": {
  "kernelspec": {
   "display_name": "Python 3",
   "language": "python",
   "name": "python3"
  },
  "language_info": {
   "codemirror_mode": {
    "name": "ipython",
    "version": 3
   },
   "file_extension": ".py",
   "mimetype": "text/x-python",
   "name": "python",
   "nbconvert_exporter": "python",
   "pygments_lexer": "ipython3",
   "version": "3.8.10"
  }
 },
 "nbformat": 4,
 "nbformat_minor": 4
}
