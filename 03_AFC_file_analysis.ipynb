{
 "cells": [
  {
   "cell_type": "markdown",
   "metadata": {},
   "source": [
    "# This is an analysis function whose purpose is to count different parameters in one AFC file for a single student"
   ]
  },
  {
   "cell_type": "markdown",
   "metadata": {},
   "source": [
    "### At this point, we import some python modules and functions that will help us analyse data."
   ]
  },
  {
   "cell_type": "code",
   "execution_count": 2,
   "metadata": {},
   "outputs": [],
   "source": [
    "# We import python modules\n",
    "# numpy has a variety of mathematical function that are very useful!\n",
    "import numpy as np\n",
    "# Pyplot : very important tool if you want to create plots!\n",
    "import matplotlib.pyplot as plt\n",
    "\n",
    "# We import functions from the module \"utils\" we have created\n",
    "from utils import create_dico\n",
    "# Here we import functions from the module \"analysis\" which\n",
    "# among other things, count errors and correct answers\n",
    "from analysis import with_errors, count_errors, count_with_criteria, with_no_errors, count_right"
   ]
  },
  {
   "cell_type": "markdown",
   "metadata": {},
   "source": [
    "### Setting the path to the logfile we want to anayse"
   ]
  },
  {
   "cell_type": "markdown",
   "metadata": {},
   "source": [
    "After importing modules and functions, we determine a directory called \"example_directory\". In this cell, the path of the file from my computer is used, you'll need to put the logfiles in a special directory, find the path to these logfiles and paste it in quotation marks. The os.listdir function will simply make a list of the files you have in the directory."
   ]
  },
  {
   "cell_type": "code",
   "execution_count": 3,
   "metadata": {},
   "outputs": [
    {
     "data": {
      "text/plain": [
       "['2AFC_a_Wed_Feb_17_10_18_00_2021.log',\n",
       " 'ListeOddity_1_00.txt',\n",
       " '2AFC_av_Wed_Feb_17_10_27_50_2021.log',\n",
       " '5AFC_1_Sat_Feb_27_09_53_53_2021.log',\n",
       " 'AX_i_Wed_Feb_03_16_51_44_2021.log',\n",
       " 'ListeOddity_2_00.txt',\n",
       " 'AX_a_Wed_Feb_17_10_30_39_2021.log',\n",
       " '2AFC_i_Wed_Feb_17_10_25_03_2021.log',\n",
       " 'AX_av_Wed_Feb_17_10_34_03_2021.log',\n",
       " '5AFC_2_Sat_Feb_27_10_14_35_2021.log']"
      ]
     },
     "execution_count": 3,
     "metadata": {},
     "output_type": "execute_result"
    }
   ],
   "source": [
    "import os\n",
    "example_directory = \"log_files/L1/Sarah Moreira_1365881_assignsubmission_file_/logFiles (Sarah Moreira)/logFiles (Sarah Moreira)/\"\n",
    "# The function os.listdir simply makes a list \n",
    "# of the files you have in the directory!\n",
    "os.listdir(example_directory)"
   ]
  },
  {
   "cell_type": "markdown",
   "metadata": {},
   "source": [
    "The os.listdir function enables you to choose out of the list of files, the logfile that you want to analyse. After having determined the directory (the example_directory) you'll have to choose the path of the file you want to look more closely into."
   ]
  },
  {
   "cell_type": "markdown",
   "metadata": {},
   "source": [
    "We take the directory of a random student, you can change it if you want. To do so, you'll have to change the path by the path to another student's directory, and place it in quotation marks as we did before. \n",
    "The example_file is the example_directory, plus the path to the logfile you want to analyse. This logfile can be AFC, AX, or Oddity, although these functions only work for AFC files."
   ]
  },
  {
   "cell_type": "code",
   "execution_count": 31,
   "metadata": {},
   "outputs": [],
   "source": [
    "example_directory = \"log_files/L1/Sarah Moreira_1365881_assignsubmission_file_/logFiles (Sarah Moreira)/logFiles (Sarah Moreira)/\"\n",
    "# example_file = example_directory + \"/5AFC_2_Sat_Jan_30_22_11_07_2021.log\"\n",
    "example_file = example_directory + \"/2AFC_a_Wed_Feb_17_10_18_00_2021.log\"\n"
   ]
  },
  {
   "cell_type": "markdown",
   "metadata": {},
   "source": [
    "### Creation of a dictionary and use of keys and criteria to analyse the answers"
   ]
  },
  {
   "cell_type": "markdown",
   "metadata": {},
   "source": [
    "We create a dictionary which will \"remember\", in a way, the different keys of the example_file."
   ]
  },
  {
   "cell_type": "code",
   "execution_count": 32,
   "metadata": {},
   "outputs": [],
   "source": [
    "file_dico = create_dico(example_file)"
   ]
  },
  {
   "cell_type": "markdown",
   "metadata": {},
   "source": [
    "This cell enables you to know what the keys are in this example_file"
   ]
  },
  {
   "cell_type": "code",
   "execution_count": 34,
   "metadata": {
    "scrolled": true
   },
   "outputs": [
    {
     "name": "stdout",
     "output_type": "stream",
     "text": [
      "dict_keys(['Sound File', 'Stimulus', 'Vowel', 'Response Time', 'NbErreurs', 'Repetitions', 'date'])\n"
     ]
    }
   ],
   "source": [
    "print(file_dico.keys())"
   ]
  },
  {
   "cell_type": "markdown",
   "metadata": {},
   "source": [
    "This function counts the errors made by the student for a certain key. In this case we are counting the mistakes made for each vowel, but you can always change the key!"
   ]
  },
  {
   "cell_type": "code",
   "execution_count": 35,
   "metadata": {
    "scrolled": true
   },
   "outputs": [
    {
     "data": {
      "text/plain": [
       "{'v': 3.0, 'a': 2.0}"
      ]
     },
     "execution_count": 35,
     "metadata": {},
     "output_type": "execute_result"
    }
   ],
   "source": [
    "count_errors(file_dico, key=\"Vowel\", count_one=False)"
   ]
  },
  {
   "cell_type": "markdown",
   "metadata": {},
   "source": [
    "Here, with the same parameter, we count the number of correct answers by vowel."
   ]
  },
  {
   "cell_type": "code",
   "execution_count": 37,
   "metadata": {},
   "outputs": [
    {
     "data": {
      "text/plain": [
       "{'v': 12, 'a': 13}"
      ]
     },
     "execution_count": 37,
     "metadata": {},
     "output_type": "execute_result"
    }
   ],
   "source": [
    "count_right(file_dico, key=\"Vowel\")"
   ]
  },
  {
   "cell_type": "markdown",
   "metadata": {},
   "source": [
    "As you can see here, you can always change the key to obtain different results. In this cell, using the same function \"count_errors\", we count the number of mistakes, but here we count it according to different stimuli."
   ]
  },
  {
   "cell_type": "code",
   "execution_count": 39,
   "metadata": {
    "scrolled": false
   },
   "outputs": [
    {
     "data": {
      "text/plain": [
       "{'luck': 0,\n",
       " 'lack': 1.0,\n",
       " 'pat': 0,\n",
       " 'bun': 1.0,\n",
       " 'buck': 0,\n",
       " 'cap': 0,\n",
       " 'cad': 1.0,\n",
       " 'cud': 0,\n",
       " 'mutt': 1.0,\n",
       " 'cup': 0,\n",
       " 'back': 0,\n",
       " 'ban': 0,\n",
       " 'tut': 0,\n",
       " 'putt': 1.0,\n",
       " 'mat': 0,\n",
       " 'pack': 0}"
      ]
     },
     "execution_count": 39,
     "metadata": {},
     "output_type": "execute_result"
    }
   ],
   "source": [
    "count_errors(file_dico, key=\"Stimulus\", count_one=False)"
   ]
  },
  {
   "cell_type": "markdown",
   "metadata": {},
   "source": [
    "You can also sum the number of repetitions (that is the case here), or the number of mistakes with \"NbErreurs\", or the response time with \"Response Time\", using the same dictionary."
   ]
  },
  {
   "cell_type": "code",
   "execution_count": 40,
   "metadata": {
    "scrolled": true
   },
   "outputs": [
    {
     "data": {
      "text/plain": [
       "0.0"
      ]
     },
     "execution_count": 40,
     "metadata": {},
     "output_type": "execute_result"
    }
   ],
   "source": [
    "np.sum(file_dico['Repetitions'])"
   ]
  },
  {
   "cell_type": "markdown",
   "metadata": {},
   "source": [
    "Finally, you can use the function \"count_with_criteria\", if you want to count something other than mistakes or right answers. Here we count the number of repetitions by stimulus. You can also count the response time or any other numeric criteri according to different keys."
   ]
  },
  {
   "cell_type": "code",
   "execution_count": 23,
   "metadata": {
    "scrolled": true
   },
   "outputs": [
    {
     "data": {
      "text/plain": [
       "{'luck': 0,\n",
       " 'lack': 0,\n",
       " 'pat': 0,\n",
       " 'bun': 0,\n",
       " 'buck': 0,\n",
       " 'cap': 0,\n",
       " 'cad': 0,\n",
       " 'cud': 0,\n",
       " 'mutt': 0,\n",
       " 'cup': 0,\n",
       " 'back': 0,\n",
       " 'ban': 0,\n",
       " 'tut': 0,\n",
       " 'putt': 0,\n",
       " 'mat': 0,\n",
       " 'pack': 0}"
      ]
     },
     "execution_count": 23,
     "metadata": {},
     "output_type": "execute_result"
    }
   ],
   "source": [
    "count_with_criteria(file_dico, key=\"Stimulus\", criteria='Repetitions')"
   ]
  }
 ],
 "metadata": {
  "kernelspec": {
   "display_name": "Python 3",
   "language": "python",
   "name": "python3"
  },
  "language_info": {
   "codemirror_mode": {
    "name": "ipython",
    "version": 3
   },
   "file_extension": ".py",
   "mimetype": "text/x-python",
   "name": "python",
   "nbconvert_exporter": "python",
   "pygments_lexer": "ipython3",
   "version": "3.8.5"
  }
 },
 "nbformat": 4,
 "nbformat_minor": 4
}
