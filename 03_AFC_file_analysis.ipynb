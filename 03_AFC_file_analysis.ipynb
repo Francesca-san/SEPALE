{
 "cells": [
  {
   "cell_type": "code",
   "execution_count": 1,
   "metadata": {},
   "outputs": [],
   "source": [
    "# On importe des petits modules python bien sympa\n",
    "# numpy : fonctions mathématiques vraiment convenables !\n",
    "import numpy as np\n",
    "# Pyplot : super ! ça va nous aider à afficher de belles courbes des familles !\n",
    "import matplotlib.pyplot as plt\n",
    "\n",
    "# On importe les fonctions faites maison de la mort qui tue\n",
    "# depuis le module utils (fichier utils.py) pour gérer les fichiers et tout\n",
    "from utils import create_dico\n",
    "\n",
    "# Là on rentre dans le dur ! on importe les fonctions d'analyse qui font briller en société !\n",
    "from analysis import *\n",
    "\n",
    "    "
   ]
  },
  {
   "cell_type": "code",
   "execution_count": 7,
   "metadata": {},
   "outputs": [
    {
     "data": {
      "text/plain": [
       "['2AFC_a_Wed_Feb_17_10_18_00_2021.log',\n",
       " 'ListeOddity_1_00.txt',\n",
       " '2AFC_av_Wed_Feb_17_10_27_50_2021.log',\n",
       " '5AFC_1_Sat_Feb_27_09_53_53_2021.log',\n",
       " 'AX_i_Wed_Feb_03_16_51_44_2021.log',\n",
       " 'ListeOddity_2_00.txt',\n",
       " 'AX_a_Wed_Feb_17_10_30_39_2021.log',\n",
       " '2AFC_i_Wed_Feb_17_10_25_03_2021.log',\n",
       " 'AX_av_Wed_Feb_17_10_34_03_2021.log',\n",
       " '5AFC_2_Sat_Feb_27_10_14_35_2021.log']"
      ]
     },
     "execution_count": 7,
     "metadata": {},
     "output_type": "execute_result"
    }
   ],
   "source": [
    "import os\n",
    "dossier_exemple = \"log_files/L1/Sarah Moreira_1365881_assignsubmission_file_/logFiles (Sarah Moreira)/logFiles (Sarah Moreira)/2AFC_a_Wed_Feb_17_10_18_00_2021.log\"\n",
    "# Là je t'affiche les fichiers que tu pourras utiliser !\n",
    "os.listdir(dossier_exemple)"
   ]
  },
  {
   "cell_type": "code",
   "execution_count": 3,
   "metadata": {},
   "outputs": [],
   "source": [
    "# On prend le dossier de quelqu'un en exemple (tu peux le changer)\n",
    "dossier_exemple = \"log_files/Cassandra Amaro Ribeiro_1365824_assignsubmission_file_/logFiles\"\n",
    "#fichier_exemple = dossier_exemple + \"/5AFC_2_Sat_Jan_30_22_11_07_2021.log\"\n",
    "fichier_exemple = dossier_exemple + \"/5AFC_2_Sat_Apr_24_18_33_46_2021.log\"\n"
   ]
  },
  {
   "cell_type": "code",
   "execution_count": 4,
   "metadata": {},
   "outputs": [],
   "source": [
    "# On créé le dico pour le logfile de kelly\n",
    "dico_alistair = create_dico(fichier_exemple)"
   ]
  },
  {
   "cell_type": "code",
   "execution_count": 5,
   "metadata": {},
   "outputs": [
    {
     "name": "stdout",
     "output_type": "stream",
     "text": [
      "dict_keys(['Sound File', 'Stimulus', 'Vowel', 'FirstResponse', 'Response Time', 'NbErreurs', 'Repetitions', 'date'])\n"
     ]
    }
   ],
   "source": [
    "# Voici les \"keys\" pour lesquelles on a des données\n",
    "print(dico_alistair.keys())"
   ]
  },
  {
   "cell_type": "code",
   "execution_count": 6,
   "metadata": {},
   "outputs": [
    {
     "data": {
      "text/plain": [
       "['i', 'i', 'A', 'A', 'v', 'v']"
      ]
     },
     "execution_count": 6,
     "metadata": {},
     "output_type": "execute_result"
    }
   ],
   "source": [
    "# les Stimuli pour lesquels elle s'est trompée au moins une fois\n",
    "with_errors(dico_alistair, key=\"Vowel\", at_least=1)"
   ]
  },
  {
   "cell_type": "code",
   "execution_count": 7,
   "metadata": {
    "scrolled": true
   },
   "outputs": [
    {
     "data": {
      "text/plain": [
       "{'card': 1,\n",
       " 'ban': 0,\n",
       " 'sick': 1,\n",
       " 'pick': 0,\n",
       " 'peak': 0,\n",
       " 'did': 0,\n",
       " 'cat': 0,\n",
       " 'teak': 0,\n",
       " 'tut': 0,\n",
       " 'pack': 0,\n",
       " 'seek': 0,\n",
       " 'kip': 1,\n",
       " 'barn': 0,\n",
       " 'cart': 0,\n",
       " 'cad': 0,\n",
       " 'tart': 1,\n",
       " 'bun': 1,\n",
       " 'puck': 1,\n",
       " 'tick': 0}"
      ]
     },
     "execution_count": 7,
     "metadata": {},
     "output_type": "execute_result"
    }
   ],
   "source": [
    "# comptage des erreurs pour chaque voyelle\n",
    "count_errors(dico_alistair, key=\"Stimulus\", count_one=True)"
   ]
  },
  {
   "cell_type": "code",
   "execution_count": 8,
   "metadata": {},
   "outputs": [
    {
     "data": {
      "text/plain": [
       "['A',\n",
       " 'a',\n",
       " 'i',\n",
       " 'A',\n",
       " 'I',\n",
       " 'i',\n",
       " 'a',\n",
       " 'I',\n",
       " 'a',\n",
       " 'i',\n",
       " 'v',\n",
       " 'a',\n",
       " 'I',\n",
       " 'a',\n",
       " 'A',\n",
       " 'A',\n",
       " 'a',\n",
       " 'a',\n",
       " 'A',\n",
       " 'i',\n",
       " 'i',\n",
       " 'I',\n",
       " 'I',\n",
       " 'i']"
      ]
     },
     "execution_count": 8,
     "metadata": {},
     "output_type": "execute_result"
    }
   ],
   "source": [
    "with_no_errors(dico_alistair, key=\"Vowel\")"
   ]
  },
  {
   "cell_type": "code",
   "execution_count": 9,
   "metadata": {},
   "outputs": [
    {
     "name": "stdout",
     "output_type": "stream",
     "text": [
      "card 0.0\n",
      "ban 0.0\n",
      "sick 1.0\n",
      "pick 0.0\n",
      "card 0.0\n",
      "peak 0.0\n",
      "did 0.0\n",
      "cat 0.0\n",
      "teak 0.0\n",
      "cat 0.0\n",
      "did 0.0\n",
      "tut 0.0\n",
      "pack 0.0\n",
      "seek 0.0\n",
      "ban 0.0\n",
      "kip 1.0\n",
      "barn 0.0\n",
      "cart 0.0\n",
      "cad 0.0\n",
      "pack 0.0\n",
      "card 0.0\n",
      "pick 0.0\n",
      "tart 1.0\n",
      "pick 0.0\n",
      "card 1.0\n",
      "peak 0.0\n",
      "seek 0.0\n",
      "bun 1.0\n",
      "puck 2.0\n",
      "tick 0.0\n"
     ]
    }
   ],
   "source": [
    "for s, e in zip(dico_alistair[\"Stimulus\"], dico_alistair[\"NbErreurs\"]):\n",
    "    print(s, e)"
   ]
  },
  {
   "cell_type": "code",
   "execution_count": 10,
   "metadata": {},
   "outputs": [
    {
     "data": {
      "text/plain": [
       "{'A': 2, 'a': 0, 'i': 2, 'I': 0, 'v': 2}"
      ]
     },
     "execution_count": 10,
     "metadata": {},
     "output_type": "execute_result"
    }
   ],
   "source": [
    "# comptage des erreus pour chaque voyelle\n",
    "count_errors(dico_alistair, key=\"Vowel\", count_one=True)"
   ]
  },
  {
   "cell_type": "code",
   "execution_count": 15,
   "metadata": {
    "scrolled": true
   },
   "outputs": [
    {
     "name": "stdout",
     "output_type": "stream",
     "text": [
      "{'A': 7.879945516586304, 'a': 8.775840759277344, 'i': 12.924745321273804, 'I': 11.22642183303833, 'v': 6.4886391162872314}\n",
      "key | errors | right | mean resp time\n",
      "--------------------\n",
      "I   |  0   | 5 | 11.22642183303833\n",
      "a   |  0   | 7 | 8.775840759277344\n",
      "v   |  3.0   | 1 | 6.4886391162872314\n",
      "i   |  2.0   | 6 | 12.924745321273804\n",
      "A   |  2.0   | 5 | 7.879945516586304\n"
     ]
    }
   ],
   "source": [
    "# Somme des répétitions\n",
    "print(count_with_criteria(dico_alistair, key=\"Vowel\", criteria='Response Time'))\n",
    "stat = stat_exo(fichier_exemple, 'Vowel')\n",
    "print_stat_exo(stat)"
   ]
  },
  {
   "cell_type": "code",
   "execution_count": 12,
   "metadata": {},
   "outputs": [
    {
     "data": {
      "text/plain": [
       "0.0"
      ]
     },
     "execution_count": 12,
     "metadata": {},
     "output_type": "execute_result"
    }
   ],
   "source": [
    "# Somme des répétitions\n",
    "np.sum(dico_alistair['Repetitions'])"
   ]
  },
  {
   "cell_type": "code",
   "execution_count": 13,
   "metadata": {},
   "outputs": [
    {
     "data": {
      "text/plain": [
       "0.0"
      ]
     },
     "execution_count": 13,
     "metadata": {},
     "output_type": "execute_result"
    }
   ],
   "source": [
    "# Somme des erreurs\n",
    "np.sum(dico_alistair['Repetitions'])"
   ]
  },
  {
   "cell_type": "code",
   "execution_count": 14,
   "metadata": {},
   "outputs": [
    {
     "ename": "NameError",
     "evalue": "name 'dico_kelly' is not defined",
     "output_type": "error",
     "traceback": [
      "\u001b[0;31m----------------------------------------------------------------------\u001b[0m",
      "\u001b[0;31mNameError\u001b[0m                            Traceback (most recent call last)",
      "\u001b[0;32m<ipython-input-14-bccc090e00c7>\u001b[0m in \u001b[0;36m<module>\u001b[0;34m\u001b[0m\n\u001b[1;32m      1\u001b[0m \u001b[0;31m# les soudfiles\u001b[0m\u001b[0;34m\u001b[0m\u001b[0;34m\u001b[0m\u001b[0;34m\u001b[0m\u001b[0m\n\u001b[0;32m----> 2\u001b[0;31m \u001b[0mprint\u001b[0m\u001b[0;34m(\u001b[0m\u001b[0mdico_kelly\u001b[0m\u001b[0;34m[\u001b[0m\u001b[0;34m'Sound File'\u001b[0m\u001b[0;34m]\u001b[0m\u001b[0;34m)\u001b[0m\u001b[0;34m\u001b[0m\u001b[0;34m\u001b[0m\u001b[0m\n\u001b[0m",
      "\u001b[0;31mNameError\u001b[0m: name 'dico_kelly' is not defined"
     ]
    }
   ],
   "source": [
    "# les soudfiles\n",
    "print(dico_kelly['Sound File'])"
   ]
  },
  {
   "cell_type": "code",
   "execution_count": null,
   "metadata": {},
   "outputs": [],
   "source": [
    "count_right(dico_alistair, key=\"Vowel\")"
   ]
  },
  {
   "cell_type": "code",
   "execution_count": null,
   "metadata": {},
   "outputs": [],
   "source": []
  }
 ],
 "metadata": {
  "kernelspec": {
   "display_name": "Python 3",
   "language": "python",
   "name": "python3"
  },
  "language_info": {
   "codemirror_mode": {
    "name": "ipython",
    "version": 3
   },
   "file_extension": ".py",
   "mimetype": "text/x-python",
   "name": "python",
   "nbconvert_exporter": "python",
   "pygments_lexer": "ipython3",
   "version": "3.8.5"
  }
 },
 "nbformat": 4,
 "nbformat_minor": 4
}
