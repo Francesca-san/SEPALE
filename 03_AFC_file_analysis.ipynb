{
 "cells": [
  {
   "cell_type": "markdown",
   "metadata": {},
   "source": [
    "# This is an analysis function whose purpose is to count different parameters in one AFC file for a single student"
   ]
  },
  {
   "cell_type": "markdown",
   "metadata": {},
   "source": [
    "## I. Importation of modules and functions:"
   ]
  },
  {
   "cell_type": "markdown",
   "metadata": {},
   "source": [
    "At this point, we import some python modules and functions that will help us analyse data."
   ]
  },
  {
   "cell_type": "code",
   "execution_count": null,
   "metadata": {},
   "outputs": [],
   "source": [
    "# We import python modules\n",
    "# numpy has a variety of mathematical function that are very useful!\n",
    "import numpy as np\n",
    "# Pyplot : very important tool if you want to create plots!\n",
    "import matplotlib.pyplot as plt\n",
    "\n",
    "# We import functions from the module \"utils\" we have created\n",
    "from utils import create_dico\n",
    "# Here we import functions from the module \"analysis\" which\n",
    "# among other things, count errors and correct answers\n",
    "from analysis import with_errors, count_errors, count_with_criteria, with_no_errors, count_right\n",
    "\n",
    "import os"
   ]
  },
  {
   "cell_type": "markdown",
   "metadata": {},
   "source": [
    "## II. Setting the path to the logfile we want to anayse"
   ]
  },
  {
   "cell_type": "markdown",
   "metadata": {},
   "source": [
    "After importing modules and functions, we determine a directory called *example_directory*. In this cell, the path of the file from my computer is used, you'll need to put the logfiles in a special directory, find the path to these logfiles and paste it in quotation marks. \n",
    "\n",
    "The __os.listdir__ function will simply make a list of the files you have in the directory."
   ]
  },
  {
   "cell_type": "code",
   "execution_count": null,
   "metadata": {},
   "outputs": [],
   "source": [
    "example_directory = \"log_files/L2/John Doe_Number/logFiles/logFiles/\"\n",
    "# The function os.listdir simply makes a list \n",
    "# of the files you have in the directory!\n",
    "os.listdir(example_directory)"
   ]
  },
  {
   "cell_type": "markdown",
   "metadata": {},
   "source": [
    "The __os.listdir__ function enables you to choose out of the list of files, the logfile that you want to analyse. After having determined the directory (the *example_directory*) you'll have to choose the path of the file you want to look more closely into."
   ]
  },
  {
   "cell_type": "markdown",
   "metadata": {},
   "source": [
    "We take the directory of a random student (John Doe), you can change it if you want. To do so, you'll have to download the files, change the current path by the path to another student's directory, and place it in quotation marks as we did before. \n",
    "The *example_file* is the *example_directory*, plus the path to the logfile you want to analyse. This logfile can be AFC, AX, or Oddity, although these functions only work for AFC files."
   ]
  },
  {
   "cell_type": "code",
   "execution_count": null,
   "metadata": {},
   "outputs": [],
   "source": [
    "example_directory = \"log_files/L2/John Doe_Number/logFiles/logFiles/\"\n",
    "# example_file = example_directory + \"path to the exercise\"\n",
    "example_file = example_directory + \"2AFC_av_Wed_May_19_15_14_03_2021.log\"\n"
   ]
  },
  {
   "cell_type": "markdown",
   "metadata": {},
   "source": [
    "## III. Creation of a dictionary and use of keys and criteria to analyse the answers"
   ]
  },
  {
   "cell_type": "markdown",
   "metadata": {},
   "source": [
    "We create a dictionary which will \"remember\", in a way, the different keys of the *example_file*."
   ]
  },
  {
   "cell_type": "code",
   "execution_count": null,
   "metadata": {},
   "outputs": [],
   "source": [
    "file_dico = create_dico(example_file)"
   ]
  },
  {
   "cell_type": "markdown",
   "metadata": {},
   "source": [
    "This cell enables you to know what the keys are in this *example_file*."
   ]
  },
  {
   "cell_type": "code",
   "execution_count": null,
   "metadata": {},
   "outputs": [],
   "source": [
    "print(file_dico.keys())"
   ]
  },
  {
   "cell_type": "markdown",
   "metadata": {},
   "source": [
    "This function counts the errors made by the student for a certain key. In this case we are counting the mistakes made for each vowel, but you can always change the key!"
   ]
  },
  {
   "cell_type": "code",
   "execution_count": null,
   "metadata": {},
   "outputs": [],
   "source": [
    "count_errors(file_dico, key=\"Vowel\", count_one=False)"
   ]
  },
  {
   "cell_type": "markdown",
   "metadata": {},
   "source": [
    "Here, with the same parameter, we count the number of correct answers by vowel."
   ]
  },
  {
   "cell_type": "code",
   "execution_count": null,
   "metadata": {},
   "outputs": [],
   "source": [
    "count_right(file_dico, key=\"Vowel\")"
   ]
  },
  {
   "cell_type": "markdown",
   "metadata": {},
   "source": [
    "As you can see here, you can always change the key to obtain different results. In this cell, using the same function __count_errors__, we count the number of mistakes, but here we count it according to different stimuli."
   ]
  },
  {
   "cell_type": "code",
   "execution_count": null,
   "metadata": {},
   "outputs": [],
   "source": [
    "count_errors(file_dico, key=\"Stimulus\", count_one=False)"
   ]
  },
  {
   "cell_type": "markdown",
   "metadata": {},
   "source": [
    "You can also sum the number of repetitions (that is the case here), or the number of mistakes with *NbErreurs*, or the response time with *Response Time*, using the same dictionary."
   ]
  },
  {
   "cell_type": "code",
   "execution_count": null,
   "metadata": {},
   "outputs": [],
   "source": [
    "np.sum(file_dico['Repetitions'])"
   ]
  },
  {
   "cell_type": "markdown",
   "metadata": {},
   "source": [
    "Finally, you can use the function __count_with_criteria__, if you want to count something other than mistakes or right answers. Here we count the number of repetitions by stimulus. You can also count the response time or any other numeric criterion according to different keys."
   ]
  },
  {
   "cell_type": "code",
   "execution_count": null,
   "metadata": {},
   "outputs": [],
   "source": [
    "count_with_criteria(file_dico, key=\"Stimulus\", criteria='Repetitions')"
   ]
  }
 ],
 "metadata": {
  "kernelspec": {
   "display_name": "Python 3",
   "language": "python",
   "name": "python3"
  },
  "language_info": {
   "codemirror_mode": {
    "name": "ipython",
    "version": 3
   },
   "file_extension": ".py",
   "mimetype": "text/x-python",
   "name": "python",
   "nbconvert_exporter": "python",
   "pygments_lexer": "ipython3",
   "version": "3.8.5"
  }
 },
 "nbformat": 4,
 "nbformat_minor": 4
}
