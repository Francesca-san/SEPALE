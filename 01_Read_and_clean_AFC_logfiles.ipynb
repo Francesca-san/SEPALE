{
 "cells": [
  {
   "cell_type": "markdown",
   "metadata": {},
   "source": [
    "# This is an analysis function whose purpose is to read and arrange the LogFiles"
   ]
  },
  {
   "cell_type": "markdown",
   "metadata": {},
   "source": [
    "## I. Importation of modules and functions from python scripts"
   ]
  },
  {
   "cell_type": "code",
   "execution_count": null,
   "metadata": {},
   "outputs": [],
   "source": [
    "# We import the module whose purpose is to dialogue with the OS\n",
    "import os\n",
    "\n",
    "# The function os.listdir makes a list of what is inside 'log_files'\n",
    "print(os.listdir(\"log_files\"))"
   ]
  },
  {
   "cell_type": "markdown",
   "metadata": {},
   "source": [
    "## II. Setting the path to the logfile we are to analyse"
   ]
  },
  {
   "cell_type": "markdown",
   "metadata": {},
   "source": [
    "Using the same function as before, we make a list of what is inside the student's file. This is only an example, and it uses the path to the files in MY computer, you'll have to put your own path if you want it to work!"
   ]
  },
  {
   "cell_type": "markdown",
   "metadata": {},
   "source": [
    "We set the example_directory, which is the directory that contains all the logfiles we want to analyse."
   ]
  },
  {
   "cell_type": "code",
   "execution_count": null,
   "metadata": {},
   "outputs": [],
   "source": [
    "example_directory = \"log_files/L1/Sarah Moreira_1365881_assignsubmission_file_/logFiles (Sarah Moreira)/logFiles (Sarah Moreira)/\""
   ]
  },
  {
   "cell_type": "code",
   "execution_count": null,
   "metadata": {},
   "outputs": [],
   "source": [
    "os.listdir(example_directory)"
   ]
  },
  {
   "cell_type": "markdown",
   "metadata": {},
   "source": [
    "As we can only analyse AFC files with the following functions, we set the path file_ex and file_ex2 as being example_directory + the path to a AFC file (2AFC/5AFC)"
   ]
  },
  {
   "cell_type": "code",
   "execution_count": null,
   "metadata": {},
   "outputs": [],
   "source": [
    "file_ex = example_directory + \"2AFC_a_Wed_Feb_17_10_18_00_2021.log\"\n",
    "file_ex2 = example_directory + \"5AFC_1_Sat_Feb_27_09_53_53_2021.log\""
   ]
  },
  {
   "cell_type": "markdown",
   "metadata": {},
   "source": [
    "## III. Opening and reading the files"
   ]
  },
  {
   "cell_type": "markdown",
   "metadata": {},
   "source": [
    "We use the function __open__ to open the file and read it (\"r\"). Then we get the lines and close the file. \n",
    "The function __print__ in the middle is only here for aesthetic purposes, to make it easier to differenciate the treatment of file_ex and file_ex2."
   ]
  },
  {
   "cell_type": "code",
   "execution_count": null,
   "metadata": {},
   "outputs": [],
   "source": [
    "f = open(file_ex, 'r')\n",
    "lignes = f.readlines()\n",
    "f.close()\n",
    "print(file_ex)\n",
    "print(\" \")\n",
    "print(lignes)\n",
    "print(\"_______________________________________________________________________________________________\")\n",
    "print(\"\")\n",
    "\n",
    "f = open(file_ex2, 'r')\n",
    "lignes2 = f.readlines()\n",
    "f.close()\n",
    "print(file_ex2)\n",
    "print(\" \")\n",
    "print(lignes2)"
   ]
  },
  {
   "cell_type": "markdown",
   "metadata": {},
   "source": [
    "## IV. Cleaning the lines"
   ]
  },
  {
   "cell_type": "markdown",
   "metadata": {},
   "source": [
    "### 1. Getting rid of the tabulations and line breaks"
   ]
  },
  {
   "cell_type": "markdown",
   "metadata": {},
   "source": [
    "As you can see in the previous cell, there are \"\\t\" and \"\\n\" when we print the lines. \"\\t\" means that there is a space between two items, the \"\\n\" means that there is a line break. These should not be visible, so we want to delete them."
   ]
  },
  {
   "cell_type": "code",
   "execution_count": null,
   "metadata": {},
   "outputs": [],
   "source": [
    "for i in range(len(lignes)):\n",
    "    lignes[i] = lignes[i].replace(\"\\n\", \"\")\n",
    "print(file_ex)\n",
    "print(\" \")\n",
    "print(lignes)\n",
    "print(\"_______________________________________________________________________________________________\")\n",
    "print(\"\")\n",
    "for i in range(len(lignes2)):\n",
    "    lignes2[i] = lignes2[i].replace(\"\\n\", \"\")\n",
    "print(file_ex2)\n",
    "print(\" \")\n",
    "print(lignes2)\n"
   ]
  },
  {
   "cell_type": "markdown",
   "metadata": {},
   "source": [
    "Here we split the lines according to the tabulations \"\\t\"."
   ]
  },
  {
   "cell_type": "code",
   "execution_count": null,
   "metadata": {},
   "outputs": [],
   "source": [
    "attributs = []\n",
    "for l in lignes:\n",
    "    attributs.append(l.split('\\t'))\n",
    "    \n",
    "attributs2 = []\n",
    "for l in lignes2:\n",
    "    attributs2.append(l.split('\\t'))\n"
   ]
  },
  {
   "cell_type": "markdown",
   "metadata": {},
   "source": [
    "### 2. Combining the previous functions and creating a dictionary"
   ]
  },
  {
   "cell_type": "code",
   "execution_count": null,
   "metadata": {},
   "outputs": [],
   "source": [
    "import numpy as np\n",
    "\n",
    "def get_lines(path):\n",
    "    f = open(file_ex, 'r')\n",
    "    lignes = f.readlines()\n",
    "    f.close()\n",
    "    return lignes\n",
    "\n",
    "def create_dico(path):\n",
    "    lines = get_lines(path)\n",
    "    for i in range(len(lignes)):\n",
    "        lignes[i] = lignes[i].replace(\"\\n\", \"\")\n",
    "        \n",
    "    attributs = []\n",
    "    for l in lignes:\n",
    "        attributs.append(l.split('\\t'))\n",
    "    # We assign the first line (0) to the date    \n",
    "    date = attributs[0]\n",
    "    # The keys to the second (1)\n",
    "    keys = attributs[1]\n",
    "    # The statistics of the exercise to the penultimate line (-1)\n",
    "    stats_total = attributs[-1]\n",
    "    # The interesting data is in the middle\n",
    "    # from the third line (2) to the antepenultimate\n",
    "    data = attributs[2:-1]\n",
    "    for i in range(len(data)):\n",
    "        if len(data[i]) == 1:\n",
    "            del data[i]\n",
    "    # The numeric data is:\n",
    "    numeric = ['Response Time', 'NbErreurs', 'Repetitions']\n",
    "    dico = {}\n",
    "    for line in data:\n",
    "        for i, key in enumerate(keys):\n",
    "            if key not in dico.keys():\n",
    "                dico[key] = []\n",
    "            if key in numeric:\n",
    "                dico[key].append(float(line[i]))\n",
    "            else:\n",
    "                dico[key].append(line[i])\n",
    "    dico[\"date\"] = date\n",
    "    for key in dico.keys():\n",
    "        dico[key] = np.array(dico[key])\n",
    "    return dico\n",
    "    "
   ]
  },
  {
   "cell_type": "markdown",
   "metadata": {},
   "source": [
    "We can now display a dictionary for file_ex"
   ]
  },
  {
   "cell_type": "code",
   "execution_count": null,
   "metadata": {},
   "outputs": [],
   "source": [
    "create_dico(file_ex)"
   ]
  },
  {
   "cell_type": "markdown",
   "metadata": {},
   "source": [
    "We can do the same for file_ex2"
   ]
  },
  {
   "cell_type": "code",
   "execution_count": null,
   "metadata": {},
   "outputs": [],
   "source": [
    "create_dico(file_ex2)"
   ]
  },
  {
   "cell_type": "code",
   "execution_count": null,
   "metadata": {},
   "outputs": [],
   "source": []
  }
 ],
 "metadata": {
  "kernelspec": {
   "display_name": "Python 3",
   "language": "python",
   "name": "python3"
  },
  "language_info": {
   "codemirror_mode": {
    "name": "ipython",
    "version": 3
   },
   "file_extension": ".py",
   "mimetype": "text/x-python",
   "name": "python",
   "nbconvert_exporter": "python",
   "pygments_lexer": "ipython3",
   "version": "3.8.5"
  }
 },
 "nbformat": 4,
 "nbformat_minor": 4
}
