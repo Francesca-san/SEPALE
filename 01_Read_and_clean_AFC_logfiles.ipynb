{
 "cells": [
  {
   "cell_type": "markdown",
   "metadata": {},
   "source": [
    "# This is an analysis function whose purpose is to read and arrange the LogFiles"
   ]
  },
  {
   "cell_type": "markdown",
   "metadata": {},
   "source": [
    "## I. Importation of modules and functions from python scripts"
   ]
  },
  {
   "cell_type": "code",
   "execution_count": 1,
   "metadata": {
    "scrolled": true
   },
   "outputs": [
    {
     "name": "stdout",
     "output_type": "stream",
     "text": [
      "['L2', 'L3', 'L1']\n"
     ]
    }
   ],
   "source": [
    "# We import the module whose purpose is to dialogue with the OS\n",
    "import os\n",
    "\n",
    "# The function os.listdir makes a list of what is inside 'log_files'\n",
    "print(os.listdir(\"log_files\"))"
   ]
  },
  {
   "cell_type": "markdown",
   "metadata": {},
   "source": [
    "## II. Setting the path to the logfile we are to analyse"
   ]
  },
  {
   "cell_type": "markdown",
   "metadata": {},
   "source": [
    "Using the same function as before, we make a list of what is inside the student's file. This is only an example, and it uses the path to the files in MY computer, you'll have to put your own path if you want it to work!"
   ]
  },
  {
   "cell_type": "markdown",
   "metadata": {},
   "source": [
    "We set the example_directory, which is the directory that contains all the logfiles we want to analyse."
   ]
  },
  {
   "cell_type": "code",
   "execution_count": 4,
   "metadata": {},
   "outputs": [],
   "source": [
    "example_directory = \"log_files/L1/Sarah Moreira_1365881_assignsubmission_file_/logFiles (Sarah Moreira)/logFiles (Sarah Moreira)/\""
   ]
  },
  {
   "cell_type": "code",
   "execution_count": 6,
   "metadata": {},
   "outputs": [
    {
     "data": {
      "text/plain": [
       "['2AFC_a_Wed_Feb_17_10_18_00_2021.log',\n",
       " 'ListeOddity_1_00.txt',\n",
       " '2AFC_av_Wed_Feb_17_10_27_50_2021.log',\n",
       " '5AFC_1_Sat_Feb_27_09_53_53_2021.log',\n",
       " 'AX_i_Wed_Feb_03_16_51_44_2021.log',\n",
       " 'ListeOddity_2_00.txt',\n",
       " 'AX_a_Wed_Feb_17_10_30_39_2021.log',\n",
       " '2AFC_i_Wed_Feb_17_10_25_03_2021.log',\n",
       " 'AX_av_Wed_Feb_17_10_34_03_2021.log',\n",
       " '5AFC_2_Sat_Feb_27_10_14_35_2021.log']"
      ]
     },
     "execution_count": 6,
     "metadata": {},
     "output_type": "execute_result"
    }
   ],
   "source": [
    "os.listdir(example_directory)"
   ]
  },
  {
   "cell_type": "markdown",
   "metadata": {},
   "source": [
    "As we can only analyse AFC files with the following functions, we set the path file_ex and file_ex2 as being example_directory + the path to a AFC file (2AFC/5AFC)"
   ]
  },
  {
   "cell_type": "code",
   "execution_count": 7,
   "metadata": {},
   "outputs": [],
   "source": [
    "file_ex = example_directory + \"2AFC_a_Wed_Feb_17_10_18_00_2021.log\"\n",
    "file_ex2 = example_directory + \"5AFC_1_Sat_Feb_27_09_53_53_2021.log\""
   ]
  },
  {
   "cell_type": "markdown",
   "metadata": {},
   "source": [
    "## III. Opening and reading the files"
   ]
  },
  {
   "cell_type": "markdown",
   "metadata": {},
   "source": [
    "We use the function \"open\" to open the file and read it (\"r\"). Then we get the lines and close the file. \n",
    "The function \"print\" in the middle is only here for aesthetic purposes, to make it easier to differenciate the treatment of file_ex and file_ex2."
   ]
  },
  {
   "cell_type": "code",
   "execution_count": 10,
   "metadata": {
    "scrolled": true
   },
   "outputs": [
    {
     "name": "stdout",
     "output_type": "stream",
     "text": [
      "log_files/L1/Sarah Moreira_1365881_assignsubmission_file_/logFiles (Sarah Moreira)/logFiles (Sarah Moreira)/2AFC_a_Wed_Feb_17_10_18_00_2021.log\n",
      " \n",
      "['#Wed Feb 17 10:18:00 2021#Liste2AFC_a.txt#00\\n', 'Sound File\\tStimulus\\tVowel\\tResponse Time\\tNbErreurs\\tRepetitions\\n', 'v_luck_F07\\tluck\\tv\\t5.365800857543945\\t0\\t0\\n', 'a_lack_F09\\tlack\\ta\\t2.501721143722534\\t0\\t0\\n', 'a_pat_F04\\tpat\\ta\\t2.811767101287842\\t0\\t0\\n', 'v_luck_F06\\tluck\\tv\\t1.4804339408874512\\t0\\t0\\n', 'v_bun_F04\\tbun\\tv\\t1.3569588661193848\\t1\\t0\\n', 'v_buck_H09\\tbuck\\tv\\t2.28981876373291\\t0\\t0\\n', 'a_cap_F04\\tcap\\ta\\t2.169672966003418\\t0\\t0\\n', 'a_cad_H05\\tcad\\ta\\t2.372339963912964\\t0\\t0\\n', 'v_cud_H08\\tcud\\tv\\t1.7582948207855225\\t0\\t0\\n', 'a_cad_H07\\tcad\\ta\\t3.0793161392211914\\t0\\t0\\n', 'v_cud_F09\\tcud\\tv\\t1.7588729858398438\\t0\\t0\\n', 'v_mutt_F05\\tmutt\\tv\\t1.0675060749053955\\t1\\t0\\n', 'a_pat_H06\\tpat\\ta\\t2.0818591117858887\\t0\\t0\\n', 'v_cup_F06\\tcup\\tv\\t2.5864648818969727\\t0\\t0\\n', 'a_cad_F08\\tcad\\ta\\t1.7947261333465576\\t1\\t0\\n', 'a_back_F05\\tback\\ta\\t2.135380983352661\\t0\\t0\\n', 'a_ban_H06\\tban\\ta\\t2.5553719997406006\\t0\\t0\\n', 'v_tut_F07\\ttut\\tv\\t4.931897163391113\\t0\\t0\\n', 'a_lack_H06\\tlack\\ta\\t2.331017017364502\\t0\\t0\\n', 'a_cad_F06\\tcad\\ta\\t1.9135942459106445\\t0\\t0\\n', 'v_putt_H08\\tputt\\tv\\t0.8947231769561768\\t1\\t0\\n', 'a_back_H09\\tback\\ta\\t1.9658801555633545\\t0\\t0\\n', 'v_cup_H06\\tcup\\tv\\t2.672147274017334\\t0\\t0\\n', 'v_bun_F08\\tbun\\tv\\t1.6274070739746094\\t0\\t0\\n', 'v_luck_F04\\tluck\\tv\\t1.386894941329956\\t0\\t0\\n', 'a_mat_H04\\tmat\\ta\\t3.580146074295044\\t0\\t0\\n', 'v_tut_H05\\ttut\\tv\\t1.403655767440796\\t0\\t0\\n', 'v_cup_H05\\tcup\\tv\\t1.605539083480835\\t0\\t0\\n', 'a_pack_F08\\tpack\\ta\\t4.746938943862915\\t0\\t0\\n', 'a_lack_H09\\tlack\\ta\\t1.6282169818878174\\t1\\t0\\n', '\\n', '#TotalErreurs#5TempsTotal#2min 23sec\\n']\n",
      "_______________________________________________________________________________________________\n",
      "\n",
      "log_files/L1/Sarah Moreira_1365881_assignsubmission_file_/logFiles (Sarah Moreira)/logFiles (Sarah Moreira)/5AFC_1_Sat_Feb_27_09_53_53_2021.log\n",
      " \n",
      "['Sat Feb 27 09:53:53 2021\\n', 'Sound File\\tStimulus\\tVowel\\tFirstResponse\\tResponse Time\\tNbErreurs\\tRepetitions\\n', 'v_buck_H07\\tbuck\\tv\\tv\\t15.531722068786621\\t0\\t1\\n', 'i_bik_H04\\tbik\\ti\\ti\\t5.960229873657227\\t0\\t0\\n', 'a_cap_F04\\tcap\\ta\\tv\\t1.8852636814117432\\t1\\t0\\n', 'a_lack_F08\\tlack\\ta\\ta\\t5.683262348175049\\t0\\t0\\n', 'i_min_H07\\tmin\\ti\\ti\\t15.82234001159668\\t0\\t0\\n', 'A_mart_H06\\tmart\\tA\\tv\\t1.5171620845794678\\t1\\t0\\n', 'A_bark_F08\\tbark\\tA\\tv\\t1.065018892288208\\t1\\t2\\n', 'a_cap_H04\\tcap\\ta\\tA\\t0.9084601402282715\\t2\\t1\\n', 'I_bean_F06\\tbean\\tI\\tI\\t5.9344398975372314\\t0\\t0\\n', 'I_cheap_H08\\tcheap\\tI\\tI\\t9.052032947540283\\t0\\t0\\n', 'A_mart_H05\\tmart\\tA\\tv\\t6.733750820159912\\t1\\t0\\n', 'a_mat_H07\\tmat\\ta\\tv\\t1.9123477935791016\\t1\\t0\\n', 'i_min_F07\\tmin\\ti\\ti\\t11.035653114318848\\t0\\t0\\n', 'i_bik_F07\\tbik\\ti\\ti\\t8.227327823638916\\t0\\t0\\n', 'a_cap_F09\\tcap\\ta\\ta\\t2.0038352012634277\\t0\\t1\\n', 'a_cap_H09\\tcap\\ta\\ta\\t3.3583991527557373\\t0\\t1\\n', 'i_lick_H07\\tlick\\ti\\ti\\t2.9545657634735107\\t0\\t0\\n', 'v_buck_F04\\tbuck\\tv\\tA\\t1.811141014099121\\t1\\t0\\n', 'a_mat_H09\\tmat\\ta\\tv\\t0.6826522350311279\\t1\\t0\\n', 'i_bik_H08\\tbik\\ti\\ti\\t5.579651117324829\\t0\\t1\\n', 'i_min_H04\\tmin\\ti\\ti\\t1.9691100120544434\\t0\\t0\\n', 'A_bark_F04\\tbark\\tA\\tA\\t3.643498182296753\\t0\\t0\\n', 'I_mean_H06\\tmean\\tI\\ti\\t0.25829601287841797\\t1\\t0\\n', 'a_cap_F08\\tcap\\ta\\ta\\t6.852068901062012\\t0\\t2\\n', 'i_bik_F04\\tbik\\ti\\ti\\t8.6096510887146\\t0\\t0\\n', 'a_mat_F05\\tmat\\ta\\ta\\t4.171884059906006\\t0\\t0\\n', 'i_chip_H09\\tchip\\ti\\ti\\t9.30425477027893\\t0\\t0\\n', 'i_bin_H09\\tbin\\ti\\tI\\t0.540830135345459\\t1\\t0\\n', 'a_cap_F06\\tcap\\ta\\tv\\t1.0520892143249512\\t1\\t1\\n', 'A_lark_H08\\tlark\\tA\\tv\\t0.8865070343017578\\t1\\t1\\n', '\\n', '#TotalErreurs#13#TempsTotal#6min 53sec\\n']\n"
     ]
    }
   ],
   "source": [
    "f = open(file_ex, 'r')\n",
    "lignes = f.readlines()\n",
    "f.close()\n",
    "print(file_ex)\n",
    "print(\" \")\n",
    "print(lignes)\n",
    "print(\"_______________________________________________________________________________________________\")\n",
    "print(\"\")\n",
    "\n",
    "f = open(file_ex2, 'r')\n",
    "lignes2 = f.readlines()\n",
    "f.close()\n",
    "print(file_ex2)\n",
    "print(\" \")\n",
    "print(lignes2)"
   ]
  },
  {
   "cell_type": "markdown",
   "metadata": {},
   "source": [
    "## IV. Cleaning the lines"
   ]
  },
  {
   "cell_type": "markdown",
   "metadata": {},
   "source": [
    "### 1. Getting rid of the tabulations and line breaks"
   ]
  },
  {
   "cell_type": "markdown",
   "metadata": {},
   "source": [
    "As you can see in the previous cell, there are \"\\t\" and \"\\n\" when we print the lines. \"\\t\" means that there is a space between two items, the \"\\n\" means that there is a line break. These should not be visible, so we want to delete them."
   ]
  },
  {
   "cell_type": "code",
   "execution_count": 12,
   "metadata": {
    "scrolled": true
   },
   "outputs": [
    {
     "name": "stdout",
     "output_type": "stream",
     "text": [
      "log_files/L1/Sarah Moreira_1365881_assignsubmission_file_/logFiles (Sarah Moreira)/logFiles (Sarah Moreira)/2AFC_a_Wed_Feb_17_10_18_00_2021.log\n",
      " \n",
      "['#Wed Feb 17 10:18:00 2021#Liste2AFC_a.txt#00', 'Sound File\\tStimulus\\tVowel\\tResponse Time\\tNbErreurs\\tRepetitions', 'v_luck_F07\\tluck\\tv\\t5.365800857543945\\t0\\t0', 'a_lack_F09\\tlack\\ta\\t2.501721143722534\\t0\\t0', 'a_pat_F04\\tpat\\ta\\t2.811767101287842\\t0\\t0', 'v_luck_F06\\tluck\\tv\\t1.4804339408874512\\t0\\t0', 'v_bun_F04\\tbun\\tv\\t1.3569588661193848\\t1\\t0', 'v_buck_H09\\tbuck\\tv\\t2.28981876373291\\t0\\t0', 'a_cap_F04\\tcap\\ta\\t2.169672966003418\\t0\\t0', 'a_cad_H05\\tcad\\ta\\t2.372339963912964\\t0\\t0', 'v_cud_H08\\tcud\\tv\\t1.7582948207855225\\t0\\t0', 'a_cad_H07\\tcad\\ta\\t3.0793161392211914\\t0\\t0', 'v_cud_F09\\tcud\\tv\\t1.7588729858398438\\t0\\t0', 'v_mutt_F05\\tmutt\\tv\\t1.0675060749053955\\t1\\t0', 'a_pat_H06\\tpat\\ta\\t2.0818591117858887\\t0\\t0', 'v_cup_F06\\tcup\\tv\\t2.5864648818969727\\t0\\t0', 'a_cad_F08\\tcad\\ta\\t1.7947261333465576\\t1\\t0', 'a_back_F05\\tback\\ta\\t2.135380983352661\\t0\\t0', 'a_ban_H06\\tban\\ta\\t2.5553719997406006\\t0\\t0', 'v_tut_F07\\ttut\\tv\\t4.931897163391113\\t0\\t0', 'a_lack_H06\\tlack\\ta\\t2.331017017364502\\t0\\t0', 'a_cad_F06\\tcad\\ta\\t1.9135942459106445\\t0\\t0', 'v_putt_H08\\tputt\\tv\\t0.8947231769561768\\t1\\t0', 'a_back_H09\\tback\\ta\\t1.9658801555633545\\t0\\t0', 'v_cup_H06\\tcup\\tv\\t2.672147274017334\\t0\\t0', 'v_bun_F08\\tbun\\tv\\t1.6274070739746094\\t0\\t0', 'v_luck_F04\\tluck\\tv\\t1.386894941329956\\t0\\t0', 'a_mat_H04\\tmat\\ta\\t3.580146074295044\\t0\\t0', 'v_tut_H05\\ttut\\tv\\t1.403655767440796\\t0\\t0', 'v_cup_H05\\tcup\\tv\\t1.605539083480835\\t0\\t0', 'a_pack_F08\\tpack\\ta\\t4.746938943862915\\t0\\t0', 'a_lack_H09\\tlack\\ta\\t1.6282169818878174\\t1\\t0', '', '#TotalErreurs#5TempsTotal#2min 23sec']\n",
      "_______________________________________________________________________________________________\n",
      "\n",
      "log_files/L1/Sarah Moreira_1365881_assignsubmission_file_/logFiles (Sarah Moreira)/logFiles (Sarah Moreira)/5AFC_1_Sat_Feb_27_09_53_53_2021.log\n",
      " \n",
      "['Sat Feb 27 09:53:53 2021', 'Sound File\\tStimulus\\tVowel\\tFirstResponse\\tResponse Time\\tNbErreurs\\tRepetitions', 'v_buck_H07\\tbuck\\tv\\tv\\t15.531722068786621\\t0\\t1', 'i_bik_H04\\tbik\\ti\\ti\\t5.960229873657227\\t0\\t0', 'a_cap_F04\\tcap\\ta\\tv\\t1.8852636814117432\\t1\\t0', 'a_lack_F08\\tlack\\ta\\ta\\t5.683262348175049\\t0\\t0', 'i_min_H07\\tmin\\ti\\ti\\t15.82234001159668\\t0\\t0', 'A_mart_H06\\tmart\\tA\\tv\\t1.5171620845794678\\t1\\t0', 'A_bark_F08\\tbark\\tA\\tv\\t1.065018892288208\\t1\\t2', 'a_cap_H04\\tcap\\ta\\tA\\t0.9084601402282715\\t2\\t1', 'I_bean_F06\\tbean\\tI\\tI\\t5.9344398975372314\\t0\\t0', 'I_cheap_H08\\tcheap\\tI\\tI\\t9.052032947540283\\t0\\t0', 'A_mart_H05\\tmart\\tA\\tv\\t6.733750820159912\\t1\\t0', 'a_mat_H07\\tmat\\ta\\tv\\t1.9123477935791016\\t1\\t0', 'i_min_F07\\tmin\\ti\\ti\\t11.035653114318848\\t0\\t0', 'i_bik_F07\\tbik\\ti\\ti\\t8.227327823638916\\t0\\t0', 'a_cap_F09\\tcap\\ta\\ta\\t2.0038352012634277\\t0\\t1', 'a_cap_H09\\tcap\\ta\\ta\\t3.3583991527557373\\t0\\t1', 'i_lick_H07\\tlick\\ti\\ti\\t2.9545657634735107\\t0\\t0', 'v_buck_F04\\tbuck\\tv\\tA\\t1.811141014099121\\t1\\t0', 'a_mat_H09\\tmat\\ta\\tv\\t0.6826522350311279\\t1\\t0', 'i_bik_H08\\tbik\\ti\\ti\\t5.579651117324829\\t0\\t1', 'i_min_H04\\tmin\\ti\\ti\\t1.9691100120544434\\t0\\t0', 'A_bark_F04\\tbark\\tA\\tA\\t3.643498182296753\\t0\\t0', 'I_mean_H06\\tmean\\tI\\ti\\t0.25829601287841797\\t1\\t0', 'a_cap_F08\\tcap\\ta\\ta\\t6.852068901062012\\t0\\t2', 'i_bik_F04\\tbik\\ti\\ti\\t8.6096510887146\\t0\\t0', 'a_mat_F05\\tmat\\ta\\ta\\t4.171884059906006\\t0\\t0', 'i_chip_H09\\tchip\\ti\\ti\\t9.30425477027893\\t0\\t0', 'i_bin_H09\\tbin\\ti\\tI\\t0.540830135345459\\t1\\t0', 'a_cap_F06\\tcap\\ta\\tv\\t1.0520892143249512\\t1\\t1', 'A_lark_H08\\tlark\\tA\\tv\\t0.8865070343017578\\t1\\t1', '', '#TotalErreurs#13#TempsTotal#6min 53sec']\n"
     ]
    }
   ],
   "source": [
    "for i in range(len(lignes)):\n",
    "    lignes[i] = lignes[i].replace(\"\\n\", \"\")\n",
    "print(file_ex)\n",
    "print(\" \")\n",
    "print(lignes)\n",
    "print(\"_______________________________________________________________________________________________\")\n",
    "print(\"\")\n",
    "for i in range(len(lignes2)):\n",
    "    lignes2[i] = lignes2[i].replace(\"\\n\", \"\")\n",
    "print(file_ex2)\n",
    "print(\" \")\n",
    "print(lignes2)\n"
   ]
  },
  {
   "cell_type": "markdown",
   "metadata": {},
   "source": [
    "Here we split the lines according to the tabulations \"\\t\"."
   ]
  },
  {
   "cell_type": "code",
   "execution_count": 23,
   "metadata": {},
   "outputs": [],
   "source": [
    "attributs = []\n",
    "for l in lignes:\n",
    "    attributs.append(l.split('\\t'))\n",
    "    \n",
    "attributs2 = []\n",
    "for l in lignes2:\n",
    "    attributs2.append(l.split('\\t'))\n"
   ]
  },
  {
   "cell_type": "markdown",
   "metadata": {},
   "source": [
    "### 2. Combining the previous functions and creating a dictionary"
   ]
  },
  {
   "cell_type": "code",
   "execution_count": 24,
   "metadata": {},
   "outputs": [],
   "source": [
    "import numpy as np\n",
    "\n",
    "def get_lines(path):\n",
    "    f = open(file_ex, 'r')\n",
    "    lignes = f.readlines()\n",
    "    f.close()\n",
    "    return lignes\n",
    "\n",
    "def create_dico(path):\n",
    "    lines = get_lines(path)\n",
    "    for i in range(len(lignes)):\n",
    "        lignes[i] = lignes[i].replace(\"\\n\", \"\")\n",
    "        \n",
    "    attributs = []\n",
    "    for l in lignes:\n",
    "        attributs.append(l.split('\\t'))\n",
    "    # We assign the first line (0) to the date    \n",
    "    date = attributs[0]\n",
    "    # The keys to the second (1)\n",
    "    keys = attributs[1]\n",
    "    # The statistics of the exercise to the penultimate line (-1)\n",
    "    stats_total = attributs[-1]\n",
    "    # The interesting data is in the middle\n",
    "    # from the third line (2) to the antepenultimate\n",
    "    data = attributs[2:-1]\n",
    "    for i in range(len(data)):\n",
    "        if len(data[i]) == 1:\n",
    "            del data[i]\n",
    "    # The numeric data is:\n",
    "    numeric = ['Response Time', 'NbErreurs', 'Repetitions']\n",
    "    dico = {}\n",
    "    for line in data:\n",
    "        for i, key in enumerate(keys):\n",
    "            if key not in dico.keys():\n",
    "                dico[key] = []\n",
    "            if key in numeric:\n",
    "                dico[key].append(float(line[i]))\n",
    "            else:\n",
    "                dico[key].append(line[i])\n",
    "    dico[\"date\"] = date\n",
    "    for key in dico.keys():\n",
    "        dico[key] = np.array(dico[key])\n",
    "    return dico\n",
    "    "
   ]
  },
  {
   "cell_type": "markdown",
   "metadata": {},
   "source": [
    "We can now display a dictionary for file_ex"
   ]
  },
  {
   "cell_type": "code",
   "execution_count": 25,
   "metadata": {
    "scrolled": true
   },
   "outputs": [
    {
     "data": {
      "text/plain": [
       "{'Sound File': array(['v_luck_F07', 'a_lack_F09', 'a_pat_F04', 'v_luck_F06', 'v_bun_F04',\n",
       "        'v_buck_H09', 'a_cap_F04', 'a_cad_H05', 'v_cud_H08', 'a_cad_H07',\n",
       "        'v_cud_F09', 'v_mutt_F05', 'a_pat_H06', 'v_cup_F06', 'a_cad_F08',\n",
       "        'a_back_F05', 'a_ban_H06', 'v_tut_F07', 'a_lack_H06', 'a_cad_F06',\n",
       "        'v_putt_H08', 'a_back_H09', 'v_cup_H06', 'v_bun_F08', 'v_luck_F04',\n",
       "        'a_mat_H04', 'v_tut_H05', 'v_cup_H05', 'a_pack_F08', 'a_lack_H09'],\n",
       "       dtype='<U10'),\n",
       " 'Stimulus': array(['luck', 'lack', 'pat', 'luck', 'bun', 'buck', 'cap', 'cad', 'cud',\n",
       "        'cad', 'cud', 'mutt', 'pat', 'cup', 'cad', 'back', 'ban', 'tut',\n",
       "        'lack', 'cad', 'putt', 'back', 'cup', 'bun', 'luck', 'mat', 'tut',\n",
       "        'cup', 'pack', 'lack'], dtype='<U4'),\n",
       " 'Vowel': array(['v', 'a', 'a', 'v', 'v', 'v', 'a', 'a', 'v', 'a', 'v', 'v', 'a',\n",
       "        'v', 'a', 'a', 'a', 'v', 'a', 'a', 'v', 'a', 'v', 'v', 'v', 'a',\n",
       "        'v', 'v', 'a', 'a'], dtype='<U1'),\n",
       " 'Response Time': array([5.36580086, 2.50172114, 2.8117671 , 1.48043394, 1.35695887,\n",
       "        2.28981876, 2.16967297, 2.37233996, 1.75829482, 3.07931614,\n",
       "        1.75887299, 1.06750607, 2.08185911, 2.58646488, 1.79472613,\n",
       "        2.13538098, 2.555372  , 4.93189716, 2.33101702, 1.91359425,\n",
       "        0.89472318, 1.96588016, 2.67214727, 1.62740707, 1.38689494,\n",
       "        3.58014607, 1.40365577, 1.60553908, 4.74693894, 1.62821698]),\n",
       " 'NbErreurs': array([0., 0., 0., 0., 1., 0., 0., 0., 0., 0., 0., 1., 0., 0., 1., 0., 0.,\n",
       "        0., 0., 0., 1., 0., 0., 0., 0., 0., 0., 0., 0., 1.]),\n",
       " 'Repetitions': array([0., 0., 0., 0., 0., 0., 0., 0., 0., 0., 0., 0., 0., 0., 0., 0., 0.,\n",
       "        0., 0., 0., 0., 0., 0., 0., 0., 0., 0., 0., 0., 0.]),\n",
       " 'date': array(['#Wed Feb 17 10:18:00 2021#Liste2AFC_a.txt#00'], dtype='<U44')}"
      ]
     },
     "execution_count": 25,
     "metadata": {},
     "output_type": "execute_result"
    }
   ],
   "source": [
    "create_dico(file_ex)"
   ]
  },
  {
   "cell_type": "markdown",
   "metadata": {},
   "source": [
    "We can do the same for file_ex2"
   ]
  },
  {
   "cell_type": "code",
   "execution_count": 26,
   "metadata": {},
   "outputs": [
    {
     "data": {
      "text/plain": [
       "{'Sound File': array(['v_luck_F07', 'a_lack_F09', 'a_pat_F04', 'v_luck_F06', 'v_bun_F04',\n",
       "        'v_buck_H09', 'a_cap_F04', 'a_cad_H05', 'v_cud_H08', 'a_cad_H07',\n",
       "        'v_cud_F09', 'v_mutt_F05', 'a_pat_H06', 'v_cup_F06', 'a_cad_F08',\n",
       "        'a_back_F05', 'a_ban_H06', 'v_tut_F07', 'a_lack_H06', 'a_cad_F06',\n",
       "        'v_putt_H08', 'a_back_H09', 'v_cup_H06', 'v_bun_F08', 'v_luck_F04',\n",
       "        'a_mat_H04', 'v_tut_H05', 'v_cup_H05', 'a_pack_F08', 'a_lack_H09'],\n",
       "       dtype='<U10'),\n",
       " 'Stimulus': array(['luck', 'lack', 'pat', 'luck', 'bun', 'buck', 'cap', 'cad', 'cud',\n",
       "        'cad', 'cud', 'mutt', 'pat', 'cup', 'cad', 'back', 'ban', 'tut',\n",
       "        'lack', 'cad', 'putt', 'back', 'cup', 'bun', 'luck', 'mat', 'tut',\n",
       "        'cup', 'pack', 'lack'], dtype='<U4'),\n",
       " 'Vowel': array(['v', 'a', 'a', 'v', 'v', 'v', 'a', 'a', 'v', 'a', 'v', 'v', 'a',\n",
       "        'v', 'a', 'a', 'a', 'v', 'a', 'a', 'v', 'a', 'v', 'v', 'v', 'a',\n",
       "        'v', 'v', 'a', 'a'], dtype='<U1'),\n",
       " 'Response Time': array([5.36580086, 2.50172114, 2.8117671 , 1.48043394, 1.35695887,\n",
       "        2.28981876, 2.16967297, 2.37233996, 1.75829482, 3.07931614,\n",
       "        1.75887299, 1.06750607, 2.08185911, 2.58646488, 1.79472613,\n",
       "        2.13538098, 2.555372  , 4.93189716, 2.33101702, 1.91359425,\n",
       "        0.89472318, 1.96588016, 2.67214727, 1.62740707, 1.38689494,\n",
       "        3.58014607, 1.40365577, 1.60553908, 4.74693894, 1.62821698]),\n",
       " 'NbErreurs': array([0., 0., 0., 0., 1., 0., 0., 0., 0., 0., 0., 1., 0., 0., 1., 0., 0.,\n",
       "        0., 0., 0., 1., 0., 0., 0., 0., 0., 0., 0., 0., 1.]),\n",
       " 'Repetitions': array([0., 0., 0., 0., 0., 0., 0., 0., 0., 0., 0., 0., 0., 0., 0., 0., 0.,\n",
       "        0., 0., 0., 0., 0., 0., 0., 0., 0., 0., 0., 0., 0.]),\n",
       " 'date': array(['#Wed Feb 17 10:18:00 2021#Liste2AFC_a.txt#00'], dtype='<U44')}"
      ]
     },
     "execution_count": 26,
     "metadata": {},
     "output_type": "execute_result"
    }
   ],
   "source": [
    "create_dico(file_ex2)"
   ]
  },
  {
   "cell_type": "code",
   "execution_count": null,
   "metadata": {},
   "outputs": [],
   "source": []
  }
 ],
 "metadata": {
  "kernelspec": {
   "display_name": "Python 3",
   "language": "python",
   "name": "python3"
  },
  "language_info": {
   "codemirror_mode": {
    "name": "ipython",
    "version": 3
   },
   "file_extension": ".py",
   "mimetype": "text/x-python",
   "name": "python",
   "nbconvert_exporter": "python",
   "pygments_lexer": "ipython3",
   "version": "3.8.5"
  }
 },
 "nbformat": 4,
 "nbformat_minor": 4
}
