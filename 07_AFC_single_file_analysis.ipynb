{
 "cells": [
  {
   "cell_type": "code",
   "execution_count": 1,
   "metadata": {},
   "outputs": [],
   "source": [
    "# On importe des petits modules python bien sympa\n",
    "# numpy : fonctions mathématiques vraiment convenables !\n",
    "import numpy as np\n",
    "# Pyplot : super ! ça va nous aider à afficher de belles courbes des familles !\n",
    "import matplotlib.pyplot as plt\n",
    "\n",
    "# On importe les fonctions faites maison de la mort qui tue\n",
    "# depuis le module utils (fichier utils.py) pour gérer les fichiers et tout\n",
    "from utils import create_dico\n",
    "\n",
    "# Là on rentre dans le dur ! on importe les fonctions d'analyse qui font briller en société !\n",
    "from analysis import *\n",
    "\n",
    "    "
   ]
  },
  {
   "cell_type": "code",
   "execution_count": 2,
   "metadata": {},
   "outputs": [
    {
     "data": {
      "text/plain": [
       "['AX_a_Thu_Mar_11_18_06_13_2021.log',\n",
       " '2AFC_i_Thu_Mar_18_17_22_34_2021.log',\n",
       " '2AFC_a_Thu_Mar_11_18_13_17_2021.log',\n",
       " '5AFC_1_Sat_Mar_20_21_10_31_2021.log',\n",
       " 'AX_i_Sat_Feb_20_18_51_07_2021.log',\n",
       " 'AX_i_Thu_Mar_11_18_00_08_2021.log',\n",
       " '2AFC_a_Sun_Mar_28_15_00_32_2021.log',\n",
       " 'AX_i_Tue_Apr_06_18_39_38_2021.log',\n",
       " '2AFC_av_Thu_Mar_11_18_10_41_2021.log',\n",
       " '2AFC_a_Tue_Apr_06_18_42_06_2021.log',\n",
       " '2AFC_i_Thu_Apr_29_18_57_34_2021.log',\n",
       " '2AFC_a_Thu_Apr_29_18_53_37_2021.log',\n",
       " '5AFC_1_Thu_Mar_11_18_18_46_2021.log',\n",
       " '5AFC_2_Sat_Apr_10_12_45_13_2021.log',\n",
       " 'AX_av_Tue_Apr_06_18_35_37_2021.log',\n",
       " 'AX_av_Thu_Mar_18_17_09_34_2021.log',\n",
       " '5AFC_2_Sat_Mar_13_17_46_12_2021.log',\n",
       " '5AFC_2_Sat_Apr_17_20_49_15_2021.log',\n",
       " '5AFC_1_Sun_Mar_28_15_06_29_2021.log',\n",
       " '5AFC_1_Sun_Mar_07_17_37_44_2021.log',\n",
       " '5AFC_1_Sat_Mar_13_17_43_23_2021.log',\n",
       " '2AFC_i_Tue_Apr_06_18_45_51_2021.log',\n",
       " 'AX_a_Sun_Mar_07_17_29_09_2021.log',\n",
       " '5AFC_2_Sat_Mar_20_21_12_55_2021.log',\n",
       " '2AFC_i_Sun_Mar_28_15_04_00_2021.log',\n",
       " 'ListeOddity_1_00.txt',\n",
       " '5AFC_2_Sun_Mar_28_15_08_40_2021.log',\n",
       " 'AX_av_Thu_Mar_11_18_03_15_2021.log',\n",
       " '5AFC_1_Sat_Apr_17_20_47_22_2021.log',\n",
       " 'AX_av_Sun_Mar_07_17_44_23_2021.log',\n",
       " 'AX_av_Wed_Apr_21_20_27_13_2021.log',\n",
       " 'AX_av_Wed_Apr_14_18_42_26_2021.log',\n",
       " '2AFC_a_Sat_Feb_20_18_56_39_2021.log',\n",
       " '2AFC_av_Wed_Apr_14_18_49_29_2021.log',\n",
       " '2AFC_i_Wed_Apr_21_20_36_54_2021.log',\n",
       " '5AFC_1_Sat_Feb_20_18_59_16_2021.log',\n",
       " '5AFC_2_Sun_Mar_07_17_51_10_2021.log',\n",
       " 'ListeOddity_2_00.txt',\n",
       " '2AFC_a_Thu_Mar_18_17_15_16_2021.log',\n",
       " 'AX_i_Thu_Mar_18_17_12_33_2021.log',\n",
       " 'AX_a_Wed_Apr_21_20_30_11_2021.log',\n",
       " 'AX_a_Wed_Apr_14_18_39_39_2021.log',\n",
       " 'AX_i_Sun_Mar_28_14_58_01_2021.log',\n",
       " 'AX_a_Tue_Apr_06_18_32_58_2021.log',\n",
       " '5AFC_1_Sat_Apr_24_18_31_44_2021.log',\n",
       " 'AX_a_Sun_Mar_28_14_53_20_2021.log',\n",
       " 'AX_av_Sun_Mar_28_14_55_28_2021.log',\n",
       " '2AFC_a_Thu_Mar_11_18_08_44_2021.log',\n",
       " '2AFC_av_Sun_Mar_07_17_35_10_2021.log',\n",
       " 'AX_a_Thu_Mar_18_17_06_02_2021.log',\n",
       " 'AX_i_Thu_Apr_29_18_45_43_2021.log',\n",
       " '5AFC_1_Sat_Apr_10_12_43_02_2021.log',\n",
       " '2AFC_a_Wed_Apr_21_20_33_21_2021.log',\n",
       " '2AFC_a_Wed_Apr_14_18_47_51_2021.log',\n",
       " '2AFC_av_Thu_Apr_29_18_55_17_2021.log',\n",
       " 'AX_i_Wed_Apr_21_20_24_41_2021.log',\n",
       " 'AX_av_Thu_Apr_29_18_48_21_2021.log',\n",
       " '2AFC_av_Thu_Mar_18_17_16_57_2021.log',\n",
       " '5AFC_2_Sat_Apr_24_18_33_46_2021.log',\n",
       " '2AFC_av_Sun_Mar_07_17_48_56_2021.log',\n",
       " 'AX_a_Thu_Apr_29_18_50_50_2021.log',\n",
       " 'AX_i_Wed_Apr_14_18_44_59_2021.log',\n",
       " '2AFC_i_Wed_Apr_14_18_51_10_2021.log',\n",
       " '2AFC_av_Sun_Mar_28_15_02_09_2021.log',\n",
       " '2AFC_av_Tue_Apr_06_18_43_56_2021.log',\n",
       " '5AFC_2_Thu_Mar_11_18_21_14_2021.log',\n",
       " '2AFC_av_Wed_Apr_21_20_35_06_2021.log']"
      ]
     },
     "execution_count": 2,
     "metadata": {},
     "output_type": "execute_result"
    }
   ],
   "source": [
    "import os\n",
    "dossier_exemple = \"log_files/Cassandra Amaro Ribeiro_1365824_assignsubmission_file_/logFiles\"\n",
    "# Là je t'affiche les fichiers que tu pourras utiliser !\n",
    "os.listdir(dossier_exemple)"
   ]
  },
  {
   "cell_type": "code",
   "execution_count": 3,
   "metadata": {},
   "outputs": [],
   "source": [
    "# On prend le dossier de quelqu'un en exemple (tu peux le changer)\n",
    "dossier_exemple = \"log_files/Cassandra Amaro Ribeiro_1365824_assignsubmission_file_/logFiles\"\n",
    "#fichier_exemple = dossier_exemple + \"/5AFC_2_Sat_Jan_30_22_11_07_2021.log\"\n",
    "fichier_exemple = dossier_exemple + \"/5AFC_2_Sat_Apr_24_18_33_46_2021.log\"\n"
   ]
  },
  {
   "cell_type": "code",
   "execution_count": 7,
   "metadata": {},
   "outputs": [
    {
     "name": "stdout",
     "output_type": "stream",
     "text": [
      "dict_keys(['Sound File', 'Stimulus', 'Vowel', 'FirstResponse', 'Response Time', 'NbErreurs', 'Repetitions', 'date'])\n",
      "{'A': 2.0, 'a': 0, 'i': 2.0, 'I': 0, 'v': 3.0}\n",
      "{'A': 5, 'a': 7, 'i': 6, 'I': 5, 'v': 1}\n",
      "{'card': 1.0, 'ban': 0, 'sick': 1.0, 'pick': 0, 'peak': 0, 'did': 0, 'cat': 0, 'teak': 0, 'tut': 0, 'pack': 0, 'seek': 0, 'kip': 1.0, 'barn': 0, 'cart': 0, 'cad': 0, 'tart': 1.0, 'bun': 1.0, 'puck': 2.0, 'tick': 0}\n",
      "0.0\n",
      "{'card': 1.0, 'ban': 0, 'sick': 1.0, 'pick': 0, 'peak': 0, 'did': 0, 'cat': 0, 'teak': 0, 'tut': 0, 'pack': 0, 'seek': 0, 'kip': 1.0, 'barn': 0, 'cart': 0, 'cad': 0, 'tart': 1.0, 'bun': 1.0, 'puck': 2.0, 'tick': 0}\n",
      "47.29559254646301\n",
      "dict_keys(['Sound File', 'Stimulus', 'Vowel', 'FirstResponse', 'Response Time', 'NbErreurs', 'Repetitions', 'date'])\n",
      "key | errors | right\n",
      "--------------------\n",
      "i   |  2.0  | 6\n",
      "a   |  0  | 7\n",
      "A   |  2.0  | 5\n",
      "I   |  0  | 5\n",
      "v   |  3.0  | 1\n"
     ]
    }
   ],
   "source": [
    "dico_exo = create_dico(fichier_exemple)\n",
    "print(dico_exo.keys())\n",
    "print(count_errors(dico_exo, key=\"Vowel\", count_one=False))\n",
    "print(count_right(dico_exo, key=\"Vowel\"))\n",
    "print(count_errors(dico_exo, key=\"Stimulus\", count_one=False))\n",
    "print(np.sum(dico_exo['Repetitions']))\n",
    "print(count_with_criteria(dico_exo, key=\"Stimulus\", criteria='NbErreurs'))\n",
    "print(np.sum(dico_exo[\"Response Time\"]))\n",
    "\n",
    "dico_exo = create_dico(fichier_exemple)\n",
    "print(dico_exo.keys())\n",
    "err_vowels = count_errors(dico_exo, key=\"Vowel\", count_one=False)\n",
    "right_vowels = count_right(dico_exo, key=\"Vowel\")\n",
    "err_stimulus = count_errors(dico_exo, key=\"Stimulus\", count_one=False)\n",
    "sum_rep = np.sum(dico_exo['Repetitions'])\n",
    "rep_by_stimulus = count_with_criteria(dico_exo, key=\"Stimulus\", criteria='Repetitions')\n",
    "sum_time = np.sum(dico_exo[\"Response Time\"])\n",
    "\n",
    "vowel_keys = set(list(err_vowels.keys()) + list(right_vowels.keys()))\n",
    "print(\"key | errors | right\")\n",
    "print(\"--------------------\")\n",
    "for k in vowel_keys:\n",
    "    if k in err_vowels.keys():\n",
    "        error = err_vowels[k]\n",
    "    else:\n",
    "        error = 0\n",
    "    if k in right_vowels.keys():\n",
    "        right = right_vowels[k]\n",
    "    else:\n",
    "        right = 0\n",
    "    print(f\"{k}   |  {error}  | {right}\")\n",
    "        "
   ]
  },
  {
   "cell_type": "code",
   "execution_count": null,
   "metadata": {},
   "outputs": [],
   "source": []
  }
 ],
 "metadata": {
  "kernelspec": {
   "display_name": "Python 3",
   "language": "python",
   "name": "python3"
  },
  "language_info": {
   "codemirror_mode": {
    "name": "ipython",
    "version": 3
   },
   "file_extension": ".py",
   "mimetype": "text/x-python",
   "name": "python",
   "nbconvert_exporter": "python",
   "pygments_lexer": "ipython3",
   "version": "3.8.5"
  }
 },
 "nbformat": 4,
 "nbformat_minor": 4
}
