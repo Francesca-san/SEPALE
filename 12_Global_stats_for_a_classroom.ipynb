{
 "cells": [
  {
   "cell_type": "markdown",
   "metadata": {},
   "source": [
    "# Global statistics for a whole classroom"
   ]
  },
  {
   "cell_type": "markdown",
   "metadata": {},
   "source": [
    "In this notebook we tried to gather global statistics for a whole classroom."
   ]
  },
  {
   "cell_type": "markdown",
   "metadata": {},
   "source": [
    "## I. Importation of modules and functions from python scripts"
   ]
  },
  {
   "cell_type": "code",
   "execution_count": 1,
   "metadata": {},
   "outputs": [],
   "source": [
    "from exo import Exo, AFC2, AFC5\n",
    "from student import Student\n",
    "from classroom import Classroom\n",
    "from utils import average_dico"
   ]
  },
  {
   "cell_type": "markdown",
   "metadata": {},
   "source": [
    "## II. Setting a path..."
   ]
  },
  {
   "cell_type": "markdown",
   "metadata": {},
   "source": [
    "### 1. ... to different exercises"
   ]
  },
  {
   "cell_type": "code",
   "execution_count": 2,
   "metadata": {},
   "outputs": [],
   "source": [
    "exo1 = AFC2(\"log_files/L1/Cassandra Amaro Ribeiro_1365824_assignsubmission_file_/logFiles/logFiles/2AFC_i_Thu_Mar_18_17_22_34_2021.log\")\n",
    "exo2 = AFC5(\"log_files/L1/Cassandra Amaro Ribeiro_1365824_assignsubmission_file_/logFiles/logFiles/5AFC_1_Sat_Mar_20_21_10_31_2021.log\")\n",
    "exo3 = AFC2(\"log_files/L1/Cassandra Amaro Ribeiro_1365824_assignsubmission_file_/logFiles/logFiles/2AFC_a_Thu_Mar_11_18_13_17_2021.log\")"
   ]
  },
  {
   "cell_type": "markdown",
   "metadata": {},
   "source": [
    "### 2. ... to a specific student"
   ]
  },
  {
   "cell_type": "code",
   "execution_count": 3,
   "metadata": {},
   "outputs": [],
   "source": [
    "student = Student(\"log_files/L1/Sarah Moreira_1365881_assignsubmission_file_\")"
   ]
  },
  {
   "cell_type": "markdown",
   "metadata": {},
   "source": [
    "## III. Using functions to find results"
   ]
  },
  {
   "cell_type": "markdown",
   "metadata": {},
   "source": [
    "In the following cell we use the function criteria_by_key to count the sum of a defined criterion (here, response time), and the number of occurences of a key (here, vowel) for a specific student (here, Cassandra Amaro Ribeiro). Of course, you can change any attribute you want."
   ]
  },
  {
   "cell_type": "code",
   "execution_count": 4,
   "metadata": {},
   "outputs": [
    {
     "data": {
      "text/plain": [
       "{'v': [110.06173300743103, 42],\n",
       " 'i': [103.92088890075684, 27],\n",
       " 'a': [99.76160144805908, 37],\n",
       " 'A': [51.99925708770752, 18],\n",
       " 'I': [82.33307909965515, 26]}"
      ]
     },
     "execution_count": 4,
     "metadata": {},
     "output_type": "execute_result"
    }
   ],
   "source": [
    "student.criteria_by_key(\"Vowel\", \"Response Time\")"
   ]
  },
  {
   "cell_type": "markdown",
   "metadata": {},
   "source": [
    "Instead of counting by hand the number of files, and therefore the number of times a student has done the exercises, you can use the following cell which indicates the name of the student and the number of files they have. Here we have done it for the first-year students, but you can change it by indicating the path to the directory of a classroom (L1, L2, or L3)."
   ]
  },
  {
   "cell_type": "code",
   "execution_count": 5,
   "metadata": {},
   "outputs": [
    {
     "name": "stdout",
     "output_type": "stream",
     "text": [
      "Sarah Moreira (5 exercises)\n",
      "Enzo Mazni (5 exercises)\n",
      "Lauriane Lacour (10 exercises)\n",
      "Loan Tessier (18 exercises)\n",
      "Kelly Veng (5 exercises)\n",
      "Cassandra Amaro Ribeiro (41 exercises)\n",
      "Mathilde Chardon (19 exercises)\n",
      "Cylia Ben Lounis (5 exercises)\n",
      "Assma Salah (5 exercises)\n",
      "Emma Appere (33 exercises)\n",
      "Alistair Ziane (5 exercises)\n",
      "Clea Causse (80 exercises)\n",
      "Lisa Metais (0 exercises)\n",
      "Margot Couchard (5 exercises)\n",
      "Manele Boutiche (2 exercises)\n",
      "Aathavan Velan (2 exercises)\n",
      "Barbara Damide (21 exercises)\n",
      "Daphne Quenolle (5 exercises)\n",
      "Yanuka Balan (2 exercises)\n",
      "Lucille Bray (5 exercises)\n",
      "Lucas Vuillot (5 exercises)\n",
      "Perrine Zorlu (5 exercises)\n",
      "Eponine Cinnaman (5 exercises)\n",
      "Cléo Baumberger (5 exercises)\n",
      "Jesse Lema (8 exercises)\n",
      "Christine Kiem (1 exercises)\n",
      "Elise Xu (12 exercises)\n",
      "Cherine Ouasti (5 exercises)\n",
      "Rachel Lu Hsing (2 exercises)\n"
     ]
    }
   ],
   "source": [
    "L1 = Classroom(\"./log_files/L1/\")\n",
    "L1.print_names()"
   ]
  },
  {
   "cell_type": "markdown",
   "metadata": {},
   "source": [
    " "
   ]
  },
  {
   "cell_type": "markdown",
   "metadata": {},
   "source": [
    "As we said earlier, you can change the key and criterion to see the sum of a criterion (here, the number of mistakes), and the number of occurences of a key (here, stumulus)."
   ]
  },
  {
   "cell_type": "markdown",
   "metadata": {},
   "source": [
    "The function sorted() reorders the list in an ascending order (because reverse=False, if you say that reverse=True you'll get a descending order). From the results it can be said that the vowels that were the most problematic for the students were the long /a:/ and the strut vowel. We can try to confirm it by using the same method on the vowels."
   ]
  },
  {
   "cell_type": "code",
   "execution_count": 50,
   "metadata": {
    "scrolled": false
   },
   "outputs": [
    {
     "name": "stdout",
     "output_type": "stream",
     "text": [
      "back [11.0, 166]\n",
      "mat [11.0, 176]\n",
      "deed [13.0, 172]\n",
      "pack [14.0, 167]\n",
      "tat [17.0, 164]\n",
      "bik [18.0, 154]\n",
      "card [19.0, 152]\n",
      "pick [19.0, 154]\n",
      "mean [19.0, 165]\n",
      "cat [19.0, 165]\n",
      "cup [23.0, 268]\n",
      "seek [24.0, 180]\n",
      "did [24.0, 180]\n",
      "keep [25.0, 156]\n",
      "pat [26.0, 199]\n",
      "bean [29.0, 183]\n",
      "tick [30.0, 169]\n",
      "ban [30.0, 170]\n",
      "luck [31.0, 269]\n",
      "part [33.0, 147]\n",
      "kip [35.0, 166]\n",
      "sick [35.0, 168]\n",
      "cheap [35.0, 179]\n",
      "park [36.0, 158]\n",
      "lick [39.0, 173]\n",
      "lack [39.0, 195]\n",
      "bark [41.0, 179]\n",
      "bun [42.0, 265]\n",
      "cap [43.0, 170]\n",
      "leak [47.0, 173]\n",
      "teak [48.0, 132]\n",
      "cut [48.0, 259]\n",
      "buck [50.0, 269]\n",
      "chip [51.0, 167]\n",
      "carp [58.0, 157]\n",
      "bin [58.0, 178]\n",
      "peak [61.0, 159]\n",
      "min [61.0, 172]\n",
      "cad [62.0, 190]\n",
      "barn [63.0, 155]\n",
      "mutt [63.0, 269]\n",
      "cart [65.0, 155]\n",
      "putt [73.0, 273]\n",
      "tart [74.0, 145]\n",
      "tut [74.0, 265]\n",
      "cud [75.0, 260]\n",
      "mart [81.0, 194]\n",
      "beak [84.0, 174]\n",
      "puck [85.0, 280]\n",
      "lark [89.0, 164]\n"
     ]
    }
   ],
   "source": [
    "my_list = L1.criteria_by_key(\"Stimulus\", \"NbErreurs\")\n",
    "sort_my_list = sorted(my_list.items(), key=lambda x: x[1], reverse=False)\n",
    "for i in sort_my_list:\n",
    "    print(i[0], i[1])"
   ]
  },
  {
   "cell_type": "markdown",
   "metadata": {},
   "source": [
    "Let's try using the same function on the vowels!"
   ]
  },
  {
   "cell_type": "code",
   "execution_count": 51,
   "metadata": {},
   "outputs": [
    {
     "name": "stdout",
     "output_type": "stream",
     "text": [
      "a [272.0, 1762]\n",
      "i [370.0, 1681]\n",
      "I [385.0, 1673]\n",
      "A [559.0, 1606]\n",
      "v [564.0, 2677]\n"
     ]
    }
   ],
   "source": [
    "my_list = L1.criteria_by_key(\"Vowel\", \"NbErreurs\")\n",
    "sort_my_list = sorted(my_list.items(), key=lambda x: x[1], reverse=False)\n",
    "for i in sort_my_list:\n",
    "    print(i[0], i[1])"
   ]
  },
  {
   "cell_type": "markdown",
   "metadata": {},
   "source": [
    "Our previous hypothesis is confirmed! You can try doing this for L2 and L3 students !"
   ]
  },
  {
   "cell_type": "markdown",
   "metadata": {},
   "source": [
    " "
   ]
  },
  {
   "cell_type": "markdown",
   "metadata": {},
   "source": [
    " "
   ]
  },
  {
   "cell_type": "markdown",
   "metadata": {},
   "source": [
    "You can also make an average of the results, in this case the number of mistakes per vowel in average."
   ]
  },
  {
   "cell_type": "code",
   "execution_count": 7,
   "metadata": {},
   "outputs": [
    {
     "name": "stdout",
     "output_type": "stream",
     "text": [
      "{'v': [564.0, 2677], 'i': [370.0, 1681], 'a': [272.0, 1762], 'A': [559.0, 1606], 'I': [385.0, 1673]}\n"
     ]
    },
    {
     "data": {
      "text/plain": [
       "dict_values([0.211, 0.22, 0.154, 0.348, 0.23])"
      ]
     },
     "execution_count": 7,
     "metadata": {},
     "output_type": "execute_result"
    }
   ],
   "source": [
    "import numpy as np\n",
    "average_dico(L1.criteria_by_key(\"Vowel\", \"NbErreurs\")).values()"
   ]
  },
  {
   "cell_type": "markdown",
   "metadata": {},
   "source": [
    "Finally, if you are tired of changing the criteria each time, you can use this useful table which directly calculates the average of repetitions, number of mistakes and response time per vowel."
   ]
  },
  {
   "cell_type": "markdown",
   "metadata": {},
   "source": [
    "You can see that you have the ability to do the same for \"Stimulus\". You can choose whether you want to see only the table for the vowels, or the table for the stimuli, or even both!"
   ]
  },
  {
   "cell_type": "code",
   "execution_count": 11,
   "metadata": {},
   "outputs": [
    {
     "name": "stdout",
     "output_type": "stream",
     "text": [
      "{'v': [826.0, 2677], 'i': [672.0, 1681], 'a': [672.0, 1762], 'A': [436.0, 1606], 'I': [472.0, 1673]}\n",
      "{'v': [564.0, 2677], 'i': [370.0, 1681], 'a': [272.0, 1762], 'A': [559.0, 1606], 'I': [385.0, 1673]}\n",
      "{'v': [4052.6287817024945, 2677], 'i': [2823.173832616436, 1681], 'a': [2763.123852290141, 1762], 'A': [2601.815270154469, 1606], 'I': [2812.175135236759, 1673]}\n"
     ]
    },
    {
     "data": {
      "image/png": "[encoded data removed]",
      "text/plain": [
       "<Figure size 432x288 with 1 Axes>"
      ]
     },
     "metadata": {
      "needs_background": "light"
     },
     "output_type": "display_data"
    }
   ],
   "source": [
    "L1.plot_table_by_key(\"Vowel\", xscale=2, yscale=2)\n",
    "#L1.plot_table_by_key(\"Stimulus\", xscale=2, yscale=2)"
   ]
  }
 ],
 "metadata": {
  "kernelspec": {
   "display_name": "Python 3",
   "language": "python",
   "name": "python3"
  },
  "language_info": {
   "codemirror_mode": {
    "name": "ipython",
    "version": 3
   },
   "file_extension": ".py",
   "mimetype": "text/x-python",
   "name": "python",
   "nbconvert_exporter": "python",
   "pygments_lexer": "ipython3",
   "version": "3.8.5"
  }
 },
 "nbformat": 4,
 "nbformat_minor": 4
}
