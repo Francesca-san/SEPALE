{
 "cells": [
  {
   "cell_type": "markdown",
   "metadata": {},
   "source": [
    "# Global statistics for a whole classroom"
   ]
  },
  {
   "cell_type": "markdown",
   "metadata": {},
   "source": [
    "In this notebook we tried to gather global statistics for a whole classroom."
   ]
  },
  {
   "cell_type": "markdown",
   "metadata": {},
   "source": [
    "## I. Importation of modules and functions from python scripts"
   ]
  },
  {
   "cell_type": "code",
   "execution_count": null,
   "metadata": {},
   "outputs": [],
   "source": [
    "from exo import Exo, AFC2, AFC5\n",
    "from student import Student\n",
    "from classroom import Classroom\n",
    "from utils import average_dico\n",
    "import os"
   ]
  },
  {
   "cell_type": "markdown",
   "metadata": {},
   "source": [
    "## II. Setting a path..."
   ]
  },
  {
   "cell_type": "markdown",
   "metadata": {},
   "source": [
    "### 1. ... to different exercises"
   ]
  },
  {
   "cell_type": "code",
   "execution_count": null,
   "metadata": {},
   "outputs": [],
   "source": [
    "os.listdir(\"log_files/L1/John Doe_Number/logFiles/logFiles/\")"
   ]
  },
  {
   "cell_type": "code",
   "execution_count": null,
   "metadata": {},
   "outputs": [],
   "source": [
    "exo1 = AFC2(\"log_files/L1/John Doe_Number/logFiles/logFiles/2AFC_a_Sat_Mar_13_21_49_45_2021.log\")\n",
    "exo2 = AFC5(\"log_files/L1/John Doe_Number/logFiles/logFiles/5AFC_2_Mon_Feb_15_14_40_26_2021.log\")\n",
    "exo3 = AFC2(\"log_files/L1/John Doe_Number/logFiles/logFiles/AX_a_Mon_Feb_15_14_20_06_2021.log\")"
   ]
  },
  {
   "cell_type": "markdown",
   "metadata": {},
   "source": [
    "### 2. ... to a specific student"
   ]
  },
  {
   "cell_type": "code",
   "execution_count": null,
   "metadata": {},
   "outputs": [],
   "source": [
    "student = Student(\"log_files/L1/John Doe_Number/logFiles/logFiles/\")"
   ]
  },
  {
   "cell_type": "markdown",
   "metadata": {},
   "source": [
    "## III. Using functions to find results"
   ]
  },
  {
   "cell_type": "markdown",
   "metadata": {},
   "source": [
    "In the following cell we use the function criteria_by_key to count the sum of a defined criterion (here, response time), and the number of occurences of a key (here, vowel) for a specific student (here, Cassandra Amaro Ribeiro). Of course, you can change any attribute you want."
   ]
  },
  {
   "cell_type": "code",
   "execution_count": null,
   "metadata": {},
   "outputs": [],
   "source": [
    "student.criteria_by_key(\"Vowel\", \"Response Time\")"
   ]
  },
  {
   "cell_type": "markdown",
   "metadata": {},
   "source": [
    "Instead of counting by hand the number of files, and therefore the number of times a student has done the exercises, you can use the following cell which indicates the name of the student and the number of files they have. Here we have done it for the first-year students, but you can change it by indicating the path to the directory of a classroom (L1, L2, or L3)."
   ]
  },
  {
   "cell_type": "code",
   "execution_count": null,
   "metadata": {},
   "outputs": [],
   "source": [
    "L1 = Classroom(\"./log_files/L1/\")\n",
    "L1.print_names()"
   ]
  },
  {
   "cell_type": "markdown",
   "metadata": {},
   "source": [
    " "
   ]
  },
  {
   "cell_type": "markdown",
   "metadata": {},
   "source": [
    "As we said earlier, you can change the key and criterion to see the sum of a criterion (here, the number of mistakes), and the number of occurences of a key (here, stumulus)."
   ]
  },
  {
   "cell_type": "markdown",
   "metadata": {},
   "source": [
    "The function sorted() reorders the list in an ascending order (because reverse=False, if you say that reverse=True you'll get a descending order). From the results it can be said that the vowels that were the most problematic for the students were the long /a:/ and the strut vowel. We can try to confirm it by using the same method on the vowels."
   ]
  },
  {
   "cell_type": "code",
   "execution_count": null,
   "metadata": {},
   "outputs": [],
   "source": [
    "my_list = L1.criteria_by_key(\"Stimulus\", \"NbErreurs\")\n",
    "sort_my_list = sorted(my_list.items(), key=lambda x: x[1], reverse=False)\n",
    "for i in sort_my_list:\n",
    "    print(i[0], i[1])"
   ]
  },
  {
   "cell_type": "markdown",
   "metadata": {},
   "source": [
    "Let's try using the same function on the vowels!"
   ]
  },
  {
   "cell_type": "code",
   "execution_count": null,
   "metadata": {},
   "outputs": [],
   "source": [
    "my_list = L1.criteria_by_key(\"Vowel\", \"NbErreurs\")\n",
    "sort_my_list = sorted(my_list.items(), key=lambda x: x[1], reverse=False)\n",
    "for i in sort_my_list:\n",
    "    print(i[0], i[1])"
   ]
  },
  {
   "cell_type": "markdown",
   "metadata": {},
   "source": [
    "Our previous hypothesis is confirmed! You can try doing this for L2 and L3 students !"
   ]
  },
  {
   "cell_type": "markdown",
   "metadata": {},
   "source": [
    " "
   ]
  },
  {
   "cell_type": "markdown",
   "metadata": {},
   "source": [
    " "
   ]
  },
  {
   "cell_type": "markdown",
   "metadata": {},
   "source": [
    "You can also make an average of the results, in this case the number of mistakes per vowel in average."
   ]
  },
  {
   "cell_type": "code",
   "execution_count": null,
   "metadata": {},
   "outputs": [],
   "source": [
    "import numpy as np\n",
    "average_dico(L1.criteria_by_key(\"Vowel\", \"NbErreurs\")).values()"
   ]
  },
  {
   "cell_type": "markdown",
   "metadata": {},
   "source": [
    "Finally, if you are tired of changing the criteria each time, you can use this useful table which directly calculates the average of repetitions, number of mistakes and response time per vowel."
   ]
  },
  {
   "cell_type": "markdown",
   "metadata": {},
   "source": [
    "You can see that you have the ability to do the same for \"Stimulus\". You can choose whether you want to see only the table for the vowels, or the table for the stimuli, or even both!"
   ]
  },
  {
   "cell_type": "code",
   "execution_count": null,
   "metadata": {},
   "outputs": [],
   "source": [
    "L1.plot_table_by_key(\"Vowel\", xscale=2, yscale=2)\n",
    "#L1.plot_table_by_key(\"Stimulus\", xscale=2, yscale=2)"
   ]
  },
  {
   "cell_type": "code",
   "execution_count": null,
   "metadata": {},
   "outputs": [],
   "source": []
  }
 ],
 "metadata": {
  "kernelspec": {
   "display_name": "Python 3",
   "language": "python",
   "name": "python3"
  },
  "language_info": {
   "codemirror_mode": {
    "name": "ipython",
    "version": 3
   },
   "file_extension": ".py",
   "mimetype": "text/x-python",
   "name": "python",
   "nbconvert_exporter": "python",
   "pygments_lexer": "ipython3",
   "version": "3.8.5"
  }
 },
 "nbformat": 4,
 "nbformat_minor": 4
}
