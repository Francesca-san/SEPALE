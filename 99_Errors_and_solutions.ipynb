{
 "cells": [
  {
   "cell_type": "markdown",
   "metadata": {},
   "source": [
    "# This Notebook will be dedicated to the errors raised, and their solutions:"
   ]
  },
  {
   "cell_type": "markdown",
   "metadata": {},
   "source": [
    "## I. \"SyntaxError: unexpected EOF while parsing\""
   ]
  },
  {
   "cell_type": "markdown",
   "metadata": {},
   "source": [
    "This is a rather common mistake, and one that is easy to fix. EOF means *End of File*, and once you know this the message raised is easier to understand. It basically means that the file of the function ended abruptly. "
   ]
  },
  {
   "cell_type": "markdown",
   "metadata": {},
   "source": [
    "### 1. How do we fix it?"
   ]
  },
  {
   "cell_type": "markdown",
   "metadata": {},
   "source": [
    "You just have to check if you defined a function without returning a result, or if you started a line of code and forgot to end a parenthesis.\n",
    "\n",
    "Let's take an example:"
   ]
  },
  {
   "cell_type": "code",
   "execution_count": null,
   "metadata": {},
   "outputs": [],
   "source": [
    "print(\"EOF Error\""
   ]
  },
  {
   "cell_type": "markdown",
   "metadata": {},
   "source": [
    "The place where the mistake has been done is indicated. We only have to add a closing parenthesis to avoir the error."
   ]
  },
  {
   "cell_type": "code",
   "execution_count": null,
   "metadata": {},
   "outputs": [],
   "source": [
    "print(\"EOF Error avoided\")"
   ]
  },
  {
   "cell_type": "markdown",
   "metadata": {},
   "source": [
    "### 2.Tips"
   ]
  },
  {
   "cell_type": "markdown",
   "metadata": {},
   "source": [
    "If you click on a parenthesis, it will turn from black to green. This makes it easier to spot which parenthesis encloses what. If a parenthesis (or any passage of your script for that matter) is in scarlet red, it means that something is wrong and needs to be modified."
   ]
  },
  {
   "cell_type": "markdown",
   "metadata": {},
   "source": [
    "## II. \"TypeError: x takes n positional arguments but n were given\""
   ]
  },
  {
   "cell_type": "markdown",
   "metadata": {},
   "source": [
    "This error occurs when you have too many or not enough objects to assign to the variables."
   ]
  },
  {
   "cell_type": "markdown",
   "metadata": {},
   "source": [
    "### 1. How do we fix it?"
   ]
  },
  {
   "cell_type": "markdown",
   "metadata": {},
   "source": [
    "When this error is raised, you need to go back to the source and make sure that when you have assigned an object to a variable, you have been careful enough not to put more (or less) than needed. \n",
    "\n",
    "As an example, if we define a function that has two attributes, we need to use two attributes when we call this function, otherwise an error is raised:"
   ]
  },
  {
   "cell_type": "code",
   "execution_count": null,
   "metadata": {},
   "outputs": [],
   "source": [
    "def example_function(a, b):\n",
    "    if a > b:\n",
    "        a = a + 1\n",
    "    else:\n",
    "        a = a\n",
    "    return a\n",
    "\n",
    "example_function(5, 3, 4)"
   ]
  },
  {
   "cell_type": "markdown",
   "metadata": {},
   "source": [
    "We can easily fix it by giving the right number of attributes:"
   ]
  },
  {
   "cell_type": "code",
   "execution_count": null,
   "metadata": {},
   "outputs": [],
   "source": [
    "example_function(5, 3)"
   ]
  },
  {
   "cell_type": "markdown",
   "metadata": {},
   "source": [
    "## III. \"Index Error : list index out of range\""
   ]
  },
  {
   "cell_type": "markdown",
   "metadata": {},
   "source": [
    "This error message is encoutered when you try to access a part in an index inside a list which is not defined. For example, if you indicate that the *row_labels* of your table are the criteria \"Response time\", \"Number of mistakes\" and \"Repetitions\", you cannot try to use __criteria_by_key__ with a criteri other than the ones indicated before."
   ]
  },
  {
   "cell_type": "markdown",
   "metadata": {},
   "source": [
    "### 1. How do we fix it?"
   ]
  },
  {
   "cell_type": "markdown",
   "metadata": {},
   "source": [
    "In order to fix it, you'll have to make sure that you are not referring to a key or criterion that you haven't defined.\n",
    "\n",
    "Be aware that in our case there are different exercises, the AFC have been assigned the following keys: \"Vowel\", \"Stimulus\", and \"Sound File\". On the other hand, the AX exercises do not have vowels, the keys are therefore different. As a consequence, the index error might appear when you try to plot an AX file with the key \"Vowel\"."
   ]
  },
  {
   "cell_type": "markdown",
   "metadata": {},
   "source": [
    "We have fixed this problem with the __isinstance__ function implemented in __criteria_by_key__. The former makes sure that if the wanted key is *Vowel*, then if the exercise is AX, the function does not apply.\n",
    "\n",
    "If we take an example, we can define a set of three elements including in a list that is contained in *furniture*. The list has three elements: *bed*, *nightstand* and *table*. If we ask for the the correspondant element of an index number that is out of range, an error will be raised:"
   ]
  },
  {
   "cell_type": "code",
   "execution_count": null,
   "metadata": {},
   "outputs": [],
   "source": [
    "furniture = ['bed', 'nightstand', 'table']\n",
    "print(furniture[3])"
   ]
  },
  {
   "cell_type": "markdown",
   "metadata": {},
   "source": [
    "This is easily fixed:"
   ]
  },
  {
   "cell_type": "code",
   "execution_count": null,
   "metadata": {},
   "outputs": [],
   "source": [
    "print(furniture[0])"
   ]
  },
  {
   "cell_type": "markdown",
   "metadata": {},
   "source": [
    "### 2. Tips"
   ]
  },
  {
   "cell_type": "markdown",
   "metadata": {},
   "source": [
    "When you refer to the elements of a list in programming, the first element has the index number 0, the second 1, and so on. Be careful not to indicate '1' when you are in fact referring to the first element."
   ]
  },
  {
   "cell_type": "markdown",
   "metadata": {},
   "source": [
    "## IV. \"IndexError: too many indices for array\""
   ]
  },
  {
   "cell_type": "markdown",
   "metadata": {},
   "source": [
    "An array is a variable which can contain more than one value under a single name. You can define the content of an array and refer to one element by indicating its index number (ex: random_student = student[6]). "
   ]
  },
  {
   "cell_type": "markdown",
   "metadata": {},
   "source": [
    "### 1. How do we fix it?"
   ]
  },
  {
   "cell_type": "markdown",
   "metadata": {},
   "source": [
    "We encountered this problem when we tried using AFC functions on AX exercises. In fact, as we said earlier, AFC keys (Vowel, Stimulus, Response Time...) are different from the ones found in AX exercises. To be more specific, AFC exercises have six columns (5AFC have seven, but we only consider the first column of vowels), when AX files have seven that are complitely different from the former (the stimuli and vowels are no longer letters but numbers). As a consequence, when we tried using those functions, is did not work because there were too many indices, too many columns, to make an array. \n",
    "\n",
    "We fixed this problem with the isinstance function which basically checks the type of exercise it is facing. If the key is \"Vowel\", and the exercise is an AX (isinstance(Exo, AX)), then the function dismisses the exercise (\"continue\"). If on the contrary, the exercise is an AFC, then the function does its work and returns a result."
   ]
  },
  {
   "cell_type": "markdown",
   "metadata": {},
   "source": [
    "The same error message was raised for the logfiles created on the computer even when the student did not go at the end of the 30 questions. The functions are designed to treat .txt files which have a date (line[0]), keys (line[1]), and final statistics (line[-1]). When the functions did not find these caracteristics, the error was raised.\n",
    "\n",
    "We fixed it by deleting the incomplete files. "
   ]
  },
  {
   "cell_type": "markdown",
   "metadata": {},
   "source": [
    "## V. \"NameError: name 'x' is not defined\""
   ]
  },
  {
   "cell_type": "markdown",
   "metadata": {},
   "source": [
    "This is an error that can be recurring and especially frustrating. In fact it is easy to fix as long as you are aware of what you are referring to, and how your functions work. \n",
    "\n",
    "When coding, it is usual to refer to online websites to find the way to do what you have in mind. Of course, it is extremely rare to find someone who does exactly what you are trying to do (unless it is a simple task). As a consequence, when you copy and paste their code, you need to be careful and change what you have to change to make the code fit perfectly with what you already have, otherwise an error will be raised."
   ]
  },
  {
   "cell_type": "markdown",
   "metadata": {},
   "source": [
    "For example:"
   ]
  },
  {
   "cell_type": "code",
   "execution_count": null,
   "metadata": {},
   "outputs": [],
   "source": [
    "print(number)"
   ]
  },
  {
   "cell_type": "markdown",
   "metadata": {},
   "source": [
    "You need to define it first (for the sake of this demonstration, I changed the name of the module, otherwise it takes into account what I write next, and the error is not raised):"
   ]
  },
  {
   "cell_type": "code",
   "execution_count": null,
   "metadata": {},
   "outputs": [],
   "source": [
    "numbers = [1, 2, 3]\n",
    "        \n",
    "print(numbers)"
   ]
  },
  {
   "cell_type": "markdown",
   "metadata": {},
   "source": [
    "## VI. Homemade \"Exception: Key not in my keys !\""
   ]
  },
  {
   "cell_type": "markdown",
   "metadata": {},
   "source": [
    "In  <span style=\"text-decoration: underline\">exo.py</span>, we defined a function called __criteria_by_key__ which raises two exceptions: 'Key not in my keys !', and 'Criteria not in my keys !'. These error messages appear when you try to use a function with a key or criteria that does not exist. "
   ]
  },
  {
   "cell_type": "markdown",
   "metadata": {},
   "source": [
    "### 1. How do we fix it?"
   ]
  },
  {
   "cell_type": "markdown",
   "metadata": {},
   "source": [
    "Fixing this error is not always difficult. In fact, most of the time you've just indicated the wrong key or criteria. However, this error can also be raised when treating the AX exercices (yes, them again!).\n",
    "\n",
    "As we said earlier, the AFC and AX exercises do not have the same composition, because of that, \"Vowel\", is no longer a key for the AX exercises, it does not exist. As a consequence, when you want to use a function in which you haven't implemented a FOR loop with __isinstance__, this error will be raised. "
   ]
  },
  {
   "cell_type": "markdown",
   "metadata": {},
   "source": [
    "### 2. Tips"
   ]
  },
  {
   "cell_type": "markdown",
   "metadata": {},
   "source": [
    "Up to this point, we can analyse the data for AFC and AX exercises. It is important to keep in mind the difference between both files, and this is what this section is here for:\n",
    "\n",
    "AFC files:\n",
    "\n",
    "- Keys:\n",
    "    * Sound Files (\"Sound File\")\n",
    "    * Stimuli (\"Stimulus\")\n",
    "    * Vowels (\"Vowel\")\n",
    "- Criteria:\n",
    "    * Response Time\n",
    "    * Number of errors (\"NbErreurs\")\n",
    "    * Repetitions\n",
    "        \n",
    "AX files:\n",
    "\n",
    "- Keys:\n",
    "    * Sound Files (\"Sound File\")\n",
    "    * Stimuli (\"Stimulus\")\n",
    "- Criteria:\n",
    "    * Response Time\n",
    "    * Number of errors (\"NbErreurs\")\n",
    "    * Repetitions\n",
    "        \n",
    "The numeric keys are the same, they correspond to criteria."
   ]
  },
  {
   "cell_type": "markdown",
   "metadata": {},
   "source": [
    "## VII. \"ValueError: too many values to unpack (expected x)\""
   ]
  },
  {
   "cell_type": "markdown",
   "metadata": {},
   "source": [
    "### 1. How do we fix it?"
   ]
  },
  {
   "cell_type": "markdown",
   "metadata": {},
   "source": [
    "This is another error that we found very often, especially when we introduced the AX exercise. For the latter case, the function __isinstance__ helped us pass the exercises AX when the demanded key was \"Vowel\"."
   ]
  },
  {
   "cell_type": "markdown",
   "metadata": {},
   "source": [
    "## VIII. \"ValueError: The truth value of an array with more than one element is ambiguous. Use a.any() or a.all()\""
   ]
  },
  {
   "cell_type": "markdown",
   "metadata": {},
   "source": [
    "An array in boolean context is ambiguous since it can mean `True` if any element is True, or it can mean `True` if all elements are True, or even `True` if the array has non-zero length. This explains why the ValueError is raised."
   ]
  },
  {
   "cell_type": "markdown",
   "metadata": {},
   "source": [
    "### 1. How do we fix it?"
   ]
  },
  {
   "cell_type": "markdown",
   "metadata": {},
   "source": [
    "The error was raised when we used the plot functions __chart_all_exos__ and __hist_all_exos__. In this context, we wanted to make the function pass if the values were equal to 0. In order to do this we created a sel_arr equal to value different from 0 (!=0). This evaluates if the condition is true or false. If it's false (so the value IS equal to 0) (if np.all(sel_arr == False)), then we don't apply the function (pass). The error was therefore fixed by writing *np.all* istead of *np.array*, as it raises the ambiguity."
   ]
  },
  {
   "cell_type": "markdown",
   "metadata": {},
   "source": [
    "## IX. \"AttributeError: 'x' object has no attribute 'y'\""
   ]
  },
  {
   "cell_type": "markdown",
   "metadata": {},
   "source": [
    "When creating a new class or function, you declare attributes to the latter. When you use functions that have been defined in this class, you have to indicate this attributes. When you don't, an error is declared, and when you indicate an attribute that wasn't declared in the definition of the class or the function, the AttributeError will be raised."
   ]
  },
  {
   "cell_type": "markdown",
   "metadata": {},
   "source": [
    "## X. \"IndexError: list assignment index out of range\""
   ]
  },
  {
   "cell_type": "markdown",
   "metadata": {},
   "source": [
    "This error has been encoutered rather often when we tried parsing the Oddity files. In fact, these files are not created each time a student does the exercises, since a single file is created for all the times. As a consequence, because our functions can only be effective on a certain type of file, they do not work when the .txt files are more than 34-lines long. \n",
    "\n",
    "Consequently, when the student has done the exercise more than once, the file is more than 34-lines long, and the error is raised."
   ]
  },
  {
   "cell_type": "markdown",
   "metadata": {},
   "source": [
    "### 1. How do we fix it?"
   ]
  },
  {
   "cell_type": "markdown",
   "metadata": {},
   "source": []
  }
 ],
 "metadata": {
  "kernelspec": {
   "display_name": "Python 3",
   "language": "python",
   "name": "python3"
  },
  "language_info": {
   "codemirror_mode": {
    "name": "ipython",
    "version": 3
   },
   "file_extension": ".py",
   "mimetype": "text/x-python",
   "name": "python",
   "nbconvert_exporter": "python",
   "pygments_lexer": "ipython3",
   "version": "3.8.5"
  }
 },
 "nbformat": 4,
 "nbformat_minor": 4
}
