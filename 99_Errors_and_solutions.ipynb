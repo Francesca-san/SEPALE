{
 "cells": [
  {
   "cell_type": "markdown",
   "metadata": {},
   "source": [
    "# This Notebook will be dedicated to the errors raised, and their solutions:"
   ]
  },
  {
   "cell_type": "markdown",
   "metadata": {},
   "source": [
    "In this notebook, each section deals with a specific type of error, whether it is an attribute error, an index error, etc. "
   ]
  },
  {
   "cell_type": "markdown",
   "metadata": {},
   "source": [
    "## I. Syntax errors: "
   ]
  },
  {
   "cell_type": "markdown",
   "metadata": {},
   "source": [
    "### A. \"SyntaxError: unexpected EOF while parsing\""
   ]
  },
  {
   "cell_type": "markdown",
   "metadata": {},
   "source": [
    "This is a rather common mistake, and one that is easy to fix. EOF means *End of File*, and once you know this the message raised is easier to understand. It basically means that the file of the function ended abruptly. "
   ]
  },
  {
   "cell_type": "markdown",
   "metadata": {},
   "source": [
    "#### 1. How do we fix it?"
   ]
  },
  {
   "cell_type": "markdown",
   "metadata": {},
   "source": [
    "You just have to check if you defined a function without returning a result, or if you started a line of code and forgot to end a parenthesis.\n",
    "\n",
    "Let's take an example:"
   ]
  },
  {
   "cell_type": "code",
   "execution_count": null,
   "metadata": {},
   "outputs": [],
   "source": [
    "print(\"EOF Error\""
   ]
  },
  {
   "cell_type": "markdown",
   "metadata": {},
   "source": [
    "The place where the mistake has been done is indicated. We only have to add a closing parenthesis to avoir the error."
   ]
  },
  {
   "cell_type": "code",
   "execution_count": null,
   "metadata": {},
   "outputs": [],
   "source": [
    "print(\"EOF Error avoided\")"
   ]
  },
  {
   "cell_type": "markdown",
   "metadata": {},
   "source": [
    "#### 2.Tips"
   ]
  },
  {
   "cell_type": "markdown",
   "metadata": {},
   "source": [
    "If you click on a parenthesis, it will turn from black to green. This makes it easier to spot which parenthesis encloses what. If a parenthesis (or any passage of your script for that matter) is in scarlet red, it means that something is wrong and needs to be modified."
   ]
  },
  {
   "cell_type": "markdown",
   "metadata": {},
   "source": [
    "### B. \"IndentationError: expected an indented block\" "
   ]
  },
  {
   "cell_type": "markdown",
   "metadata": {},
   "source": [
    "Although it is true that this error is not really a syntax error, it has to do with this. This error is raised when you were supposed to indent, and didn't."
   ]
  },
  {
   "cell_type": "markdown",
   "metadata": {},
   "source": [
    "#### 1. How do we fix it? "
   ]
  },
  {
   "cell_type": "markdown",
   "metadata": {},
   "source": [
    "This error is very easy to fix because when you'll run the cell, the error message will tell you precisely where the indent was enxpected. Let's take a look at this example:"
   ]
  },
  {
   "cell_type": "code",
   "execution_count": null,
   "metadata": {},
   "outputs": [],
   "source": [
    "a = 2\n",
    "b = 2\n",
    "if a == b:\n",
    "print(\"a is equal to b\")"
   ]
  },
  {
   "cell_type": "markdown",
   "metadata": {},
   "source": [
    "We only need to add the indentation to fix the problem:"
   ]
  },
  {
   "cell_type": "code",
   "execution_count": null,
   "metadata": {},
   "outputs": [],
   "source": [
    "a = 2\n",
    "b = 2\n",
    "if a == b:\n",
    "    print(\"a is equal to b\")"
   ]
  },
  {
   "cell_type": "markdown",
   "metadata": {},
   "source": [
    "#### 2. Tips "
   ]
  },
  {
   "cell_type": "markdown",
   "metadata": {},
   "source": [
    "Whenever there is a colon, the indentation is mandatory at the beginning of the statement that comes right after, and the ones related to it."
   ]
  },
  {
   "cell_type": "markdown",
   "metadata": {},
   "source": [
    "### C. \"SyntaxError: non-default argument follows default argument\" "
   ]
  },
  {
   "cell_type": "markdown",
   "metadata": {},
   "source": [
    "This problem was encountered when we tried to add a group bar chart with units to <span style=\"text-decoration: underline\">exo.py</span> in order to test it."
   ]
  },
  {
   "cell_type": "markdown",
   "metadata": {},
   "source": [
    "#### 1. How do we fix it? "
   ]
  },
  {
   "cell_type": "markdown",
   "metadata": {},
   "source": [
    "You can specify an argument's value with a default value in a function. However, these arguments have to come after non-default arguments if you don't want this error to be raised. In fact, non-default arguments are mandatory as their value has to be indicated when the function is called, while default value argument have a value even when not specified.\n",
    "\n",
    "Let's take an example:"
   ]
  },
  {
   "cell_type": "code",
   "execution_count": null,
   "metadata": {},
   "outputs": [],
   "source": [
    "def random_function (value=3, b):\n",
    "    if b > value:\n",
    "        print(\"b is greater than 'value'\")"
   ]
  },
  {
   "cell_type": "markdown",
   "metadata": {},
   "source": [
    "Now that we understand this error, it is easier to fix:"
   ]
  },
  {
   "cell_type": "code",
   "execution_count": null,
   "metadata": {},
   "outputs": [],
   "source": [
    "def random_function (b, value=3):\n",
    "    if b > value:\n",
    "        print(\"b is greater than 'value'\")\n",
    "random_function (b=4, value=3)"
   ]
  },
  {
   "cell_type": "markdown",
   "metadata": {},
   "source": [
    "#### 2. Tips "
   ]
  },
  {
   "cell_type": "markdown",
   "metadata": {},
   "source": [
    "In a function, the order in which arguments must appear is:\n",
    "- Positional arguments which are non-default\n",
    "- Keyword arguments which are default\n",
    "- Keyword-only arguments\n",
    "- Variable keyword arguments"
   ]
  },
  {
   "cell_type": "markdown",
   "metadata": {},
   "source": [
    "We could do many other sections in this notebook for similar errors. As an example: \"SyntaxError: positional argument follows keyword argument\", but once you have the order in which arguments must appear, not doing these mistakes becomes easier."
   ]
  },
  {
   "cell_type": "markdown",
   "metadata": {},
   "source": [
    "### D. \"SyntaxError: invalid syntax\" "
   ]
  },
  {
   "cell_type": "markdown",
   "metadata": {},
   "source": [
    "This error is usually raised when you forgot puntuation."
   ]
  },
  {
   "cell_type": "markdown",
   "metadata": {},
   "source": [
    "#### 1. How do we fix it? "
   ]
  },
  {
   "cell_type": "markdown",
   "metadata": {},
   "source": [
    "Fixing it is not very difficult since there is a traceback message which locates the error:"
   ]
  },
  {
   "cell_type": "code",
   "execution_count": null,
   "metadata": {},
   "outputs": [],
   "source": [
    "numbers = {1,\n",
    "           2\n",
    "           3}"
   ]
  },
  {
   "cell_type": "markdown",
   "metadata": {},
   "source": [
    "However, you must be careful because the traceback message notifies you of the first moment when it perceived a mistake. As a consequence, it shows you the line <span style=\"text-decoration: underline\">following</span> the error. Here, '2' should be followed by a comma:"
   ]
  },
  {
   "cell_type": "code",
   "execution_count": null,
   "metadata": {},
   "outputs": [],
   "source": [
    "numbers = {1,\n",
    "           2,\n",
    "           3}"
   ]
  },
  {
   "cell_type": "markdown",
   "metadata": {},
   "source": [
    "## II. Type Errors:"
   ]
  },
  {
   "cell_type": "markdown",
   "metadata": {},
   "source": [
    "### A. \"TypeError: x takes n positional arguments but n were given\""
   ]
  },
  {
   "cell_type": "markdown",
   "metadata": {},
   "source": [
    "This error occurs when you have too many or not enough objects to assign to the variables."
   ]
  },
  {
   "cell_type": "markdown",
   "metadata": {},
   "source": [
    "#### 1. How do we fix it?"
   ]
  },
  {
   "cell_type": "markdown",
   "metadata": {},
   "source": [
    "When this error is raised, you need to go back to the source and make sure that when you have assigned an object to a variable, you have been careful enough not to put more (or less) than needed. \n",
    "\n",
    "As an example, if we define a function that has two attributes, we need to use two attributes when we call this function, otherwise an error is raised:"
   ]
  },
  {
   "cell_type": "code",
   "execution_count": null,
   "metadata": {},
   "outputs": [],
   "source": [
    "def example_function(a, b):\n",
    "    if a > b:\n",
    "        a = a + 1\n",
    "    else:\n",
    "        a = a\n",
    "    return a\n",
    "\n",
    "example_function(5, 3, 4)"
   ]
  },
  {
   "cell_type": "markdown",
   "metadata": {},
   "source": [
    "We can easily fix it by giving the right number of attributes:"
   ]
  },
  {
   "cell_type": "code",
   "execution_count": null,
   "metadata": {},
   "outputs": [],
   "source": [
    "example_function(5, 3)"
   ]
  },
  {
   "cell_type": "markdown",
   "metadata": {},
   "source": [
    "## III. Index Errors:"
   ]
  },
  {
   "cell_type": "markdown",
   "metadata": {},
   "source": [
    "### A. \"Index Error : list index out of range\""
   ]
  },
  {
   "cell_type": "markdown",
   "metadata": {},
   "source": [
    "This error message is encoutered when you try to access a part in an index inside a list which is not defined. For example, if you indicate that the *row_labels* of your table are the criteria \"Response time\", \"Number of mistakes\" and \"Repetitions\", you cannot try to use __criteria_by_key__ with a criteria other than the latter."
   ]
  },
  {
   "cell_type": "markdown",
   "metadata": {},
   "source": [
    "#### 1. How do we fix it?"
   ]
  },
  {
   "cell_type": "markdown",
   "metadata": {},
   "source": [
    "In order to fix it, you'll have to make sure that you are not referring to a key or criterion that you haven't defined.\n",
    "\n",
    "Be aware that in our case there are different exercises, the AFC have been assigned the following keys: \"Vowel\", \"Stimulus\", and \"Sound File\". On the other hand, the AX exercises do not have vowels, the keys are therefore different. As a consequence, the index error might appear when you try to plot an AX file with the key \"Vowel\"."
   ]
  },
  {
   "cell_type": "markdown",
   "metadata": {},
   "source": [
    "We have fixed this problem with the __isinstance__ function implemented in __criteria_by_key__. The former makes sure that if the wanted key is *Vowel*, then if the exercise is AX, the function does not apply.\n",
    "\n",
    "If we take an example, we can define a set of three elements including in a list that is contained in *furniture*. The list has three elements: *bed*, *nightstand* and *table*. If we ask for the the correspondant element of an index number that is out of range, an error will be raised:"
   ]
  },
  {
   "cell_type": "code",
   "execution_count": null,
   "metadata": {},
   "outputs": [],
   "source": [
    "furniture = ['bed', 'nightstand', 'table']\n",
    "print(furniture[3])"
   ]
  },
  {
   "cell_type": "markdown",
   "metadata": {},
   "source": [
    "This is easily fixed:"
   ]
  },
  {
   "cell_type": "code",
   "execution_count": null,
   "metadata": {},
   "outputs": [],
   "source": [
    "print(furniture[0])"
   ]
  },
  {
   "cell_type": "markdown",
   "metadata": {},
   "source": [
    "#### 2. The particularity of the Oddity files"
   ]
  },
  {
   "cell_type": "markdown",
   "metadata": {},
   "source": [
    "We introduced the Oddity files that are, by far, the most complicated ones. In fact, they have columns that are difficult to analyse as some only have binary values, or going from 1 to 3, and others have numbers and letters. Furthermore, they integrate in one single file all the student's attempts instead of creating a special logfile for each one. \n",
    "\n",
    "As a consequence, there were many aspects of our original functions (__clean_lines__ and __parse_lines__) that we had to adjust in order for them to work on these specific files. \n",
    "\n",
    "The above error was triggered by __parse_lines__ because we parsed the column Sound File using symbols, and created a variable called *vs* to contain the stimuli. Although this works for the majority of sound files, there has been a mistake in the script: instead of having three elements, we only have two (cf. L3, John Doe, Oddity 2, l. 786). As the function needed three elements, the error was raised, which is understandable.\n",
    "\n",
    "To fix this problem, we added an implicit condition to *vs*, if there are more than 2 elements in sleft/smiddle/sright then we add the first element of sleft and \"vs\". Here is the code:\n",
    "\n",
    "                                        sf = l[0]\n",
    "                                        splitted = sf.split('-')\n",
    "                                        sleft = splitted[0].split('_')\n",
    "                                        smiddle = splitted[1].split('_')\n",
    "                                        sright = splitted[2].split('_')\n",
    "                                        vs = \"\"\n",
    "                                        if len(sleft) > 2: \n",
    "                                            vs += sleft[1] + \" vs\"\n",
    "                                        if len(smiddle) > 2: \n",
    "                                            vs += \" \" + smiddle[1] + \" vs\"\n",
    "                                        if len(sright) > 2: \n",
    "                                            vs += \" \" + sright[1]\n",
    "                \n",
    "\n",
    "What we implicitly say here is that, if the length is inferior to 2, nothing happens. As the function knows what to do, even when there are only two elements, the error is no longer raised."
   ]
  },
  {
   "cell_type": "markdown",
   "metadata": {},
   "source": [
    "#### 3. Tips"
   ]
  },
  {
   "cell_type": "markdown",
   "metadata": {},
   "source": [
    "When you refer to the elements of a list in programming, the first element has the index number 0, the second 1, and so on. Be careful not to indicate '1' when you are in fact referring to the first element."
   ]
  },
  {
   "cell_type": "markdown",
   "metadata": {},
   "source": [
    "### B. \"IndexError: too many indices for array\""
   ]
  },
  {
   "cell_type": "markdown",
   "metadata": {},
   "source": [
    "An array is a variable which can contain more than one value under a single name. You can define the content of an array and refer to one element by indicating its index number (ex: random_student = student[6]). "
   ]
  },
  {
   "cell_type": "markdown",
   "metadata": {},
   "source": [
    "#### 1. How do we fix it?"
   ]
  },
  {
   "cell_type": "markdown",
   "metadata": {},
   "source": [
    "We encountered this problem when we tried using AFC functions on AX exercises. In fact, as we said earlier, AFC keys (Vowel, Stimulus, Response Time...) are different from the ones found in AX exercises. To be more specific, AFC exercises have six columns (5AFC have seven, but we only consider the first column of vowels), when AX files have seven that are complitely different from the former (the stimuli and vowels are no longer letters but numbers). As a consequence, when we tried using those functions, is did not work because there were too many indices, too many columns, to make an array. \n",
    "\n",
    "We fixed this problem with the isinstance function which basically checks the type of exercise it is facing. If the key is \"Vowel\", and the exercise is an AX (isinstance(Exo, AX)), then the function dismisses the exercise (\"continue\"). If on the contrary, the exercise is an AFC, then the function does its work and returns a result."
   ]
  },
  {
   "cell_type": "markdown",
   "metadata": {},
   "source": [
    "The same error message was raised for the logfiles created on the computer even when the student did not go at the end of the 30 questions. The functions are designed to treat .txt files which have a date (line[0]), keys (line[1]), and final statistics (line[-1]). When the functions did not find these caracteristics, the error was raised.\n",
    "\n",
    "We fixed it by deleting the incomplete files. "
   ]
  },
  {
   "cell_type": "markdown",
   "metadata": {},
   "source": [
    "### C. \"IndexError: list assignment index out of range\""
   ]
  },
  {
   "cell_type": "markdown",
   "metadata": {},
   "source": [
    "This error has been encoutered rather often when we tried parsing the Oddity files. In fact, these files are not created each time a student does the exercises, since a single file is created for all the times. As a consequence, because our functions can only be effective on a certain type of file, they do not work when the .txt files are more than 34-lines long. \n",
    "\n",
    "Consequently, when the student has done the exercise more than once, the file is more than 34-lines long, and the error is raised."
   ]
  },
  {
   "cell_type": "markdown",
   "metadata": {},
   "source": [
    "#### 1. How do we fix it?"
   ]
  },
  {
   "cell_type": "markdown",
   "metadata": {},
   "source": [
    "We encountered this error when treating th Oddity files, as we said. \n",
    "\n",
    "In order to find a way around it we added, to the subclass `Oddity`, the function __parse_lines__ to create well parsed columns, and __clean_lines__ which skims through the Oddity files and deletes the lines which start with the symbol \"#\", or contain the word \"Vowel\". The singularity is that we asked for the function to only start deleting from line 2 so that we could keep the keys."
   ]
  },
  {
   "cell_type": "markdown",
   "metadata": {},
   "source": [
    "When creating classes and subclasses, it can happen that the subclasses behave a little bit different from the other subclasses. This is the case for `AX` and `Oddity`, hence the fact that they have their own functions under the initializing one. It means that when these exercises are encountered the functions in the subclasses will be executed over the ones in the general class which have the same name. "
   ]
  },
  {
   "cell_type": "markdown",
   "metadata": {},
   "source": [
    "## IV. Name Errors:"
   ]
  },
  {
   "cell_type": "markdown",
   "metadata": {},
   "source": [
    "### A. \"NameError: name 'x' is not defined\""
   ]
  },
  {
   "cell_type": "markdown",
   "metadata": {},
   "source": [
    "This is an error that can be recurring and especially frustrating. In fact it is easy to fix as long as you are aware of what you are referring to, and how your functions work. \n",
    "\n",
    "When coding, it is usual to refer to online websites to find the way to do what you have in mind. Of course, it is extremely rare to find someone who does exactly what you are trying to do (unless it is a simple task). As a consequence, when you copy and paste their code, you need to be careful and change what you have to change to make the code fit perfectly with what you already have, otherwise an error will be raised."
   ]
  },
  {
   "cell_type": "markdown",
   "metadata": {},
   "source": [
    "For example:"
   ]
  },
  {
   "cell_type": "code",
   "execution_count": null,
   "metadata": {},
   "outputs": [],
   "source": [
    "print(number)"
   ]
  },
  {
   "cell_type": "markdown",
   "metadata": {},
   "source": [
    "You need to define it first (for the sake of this demonstration, I changed the name of the module, otherwise it takes into account what I write next, and the error is not raised):"
   ]
  },
  {
   "cell_type": "code",
   "execution_count": null,
   "metadata": {},
   "outputs": [],
   "source": [
    "numbers = [1, 2, 3]\n",
    "        \n",
    "print(numbers)"
   ]
  },
  {
   "cell_type": "markdown",
   "metadata": {},
   "source": [
    "## V. Homemade Exceptions: "
   ]
  },
  {
   "cell_type": "markdown",
   "metadata": {},
   "source": [
    "### A. \"Exception: Key not in my keys \" and \"Exception: Criteria not in my keys!\""
   ]
  },
  {
   "cell_type": "markdown",
   "metadata": {},
   "source": [
    "In  <span style=\"text-decoration: underline\">exo.py</span>, we defined a function called __criteria_by_key__ which raises two exceptions: 'Key not in my keys!', and 'Criteria not in my keys!'. These error messages appear when you try to use a function with a key or criteria that does not exist. "
   ]
  },
  {
   "cell_type": "markdown",
   "metadata": {},
   "source": [
    "#### 1. How do we fix it?"
   ]
  },
  {
   "cell_type": "markdown",
   "metadata": {},
   "source": [
    "Fixing this error is not always difficult. In fact, most of the time you've just indicated the wrong key or criteria. However, this error can also be raised when treating the AX exercices (yes, them again!).\n",
    "\n",
    "As we said earlier, the AFC and AX exercises do not have the same composition, because of that, \"Vowel\", is no longer a key for the AX exercises, it does not exist. As a consequence, when you want to use a function in which you haven't implemented a FOR loop with __isinstance__, this error will be raised. "
   ]
  },
  {
   "cell_type": "markdown",
   "metadata": {},
   "source": [
    "#### 2. Tips"
   ]
  },
  {
   "cell_type": "markdown",
   "metadata": {},
   "source": [
    "Up to this point, we can analyse the data for AFC and AX exercises. It is important to keep in mind the difference between both files, and this is what this section is here for:\n",
    "\n",
    "AFC files:\n",
    "\n",
    "- Keys:\n",
    "    * Sound Files (\"Sound File\")\n",
    "    * Stimuli (\"Stimulus\")\n",
    "    * Vowels (\"Vowel\")\n",
    "- Criteria:\n",
    "    * Response Time\n",
    "    * Number of errors (\"NbErreurs\")\n",
    "    * Repetitions\n",
    "        \n",
    "AX files:\n",
    "\n",
    "- Keys:\n",
    "    * Sound Files (\"Sound File\")\n",
    "    * Stimuli (\"Stimulus\")\n",
    "- Criteria:\n",
    "    * Response Time\n",
    "    * Number of errors (\"NbErreurs\")\n",
    "    * Repetitions\n",
    "        \n",
    "The numeric keys are the same, they correspond to criteria."
   ]
  },
  {
   "cell_type": "markdown",
   "metadata": {},
   "source": [
    "### B. \"Exception: Wait, this is not a file!\""
   ]
  },
  {
   "cell_type": "markdown",
   "metadata": {},
   "source": [
    "In  <span style=\"text-decoration: underline\">student.py</span>, we defined a function called __find_log_dir__ which raises the exception 'Wait, this is not a file!'. This error message appears when, during your exploration, you come across items that are not files (it could be scripts, audio files...)."
   ]
  },
  {
   "cell_type": "markdown",
   "metadata": {},
   "source": [
    "#### 1. How do we fix it? "
   ]
  },
  {
   "cell_type": "markdown",
   "metadata": {},
   "source": [
    "This error is not difficult to fix, but can be tedious. In fact, you'll have to check for which student it does not work, and make sure that the student did not include the sound files and scripts in their folder. In any case, I already erased those files, you can ask them to me if you have any problem."
   ]
  },
  {
   "cell_type": "markdown",
   "metadata": {},
   "source": [
    "### C. \"Exception: Uncompatible labels\""
   ]
  },
  {
   "cell_type": "markdown",
   "metadata": {},
   "source": [
    "In  <span style=\"text-decoration: underline\">student.py</span>, we defined a function called __plot_table_by_key__ which raises the exception 'Uncompatible labels'. This error message appears when, you don't have the same number of rows and labels."
   ]
  },
  {
   "cell_type": "markdown",
   "metadata": {},
   "source": [
    "### D. \"Exception: Invalid date format\" "
   ]
  },
  {
   "cell_type": "markdown",
   "metadata": {},
   "source": [
    "In <span style=\"text-decoration: underline\">exo.py</span> there is this homemade error message which appears when the function encounters date formats that are not accepted. In fact, as we had to stay close to the original format (ex: *Mon_Feb_22_18_36_13_2021*), the format is defined as such: %a %b %d %H:%M:%S %Y."
   ]
  },
  {
   "cell_type": "markdown",
   "metadata": {},
   "source": [
    "This error will be raised if instead of having one element in the date, you also have other elements such as the name of the exercise. In fact, the format of the exercises is not always the same, and this is to be seen at the very beginning, in the first line. The AFC2 and AX exercises have to be split first by the symbol \"#\" because they have the date and the name of the exercise. On the other hand, the AFC5 only have one element and don't need to be parsed. The Oddity files are even more complicated as they have to be parsed several times since every exercise is in the same file. \n",
    "\n",
    "Anyhow, if you have an AFC5 file and its date has more than one element, the error will be raised. "
   ]
  },
  {
   "cell_type": "markdown",
   "metadata": {},
   "source": [
    "#### 1. How do we fix it? "
   ]
  },
  {
   "cell_type": "markdown",
   "metadata": {},
   "source": [
    "In order to solve the problem you will have to see if the format corresponds to the expected format according to the exercise type. You will also have to check if, when creating the exercise, you didn't indicate the wrong type of exercise. "
   ]
  },
  {
   "cell_type": "markdown",
   "metadata": {},
   "source": [
    "#### 2. Tips "
   ]
  },
  {
   "cell_type": "markdown",
   "metadata": {},
   "source": [
    "We talked about format earlier, here are the different parameters:\n",
    "\n",
    "                            Feb 14 2020 at 9:33AM → %b %d %Y at %I:%M%p\n",
    "                            March 07, 2019, 20:12:01 → %B %d, %Y, %H:%M:%S\n",
    "                            Tue,22/12/98,12:35PM → %a,%d/%m/%y,%I:%M%p\n",
    "                            Wed, 30 June, 2021 → %a, %d %B, %Y"
   ]
  },
  {
   "cell_type": "markdown",
   "metadata": {},
   "source": [
    "## VI. Value Errors: "
   ]
  },
  {
   "cell_type": "markdown",
   "metadata": {},
   "source": [
    "### A. \"ValueError: too many values to unpack (expected x)\""
   ]
  },
  {
   "cell_type": "markdown",
   "metadata": {},
   "source": [
    "#### 1. How do we fix it?"
   ]
  },
  {
   "cell_type": "markdown",
   "metadata": {},
   "source": [
    "This is another error that we found very often, especially when we introduced the AX exercise. For the latter case, the function __isinstance__ helped us pass the exercises AX when the demanded key was \"Vowel\"."
   ]
  },
  {
   "cell_type": "markdown",
   "metadata": {},
   "source": [
    "### B. \"ValueError: The truth value of an array with more than one element is ambiguous. Use a.any() or a.all()\""
   ]
  },
  {
   "cell_type": "markdown",
   "metadata": {},
   "source": [
    "An array in boolean context is ambiguous since it can mean `True` if any element is True, or it can mean `True` if all elements are True, or even `True` if the array has non-zero length. This explains why the ValueError is raised."
   ]
  },
  {
   "cell_type": "markdown",
   "metadata": {},
   "source": [
    "#### 1. How do we fix it?"
   ]
  },
  {
   "cell_type": "markdown",
   "metadata": {},
   "source": [
    "The error was raised when we used the plot functions __chart_all_exos__ and __hist_all_exos__. In this context, we wanted to make the function pass if the values were equal to 0. In order to do this we created a sel_arr equal to value different from 0 (!=0). This evaluates if the condition is true or false. If it's false (so the value IS equal to 0) (if np.all(sel_arr == False)), then we don't apply the function (pass). The error was therefore fixed by writing *np.all* istead of *np.array*, as it raises the ambiguity."
   ]
  },
  {
   "cell_type": "markdown",
   "metadata": {},
   "source": [
    "## VII. Attribute Errors: "
   ]
  },
  {
   "cell_type": "markdown",
   "metadata": {},
   "source": [
    "### A. \"AttributeError: 'x' object has no attribute 'y'\""
   ]
  },
  {
   "cell_type": "markdown",
   "metadata": {},
   "source": [
    "When creating a new class or function, you declare attributes to the latter. When you use functions that have been defined in this class, you have to indicate this attributes. When you don't, an error is declared, and when you indicate an attribute that wasn't declared in the definition of the class or the function, the AttributeError will be raised."
   ]
  },
  {
   "cell_type": "markdown",
   "metadata": {},
   "source": [
    "## VIII. Other types of errors: "
   ]
  },
  {
   "cell_type": "markdown",
   "metadata": {},
   "source": [
    "### A. \"UnboundLocalError: local variable 'dico' referenced before assignment\" "
   ]
  },
  {
   "cell_type": "markdown",
   "metadata": {},
   "source": [
    "While some errors are difficult to understand and correct, since they can be related to very small units of code, or even because their meaning is difficult to grasp; this one is pretty easy to fix. In fact, it just means that you have mentioned a variable (that you have defined earlier, hence \"local\") before assigning it something. "
   ]
  },
  {
   "cell_type": "markdown",
   "metadata": {},
   "source": [
    "#### How do we fix it? "
   ]
  },
  {
   "cell_type": "markdown",
   "metadata": {},
   "source": [
    "Let's take an example:"
   ]
  },
  {
   "cell_type": "code",
   "execution_count": null,
   "metadata": {},
   "outputs": [],
   "source": [
    "# We define a new function called example\n",
    "# which takes two argument: a and b.\n",
    "def example(a):\n",
    "    # a is equal to 5 and 'number'\n",
    "    # but, what is number?\n",
    "    a = 5 + number\n",
    "    # we define 'number' after \n",
    "    # having called it... not good.\n",
    "    number = 3\n",
    "    return example\n",
    "\n",
    "example(2)"
   ]
  },
  {
   "cell_type": "markdown",
   "metadata": {},
   "source": [
    "See, the error message in easy to understand in the sense that an arrow indicates the line where the error was made. It is easy to correct, you just have to introduce the variable before mention it in a sentence."
   ]
  },
  {
   "cell_type": "code",
   "execution_count": null,
   "metadata": {},
   "outputs": [],
   "source": [
    "def example(a):\n",
    "    number = 3\n",
    "    a = 5 + number\n",
    "    return example\n",
    "\n",
    "example(2)"
   ]
  },
  {
   "cell_type": "code",
   "execution_count": null,
   "metadata": {},
   "outputs": [],
   "source": []
  }
 ],
 "metadata": {
  "kernelspec": {
   "display_name": "Python 3",
   "language": "python",
   "name": "python3"
  },
  "language_info": {
   "codemirror_mode": {
    "name": "ipython",
    "version": 3
   },
   "file_extension": ".py",
   "mimetype": "text/x-python",
   "name": "python",
   "nbconvert_exporter": "python",
   "pygments_lexer": "ipython3",
   "version": "3.8.10"
  }
 },
 "nbformat": 4,
 "nbformat_minor": 4
}
