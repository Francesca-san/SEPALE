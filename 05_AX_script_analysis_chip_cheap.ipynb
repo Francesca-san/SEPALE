{
 "cells": [
  {
   "cell_type": "markdown",
   "metadata": {},
   "source": [
    "# This notebook was created to resolve the problem in an AX script"
   ]
  },
  {
   "cell_type": "markdown",
   "metadata": {},
   "source": [
    "During the analysis of the answers to the survey that was submitted to the students, we figured that there was a problem in the script regarding the couple \"chip-cheap\". The script indicated the words as being the same and as a consequence the platform indicated that the student had made a mistake, when it was not the case. We resolved the problem with the following functions."
   ]
  },
  {
   "cell_type": "markdown",
   "metadata": {},
   "source": [
    "## I. Importation of modules and functions from python scripts"
   ]
  },
  {
   "cell_type": "code",
   "execution_count": null,
   "metadata": {},
   "outputs": [],
   "source": [
    "import os\n",
    "# We import python modules\n",
    "# numpy : a mathematical function that is very useful!\n",
    "import numpy as np\n",
    "# Pyplot : very important tool if you want to create plots!\n",
    "import matplotlib.pyplot as plt\n",
    "\n",
    "# From the module utils we import the function create_dico and get_lines\n",
    "from utils import create_dico, get_lines\n",
    "\n",
    "# From the module analysis we import some functions\n",
    "from analysis import with_errors, count_errors, count_with_criteria, with_no_errors, count_right"
   ]
  },
  {
   "cell_type": "markdown",
   "metadata": {},
   "source": [
    "Using the functions __get_files_directory__ and __get_files_mult_directory__ and defining the wanted pattern as \"AX\", we select only the files that have this pattern. Get files directory prevents errors to be raised by adding \"/\" when there isn't."
   ]
  },
  {
   "cell_type": "code",
   "execution_count": null,
   "metadata": {},
   "outputs": [],
   "source": [
    "def get_files_directory(directory, pattern=\"AX\"):\n",
    "    if directory[-1] != \"/\":\n",
    "        directory += \"/\"\n",
    "    return [directory + file for file in os.listdir(directory) if  pattern in file]\n",
    "\n",
    "def get_files_mult_directory(directory_list, pattern=\"AX\"):\n",
    "    res = []\n",
    "    for d in directory_list:\n",
    "        res.extend(get_files_directory(d, pattern=pattern))\n",
    "    return res"
   ]
  },
  {
   "cell_type": "markdown",
   "metadata": {},
   "source": [
    "The application of the previous functions gives us a list of the files that have the chosen pattern.\n",
    "\n",
    "To use this function you'll have to put the path to the directory which contains the scripts of the AX exercises."
   ]
  },
  {
   "cell_type": "code",
   "execution_count": null,
   "metadata": {},
   "outputs": [],
   "source": [
    "example_directory = \"./Sepale script\"\n",
    "print(get_files_directory(example_directory, pattern=\"AX\"))\n",
    "list_files = get_files_directory(example_directory, pattern=\"AX\")"
   ]
  },
  {
   "cell_type": "markdown",
   "metadata": {},
   "source": [
    "## II. Creation of a function which parses and compares the two stimuli"
   ]
  },
  {
   "cell_type": "markdown",
   "metadata": {},
   "source": [
    "In this exercise, if the words are the same, a 1 is indicated. If not, a 2 is indicated.\n",
    "\n",
    "In this cell we compare the words; if they are the same a 1 is expected. If this is not the case, \"False\" is indicated. "
   ]
  },
  {
   "cell_type": "code",
   "execution_count": null,
   "metadata": {},
   "outputs": [],
   "source": [
    "lines = get_lines(list_files[2])\n",
    "# We create a new list, split\n",
    "split = []\n",
    "# for the variable line in the lines\n",
    "# we retrieved using get_lines,\n",
    "for line in lines:\n",
    "    # We replace the line breaks (\\n) by spaces\n",
    "    tmp = line.replace('\\n', '')\n",
    "    # We parse according to the tabulation\n",
    "    tmp = tmp.split('\\t')\n",
    "    # we add the split pieces to the list\n",
    "    split.append(tmp)\n",
    "# the keys are in the first line\n",
    "keys = split[0]\n",
    "# the date is from line 2 onwards.\n",
    "data = split[1:]\n",
    "\n",
    "for dataline in data:\n",
    "    # first word of the list will be\n",
    "    # the first element ([0]), and we\n",
    "    # will split it when symbol \"_\".\n",
    "    first = dataline[0].split(\"_\")[1]\n",
    "    # second word of the list will be\n",
    "    # the second element ([1]), and we\n",
    "    # will split it when symbol \"_\"\n",
    "    second = dataline[1].split(\"_\")[1]\n",
    "    # if the first word is equal to the second\n",
    "    if first == second:\n",
    "        # then right_value = 1\n",
    "        right_value = 1\n",
    "    else:\n",
    "        # if not, right_value = 2\n",
    "        right_value = 2\n",
    "    # The function will show \"True\" if the \n",
    "    # right value is equal to the third \n",
    "    # element of dataline, if 1 == 1.\n",
    "    correct = (right_value == int(dataline[2]))\n",
    "\n",
    "    print(f'{first} {second} -> correct? {correct}')"
   ]
  },
  {
   "cell_type": "code",
   "execution_count": null,
   "metadata": {},
   "outputs": [],
   "source": []
  }
 ],
 "metadata": {
  "kernelspec": {
   "display_name": "Python 3",
   "language": "python",
   "name": "python3"
  },
  "language_info": {
   "codemirror_mode": {
    "name": "ipython",
    "version": 3
   },
   "file_extension": ".py",
   "mimetype": "text/x-python",
   "name": "python",
   "nbconvert_exporter": "python",
   "pygments_lexer": "ipython3",
   "version": "3.8.5"
  }
 },
 "nbformat": 4,
 "nbformat_minor": 4
}
