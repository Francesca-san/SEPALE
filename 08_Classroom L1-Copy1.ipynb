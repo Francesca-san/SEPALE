{
 "cells": [
  {
   "cell_type": "markdown",
   "metadata": {},
   "source": [
    "# Analysis of the data for a Classroom"
   ]
  },
  {
   "cell_type": "markdown",
   "metadata": {},
   "source": [
    "## I. Importation of modules and functions from python scripts"
   ]
  },
  {
   "cell_type": "code",
   "execution_count": null,
   "metadata": {},
   "outputs": [],
   "source": [
    "# We import python modules\n",
    "# numpy : a mathematical function that is very useful!\n",
    "import numpy as np\n",
    "import os\n",
    "from graphs import *\n",
    "from exo import *\n",
    "from student import *\n",
    "\n",
    "plt.rcParams[\"figure.figsize\"] = (40,20)\n",
    "plt.rcParams[\"font.size\"] = 15"
   ]
  },
  {
   "cell_type": "markdown",
   "metadata": {},
   "source": [
    "In this previous section, we imported modules and functions which will help us for the analysis. \n",
    "The class `Classroom` has been defined in the python script *classroom.py*, we have imported all the modules which contain the functions that we presently need. \n",
    "\n",
    "If you want to see the detail of the functions, you can click on the other notebooks and scripts that are in the Home Page."
   ]
  },
  {
   "cell_type": "markdown",
   "metadata": {},
   "source": [
    "## II. Use of plots"
   ]
  },
  {
   "cell_type": "markdown",
   "metadata": {},
   "source": [
    "### 1. Histograms and pie charts"
   ]
  },
  {
   "cell_type": "markdown",
   "metadata": {},
   "source": [
    "We use the function __hist_all_exos__ which creates histograms for all the students in a classroom. We also use the function __chart_all_exos__ to make pie charts for the first-year students (L1). "
   ]
  },
  {
   "cell_type": "markdown",
   "metadata": {},
   "source": [
    "In this cell we make plots for the number of repetitions per stimuli (for __hist_all_exos__), but remember that you can change these parameters as you please! You can therefore change *Vowel*, and put *Stimulus* instead, and vice versa. Same goes for *Repetitions* which can be replaced by *NbErreurs*, or *Response Time*. Feel free to play around with it. However, remember to change the title, here it's *Repetitions per stimuli/vowel*.\n",
    "\n",
    "If you are doing a __hist_all_exos__, I would recomment setting the *xrotation* at 90 (it is the case here) when the key is \"Stimulus\" because the labels are rather long. If you don't, the labels will overlap."
   ]
  },
  {
   "cell_type": "code",
   "execution_count": null,
   "metadata": {},
   "outputs": [],
   "source": [
    "\n",
    "# We define the base for all the students\n",
    "base_L1 = \"./log_files/L1/\"\n",
    "\n",
    "# We create an empty list called student_list.\n",
    "student_list = []\n",
    "# list_student is the list of students in base_L1.\n",
    "list_students = os.listdir(base_L1)\n",
    "# for all the paths in this list of students\n",
    "for student_path in list_students:\n",
    "    # we create a nex instance called student which\n",
    "    # belongs to the class Student and takes\n",
    "    # two arguments, base_L1 + the student_path.\n",
    "    student = Student(base_L1 + student_path)\n",
    "    # We add student to student_list.\n",
    "    student_list.append(student)\n",
    "\n",
    "# for student in student_list\n",
    "for student in student_list:\n",
    "    # we show the name and surname of the student.\n",
    "    print(student.name, student.surname)\n",
    "    # We call the function hist_all_exos and give\n",
    "    # it the right arguments: the key, criterion,\n",
    "    # title, xlabel, ylabel, and xrotation.\n",
    "    #%matplotlib\n",
    "    student.hist_all_exos(\"Vowel\", \"NbErreurs\", \"Errors per vowel\", \"Vowel\",\"Errors\")\n",
    "    # We call the function chart_all_exos and give it the \n",
    "    # right arguments: the key, criterion, and title.\n",
    "    #student.chart_all_exos(\"Vowel\", \"Repetitions\", \"Repetitions per vowel\")"
   ]
  },
  {
   "cell_type": "markdown",
   "metadata": {},
   "source": [
    "### 2. Tables"
   ]
  },
  {
   "cell_type": "markdown",
   "metadata": {},
   "source": [
    "In this cell we use the function __plot_table_by_key__ to make a table of the average of all the parameters (*repetitions*, *number of errors*, and *response time*) per vowel and per stimuli."
   ]
  },
  {
   "cell_type": "code",
   "execution_count": null,
   "metadata": {},
   "outputs": [],
   "source": [
    "base_L1 = \"./log_files/L1/\"\n",
    "\n",
    "student_list = []\n",
    "list_students = os.listdir(base_L1)\n",
    "for student_path in list_students:\n",
    "    student = Student(base_L1 + student_path)\n",
    "    student_list.append(student)\n",
    "\n",
    "\n",
    "for student in student_list:\n",
    "    print(student.name, student.surname)\n",
    "    student.plot_table_by_key(\"Stimulus\", xscale=0.5, yscale=4)    \n",
    "    student.plot_table_by_key(\"Vowel\", xscale=0.5, yscale=4)"
   ]
  },
  {
   "cell_type": "markdown",
   "metadata": {},
   "source": [
    "### 3. Group bar chart "
   ]
  },
  {
   "cell_type": "markdown",
   "metadata": {},
   "source": [
    "A group bar chart is a histogram with more than one bar. The plot makes an average of the key and displays a bar for each criteria. If you want to see how we did it, you can check the script in <span style=\"text-decoration: underline\">exo.py</span> and <span style=\"text-decoration: underline\">student.py</span>.\n",
    "\n",
    "We recommend only using this plot for the vowels as it rapidly gets messy. However, if you don't have many students, you can delete '#' before *%matplotlib* to stop displaying it as a comment. *%matplotlib* opens the plot on a different window and offers you the possibility to zoom in. However, if you have too many students you'll be flooded with pop-up windows."
   ]
  },
  {
   "cell_type": "code",
   "execution_count": null,
   "metadata": {},
   "outputs": [],
   "source": [
    "#%matplotlib\n",
    "base_L1 = \"./log_files/L1/\"\n",
    "\n",
    "student_list = []\n",
    "list_students = os.listdir(base_L1)\n",
    "for student_path in list_students:\n",
    "    student = Student(base_L1 + student_path)\n",
    "    student_list.append(student)\n",
    "\n",
    "\n",
    "for student in student_list:\n",
    "    print(student.name, student.surname)\n",
    "    student.group_bar_hist([\"Repetitions\", \"NbErreurs\"], \"Criteria by key\", \"Average\", key=\"Vowel\")"
   ]
  },
  {
   "cell_type": "markdown",
   "metadata": {},
   "source": [
    "### 4. Graphic  "
   ]
  },
  {
   "cell_type": "markdown",
   "metadata": {},
   "source": [
    "This graphic displays a line which follows the number of errors per vowel in a chronological order to see if there is an evolution. \n",
    "Although we can see a decrease in terms of errors, it is difficult to say for sure that it is due to the exercises because the students did not make many of them. However, if the project was to be presented earlier, the students would make more exercises and the graphic would be more telling."
   ]
  },
  {
   "cell_type": "markdown",
   "metadata": {},
   "source": [
    "Using the same base as before (*base_L1*), we plot the graphic for all the students in the list of students. "
   ]
  },
  {
   "cell_type": "code",
   "execution_count": null,
   "metadata": {},
   "outputs": [],
   "source": [
    "for student in student_list:\n",
    "    print(student.name, student.surname)\n",
    "    student.plot_criteria_by_date(\"Vowel\", \"NbErreurs\", \"Number of errors per vowel through time\", \"Date\", \"Averaged number of mistakes\", 90)"
   ]
  },
  {
   "cell_type": "code",
   "execution_count": null,
   "metadata": {},
   "outputs": [],
   "source": [
    "import os\n",
    "import numpy as np\n",
    "from classroom import *\n",
    "\n",
    "# The first number refers to the abscissa \n",
    "# the second to the ordinate\n",
    "plt.rcParams[\"figure.figsize\"] = (25,5)\n",
    "plt.rcParams[\"font.size\"] = 7\n",
    "\n",
    "\n",
    "# We define a new class called \"All_classrooms\"\n",
    "class All_classrooms:\n",
    "    '''\n",
    "    This is a description of the class, \n",
    "    If you have any problem with it\n",
    "    you can always write help(All_classrooms)\n",
    "    '''\n",
    "    # This is the initializing function of any exercise\n",
    "    # It has only one argument, called \"base\"\n",
    "    def __init__(self, base_list):\n",
    "        #self.base_list = [\"./log_files/L1/\", \"./log_files/L2/\", \"./log_files/L3/\"] = base_list\n",
    "        self.base_list = [base_L1, base_L2, base_L3] = base_list\n",
    "        # Here we define the shared attributes of all the students\n",
    "        # They all have a path, the base of the directory\n",
    "        #self.base_list = base_list\n",
    "        # A classroom contains several students\n",
    "        self.create_classroom()\n",
    "        \n",
    "        \n",
    "    # As this function is in the __init__ function, \n",
    "    # it means that the function will start  \n",
    "    # any time the class Classroom is called.        \n",
    "    def create_classroom(self):\n",
    "        # in order to avoid error message, we\n",
    "        # ask the function to add a slash \n",
    "        # to the base if there is none.\n",
    "        #if self.base_list[-1] != \"/\":\n",
    "            #self.base_list += \"/\"\n",
    "        # we create an empty list\n",
    "        self.classroom_list = []\n",
    "        # list_students corresponds \n",
    "        # to all the elements in base\n",
    "        list_classroom = os.listdir(self.base_list)\n",
    "        # for the path of a student in the list\n",
    "        for classroom_path in list_classroom:\n",
    "            # a student is an instance which belongs\n",
    "            # to the class Student which has one attribute,\n",
    "            # base (or path). The path is the base and\n",
    "            # the path to the student's exercises.\n",
    "            classroom = Classroom(self.base_list + classroom_path)\n",
    "            self.classroom_list.append(classroom)\n",
    "            \n",
    "            \n",
    "    def criteria_by_key(self, key, criteria):\n",
    "        res = {}\n",
    "        # For each exercise, we retrieve the dictionaries\n",
    "        list_dicos = []\n",
    "        # for a student in the list of students\n",
    "        for classroom in self.classroom_list:\n",
    "            # we add to the empty list the \n",
    "            # results of their criteria by key\n",
    "            list_dicos.append(classroom.criteria_by_key(key, criteria))\n",
    "        return merge_list_dicos(list_dicos)\n"
   ]
  },
  {
   "cell_type": "code",
   "execution_count": null,
   "metadata": {},
   "outputs": [],
   "source": [
    "base = \"./log_files/\"\n",
    "\n",
    "bases = []\n",
    "list_bases = os.listdir(base)\n",
    "for classroom_path in list_bases:\n",
    "    classroom = Classroom(base + classroom_path)\n",
    "    bases.append(classroom)\n",
    "    \n",
    "#base_L1 = \"./log_files/L1/\"\n",
    "L1 = Classroom(\"./log_files/L1/\")\n",
    "bases.append(L1)\n",
    "#base_L2 = \"./log_files/L2/\"\n",
    "L2 = Classroom(\"./log_files/L2/\")\n",
    "bases.append(L2)\n",
    "#base_L3 = \"./log_files/L3/\"\n",
    "L3 = Classroom(\"./log_files/L3/\")\n",
    "bases.append(L3)\n",
    "\n",
    "#bases = L1, L2, L3\n",
    "base_list = Classroom(bases)\n",
    "#base_L1, base_L2, base_L3 = base_list\n",
    "#base_list = All_classrooms([\"./log_files/L1/\", \"./log_files/L2/\", \"./log_files/L3/\"])\n",
    "\n",
    "\n",
    "student_list = []\n",
    "list_students = os.listdir(base_list)\n",
    "for student_path in list_students:\n",
    "    student = Student(base_list + student_path)\n",
    "    student_list.append(student)\n",
    "\n",
    "\n",
    "for student in student_list:\n",
    "    print(student.name, student.surname)\n",
    "    student.group_bar_hist([\"Repetitions\", \"NbErreurs\"], \"Criteria by key\", \"Average\", key=\"Vowel\")"
   ]
  },
  {
   "cell_type": "code",
   "execution_count": null,
   "metadata": {},
   "outputs": [],
   "source": []
  }
 ],
 "metadata": {
  "kernelspec": {
   "display_name": "Python 3",
   "language": "python",
   "name": "python3"
  },
  "language_info": {
   "codemirror_mode": {
    "name": "ipython",
    "version": 3
   },
   "file_extension": ".py",
   "mimetype": "text/x-python",
   "name": "python",
   "nbconvert_exporter": "python",
   "pygments_lexer": "ipython3",
   "version": "3.8.10"
  }
 },
 "nbformat": 4,
 "nbformat_minor": 4
}
