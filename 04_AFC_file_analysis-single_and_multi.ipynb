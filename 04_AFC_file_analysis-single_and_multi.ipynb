{
 "cells": [
  {
   "cell_type": "markdown",
   "metadata": {},
   "source": [
    "# This notebook contains functions to anayse one or several AFC files for a single student."
   ]
  },
  {
   "cell_type": "markdown",
   "metadata": {},
   "source": [
    "## I. Importation of modules and functions from python scripts"
   ]
  },
  {
   "cell_type": "code",
   "execution_count": 1,
   "metadata": {},
   "outputs": [],
   "source": [
    "# We import python modules\n",
    "# numpy : a mathematical function that is very useful!\n",
    "import numpy as np\n",
    "# Pyplot : very important tool if you want to create plots!\n",
    "import matplotlib.pyplot as plt\n",
    "\n",
    "# From the module utils we import the function create_dico\n",
    "# which is helpful if you want to manage files\n",
    "from utils import create_dico\n",
    "\n",
    "# From the module analysis we import many functions\n",
    "from analysis import with_errors, count_errors, count_with_criteria, with_no_errors, count_right"
   ]
  },
  {
   "cell_type": "markdown",
   "metadata": {},
   "source": [
    "## II. Setting the path to the logfile we are to analyse"
   ]
  },
  {
   "cell_type": "code",
   "execution_count": 2,
   "metadata": {},
   "outputs": [
    {
     "data": {
      "text/plain": [
       "['AX_a_Thu_Mar_11_18_06_13_2021.log',\n",
       " '2AFC_i_Thu_Mar_18_17_22_34_2021.log',\n",
       " '2AFC_a_Thu_Mar_11_18_13_17_2021.log',\n",
       " '5AFC_1_Sat_Mar_20_21_10_31_2021.log',\n",
       " 'AX_i_Sat_Feb_20_18_51_07_2021.log',\n",
       " 'AX_i_Thu_Mar_11_18_00_08_2021.log',\n",
       " '2AFC_a_Sun_Mar_28_15_00_32_2021.log',\n",
       " 'AX_i_Tue_Apr_06_18_39_38_2021.log',\n",
       " '2AFC_av_Thu_Mar_11_18_10_41_2021.log',\n",
       " '2AFC_a_Tue_Apr_06_18_42_06_2021.log',\n",
       " '2AFC_i_Thu_Apr_29_18_57_34_2021.log',\n",
       " '2AFC_a_Thu_Apr_29_18_53_37_2021.log',\n",
       " '5AFC_1_Thu_Mar_11_18_18_46_2021.log',\n",
       " '5AFC_2_Sat_Apr_10_12_45_13_2021.log',\n",
       " 'AX_av_Tue_Apr_06_18_35_37_2021.log',\n",
       " 'AX_av_Thu_Mar_18_17_09_34_2021.log',\n",
       " '5AFC_2_Sat_Mar_13_17_46_12_2021.log',\n",
       " '5AFC_2_Sat_Apr_17_20_49_15_2021.log',\n",
       " '5AFC_1_Sun_Mar_28_15_06_29_2021.log',\n",
       " '5AFC_1_Sun_Mar_07_17_37_44_2021.log',\n",
       " '5AFC_1_Sat_Mar_13_17_43_23_2021.log',\n",
       " '2AFC_i_Tue_Apr_06_18_45_51_2021.log',\n",
       " 'AX_a_Sun_Mar_07_17_29_09_2021.log',\n",
       " '5AFC_2_Sat_Mar_20_21_12_55_2021.log',\n",
       " '2AFC_i_Sun_Mar_28_15_04_00_2021.log',\n",
       " 'ListeOddity_1_00.txt',\n",
       " '5AFC_2_Sun_Mar_28_15_08_40_2021.log',\n",
       " 'AX_av_Thu_Mar_11_18_03_15_2021.log',\n",
       " '5AFC_1_Sat_Apr_17_20_47_22_2021.log',\n",
       " 'AX_av_Sun_Mar_07_17_44_23_2021.log',\n",
       " 'AX_av_Wed_Apr_21_20_27_13_2021.log',\n",
       " 'AX_av_Wed_Apr_14_18_42_26_2021.log',\n",
       " '2AFC_a_Sat_Feb_20_18_56_39_2021.log',\n",
       " '2AFC_av_Wed_Apr_14_18_49_29_2021.log',\n",
       " '2AFC_i_Wed_Apr_21_20_36_54_2021.log',\n",
       " '5AFC_1_Sat_Feb_20_18_59_16_2021.log',\n",
       " '5AFC_2_Sun_Mar_07_17_51_10_2021.log',\n",
       " 'ListeOddity_2_00.txt',\n",
       " '2AFC_a_Thu_Mar_18_17_15_16_2021.log',\n",
       " 'AX_i_Thu_Mar_18_17_12_33_2021.log',\n",
       " 'AX_a_Wed_Apr_21_20_30_11_2021.log',\n",
       " 'AX_a_Wed_Apr_14_18_39_39_2021.log',\n",
       " 'AX_i_Sun_Mar_28_14_58_01_2021.log',\n",
       " 'AX_a_Tue_Apr_06_18_32_58_2021.log',\n",
       " '5AFC_1_Sat_Apr_24_18_31_44_2021.log',\n",
       " 'AX_a_Sun_Mar_28_14_53_20_2021.log',\n",
       " 'AX_av_Sun_Mar_28_14_55_28_2021.log',\n",
       " '2AFC_a_Thu_Mar_11_18_08_44_2021.log',\n",
       " '2AFC_av_Sun_Mar_07_17_35_10_2021.log',\n",
       " 'AX_a_Thu_Mar_18_17_06_02_2021.log',\n",
       " 'AX_i_Thu_Apr_29_18_45_43_2021.log',\n",
       " '5AFC_1_Sat_Apr_10_12_43_02_2021.log',\n",
       " '2AFC_a_Wed_Apr_21_20_33_21_2021.log',\n",
       " '2AFC_a_Wed_Apr_14_18_47_51_2021.log',\n",
       " '2AFC_av_Thu_Apr_29_18_55_17_2021.log',\n",
       " 'AX_i_Wed_Apr_21_20_24_41_2021.log',\n",
       " 'AX_av_Thu_Apr_29_18_48_21_2021.log',\n",
       " '2AFC_av_Thu_Mar_18_17_16_57_2021.log',\n",
       " '5AFC_2_Sat_Apr_24_18_33_46_2021.log',\n",
       " '2AFC_av_Sun_Mar_07_17_48_56_2021.log',\n",
       " 'AX_a_Thu_Apr_29_18_50_50_2021.log',\n",
       " 'AX_i_Wed_Apr_14_18_44_59_2021.log',\n",
       " '2AFC_i_Wed_Apr_14_18_51_10_2021.log',\n",
       " '2AFC_av_Sun_Mar_28_15_02_09_2021.log',\n",
       " '2AFC_av_Tue_Apr_06_18_43_56_2021.log',\n",
       " '5AFC_2_Thu_Mar_11_18_21_14_2021.log',\n",
       " '2AFC_av_Wed_Apr_21_20_35_06_2021.log']"
      ]
     },
     "execution_count": 2,
     "metadata": {},
     "output_type": "execute_result"
    }
   ],
   "source": [
    "import os\n",
    "example_directory = \"log_files/L1/Cassandra Amaro Ribeiro_1365824_assignsubmission_file_/logFiles/logFiles\"\n",
    "# The function listdir makes a list of \n",
    "# all the files in example_directory\n",
    "os.listdir(example_directory)"
   ]
  },
  {
   "cell_type": "code",
   "execution_count": 3,
   "metadata": {},
   "outputs": [],
   "source": [
    "# We take the directory of a random student, you can change it\n",
    "example_directory = \"log_files/L1/Cassandra Amaro Ribeiro_1365824_assignsubmission_file_/logFiles/logFiles\"\n",
    "# example_file = example_directory + \"/5AFC_2_Sat_Jan_30_22_11_07_2021.log\"\n",
    "example_file = example_directory + \"/2AFC_i_Thu_Mar_18_17_22_34_2021.log\"\n"
   ]
  },
  {
   "cell_type": "markdown",
   "metadata": {},
   "source": [
    "## III. Creation of a dictionary"
   ]
  },
  {
   "cell_type": "markdown",
   "metadata": {},
   "source": [
    "We create a dictionary called exo_dico, which will \"remember\", in a way, the different keys of the example_file."
   ]
  },
  {
   "cell_type": "markdown",
   "metadata": {},
   "source": [
    "Using the different functions that we imported earlier, we count the number of mistakes (count_error), of right answers (count_right), of repetitions (np.sum) etc. Don't forget that you can always change the key or the criteria you want to count!"
   ]
  },
  {
   "cell_type": "code",
   "execution_count": 4,
   "metadata": {
    "scrolled": true
   },
   "outputs": [
    {
     "name": "stdout",
     "output_type": "stream",
     "text": [
      "dict_keys(['Sound File', 'Stimulus', 'Vowel', 'Response Time', 'NbErreurs', 'Repetitions', 'date'])\n",
      "{'I': 3.0, 'i': 3.0}\n",
      "{'I': 12, 'i': 12}\n",
      "{'deed': 0, 'peak': 1.0, 'bik': 0, 'min': 1.0, 'pick': 0, 'did': 0, 'keep': 0, 'leak': 1.0, 'teak': 1.0, 'bin': 0, 'tick': 1.0, 'kip': 1.0, 'mean': 0, 'cheap': 0, 'lick': 0, 'bean': 0}\n",
      "0.0\n",
      "{'deed': 0, 'peak': 1.0, 'bik': 0, 'min': 1.0, 'pick': 0, 'did': 0, 'keep': 0, 'leak': 1.0, 'teak': 1.0, 'bin': 0, 'tick': 1.0, 'kip': 1.0, 'mean': 0, 'cheap': 0, 'lick': 0, 'bean': 0}\n",
      "41.923991680145264\n"
     ]
    }
   ],
   "source": [
    "exo_dico = create_dico(example_file)\n",
    "\n",
    "print(exo_dico.keys())\n",
    "print(count_errors(exo_dico, key=\"Vowel\", count_one=False))\n",
    "print(count_right(exo_dico, key=\"Vowel\"))\n",
    "print(count_errors(exo_dico, key=\"Stimulus\", count_one=False))\n",
    "print(np.sum(exo_dico['Repetitions']))\n",
    "print(count_with_criteria(exo_dico, key=\"Stimulus\", criteria='NbErreurs'))\n",
    "print(np.sum(exo_dico[\"Response Time\"]))\n"
   ]
  },
  {
   "cell_type": "markdown",
   "metadata": {},
   "source": [
    "## III. Use of functions to make a simple table"
   ]
  },
  {
   "cell_type": "markdown",
   "metadata": {},
   "source": [
    "### 1. Right and wrong answers"
   ]
  },
  {
   "cell_type": "markdown",
   "metadata": {},
   "source": [
    "With the same technique as before we create a dictionary for the exercise.\n",
    "With the functions that we imported from the module analysis, we count the right and wrong answers and then make a rudimentary table that makes it easier to visualise the statistics for the file."
   ]
  },
  {
   "cell_type": "markdown",
   "metadata": {},
   "source": [
    "As always, you can change the key and criteria."
   ]
  },
  {
   "cell_type": "code",
   "execution_count": 5,
   "metadata": {
    "scrolled": true
   },
   "outputs": [
    {
     "name": "stdout",
     "output_type": "stream",
     "text": [
      "dict_keys(['Sound File', 'Stimulus', 'Vowel', 'Response Time', 'NbErreurs', 'Repetitions', 'date'])\n",
      "key | errors | right\n",
      "--------------------\n",
      "I   |  3.0   | 12\n",
      "i   |  3.0   | 12\n"
     ]
    }
   ],
   "source": [
    "exo_dico = create_dico(example_file)\n",
    "print(exo_dico.keys())\n",
    "err_vowels = count_errors(exo_dico, key=\"Vowel\", count_one=False)\n",
    "right_vowels = count_right(exo_dico, key=\"Vowel\")\n",
    "err_stimulus = count_errors(exo_dico, key=\"Stimulus\", count_one=False)\n",
    "sum_rep = np.sum(exo_dico['Repetitions'])\n",
    "rep_by_stimulus = count_with_criteria(exo_dico, key=\"Stimulus\", criteria='Repetitions')\n",
    "sum_time = np.sum(exo_dico[\"Response Time\"])\n",
    "\n",
    "vowel_keys = set(list(err_vowels.keys()) + list(right_vowels.keys()))\n",
    "print(\"key | errors | right\")\n",
    "print(\"--------------------\")\n",
    "for k in vowel_keys:\n",
    "    if k in err_vowels.keys():\n",
    "        error = err_vowels[k]\n",
    "    else:\n",
    "        error = 0\n",
    "    if k in right_vowels.keys():\n",
    "        right = right_vowels[k]\n",
    "    else:\n",
    "        right = 0\n",
    "    print(f\"{k}   |  {error}   | {right}\")\n",
    "      \n",
    "    \n",
    "        "
   ]
  },
  {
   "cell_type": "markdown",
   "metadata": {},
   "source": [
    "You can set a list using the functions. Here we make a list of the vowels for which the student made a mistake, and the ones for which the student made no mistakes. It is not surprising that we obtain all the vowels, but feel free to play around with it."
   ]
  },
  {
   "cell_type": "code",
   "execution_count": 6,
   "metadata": {},
   "outputs": [
    {
     "data": {
      "text/plain": [
       "{'I', 'i'}"
      ]
     },
     "execution_count": 6,
     "metadata": {},
     "output_type": "execute_result"
    }
   ],
   "source": [
    "set(list(err_vowels.keys()) + list(right_vowels.keys()))\n"
   ]
  },
  {
   "cell_type": "markdown",
   "metadata": {},
   "source": [
    "### 2. Right and wrong answers and response time"
   ]
  },
  {
   "cell_type": "markdown",
   "metadata": {},
   "source": [
    "We create a dictionary for the same file but this time with three attributes: the sum of errors (count_errors), the sum of right answers (count_right), and the total response time (count_with_criteria). The dictionaries for these functions are called err_dico, right_dico, and time_dico, respectively."
   ]
  },
  {
   "cell_type": "markdown",
   "metadata": {},
   "source": [
    "With the function time_counters we count the number of times we encounter a specific key so that we can devide the total by the time_counters and obtain the average."
   ]
  },
  {
   "cell_type": "markdown",
   "metadata": {},
   "source": [
    "The function print_stat_exos makes a simple table."
   ]
  },
  {
   "cell_type": "code",
   "execution_count": 9,
   "metadata": {},
   "outputs": [],
   "source": [
    "def exo_stat(file, key=\"Vowel\"):\n",
    "    dico_exo = create_dico(file)\n",
    "    err_dico = count_errors(dico_exo, key=key, count_one=False)\n",
    "    right_dico = count_right(dico_exo, key=key)\n",
    "    time_dico = count_with_criteria(dico_exo, key=key, criteria='Response Time')\n",
    "\n",
    "    keys = set(list(err_dico.keys()) + list(right_dico.keys()))\n",
    "    res = {}\n",
    "    time_counters = {}\n",
    "    for k in keys:\n",
    "        time_counters[k] = 0\n",
    "    for k in keys:\n",
    "        if k in err_dico.keys():\n",
    "            error = err_dico[k]\n",
    "        else:\n",
    "            error = 0\n",
    "        if k in right_dico.keys():\n",
    "            right = right_dico[k]\n",
    "        else:\n",
    "            right = 0\n",
    "        if k in time_dico.keys():\n",
    "            time = time_dico[k]\n",
    "            # We increase the counter by increments\n",
    "            time_counters[k] += 1\n",
    "        else:\n",
    "            time = 0\n",
    "        res[k] = [error, right, time]\n",
    "    # We calculate the average for each key\n",
    "    for k in keys:\n",
    "        res[k][2] /= time_counters[k]\n",
    "    return res\n",
    "\n",
    "def stat_mult_exo(list_files, key=\"Vowel\"):\n",
    "    # key : [attribute 1, attribute 2]\n",
    "    # attribute 1 = sum of wrong answers, attribute 2 = sum of right answers\n",
    "    dico_res = {}\n",
    "    for file in list_files:\n",
    "        # We retrieve the statistics for an exercise\n",
    "        dico_exo = exo_stat(file, key=key)\n",
    "        # We combine the data\n",
    "        for k, v in dico_exo.items():\n",
    "            # If we have already encountered this key, we add the value\n",
    "            if k in dico_res.keys():\n",
    "                # we combine the first attribute\n",
    "                dico_res[k][0] += dico_exo[k][0]\n",
    "                # we combine the second attribute\n",
    "                dico_res[k][1] += dico_exo[k][1]\n",
    "            else:\n",
    "                # If not, we set up the values corresponding\n",
    "                # to the key for the current exercise\n",
    "                dico_res[k] = dico_exo[k]\n",
    "    return dico_res\n",
    "\n",
    "\n",
    "def print_stat_exo(dico_exo):\n",
    "    print(\"| key  | errors | right | mean resp time |\")\n",
    "    print(\"|----------------------------------------|\")\n",
    "    for k, v in dico_exo.items():\n",
    "        print(f\"| {k}    |   {v[0]}  |   {v[1]}  | {v[2]}|\")"
   ]
  },
  {
   "cell_type": "code",
   "execution_count": 12,
   "metadata": {},
   "outputs": [
    {
     "name": "stdout",
     "output_type": "stream",
     "text": [
      "| key  | errors | right | mean resp time |\n",
      "|----------------------------------------|\n",
      "| I    |   3.0  |   12  | 20.099112033843994|\n",
      "| i    |   3.0  |   12  | 21.82487964630127|\n"
     ]
    }
   ],
   "source": [
    "dico_multi = stat_mult_exo([example_file], key=\"Vowel\")\n",
    "print_stat_exo(dico_multi)"
   ]
  },
  {
   "cell_type": "markdown",
   "metadata": {},
   "source": [
    "## IV. Selecting files that have the pattern \"AFC\" to analyse them"
   ]
  },
  {
   "cell_type": "markdown",
   "metadata": {},
   "source": [
    "### 1. Definitions of functions"
   ]
  },
  {
   "cell_type": "markdown",
   "metadata": {},
   "source": [
    "The function get_files_directory has two attributes that are \"directory\" and \"pattern = \"AFC\"\". The purpose of the function is to add a backslash if the example_directory does not have one at the end, it avoids the raise of errors. \n",
    "\n",
    "The previous function also makes a list of the fles that have the demanded pattern (here \"AFC\"), and this list is used in the function get_files_mult_directory."
   ]
  },
  {
   "cell_type": "code",
   "execution_count": 16,
   "metadata": {},
   "outputs": [],
   "source": [
    "example_directory = \"log_files/L1/Cassandra Amaro Ribeiro_1365824_assignsubmission_file_/logFiles/logFiles\"\n",
    "\n",
    "# We retrieve the files with the pattern \"AFC\"\n",
    "def get_files_directory(directory, pattern=\"AFC\"):\n",
    "    if directory[-1] != \"/\":\n",
    "        directory += \"/\"\n",
    "    return [directory + file for file in os.listdir(directory) if  pattern in file]\n",
    "\n",
    "def get_files_mult_directory(directory_list, pattern=\"AFC\"):\n",
    "    res = []\n",
    "    for d in directory_list:\n",
    "        res.extend(get_files_directory(d, pattern=pattern))\n",
    "    return res\n"
   ]
  },
  {
   "cell_type": "markdown",
   "metadata": {},
   "source": [
    "### 2. Application of the previously introduced functions"
   ]
  },
  {
   "cell_type": "markdown",
   "metadata": {},
   "source": [
    "The following cell is the application of the functions that have been defined previously.\n",
    "\n",
    "In this sense, we take the path to a directory that contains a certain number of files and we make a table which sums the different parameters."
   ]
  },
  {
   "cell_type": "markdown",
   "metadata": {},
   "source": [
    "Feel free to change the parameters."
   ]
  },
  {
   "cell_type": "code",
   "execution_count": 14,
   "metadata": {
    "scrolled": true
   },
   "outputs": [
    {
     "name": "stdout",
     "output_type": "stream",
     "text": [
      "| key  | errors | right | mean resp time |\n",
      "|----------------------------------------|\n",
      "| I    |   46.0  |   153  | 20.099112033843994|\n",
      "| i    |   36.0  |   157  | 21.82487964630127|\n",
      "| v    |   49.0  |   336  | 23.02758479118347|\n",
      "| a    |   15.0  |   207  | 22.457881212234497|\n",
      "| A    |   75.0  |   171  | 8.713584184646606|\n"
     ]
    }
   ],
   "source": [
    "directory_list = [\"log_files/L1/Cassandra Amaro Ribeiro_1365824_assignsubmission_file_/logFiles/logFiles\"]\n",
    "\n",
    "AFC_files = get_files_mult_directory(directory_list, pattern=\"AFC\")\n",
    "dico_multi = stat_mult_exo(AFC_files, key=\"Vowel\")\n",
    "print_stat_exo(dico_multi)"
   ]
  }
 ],
 "metadata": {
  "kernelspec": {
   "display_name": "Python 3",
   "language": "python",
   "name": "python3"
  },
  "language_info": {
   "codemirror_mode": {
    "name": "ipython",
    "version": 3
   },
   "file_extension": ".py",
   "mimetype": "text/x-python",
   "name": "python",
   "nbconvert_exporter": "python",
   "pygments_lexer": "ipython3",
   "version": "3.8.5"
  }
 },
 "nbformat": 4,
 "nbformat_minor": 4
}
