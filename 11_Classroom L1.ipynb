{
 "cells": [
  {
   "cell_type": "markdown",
   "metadata": {},
   "source": [
    "# Analysis of the data for a Classroom"
   ]
  },
  {
   "cell_type": "markdown",
   "metadata": {},
   "source": [
    "## I. Importation of modules and functions from python scripts"
   ]
  },
  {
   "cell_type": "code",
   "execution_count": 1,
   "metadata": {},
   "outputs": [],
   "source": [
    "# We import python modules\n",
    "# numpy : a mathematical function that is very useful!\n",
    "import numpy as np\n",
    "import os\n",
    "from graphs import *\n",
    "from exo import *\n",
    "from student import *\n",
    "\n",
    "plt.rcParams[\"figure.figsize\"] = (30,20)\n",
    "plt.rcParams[\"font.size\"] = 20"
   ]
  },
  {
   "cell_type": "markdown",
   "metadata": {},
   "source": [
    "## II. Definition of a new class called Classroom"
   ]
  },
  {
   "cell_type": "markdown",
   "metadata": {},
   "source": [
    "In the first function called __init__, we define the attriutes (directory, and student), and the functions that will intialise the class (__create_exos__).\n",
    "\n",
    "The class also has several handy functions that will help with the analysis of the data. We can for example see the function __create_exos__ which is essential. In fact, the notebooks are organised in hierarchical order; we first build the basis with the class `Exo`, then the middle of the tree view with the class called `Student`, and finally we have the top with this last class called `Classroom`. Without the bottom (`Exo`) we cannot possibly have the top.\n",
    "\n",
    "We also have several plotting functions to make pies, histograms and tables.\n",
    "\n",
    "Finally, we had defined a subclass to `Classroom`, named `L1`. It doesn't have any special features, that's why it only has an initialising function."
   ]
  },
  {
   "cell_type": "code",
   "execution_count": 2,
   "metadata": {},
   "outputs": [],
   "source": [
    "# We define the class \"Classroom\"\n",
    "class Classroom:\n",
    "    '''\n",
    "    This is a description of the class, \n",
    "    If you have any problem with it\n",
    "    you can always write help(Classroom)\n",
    "    '''\n",
    "    \n",
    "    def __init__(self, directory, student):\n",
    "        self.directory = directory\n",
    "        self.student = student\n",
    "        #self.file = file \n",
    "        \n",
    "        self.create_exos()\n",
    "        \n",
    "        #for student in student_list:\n",
    "            #print(student.name, student.surname)        \n",
    "\n",
    "    def create_exos(self):\n",
    "            # We create tuples which associate a pattern\n",
    "            # in a file to a specific type of \"Classroom\", L1, L2 or L3.\n",
    "            # There are two elements in this association:\n",
    "            # a pattern (ex: \"log_files/L1\"), and the Class it belongs to (ex: L1)\n",
    "            assos = [(\"log_files/L1\", L1),\n",
    "                     (\"log_files/L2\", L2),\n",
    "                     (\"log_files/L3\", L3)]\n",
    "            exos = []\n",
    "            # For each pattern and class (cl) in the association\n",
    "            for pattern, cl in assos:\n",
    "                # We retrieve the paths of the files in the student's \n",
    "                # directory in which we can find the pattern\n",
    "                path_list = get_files_directory(self.directory, pattern=pattern)\n",
    "                # For each of these paths\n",
    "                for exo_path in path_list:\n",
    "                    # We associate the path to the type of exercise, to a class\n",
    "                    exo = cl(exo_path)\n",
    "                    # We add this association to a list of exercises\n",
    "                    exos.append(exo)\n",
    "            # Once the list of exercises is implemented\n",
    "            # it is associated to its student\n",
    "            self.exos = exos            \n",
    "\n",
    "    def criteria_by_key(self, key, criteria):\n",
    "        dico = {}\n",
    "        dico_2 = {}\n",
    "        # For each exercise, we retrieve the labels and the values\n",
    "        for exo in self.classroom:\n",
    "            labels, values = exo.criteria_by_key(key, criteria)\n",
    "            print(labels, values)\n",
    "                # For each retrieved label we sum up the number\n",
    "                # of times it appears with the number of times\n",
    "                # it has already been counted, if it is the\n",
    "                # first time we encounter this label, we have\n",
    "                # to initialise its value in the dictionary\n",
    "            for i , label in enumerate(labels):\n",
    "                if label not in dico.keys():\n",
    "                    dico[label] = values[i]\n",
    "                else:\n",
    "                    dico[label] += values[i]\n",
    "                if label not in dico_2.keys():\n",
    "                    dico_2[label] = 1\n",
    "                else:\n",
    "                    dico_2[label] += 1\n",
    "            # We want to return a list of labels\n",
    "            # and a list of values in the form of\n",
    "            # an np array for our display function.\n",
    "            # To do so, we retrieve the keys and the values\n",
    "            # of our dictionary in an np array\n",
    "            labels = np.array(list(dico.keys()))\n",
    "            values = np.array(list(dico.values()))\n",
    "            total_count = np.array(list(dico_2.values()))\n",
    "            \n",
    "            # We calculate the average\n",
    "            average = values / total_count\n",
    "            # If the value is equal to 0, we do nothing\n",
    "            sel_arr = values != 0\n",
    "            labels = labels[sel_arr]\n",
    "            values = values[sel_arr]\n",
    "            # We return the values\n",
    "            #average = dico / dico_2\n",
    "            return labels, values, average\n",
    "            print(average)\n",
    "    \n",
    "    def chart_all_classroom(self, key, criteria, title):\n",
    "        for exo in self.classroom:\n",
    "            labels, values = exo.criteria_by_key(key, criteria)\n",
    "            print(exo.path)\n",
    "            plot_chart(labels, values, title)\n",
    "            \n",
    "    def hist_all_classroom(self, key, criteria, title, xlabel, ylabel, xrotation=None, yrotation=None):\n",
    "        for exo in self.classroom:\n",
    "            labels, values = exo.criteria_by_key(key, criteria)\n",
    "            print(exo.path)\n",
    "            for values in exo.criteria_by_key:\n",
    "                if count_nonzero != 0:\n",
    "                    student.hist_all_exos(\"Vowel\", \"Repetitions\", \"Repetitions per vowel\", \"\",\"\")\n",
    "                else:\n",
    "                    pass\n",
    "                \n",
    "    def table_all_classroom(self, key, criteria, title):\n",
    "        for exo in self.classroom:\n",
    "            labels, values = exo.criteria_by_key(key, criteria)\n",
    "            print(exo.path)\n",
    "            for values in exo.criteria_by_key:\n",
    "                if count_nonzero != 0:\n",
    "                    student.hist_all_exos(\"Vowel\", \"Repetitions\", \"Repetitions per vowel\", \"\",\"\")\n",
    "                else:\n",
    "                    pass\n",
    "    \n",
    "\n",
    "class L1(Classroom):\n",
    "    '''\n",
    "    This is a description of the class, \n",
    "    If you have any problem with it\n",
    "    you can always write help(L1)\n",
    "    '''\n",
    "    # This is a specific attribute of L1 which lists \n",
    "    # the keys that contain numeric quantities\n",
    "    # This is the initializing function of the exercise\n",
    "    # It has only one argument, called \"path\"\n",
    "    def __init__(self, path):\n",
    "        # Here, we define the attributes that are shared\n",
    "        # by the AFC2 exercises, they all have a path\n",
    "        super().__init__(path)\n",
    "\n",
    "        \n"
   ]
  },
  {
   "cell_type": "markdown",
   "metadata": {},
   "source": [
    "## II. Use of plots"
   ]
  },
  {
   "cell_type": "markdown",
   "metadata": {},
   "source": [
    "### 1. Histograms"
   ]
  },
  {
   "cell_type": "markdown",
   "metadata": {},
   "source": [
    "We use the function __hist_all_exos__ that we defined earlier to create histograms for all the students in a class. In this case, the students in first year. You can also choose the student that you want plots for, you just have to put a number in brackets. For example, if you want the first student in your list, you'll have to write \"student_list = [0]\". \"0\" being the first element of the list, \"1\" the second and so long."
   ]
  },
  {
   "cell_type": "markdown",
   "metadata": {},
   "source": [
    "In this cell we make plots for the number of repetitions by stimuli, but remember that your can change these parameters as you please! You can therefore change *Stimulus*, and put *Sound File* instead. Same goes for *Repetitions* which can be replaced by *NbErreurs*, or *Response Time*. Feel free to play around with it. However, remember to change the title, here it's *Repetitions per stimuli*.\n",
    "I recommend changing the orientation of *xlabels*, here it is set at 90 because the labels are rather long, but you can do whatever you want with it!"
   ]
  },
  {
   "cell_type": "raw",
   "metadata": {
    "scrolled": true
   },
   "source": [
    "base_L1 = \"./log_files/L1/\"\n",
    "\n",
    "student_list = []\n",
    "list_students = os.listdir(base_L1)\n",
    "for student_path in list_students:\n",
    "    student = Student(base_L1 + student_path)\n",
    "    student_list.append(student)\n",
    "#print(list_students)\n",
    "#print(os.listdir(base_L1))\n",
    "\n",
    "for student in student_list:\n",
    "    print(student.name, student.surname)\n",
    "    student.hist_all_exos(\"Stimulus\", \"Repetitions\", \"Repetitions per stimuli\", \"Stimulus\",\"Repetition\", 90)\n",
    "    \n",
    "    "
   ]
  },
  {
   "cell_type": "markdown",
   "metadata": {},
   "source": [
    "### 2. Tables"
   ]
  },
  {
   "cell_type": "markdown",
   "metadata": {},
   "source": [
    "In this cell we use the function __plot_table_by_key__ to make a table of the average of all the parameters (repetitions, number of errors, response time) per vowel and per stimuli."
   ]
  },
  {
   "cell_type": "code",
   "execution_count": 3,
   "metadata": {
    "scrolled": true
   },
   "outputs": [
    {
     "name": "stdout",
     "output_type": "stream",
     "text": [
      "Sarah Moreira\n"
     ]
    },
    {
     "ename": "Exception",
     "evalue": "Key not in my keys !",
     "output_type": "error",
     "traceback": [
      "\u001b[0;31m---------------------------------------------------------------------------\u001b[0m",
      "\u001b[0;31mException\u001b[0m                                 Traceback (most recent call last)",
      "\u001b[0;32m<ipython-input-3-3330c502eb5e>\u001b[0m in \u001b[0;36m<module>\u001b[0;34m\u001b[0m\n\u001b[1;32m     13\u001b[0m     \u001b[0mprint\u001b[0m\u001b[0;34m(\u001b[0m\u001b[0mstudent\u001b[0m\u001b[0;34m.\u001b[0m\u001b[0mname\u001b[0m\u001b[0;34m,\u001b[0m \u001b[0mstudent\u001b[0m\u001b[0;34m.\u001b[0m\u001b[0msurname\u001b[0m\u001b[0;34m)\u001b[0m\u001b[0;34m\u001b[0m\u001b[0;34m\u001b[0m\u001b[0m\n\u001b[1;32m     14\u001b[0m     \u001b[0;31m#student.plot_table_by_key(\"Vowel\", xscale=0.5, yscale=4)\u001b[0m\u001b[0;34m\u001b[0m\u001b[0;34m\u001b[0m\u001b[0;34m\u001b[0m\u001b[0m\n\u001b[0;32m---> 15\u001b[0;31m     \u001b[0mstudent\u001b[0m\u001b[0;34m.\u001b[0m\u001b[0mplot_table_by_key\u001b[0m\u001b[0;34m(\u001b[0m\u001b[0;34m\"Vowel\"\u001b[0m\u001b[0;34m,\u001b[0m \u001b[0mxscale\u001b[0m\u001b[0;34m=\u001b[0m\u001b[0;36m0.5\u001b[0m\u001b[0;34m,\u001b[0m \u001b[0myscale\u001b[0m\u001b[0;34m=\u001b[0m\u001b[0;36m4\u001b[0m\u001b[0;34m)\u001b[0m\u001b[0;34m\u001b[0m\u001b[0;34m\u001b[0m\u001b[0m\n\u001b[0m\u001b[1;32m     16\u001b[0m \u001b[0;34m\u001b[0m\u001b[0m\n",
      "\u001b[0;32m~/Documents/notebooks_sepale/student.py\u001b[0m in \u001b[0;36mplot_table_by_key\u001b[0;34m(self, key, xscale, yscale)\u001b[0m\n\u001b[1;32m    142\u001b[0m         \u001b[0mrow_labels\u001b[0m \u001b[0;34m=\u001b[0m \u001b[0;32mNone\u001b[0m\u001b[0;34m\u001b[0m\u001b[0;34m\u001b[0m\u001b[0m\n\u001b[1;32m    143\u001b[0m         \u001b[0;32mfor\u001b[0m \u001b[0mcriteria\u001b[0m \u001b[0;32min\u001b[0m \u001b[0mcriterias\u001b[0m\u001b[0;34m:\u001b[0m\u001b[0;34m\u001b[0m\u001b[0;34m\u001b[0m\u001b[0m\n\u001b[0;32m--> 144\u001b[0;31m             \u001b[0mdico\u001b[0m \u001b[0;34m=\u001b[0m \u001b[0maverage_dico\u001b[0m\u001b[0;34m(\u001b[0m\u001b[0mself\u001b[0m\u001b[0;34m.\u001b[0m\u001b[0mcriteria_by_key\u001b[0m\u001b[0;34m(\u001b[0m\u001b[0mkey\u001b[0m\u001b[0;34m,\u001b[0m \u001b[0mcriteria\u001b[0m\u001b[0;34m)\u001b[0m\u001b[0;34m)\u001b[0m\u001b[0;34m\u001b[0m\u001b[0;34m\u001b[0m\u001b[0m\n\u001b[0m\u001b[1;32m    145\u001b[0m             \u001b[0;31m# If we don't know the labels of the lines\u001b[0m\u001b[0;34m\u001b[0m\u001b[0;34m\u001b[0m\u001b[0;34m\u001b[0m\u001b[0m\n\u001b[1;32m    146\u001b[0m             \u001b[0;31m# at this round, the labels of the lines\u001b[0m\u001b[0;34m\u001b[0m\u001b[0;34m\u001b[0m\u001b[0;34m\u001b[0m\u001b[0m\n",
      "\u001b[0;32m~/Documents/notebooks_sepale/student.py\u001b[0m in \u001b[0;36mcriteria_by_key\u001b[0;34m(self, key, criteria)\u001b[0m\n\u001b[1;32m     80\u001b[0m         \u001b[0mlist_dicos\u001b[0m \u001b[0;34m=\u001b[0m \u001b[0;34m[\u001b[0m\u001b[0;34m]\u001b[0m\u001b[0;34m\u001b[0m\u001b[0;34m\u001b[0m\u001b[0m\n\u001b[1;32m     81\u001b[0m         \u001b[0;32mfor\u001b[0m \u001b[0mexo\u001b[0m \u001b[0;32min\u001b[0m \u001b[0mself\u001b[0m\u001b[0;34m.\u001b[0m\u001b[0mexos\u001b[0m\u001b[0;34m:\u001b[0m\u001b[0;34m\u001b[0m\u001b[0;34m\u001b[0m\u001b[0m\n\u001b[0;32m---> 82\u001b[0;31m             \u001b[0mlist_dicos\u001b[0m\u001b[0;34m.\u001b[0m\u001b[0mappend\u001b[0m\u001b[0;34m(\u001b[0m\u001b[0mexo\u001b[0m\u001b[0;34m.\u001b[0m\u001b[0mcriteria_by_key\u001b[0m\u001b[0;34m(\u001b[0m\u001b[0mkey\u001b[0m\u001b[0;34m,\u001b[0m \u001b[0mcriteria\u001b[0m\u001b[0;34m)\u001b[0m\u001b[0;34m)\u001b[0m\u001b[0;34m\u001b[0m\u001b[0;34m\u001b[0m\u001b[0m\n\u001b[0m\u001b[1;32m     83\u001b[0m         \u001b[0;32mreturn\u001b[0m \u001b[0mmerge_list_dicos\u001b[0m\u001b[0;34m(\u001b[0m\u001b[0mlist_dicos\u001b[0m\u001b[0;34m)\u001b[0m\u001b[0;34m\u001b[0m\u001b[0;34m\u001b[0m\u001b[0m\n\u001b[1;32m     84\u001b[0m \u001b[0;34m\u001b[0m\u001b[0m\n",
      "\u001b[0;32m~/Documents/notebooks_sepale/exo.py\u001b[0m in \u001b[0;36mcriteria_by_key\u001b[0;34m(self, key, criteria, zeros)\u001b[0m\n\u001b[1;32m     92\u001b[0m     \u001b[0;32mdef\u001b[0m \u001b[0mcriteria_by_key\u001b[0m\u001b[0;34m(\u001b[0m\u001b[0mself\u001b[0m\u001b[0;34m,\u001b[0m \u001b[0mkey\u001b[0m\u001b[0;34m,\u001b[0m \u001b[0mcriteria\u001b[0m\u001b[0;34m,\u001b[0m \u001b[0mzeros\u001b[0m\u001b[0;34m=\u001b[0m\u001b[0;32mFalse\u001b[0m\u001b[0;34m)\u001b[0m\u001b[0;34m:\u001b[0m\u001b[0;34m\u001b[0m\u001b[0;34m\u001b[0m\u001b[0m\n\u001b[1;32m     93\u001b[0m         \u001b[0;32mif\u001b[0m \u001b[0mkey\u001b[0m \u001b[0;32mnot\u001b[0m \u001b[0;32min\u001b[0m \u001b[0mself\u001b[0m\u001b[0;34m.\u001b[0m\u001b[0mkeys\u001b[0m\u001b[0;34m:\u001b[0m\u001b[0;34m\u001b[0m\u001b[0;34m\u001b[0m\u001b[0m\n\u001b[0;32m---> 94\u001b[0;31m             \u001b[0;32mraise\u001b[0m \u001b[0mException\u001b[0m\u001b[0;34m(\u001b[0m\u001b[0;34m'Key not in my keys !'\u001b[0m\u001b[0;34m)\u001b[0m\u001b[0;34m\u001b[0m\u001b[0;34m\u001b[0m\u001b[0m\n\u001b[0m\u001b[1;32m     95\u001b[0m         \u001b[0;32mif\u001b[0m \u001b[0mcriteria\u001b[0m \u001b[0;32mnot\u001b[0m \u001b[0;32min\u001b[0m \u001b[0mself\u001b[0m\u001b[0;34m.\u001b[0m\u001b[0mkeys\u001b[0m\u001b[0;34m:\u001b[0m\u001b[0;34m\u001b[0m\u001b[0;34m\u001b[0m\u001b[0m\n\u001b[1;32m     96\u001b[0m             \u001b[0;32mraise\u001b[0m \u001b[0mException\u001b[0m\u001b[0;34m(\u001b[0m\u001b[0;34m'Criteria not in my keys !'\u001b[0m\u001b[0;34m)\u001b[0m\u001b[0;34m\u001b[0m\u001b[0;34m\u001b[0m\u001b[0m\n",
      "\u001b[0;31mException\u001b[0m: Key not in my keys !"
     ]
    }
   ],
   "source": [
    "import os \n",
    "base_L1 = \"./log_files/L1/\"\n",
    "\n",
    "student_list = []\n",
    "list_students = os.listdir(base_L1)\n",
    "for student_path in list_students:\n",
    "    student = Student(base_L1 + student_path)\n",
    "    student_list.append(student)\n",
    "\n",
    "exo_type = isinstance(Exo, AX)\n",
    "\n",
    "for student in student_list:\n",
    "    print(student.name, student.surname)\n",
    "    #student.plot_table_by_key(\"Vowel\", xscale=0.5, yscale=4)    \n",
    "    student.plot_table_by_key(\"Vowel\", xscale=0.5, yscale=4)\n",
    "    "
   ]
  },
  {
   "cell_type": "code",
   "execution_count": 4,
   "metadata": {},
   "outputs": [
    {
     "name": "stdout",
     "output_type": "stream",
     "text": [
      "Help on function get_files_directory in module student:\n",
      "\n",
      "get_files_directory(directory, pattern='AFC', pattern2='AX')\n",
      "\n"
     ]
    }
   ],
   "source": [
    "help(get_files_directory)"
   ]
  },
  {
   "cell_type": "code",
   "execution_count": null,
   "metadata": {},
   "outputs": [],
   "source": []
  },
  {
   "cell_type": "code",
   "execution_count": null,
   "metadata": {},
   "outputs": [],
   "source": []
  },
  {
   "cell_type": "code",
   "execution_count": null,
   "metadata": {},
   "outputs": [],
   "source": []
  }
 ],
 "metadata": {
  "kernelspec": {
   "display_name": "Python 3",
   "language": "python",
   "name": "python3"
  },
  "language_info": {
   "codemirror_mode": {
    "name": "ipython",
    "version": 3
   },
   "file_extension": ".py",
   "mimetype": "text/x-python",
   "name": "python",
   "nbconvert_exporter": "python",
   "pygments_lexer": "ipython3",
   "version": "3.8.5"
  }
 },
 "nbformat": 4,
 "nbformat_minor": 4
}
