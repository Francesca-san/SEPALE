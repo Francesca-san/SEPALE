{
 "cells": [
  {
   "cell_type": "code",
   "execution_count": 8,
   "metadata": {
    "scrolled": true
   },
   "outputs": [
    {
     "name": "stdout",
     "output_type": "stream",
     "text": [
      "['Sarah Moreira_1365881_assignsubmission_file_', 'Enzo Mazni_1365880_assignsubmission_file_', 'Lauriane Lacour_1365859_assignsubmission_file_', 'Loan Tessier_1365793_assignsubmission_file_', 'Kelly Veng_1365725_assignsubmission_file_', 'Cassandra Amaro Ribeiro_1365824_assignsubmission_file_', 'Emma Appere_1365738_assignsubmission_file_', 'Alistair Ziane_1365914_assignsubmission_file_', 'Clea Causse_1365770_assignsubmission_file_', 'Lisa Metais_1365733_assignsubmission_file_', 'Margot Couchard_1365907_assignsubmission_file_', 'Manele Boutiche_1365815_assignsubmission_file_', 'Daphne Quenolle_1365847_assignsubmission_file_', 'Lucille Bray_1365811_assignsubmission_file_', 'Lucas Vuillot_1365724_assignsubmission_file_', 'Jesse Lema_1365773_assignsubmission_file_', 'Christine Kiem_1365763_assignsubmission_file_', 'Elise Xu_1365836_assignsubmission_file_', 'Rachel Lu Hsing_1365890_assignsubmission_file_']\n"
     ]
    }
   ],
   "source": [
    "# Importe le module qui sert à dialoguer avec l'OS\n",
    "import os\n",
    "\n",
    "#Affiche le contenu du répertoire \"log_files\"\n",
    "print(os.listdir(\"log_files\"))"
   ]
  },
  {
   "cell_type": "code",
   "execution_count": 10,
   "metadata": {},
   "outputs": [
    {
     "name": "stdout",
     "output_type": "stream",
     "text": [
      "['2AFC_a_Wed_Feb_17_10_18_00_2021.log', 'ListeOddity_1_00.txt', '2AFC_av_Wed_Feb_17_10_27_50_2021.log', '5AFC_1_Sat_Feb_27_09_53_53_2021.log', 'AX_i_Wed_Feb_03_16_51_44_2021.log', 'ListeOddity_2_00.txt', 'AX_a_Wed_Feb_17_10_30_39_2021.log', '2AFC_i_Wed_Feb_17_10_25_03_2021.log', 'AX_av_Wed_Feb_17_10_34_03_2021.log', '5AFC_2_Sat_Feb_27_10_14_35_2021.log']\n"
     ]
    }
   ],
   "source": [
    "print(os.listdir(\"log_files/Sarah Moreira_1365881_assignsubmission_file_/logFiles (Sarah Moreira)/\"))"
   ]
  },
  {
   "cell_type": "code",
   "execution_count": 11,
   "metadata": {},
   "outputs": [],
   "source": [
    "dossier_exemple = \"log_files/Sarah Moreira_1365881_assignsubmission_file_/logFiles (Sarah Moreira)/\""
   ]
  },
  {
   "cell_type": "code",
   "execution_count": 4,
   "metadata": {},
   "outputs": [
    {
     "data": {
      "text/plain": [
       "['5AFC_1_Sat_Jan_30_22_07_43_2021.log',\n",
       " 'AX_av_Fri_Jan_29_21_14_17_2021.log',\n",
       " '2AFC_i_Fri_Jan_29_21_24_28_2021.log',\n",
       " 'ListeOddity_1_00.txt',\n",
       " 'ListeOddity_2_00.txt',\n",
       " 'AX_i_Fri_Jan_29_20_45_40_2021.log',\n",
       " '2AFC_av_Sat_Jan_30_22_01_01_2021.log',\n",
       " '5AFC_2_Sat_Jan_30_22_11_07_2021.log',\n",
       " '2AFC_a_Sat_Jan_30_22_04_07_2021.log',\n",
       " 'AX_a_Fri_Jan_29_21_18_30_2021.log']"
      ]
     },
     "execution_count": 4,
     "metadata": {},
     "output_type": "execute_result"
    }
   ],
   "source": [
    "os.listdir(dossier_exemple)"
   ]
  },
  {
   "cell_type": "code",
   "execution_count": 13,
   "metadata": {},
   "outputs": [],
   "source": [
    "fic_ex = dossier_exemple + \"/2AFC_a_Wed_Feb_17_10_18_00_2021.log\""
   ]
  },
  {
   "cell_type": "code",
   "execution_count": 14,
   "metadata": {},
   "outputs": [
    {
     "name": "stdout",
     "output_type": "stream",
     "text": [
      "['#Wed Feb 17 10:18:00 2021#Liste2AFC_a.txt#00\\n', 'Sound File\\tStimulus\\tVowel\\tResponse Time\\tNbErreurs\\tRepetitions\\n', 'v_luck_F07\\tluck\\tv\\t5.365800857543945\\t0\\t0\\n', 'a_lack_F09\\tlack\\ta\\t2.501721143722534\\t0\\t0\\n', 'a_pat_F04\\tpat\\ta\\t2.811767101287842\\t0\\t0\\n', 'v_luck_F06\\tluck\\tv\\t1.4804339408874512\\t0\\t0\\n', 'v_bun_F04\\tbun\\tv\\t1.3569588661193848\\t1\\t0\\n', 'v_buck_H09\\tbuck\\tv\\t2.28981876373291\\t0\\t0\\n', 'a_cap_F04\\tcap\\ta\\t2.169672966003418\\t0\\t0\\n', 'a_cad_H05\\tcad\\ta\\t2.372339963912964\\t0\\t0\\n', 'v_cud_H08\\tcud\\tv\\t1.7582948207855225\\t0\\t0\\n', 'a_cad_H07\\tcad\\ta\\t3.0793161392211914\\t0\\t0\\n', 'v_cud_F09\\tcud\\tv\\t1.7588729858398438\\t0\\t0\\n', 'v_mutt_F05\\tmutt\\tv\\t1.0675060749053955\\t1\\t0\\n', 'a_pat_H06\\tpat\\ta\\t2.0818591117858887\\t0\\t0\\n', 'v_cup_F06\\tcup\\tv\\t2.5864648818969727\\t0\\t0\\n', 'a_cad_F08\\tcad\\ta\\t1.7947261333465576\\t1\\t0\\n', 'a_back_F05\\tback\\ta\\t2.135380983352661\\t0\\t0\\n', 'a_ban_H06\\tban\\ta\\t2.5553719997406006\\t0\\t0\\n', 'v_tut_F07\\ttut\\tv\\t4.931897163391113\\t0\\t0\\n', 'a_lack_H06\\tlack\\ta\\t2.331017017364502\\t0\\t0\\n', 'a_cad_F06\\tcad\\ta\\t1.9135942459106445\\t0\\t0\\n', 'v_putt_H08\\tputt\\tv\\t0.8947231769561768\\t1\\t0\\n', 'a_back_H09\\tback\\ta\\t1.9658801555633545\\t0\\t0\\n', 'v_cup_H06\\tcup\\tv\\t2.672147274017334\\t0\\t0\\n', 'v_bun_F08\\tbun\\tv\\t1.6274070739746094\\t0\\t0\\n', 'v_luck_F04\\tluck\\tv\\t1.386894941329956\\t0\\t0\\n', 'a_mat_H04\\tmat\\ta\\t3.580146074295044\\t0\\t0\\n', 'v_tut_H05\\ttut\\tv\\t1.403655767440796\\t0\\t0\\n', 'v_cup_H05\\tcup\\tv\\t1.605539083480835\\t0\\t0\\n', 'a_pack_F08\\tpack\\ta\\t4.746938943862915\\t0\\t0\\n', 'a_lack_H09\\tlack\\ta\\t1.6282169818878174\\t1\\t0\\n', '\\n', '#TotalErreurs#5TempsTotal#2min 23sec\\n']\n"
     ]
    }
   ],
   "source": [
    "# on ouvre le fichier en lecture\n",
    "f = open(fic_ex, 'r')\n",
    "# on récupère les lignes\n",
    "lignes = f.readlines()\n",
    "# on ferme le fichier\n",
    "f.close()\n",
    "print(lignes)"
   ]
  },
  {
   "cell_type": "code",
   "execution_count": 15,
   "metadata": {},
   "outputs": [
    {
     "name": "stdout",
     "output_type": "stream",
     "text": [
      "['#Wed Feb 17 10:18:00 2021#Liste2AFC_a.txt#00', 'Sound File\\tStimulus\\tVowel\\tResponse Time\\tNbErreurs\\tRepetitions', 'v_luck_F07\\tluck\\tv\\t5.365800857543945\\t0\\t0', 'a_lack_F09\\tlack\\ta\\t2.501721143722534\\t0\\t0', 'a_pat_F04\\tpat\\ta\\t2.811767101287842\\t0\\t0', 'v_luck_F06\\tluck\\tv\\t1.4804339408874512\\t0\\t0', 'v_bun_F04\\tbun\\tv\\t1.3569588661193848\\t1\\t0', 'v_buck_H09\\tbuck\\tv\\t2.28981876373291\\t0\\t0', 'a_cap_F04\\tcap\\ta\\t2.169672966003418\\t0\\t0', 'a_cad_H05\\tcad\\ta\\t2.372339963912964\\t0\\t0', 'v_cud_H08\\tcud\\tv\\t1.7582948207855225\\t0\\t0', 'a_cad_H07\\tcad\\ta\\t3.0793161392211914\\t0\\t0', 'v_cud_F09\\tcud\\tv\\t1.7588729858398438\\t0\\t0', 'v_mutt_F05\\tmutt\\tv\\t1.0675060749053955\\t1\\t0', 'a_pat_H06\\tpat\\ta\\t2.0818591117858887\\t0\\t0', 'v_cup_F06\\tcup\\tv\\t2.5864648818969727\\t0\\t0', 'a_cad_F08\\tcad\\ta\\t1.7947261333465576\\t1\\t0', 'a_back_F05\\tback\\ta\\t2.135380983352661\\t0\\t0', 'a_ban_H06\\tban\\ta\\t2.5553719997406006\\t0\\t0', 'v_tut_F07\\ttut\\tv\\t4.931897163391113\\t0\\t0', 'a_lack_H06\\tlack\\ta\\t2.331017017364502\\t0\\t0', 'a_cad_F06\\tcad\\ta\\t1.9135942459106445\\t0\\t0', 'v_putt_H08\\tputt\\tv\\t0.8947231769561768\\t1\\t0', 'a_back_H09\\tback\\ta\\t1.9658801555633545\\t0\\t0', 'v_cup_H06\\tcup\\tv\\t2.672147274017334\\t0\\t0', 'v_bun_F08\\tbun\\tv\\t1.6274070739746094\\t0\\t0', 'v_luck_F04\\tluck\\tv\\t1.386894941329956\\t0\\t0', 'a_mat_H04\\tmat\\ta\\t3.580146074295044\\t0\\t0', 'v_tut_H05\\ttut\\tv\\t1.403655767440796\\t0\\t0', 'v_cup_H05\\tcup\\tv\\t1.605539083480835\\t0\\t0', 'a_pack_F08\\tpack\\ta\\t4.746938943862915\\t0\\t0', 'a_lack_H09\\tlack\\ta\\t1.6282169818878174\\t1\\t0', '', '#TotalErreurs#5TempsTotal#2min 23sec']\n"
     ]
    }
   ],
   "source": [
    "\n",
    "for i in range(len(lignes)):\n",
    "    lignes[i] = lignes[i].replace(\"\\n\", \"\")\n",
    "print(lignes)\n"
   ]
  },
  {
   "cell_type": "code",
   "execution_count": 16,
   "metadata": {},
   "outputs": [],
   "source": [
    "attributs = []\n",
    "for l in lignes:\n",
    "    attributs.append(l.split('\\t'))\n"
   ]
  },
  {
   "cell_type": "code",
   "execution_count": 17,
   "metadata": {},
   "outputs": [],
   "source": [
    "import numpy as np\n",
    "\n",
    "def get_lines(path):\n",
    "    f = open(fic_ex, 'r')\n",
    "    # on récupère les lignes\n",
    "    lignes = f.readlines()\n",
    "    # on ferme le fichier\n",
    "    f.close()\n",
    "    return lignes\n",
    "\n",
    "def create_dico(path):\n",
    "    lines = get_lines(path)\n",
    "    # Delete \\n\n",
    "    for i in range(len(lignes)):\n",
    "        lignes[i] = lignes[i].replace(\"\\n\", \"\")\n",
    "        \n",
    "    attributs = []\n",
    "    for l in lignes:\n",
    "        attributs.append(l.split('\\t'))\n",
    "        \n",
    "    date = attributs[0]\n",
    "    keys = attributs[1]\n",
    "    stats_total = attributs[-1]\n",
    "    data = attributs[2:-1]\n",
    "    # On supprime la ligne vide\n",
    "    for i in range(len(data)):\n",
    "        if len(data[i]) == 1:\n",
    "            del data[i]\n",
    "    numeric = ['Response Time', 'NbErreurs', 'Repetitions']\n",
    "    dico = {}\n",
    "    for line in data:\n",
    "        for i, key in enumerate(keys):\n",
    "            if key not in dico.keys():\n",
    "                dico[key] = []\n",
    "\n",
    "            if key in numeric:\n",
    "                dico[key].append(float(line[i]))\n",
    "            else:\n",
    "                dico[key].append(line[i])\n",
    "    dico[\"date\"] = date\n",
    "    for key in dico.keys():\n",
    "        dico[key] = np.array(dico[key])\n",
    "    return dico\n",
    "    "
   ]
  },
  {
   "cell_type": "code",
   "execution_count": 18,
   "metadata": {},
   "outputs": [
    {
     "data": {
      "text/plain": [
       "{'Sound File': array(['v_luck_F07', 'a_lack_F09', 'a_pat_F04', 'v_luck_F06', 'v_bun_F04',\n",
       "        'v_buck_H09', 'a_cap_F04', 'a_cad_H05', 'v_cud_H08', 'a_cad_H07',\n",
       "        'v_cud_F09', 'v_mutt_F05', 'a_pat_H06', 'v_cup_F06', 'a_cad_F08',\n",
       "        'a_back_F05', 'a_ban_H06', 'v_tut_F07', 'a_lack_H06', 'a_cad_F06',\n",
       "        'v_putt_H08', 'a_back_H09', 'v_cup_H06', 'v_bun_F08', 'v_luck_F04',\n",
       "        'a_mat_H04', 'v_tut_H05', 'v_cup_H05', 'a_pack_F08', 'a_lack_H09'],\n",
       "       dtype='<U10'),\n",
       " 'Stimulus': array(['luck', 'lack', 'pat', 'luck', 'bun', 'buck', 'cap', 'cad', 'cud',\n",
       "        'cad', 'cud', 'mutt', 'pat', 'cup', 'cad', 'back', 'ban', 'tut',\n",
       "        'lack', 'cad', 'putt', 'back', 'cup', 'bun', 'luck', 'mat', 'tut',\n",
       "        'cup', 'pack', 'lack'], dtype='<U4'),\n",
       " 'Vowel': array(['v', 'a', 'a', 'v', 'v', 'v', 'a', 'a', 'v', 'a', 'v', 'v', 'a',\n",
       "        'v', 'a', 'a', 'a', 'v', 'a', 'a', 'v', 'a', 'v', 'v', 'v', 'a',\n",
       "        'v', 'v', 'a', 'a'], dtype='<U1'),\n",
       " 'Response Time': array([5.36580086, 2.50172114, 2.8117671 , 1.48043394, 1.35695887,\n",
       "        2.28981876, 2.16967297, 2.37233996, 1.75829482, 3.07931614,\n",
       "        1.75887299, 1.06750607, 2.08185911, 2.58646488, 1.79472613,\n",
       "        2.13538098, 2.555372  , 4.93189716, 2.33101702, 1.91359425,\n",
       "        0.89472318, 1.96588016, 2.67214727, 1.62740707, 1.38689494,\n",
       "        3.58014607, 1.40365577, 1.60553908, 4.74693894, 1.62821698]),\n",
       " 'NbErreurs': array([0., 0., 0., 0., 1., 0., 0., 0., 0., 0., 0., 1., 0., 0., 1., 0., 0.,\n",
       "        0., 0., 0., 1., 0., 0., 0., 0., 0., 0., 0., 0., 1.]),\n",
       " 'Repetitions': array([0., 0., 0., 0., 0., 0., 0., 0., 0., 0., 0., 0., 0., 0., 0., 0., 0.,\n",
       "        0., 0., 0., 0., 0., 0., 0., 0., 0., 0., 0., 0., 0.]),\n",
       " 'date': array(['#Wed Feb 17 10:18:00 2021#Liste2AFC_a.txt#00'], dtype='<U44')}"
      ]
     },
     "execution_count": 18,
     "metadata": {},
     "output_type": "execute_result"
    }
   ],
   "source": [
    "create_dico(fic_ex)"
   ]
  },
  {
   "cell_type": "code",
   "execution_count": 19,
   "metadata": {},
   "outputs": [
    {
     "data": {
      "text/plain": [
       "1.0708587417205104"
      ]
     },
     "execution_count": 19,
     "metadata": {},
     "output_type": "execute_result"
    }
   ],
   "source": [
    "dico = create_dico(fic_ex)\n",
    "\n",
    "np.mean(dico['Response Time'])\n",
    "np.std(dico['Response Time'])"
   ]
  },
  {
   "cell_type": "code",
   "execution_count": 20,
   "metadata": {},
   "outputs": [
    {
     "data": {
      "text/plain": [
       "[<matplotlib.lines.Line2D at 0x7fc5d15edd00>]"
      ]
     },
     "execution_count": 20,
     "metadata": {},
     "output_type": "execute_result"
    },
    {
     "data": {
      "image/png": "[encoded data removed]",
      "text/plain": [
       "<Figure size 432x288 with 1 Axes>"
      ]
     },
     "metadata": {
      "needs_background": "light"
     },
     "output_type": "display_data"
    }
   ],
   "source": [
    "import matplotlib.pyplot as plt\n",
    "plt.plot(dico['Response Time'])"
   ]
  },
  {
   "cell_type": "code",
   "execution_count": null,
   "metadata": {},
   "outputs": [],
   "source": []
  }
 ],
 "metadata": {
  "kernelspec": {
   "display_name": "Python 3",
   "language": "python",
   "name": "python3"
  },
  "language_info": {
   "codemirror_mode": {
    "name": "ipython",
    "version": 3
   },
   "file_extension": ".py",
   "mimetype": "text/x-python",
   "name": "python",
   "nbconvert_exporter": "python",
   "pygments_lexer": "ipython3",
   "version": "3.8.5"
  }
 },
 "nbformat": 4,
 "nbformat_minor": 4
}
