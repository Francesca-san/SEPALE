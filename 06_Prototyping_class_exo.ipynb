{
 "cells": [
  {
   "cell_type": "markdown",
   "metadata": {},
   "source": [
    "# Treatement of the data for an entire exercise (Exo)"
   ]
  },
  {
   "cell_type": "markdown",
   "metadata": {},
   "source": [
    "In this notebook we create a new class called Exo, which has two subclasses named AFC2 and AFC5."
   ]
  },
  {
   "cell_type": "markdown",
   "metadata": {},
   "source": [
    "## I. Importations of modules and python scripts"
   ]
  },
  {
   "cell_type": "code",
   "execution_count": 17,
   "metadata": {},
   "outputs": [],
   "source": [
    "# We import python modules\n",
    "# numpy : a mathematical function that is very useful!\n",
    "import numpy as np\n",
    "# Pyplot : very important tool if you want to create plots!\n",
    "import matplotlib.pyplot as plt\n",
    "# Parameters for pyplot and sizes of plots\n",
    "plt.rcParams[\"figure.figsize\"] = (10,10)\n",
    "plt.rcParams[\"font.size\"] = 15\n",
    "# From the module utils we import the function create_dico\n",
    "# which is helpful if you want to manage files\n",
    "from utils import create_dico\n",
    "\n",
    "# From the module analysis we import all (*)\n",
    "from analysis import *"
   ]
  },
  {
   "cell_type": "markdown",
   "metadata": {},
   "source": [
    "## II. Definition of a new class called Exo"
   ]
  },
  {
   "cell_type": "markdown",
   "metadata": {},
   "source": [
    "A class is a set of functions.\n",
    "\n",
    "The first one, called __init__ gathers the different functions that initialise the class: the path, the numeric keys, get_lines, clean_lines, and parse_lines. It also has one attribute, path, \"self\" being implicit.\n",
    "    \n",
    "The different functions that were called in __init__ are defined after.\n",
    "\n",
    "The class Exo also has two subclasses that are 2AFC and 5AFC."
   ]
  },
  {
   "cell_type": "code",
   "execution_count": 18,
   "metadata": {},
   "outputs": [],
   "source": [
    "# We define a new class called \"Exo\"\n",
    "class Exo:\n",
    "    '''\n",
    "    This is a description of the class, \n",
    "    If you have any problem with it\n",
    "    you can always write help(Exo)\n",
    "    '''\n",
    "    # This is the initializing function of any exercise\n",
    "    # It has only one argument, called \"path\"\n",
    "    def __init__(self, path):\n",
    "        # Here we define the shared attributes of all the exercises\n",
    "        # They all have a path\n",
    "        self.path = path\n",
    "        # We can find several numeric keys in those exercises: \n",
    "        # Response time, number of mistakes, and repetitions\n",
    "        self.numeric_keys = ['Response Time', 'NbErreurs', 'Repetitions']\n",
    "        # All the exercises have lines that \n",
    "        # have to be taken, cleansed, and parsed\n",
    "        self.get_lines()\n",
    "        self.clean_lines()\n",
    "        self.parse_lines()\n",
    "        \n",
    "    # Here we take the function get_lines that \n",
    "    # can be used on any AFC exercise. It gets the \n",
    "    # lines of the files and reads them, hence 'r'.\n",
    "    def get_lines(self):\n",
    "        f = open(self.path, 'r')\n",
    "        # We take the lines\n",
    "        self.lines = f.readlines()\n",
    "        # We close the file\n",
    "        f.close()\n",
    "        \n",
    "    # This function cleans the lines of the files\n",
    "    def clean_lines(self):\n",
    "        # We remove the \\n that are then replaced\n",
    "        # by a space. \\n are line breaks.\n",
    "        for i in range(len(self.lines)):\n",
    "            self.lines[i] = self.lines[i].replace(\"\\n\", \"\")\n",
    "        # If the line is empty, we delete it\n",
    "        # We make a list which contains all the \n",
    "        # empty lines (= to_delete.append(i))\n",
    "        to_delete = []\n",
    "        for i in range(len(self.lines)):\n",
    "            if len(self.lines[i]) == 0:\n",
    "                to_delete.append(i)\n",
    "        # then we delete (del) what has been\n",
    "        # added in to_delete\n",
    "        for i in to_delete:\n",
    "            del self.lines[i]   \n",
    "        \n",
    "    # We parse the lines so as to assign attributes to lines    \n",
    "    def parse_lines(self):\n",
    "        attributs = []\n",
    "        # We separate lines according to the tabulation\n",
    "        for l in self.lines:\n",
    "            attributs.append(l.split('\\t'))\n",
    "        # The date is the first line -> 0\n",
    "        self.date = attributs[0]\n",
    "        # The keys are the second line --> 1\n",
    "        self.keys = np.array(attributs[1])\n",
    "        # The data is to be found from the third\n",
    "        # line (2) to the penultimate (-1)\n",
    "        data = attributs[2:-1]\n",
    "        # The last line is the number of mistakes\n",
    "        # and repetitions --> stats_total\n",
    "        self.stats_total = attributs[-1]\n",
    "        columns = []\n",
    "        for j, k in enumerate(self.keys):\n",
    "            if k in self.numeric_keys:\n",
    "                columns.append(np.array([float(data[i][j]) for i in range(len(data))]))\n",
    "            else:\n",
    "                columns.append(np.array([data[i][j] for i in range(len(data))]))\n",
    "        # We have defined the content of the columns, now we have \n",
    "        # to indicate that it belongs to class Exo, hence 'self'\n",
    "        self.columns = columns\n",
    "        # Pour ne pas perdre ses clés !\n",
    "        self.key_to_index = {}\n",
    "        for i, k in enumerate(self.keys):\n",
    "            self.key_to_index[k] = i\n",
    "        \n",
    "    def display(self):\n",
    "        # on parcours les keys\n",
    "        for i in range(self.keys.shape[0]):\n",
    "            print(f'{self.keys[i]} {self.columns[i]}')\n",
    "\n",
    "    \n",
    "    def criteria_by_key(self, key, criteria, zeros=False):\n",
    "        if key not in self.keys:\n",
    "            raise Exception('Key not in my keys !')\n",
    "        if criteria not in self.keys:\n",
    "            raise Exception('Criteria not in my keys !')\n",
    "            \n",
    "        # We retrieve the index number of the key/column\n",
    "        k_index = self.key_to_index[key]\n",
    "        # We retrieve the index number of the criteria/column\n",
    "        c_index = self.key_to_index[criteria]\n",
    "        # We retrieve the columns\n",
    "        key_column = self.columns[k_index]\n",
    "        criteria_column = self.columns[c_index]\n",
    "        \n",
    "        dico = {}\n",
    "        # For each key, we keep aside its \n",
    "        # value and we count the number of \n",
    "        # times we come across it.\n",
    "        # dico[key] -> [valeur_critère, compteur d'occurences]\n",
    "        for i, k in enumerate(key_column):\n",
    "            value = criteria_column[i]\n",
    "            if k not in dico.keys():\n",
    "                dico[k] = [value, 1]\n",
    "            else:\n",
    "                dico[k] = [dico[k][0] + value, dico[k][1] + 1]\n",
    "        # We return the dictionary\n",
    "        return dico\n",
    "    \n",
    "    \n",
    "        \n",
    "# We define a specific type of exercise: the 2AFC\n",
    "class AFC2(Exo):\n",
    "    '''\n",
    "    This is a description of the class, \n",
    "    If you have any problem with it\n",
    "    you can always write help(AFC2)\n",
    "    '''\n",
    "    # This is a specific attribute of AFC2 which lists \n",
    "    # the keys that contain numeric quantities\n",
    "    \n",
    "    # This is the initializing function of the exercise\n",
    "    # It has only one argument, called \"path\"\n",
    "    def __init__(self, path):\n",
    "        # Here, we define the attributes that are shared\n",
    "        # by the AFC2 exercises, they all have a path\n",
    "        super().__init__(path)\n",
    "\n",
    "        \n",
    "# We define a specific type of exercise: the 5AFC\n",
    "class AFC5(Exo):\n",
    "    '''\n",
    "    This is a description of the class, \n",
    "    If you have any problem with it\n",
    "    you can always write help(AFC5)\n",
    "    '''\n",
    "    # This is the initializing function of the exercise\n",
    "    # It has only one argument, called \"path\"\n",
    "    def __init__(self, path):\n",
    "        # Here, we define the attributes that are shared\n",
    "        # by the AFC2 exercises, they all have a path\n",
    "        super().__init__(path)\n",
    "     \n",
    "    \n",
    "\n"
   ]
  },
  {
   "cell_type": "markdown",
   "metadata": {},
   "source": [
    "In the following cell we define other functions to make plots, the first one makes a pie and the second an histogram."
   ]
  },
  {
   "cell_type": "code",
   "execution_count": 19,
   "metadata": {},
   "outputs": [],
   "source": [
    " #explode = (0, 0.1, 0, 0)  # only \"explode\" the 2nd slice (i.e. 'Hogs')\n",
    "        #ax1.pie(sizes, explode=explode, labels=labels, autopct='%1.1f%%',\n",
    "        #        shadow=True, startangle=90)\n",
    "def plot_chart(labels, values, title):\n",
    "    fig1, ax1 = plt.subplots()\n",
    "    ax1.pie(values, labels=labels, autopct='%1.1f%%',\n",
    "            shadow=False, startangle=90)\n",
    "    ax1.axis('equal')  # Equal aspect ratio ensures that pie is drawn as a circle.\n",
    "    plt.title(title)\n",
    "    plt.show()\n",
    "    \n",
    "def plot_hist(labels, values, title, xlabel, ylabel, xrotation=None, yrotation=None):\n",
    "    plt.bar(labels, values)\n",
    "    plt.title(title)\n",
    "    plt.xlabel(xlabel)\n",
    "    plt.ylabel(ylabel)\n",
    "    if xrotation:\n",
    "        plt.tick_params(axis='x', rotation=xrotation)\n",
    "    if yrotation:\n",
    "        plt.tick_params(axis='y', rotation=yrotation)\n",
    "    plt.show()"
   ]
  },
  {
   "cell_type": "markdown",
   "metadata": {},
   "source": [
    "## III. Exploitation of the data using the previously defined functions"
   ]
  },
  {
   "cell_type": "markdown",
   "metadata": {},
   "source": [
    "### 1. Definition of an example_directory and AFC2/AFC5_example for the applications of the functions"
   ]
  },
  {
   "cell_type": "code",
   "execution_count": 1,
   "metadata": {},
   "outputs": [],
   "source": [
    "example_directory = \"log_files/L1/Cassandra Amaro Ribeiro_1365824_assignsubmission_file_/logFiles/logFiles/\"\n",
    "AFC2_example = example_directory + \"2AFC_a_Thu_Mar_11_18_13_17_2021.log\"\n",
    "AFC5_example = example_directory + \"5AFC_1_Sat_Mar_20_21_10_31_2021.log\"\n"
   ]
  },
  {
   "cell_type": "markdown",
   "metadata": {},
   "source": [
    "### 2. Display of plots for the defined exercises"
   ]
  },
  {
   "cell_type": "code",
   "execution_count": 21,
   "metadata": {},
   "outputs": [
    {
     "name": "stdout",
     "output_type": "stream",
     "text": [
      "Sound File ['a_pat_H07' 'v_cut_H04' 'a_ban_H09' 'a_cap_F09' 'a_tat_H09' 'v_cup_F07'\n",
      " 'v_mutt_F04' 'a_cad_F04' 'v_bun_F05' 'v_cut_F05' 'a_tat_H06' 'v_luck_F05'\n",
      " 'v_puck_F06' 'a_pat_H08' 'a_lack_H09' 'v_cut_H05' 'a_cap_H06'\n",
      " 'v_puck_H04' 'a_back_F05' 'v_tut_F05' 'v_putt_H05' 'v_tut_F04'\n",
      " 'v_bun_F07' 'v_bun_F06' 'a_pack_H08' 'a_lack_F04' 'a_tat_H07' 'v_cup_F06'\n",
      " 'v_luck_F06' 'a_ban_F05']\n",
      "Stimulus ['pat' 'cut' 'ban' 'cap' 'tat' 'cup' 'mutt' 'cad' 'bun' 'cut' 'tat' 'luck'\n",
      " 'puck' 'pat' 'lack' 'cut' 'cap' 'puck' 'back' 'tut' 'putt' 'tut' 'bun'\n",
      " 'bun' 'pack' 'lack' 'tat' 'cup' 'luck' 'ban']\n",
      "Vowel ['a' 'v' 'a' 'a' 'a' 'v' 'v' 'a' 'v' 'v' 'a' 'v' 'v' 'a' 'a' 'v' 'a' 'v'\n",
      " 'a' 'v' 'v' 'v' 'v' 'v' 'a' 'a' 'a' 'v' 'v' 'a']\n",
      "Response Time [1.39328504 1.21930075 1.27014208 1.73497415 2.23553705 1.43859887\n",
      " 1.6671319  2.02193093 1.90444207 1.84750414 2.9439621  1.33944392\n",
      " 1.691921   1.6721251  1.20243311 1.10895991 0.49098611 1.51972008\n",
      " 1.66735721 0.51189089 2.18864799 0.72322679 1.33309889 1.04118824\n",
      " 1.98980832 1.18695402 1.17709017 2.23191619 1.26059318 1.47129583]\n",
      "NbErreurs [0. 0. 0. 0. 0. 0. 0. 0. 0. 0. 0. 0. 0. 0. 0. 0. 1. 0. 0. 1. 0. 1. 0. 0.\n",
      " 0. 0. 0. 0. 0. 0.]\n",
      "Repetitions [0. 0. 0. 0. 0. 1. 0. 0. 0. 0. 0. 0. 0. 0. 0. 0. 0. 0. 0. 0. 0. 0. 0. 0.\n",
      " 0. 0. 0. 0. 0. 0.]\n"
     ]
    },
    {
     "ename": "ValueError",
     "evalue": "could not convert string to float: 'v'",
     "output_type": "error",
     "traceback": [
      "\u001b[0;31m---------------------------------------------------------------------------\u001b[0m",
      "\u001b[0;31mValueError\u001b[0m                                Traceback (most recent call last)",
      "\u001b[0;32m<ipython-input-21-66f9d8a75820>\u001b[0m in \u001b[0;36m<module>\u001b[0;34m\u001b[0m\n\u001b[1;32m      5\u001b[0m \u001b[0;31m#values = exo.criteria_by_key(\"Repetitions\")\u001b[0m\u001b[0;34m\u001b[0m\u001b[0;34m\u001b[0m\u001b[0;34m\u001b[0m\u001b[0m\n\u001b[1;32m      6\u001b[0m \u001b[0;34m\u001b[0m\u001b[0m\n\u001b[0;32m----> 7\u001b[0;31m \u001b[0mplot_chart\u001b[0m\u001b[0;34m(\u001b[0m\u001b[0mlabel\u001b[0m\u001b[0;34m,\u001b[0m \u001b[0mvalues\u001b[0m\u001b[0;34m,\u001b[0m \u001b[0;34m\"Number of repetitions per vowel\"\u001b[0m\u001b[0;34m)\u001b[0m\u001b[0;34m\u001b[0m\u001b[0;34m\u001b[0m\u001b[0m\n\u001b[0m\u001b[1;32m      8\u001b[0m \u001b[0;34m\u001b[0m\u001b[0m\n\u001b[1;32m      9\u001b[0m \u001b[0mplot_hist\u001b[0m\u001b[0;34m(\u001b[0m\u001b[0mlabel\u001b[0m\u001b[0;34m,\u001b[0m \u001b[0mvalues\u001b[0m\u001b[0;34m,\u001b[0m \u001b[0;34m\"Number of repetitions per vowel\"\u001b[0m\u001b[0;34m,\u001b[0m \u001b[0;34m\"Vowel\"\u001b[0m\u001b[0;34m,\u001b[0m \u001b[0;34m\"Repetitions\"\u001b[0m\u001b[0;34m,\u001b[0m \u001b[0;36m0\u001b[0m\u001b[0;34m)\u001b[0m\u001b[0;34m\u001b[0m\u001b[0;34m\u001b[0m\u001b[0m\n",
      "\u001b[0;32m<ipython-input-19-5d18ca71789e>\u001b[0m in \u001b[0;36mplot_chart\u001b[0;34m(labels, values, title)\u001b[0m\n\u001b[1;32m      4\u001b[0m \u001b[0;32mdef\u001b[0m \u001b[0mplot_chart\u001b[0m\u001b[0;34m(\u001b[0m\u001b[0mlabels\u001b[0m\u001b[0;34m,\u001b[0m \u001b[0mvalues\u001b[0m\u001b[0;34m,\u001b[0m \u001b[0mtitle\u001b[0m\u001b[0;34m)\u001b[0m\u001b[0;34m:\u001b[0m\u001b[0;34m\u001b[0m\u001b[0;34m\u001b[0m\u001b[0m\n\u001b[1;32m      5\u001b[0m    \u001b[0mfig1\u001b[0m\u001b[0;34m,\u001b[0m \u001b[0max1\u001b[0m \u001b[0;34m=\u001b[0m \u001b[0mplt\u001b[0m\u001b[0;34m.\u001b[0m\u001b[0msubplots\u001b[0m\u001b[0;34m(\u001b[0m\u001b[0;34m)\u001b[0m\u001b[0;34m\u001b[0m\u001b[0;34m\u001b[0m\u001b[0m\n\u001b[0;32m----> 6\u001b[0;31m    ax1.pie(values, labels=labels, autopct='%1.1f%%',\n\u001b[0m\u001b[1;32m      7\u001b[0m            shadow=False, startangle=90)\n\u001b[1;32m      8\u001b[0m    \u001b[0max1\u001b[0m\u001b[0;34m.\u001b[0m\u001b[0maxis\u001b[0m\u001b[0;34m(\u001b[0m\u001b[0;34m'equal'\u001b[0m\u001b[0;34m)\u001b[0m  \u001b[0;31m# Equal aspect ratio ensures that pie is drawn as a circle.\u001b[0m\u001b[0;34m\u001b[0m\u001b[0;34m\u001b[0m\u001b[0m\n",
      "\u001b[0;32m/usr/lib/python3/dist-packages/matplotlib/__init__.py\u001b[0m in \u001b[0;36minner\u001b[0;34m(ax, data, *args, **kwargs)\u001b[0m\n\u001b[1;32m   1599\u001b[0m     \u001b[0;32mdef\u001b[0m \u001b[0minner\u001b[0m\u001b[0;34m(\u001b[0m\u001b[0max\u001b[0m\u001b[0;34m,\u001b[0m \u001b[0;34m*\u001b[0m\u001b[0margs\u001b[0m\u001b[0;34m,\u001b[0m \u001b[0mdata\u001b[0m\u001b[0;34m=\u001b[0m\u001b[0;32mNone\u001b[0m\u001b[0;34m,\u001b[0m \u001b[0;34m**\u001b[0m\u001b[0mkwargs\u001b[0m\u001b[0;34m)\u001b[0m\u001b[0;34m:\u001b[0m\u001b[0;34m\u001b[0m\u001b[0;34m\u001b[0m\u001b[0m\n\u001b[1;32m   1600\u001b[0m         \u001b[0;32mif\u001b[0m \u001b[0mdata\u001b[0m \u001b[0;32mis\u001b[0m \u001b[0;32mNone\u001b[0m\u001b[0;34m:\u001b[0m\u001b[0;34m\u001b[0m\u001b[0;34m\u001b[0m\u001b[0m\n\u001b[0;32m-> 1601\u001b[0;31m             \u001b[0;32mreturn\u001b[0m \u001b[0mfunc\u001b[0m\u001b[0;34m(\u001b[0m\u001b[0max\u001b[0m\u001b[0;34m,\u001b[0m \u001b[0;34m*\u001b[0m\u001b[0mmap\u001b[0m\u001b[0;34m(\u001b[0m\u001b[0msanitize_sequence\u001b[0m\u001b[0;34m,\u001b[0m \u001b[0margs\u001b[0m\u001b[0;34m)\u001b[0m\u001b[0;34m,\u001b[0m \u001b[0;34m**\u001b[0m\u001b[0mkwargs\u001b[0m\u001b[0;34m)\u001b[0m\u001b[0;34m\u001b[0m\u001b[0;34m\u001b[0m\u001b[0m\n\u001b[0m\u001b[1;32m   1602\u001b[0m \u001b[0;34m\u001b[0m\u001b[0m\n\u001b[1;32m   1603\u001b[0m         \u001b[0mbound\u001b[0m \u001b[0;34m=\u001b[0m \u001b[0mnew_sig\u001b[0m\u001b[0;34m.\u001b[0m\u001b[0mbind\u001b[0m\u001b[0;34m(\u001b[0m\u001b[0max\u001b[0m\u001b[0;34m,\u001b[0m \u001b[0;34m*\u001b[0m\u001b[0margs\u001b[0m\u001b[0;34m,\u001b[0m \u001b[0;34m**\u001b[0m\u001b[0mkwargs\u001b[0m\u001b[0;34m)\u001b[0m\u001b[0;34m\u001b[0m\u001b[0;34m\u001b[0m\u001b[0m\n",
      "\u001b[0;32m/usr/lib/python3/dist-packages/matplotlib/axes/_axes.py\u001b[0m in \u001b[0;36mpie\u001b[0;34m(self, x, explode, labels, colors, autopct, pctdistance, shadow, labeldistance, startangle, radius, counterclock, wedgeprops, textprops, center, frame, rotatelabels)\u001b[0m\n\u001b[1;32m   2963\u001b[0m         \u001b[0;31m# The use of float32 is \"historical\", but can't be changed without\u001b[0m\u001b[0;34m\u001b[0m\u001b[0;34m\u001b[0m\u001b[0;34m\u001b[0m\u001b[0m\n\u001b[1;32m   2964\u001b[0m         \u001b[0;31m# regenerating the test baselines.\u001b[0m\u001b[0;34m\u001b[0m\u001b[0;34m\u001b[0m\u001b[0;34m\u001b[0m\u001b[0m\n\u001b[0;32m-> 2965\u001b[0;31m         \u001b[0mx\u001b[0m \u001b[0;34m=\u001b[0m \u001b[0mnp\u001b[0m\u001b[0;34m.\u001b[0m\u001b[0masarray\u001b[0m\u001b[0;34m(\u001b[0m\u001b[0mx\u001b[0m\u001b[0;34m,\u001b[0m \u001b[0mnp\u001b[0m\u001b[0;34m.\u001b[0m\u001b[0mfloat32\u001b[0m\u001b[0;34m)\u001b[0m\u001b[0;34m\u001b[0m\u001b[0;34m\u001b[0m\u001b[0m\n\u001b[0m\u001b[1;32m   2966\u001b[0m         \u001b[0;32mif\u001b[0m \u001b[0mx\u001b[0m\u001b[0;34m.\u001b[0m\u001b[0mndim\u001b[0m \u001b[0;34m!=\u001b[0m \u001b[0;36m1\u001b[0m \u001b[0;32mand\u001b[0m \u001b[0mx\u001b[0m\u001b[0;34m.\u001b[0m\u001b[0msqueeze\u001b[0m\u001b[0;34m(\u001b[0m\u001b[0;34m)\u001b[0m\u001b[0;34m.\u001b[0m\u001b[0mndim\u001b[0m \u001b[0;34m<=\u001b[0m \u001b[0;36m1\u001b[0m\u001b[0;34m:\u001b[0m\u001b[0;34m\u001b[0m\u001b[0;34m\u001b[0m\u001b[0m\n\u001b[1;32m   2967\u001b[0m             cbook.warn_deprecated(\n",
      "\u001b[0;32m/usr/lib/python3/dist-packages/numpy/core/_asarray.py\u001b[0m in \u001b[0;36masarray\u001b[0;34m(a, dtype, order)\u001b[0m\n\u001b[1;32m     83\u001b[0m \u001b[0;34m\u001b[0m\u001b[0m\n\u001b[1;32m     84\u001b[0m     \"\"\"\n\u001b[0;32m---> 85\u001b[0;31m     \u001b[0;32mreturn\u001b[0m \u001b[0marray\u001b[0m\u001b[0;34m(\u001b[0m\u001b[0ma\u001b[0m\u001b[0;34m,\u001b[0m \u001b[0mdtype\u001b[0m\u001b[0;34m,\u001b[0m \u001b[0mcopy\u001b[0m\u001b[0;34m=\u001b[0m\u001b[0;32mFalse\u001b[0m\u001b[0;34m,\u001b[0m \u001b[0morder\u001b[0m\u001b[0;34m=\u001b[0m\u001b[0morder\u001b[0m\u001b[0;34m)\u001b[0m\u001b[0;34m\u001b[0m\u001b[0;34m\u001b[0m\u001b[0m\n\u001b[0m\u001b[1;32m     86\u001b[0m \u001b[0;34m\u001b[0m\u001b[0m\n\u001b[1;32m     87\u001b[0m \u001b[0;34m\u001b[0m\u001b[0m\n",
      "\u001b[0;31mValueError\u001b[0m: could not convert string to float: 'v'"
     ]
    },
    {
     "data": {
      "image/png": "[encoded data removed]",
      "text/plain": [
       "<Figure size 720x720 with 1 Axes>"
      ]
     },
     "metadata": {
      "needs_background": "light"
     },
     "output_type": "display_data"
    }
   ],
   "source": [
    "exo = AFC2(AFC2_example)\n",
    "exo.display()\n",
    "#labels, values = \n",
    "label, values = exo.criteria_by_key(\"Vowel\", \"Repetitions\")\n",
    "#values = exo.criteria_by_key(\"Repetitions\")\n",
    "\n",
    "plot_chart(label, values, \"Number of repetitions per vowel\")\n",
    "\n",
    "plot_hist(label, values, \"Number of repetitions per vowel\", \"Vowel\", \"Repetitions\", 0)"
   ]
  },
  {
   "cell_type": "code",
   "execution_count": null,
   "metadata": {},
   "outputs": [],
   "source": []
  }
 ],
 "metadata": {
  "kernelspec": {
   "display_name": "Python 3",
   "language": "python",
   "name": "python3"
  },
  "language_info": {
   "codemirror_mode": {
    "name": "ipython",
    "version": 3
   },
   "file_extension": ".py",
   "mimetype": "text/x-python",
   "name": "python",
   "nbconvert_exporter": "python",
   "pygments_lexer": "ipython3",
   "version": "3.8.5"
  }
 },
 "nbformat": 4,
 "nbformat_minor": 4
}
