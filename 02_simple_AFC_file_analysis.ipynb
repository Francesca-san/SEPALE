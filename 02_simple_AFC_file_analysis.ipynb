{
 "cells": [
  {
   "cell_type": "markdown",
   "metadata": {},
   "source": [
    "# Analysis of an AFC file"
   ]
  },
  {
   "cell_type": "markdown",
   "metadata": {},
   "source": [
    "In this notebook we analyse the data of a single AFC exercice, whether it is a 5AFC or a 2AFC."
   ]
  },
  {
   "cell_type": "markdown",
   "metadata": {},
   "source": [
    "## I. Importation of modules and functions from python scripts"
   ]
  },
  {
   "cell_type": "code",
   "execution_count": 35,
   "metadata": {},
   "outputs": [],
   "source": [
    "# We import python modules\n",
    "# numpy : a mathematical function that is very useful!\n",
    "import numpy as np\n",
    "# Pyplot : very important tool if you want to create plots!\n",
    "import matplotlib.pyplot as plt\n",
    "\n",
    "# From the module utils we import the function create_dico\n",
    "# which is helpful if you want to manage files\n",
    "from utils import create_dico\n",
    "\n",
    "# From the module analysis we import all (*)\n",
    "from analysis import *\n",
    "\n",
    "    "
   ]
  },
  {
   "cell_type": "markdown",
   "metadata": {},
   "source": [
    "## II. Setting the path to the logfile we are to analyse"
   ]
  },
  {
   "cell_type": "markdown",
   "metadata": {},
   "source": [
    "After importing modules and functions, we determine a directory called \"example_directory\". In this cell, the path of the file from my computer is used, you'll need to put the logfiles in a special directory, find the path to these logfiles and paste it in quotation marks. The os.listdir function will simply make a list of the files you have in the directory."
   ]
  },
  {
   "cell_type": "code",
   "execution_count": 9,
   "metadata": {},
   "outputs": [
    {
     "data": {
      "text/plain": [
       "['AX_a_Thu_Mar_11_18_06_13_2021.log',\n",
       " '2AFC_i_Thu_Mar_18_17_22_34_2021.log',\n",
       " '2AFC_a_Thu_Mar_11_18_13_17_2021.log',\n",
       " '5AFC_1_Sat_Mar_20_21_10_31_2021.log',\n",
       " 'AX_i_Sat_Feb_20_18_51_07_2021.log',\n",
       " 'AX_i_Thu_Mar_11_18_00_08_2021.log',\n",
       " '2AFC_a_Sun_Mar_28_15_00_32_2021.log',\n",
       " 'AX_i_Tue_Apr_06_18_39_38_2021.log',\n",
       " '2AFC_av_Thu_Mar_11_18_10_41_2021.log',\n",
       " '2AFC_a_Tue_Apr_06_18_42_06_2021.log',\n",
       " '2AFC_i_Thu_Apr_29_18_57_34_2021.log',\n",
       " '2AFC_a_Thu_Apr_29_18_53_37_2021.log',\n",
       " '5AFC_1_Thu_Mar_11_18_18_46_2021.log',\n",
       " '5AFC_2_Sat_Apr_10_12_45_13_2021.log',\n",
       " 'AX_av_Tue_Apr_06_18_35_37_2021.log',\n",
       " 'AX_av_Thu_Mar_18_17_09_34_2021.log',\n",
       " '5AFC_2_Sat_Mar_13_17_46_12_2021.log',\n",
       " '5AFC_2_Sat_Apr_17_20_49_15_2021.log',\n",
       " '5AFC_1_Sun_Mar_28_15_06_29_2021.log',\n",
       " '5AFC_1_Sun_Mar_07_17_37_44_2021.log',\n",
       " '5AFC_1_Sat_Mar_13_17_43_23_2021.log',\n",
       " '2AFC_i_Tue_Apr_06_18_45_51_2021.log',\n",
       " 'AX_a_Sun_Mar_07_17_29_09_2021.log',\n",
       " '5AFC_2_Sat_Mar_20_21_12_55_2021.log',\n",
       " '2AFC_i_Sun_Mar_28_15_04_00_2021.log',\n",
       " 'ListeOddity_1_00.txt',\n",
       " '5AFC_2_Sun_Mar_28_15_08_40_2021.log',\n",
       " 'AX_av_Thu_Mar_11_18_03_15_2021.log',\n",
       " '5AFC_1_Sat_Apr_17_20_47_22_2021.log',\n",
       " 'AX_av_Sun_Mar_07_17_44_23_2021.log',\n",
       " 'AX_av_Wed_Apr_21_20_27_13_2021.log',\n",
       " 'AX_av_Wed_Apr_14_18_42_26_2021.log',\n",
       " '2AFC_a_Sat_Feb_20_18_56_39_2021.log',\n",
       " '2AFC_av_Wed_Apr_14_18_49_29_2021.log',\n",
       " '2AFC_i_Wed_Apr_21_20_36_54_2021.log',\n",
       " '5AFC_1_Sat_Feb_20_18_59_16_2021.log',\n",
       " '5AFC_2_Sun_Mar_07_17_51_10_2021.log',\n",
       " 'ListeOddity_2_00.txt',\n",
       " '2AFC_a_Thu_Mar_18_17_15_16_2021.log',\n",
       " 'AX_i_Thu_Mar_18_17_12_33_2021.log',\n",
       " 'AX_a_Wed_Apr_21_20_30_11_2021.log',\n",
       " 'AX_a_Wed_Apr_14_18_39_39_2021.log',\n",
       " 'AX_i_Sun_Mar_28_14_58_01_2021.log',\n",
       " 'AX_a_Tue_Apr_06_18_32_58_2021.log',\n",
       " '5AFC_1_Sat_Apr_24_18_31_44_2021.log',\n",
       " 'AX_a_Sun_Mar_28_14_53_20_2021.log',\n",
       " 'AX_av_Sun_Mar_28_14_55_28_2021.log',\n",
       " '2AFC_a_Thu_Mar_11_18_08_44_2021.log',\n",
       " '2AFC_av_Sun_Mar_07_17_35_10_2021.log',\n",
       " 'AX_a_Thu_Mar_18_17_06_02_2021.log',\n",
       " 'AX_i_Thu_Apr_29_18_45_43_2021.log',\n",
       " '5AFC_1_Sat_Apr_10_12_43_02_2021.log',\n",
       " '2AFC_a_Wed_Apr_21_20_33_21_2021.log',\n",
       " '2AFC_a_Wed_Apr_14_18_47_51_2021.log',\n",
       " '2AFC_av_Thu_Apr_29_18_55_17_2021.log',\n",
       " 'AX_i_Wed_Apr_21_20_24_41_2021.log',\n",
       " 'AX_av_Thu_Apr_29_18_48_21_2021.log',\n",
       " '2AFC_av_Thu_Mar_18_17_16_57_2021.log',\n",
       " '5AFC_2_Sat_Apr_24_18_33_46_2021.log',\n",
       " '2AFC_av_Sun_Mar_07_17_48_56_2021.log',\n",
       " 'AX_a_Thu_Apr_29_18_50_50_2021.log',\n",
       " 'AX_i_Wed_Apr_14_18_44_59_2021.log',\n",
       " '2AFC_i_Wed_Apr_14_18_51_10_2021.log',\n",
       " '2AFC_av_Sun_Mar_28_15_02_09_2021.log',\n",
       " '2AFC_av_Tue_Apr_06_18_43_56_2021.log',\n",
       " '5AFC_2_Thu_Mar_11_18_21_14_2021.log',\n",
       " '2AFC_av_Wed_Apr_21_20_35_06_2021.log']"
      ]
     },
     "execution_count": 9,
     "metadata": {},
     "output_type": "execute_result"
    }
   ],
   "source": [
    "import os\n",
    "example_directory = \"log_files/L1/Cassandra Amaro Ribeiro_1365824_assignsubmission_file_/logFiles/logFiles\"\n",
    "# The function listdir makes a list of \n",
    "# all the files in example_directory\n",
    "os.listdir(example_directory)"
   ]
  },
  {
   "cell_type": "markdown",
   "metadata": {},
   "source": [
    "The os.listdir function enables you to choose out of the list of files, the logfile that you want to analyse. After having determined the directory (the example_directory) you'll have to choose the path of the file you want to look more closely into."
   ]
  },
  {
   "cell_type": "markdown",
   "metadata": {},
   "source": [
    "We take the directory of a random student, you can change it if you want. To do so, you'll have to change the path by the path to another student's directory, and place it in quotation marks as we did before. \n",
    "The example_file is the example_directory, plus the path to the logfile you want to analyse. This logfile can be AFC, AX, or Oddity, although these functions only work for AFC files."
   ]
  },
  {
   "cell_type": "code",
   "execution_count": 37,
   "metadata": {},
   "outputs": [],
   "source": [
    "# We take the directory of a random student, you can change it\n",
    "example_directory = \"log_files/L1/Cassandra Amaro Ribeiro_1365824_assignsubmission_file_/logFiles/logFiles\"\n",
    "# example_file = example_directory + \"/5AFC_2_Sat_Jan_30_22_11_07_2021.log\"\n",
    "example_file = example_directory + \"/2AFC_i_Thu_Mar_18_17_22_34_2021.log\"\n"
   ]
  },
  {
   "cell_type": "markdown",
   "metadata": {},
   "source": [
    "## III. Creation of a dictionary"
   ]
  },
  {
   "cell_type": "markdown",
   "metadata": {},
   "source": [
    "We create a dictionary called file_dico, which will \"remember\", in a way, the different keys of the example_file."
   ]
  },
  {
   "cell_type": "code",
   "execution_count": 38,
   "metadata": {},
   "outputs": [],
   "source": [
    "# We create a dictionary for the example_file\n",
    "file_dico = create_dico(example_file)"
   ]
  },
  {
   "cell_type": "markdown",
   "metadata": {},
   "source": [
    "If you want you can print the keys for this exercice. To do so, you'll have to use the function \"print\" and put in parentheses what you'd like to see."
   ]
  },
  {
   "cell_type": "code",
   "execution_count": 39,
   "metadata": {},
   "outputs": [
    {
     "name": "stdout",
     "output_type": "stream",
     "text": [
      "dict_keys(['Sound File', 'Stimulus', 'Vowel', 'Response Time', 'NbErreurs', 'Repetitions', 'date'])\n"
     ]
    }
   ],
   "source": [
    "print(file_dico.keys())"
   ]
  },
  {
   "cell_type": "markdown",
   "metadata": {},
   "source": [
    "## IV. Analysis of the data"
   ]
  },
  {
   "cell_type": "markdown",
   "metadata": {},
   "source": [
    "### 1. Vowel/stimuli with one or more errors"
   ]
  },
  {
   "cell_type": "markdown",
   "metadata": {},
   "source": [
    "Using the function with_errors that is in the module analysis, you can choose to show the vowelsfor which the student made mistakes. You can do the same for the stimuli, you'll just have to indicate that the key is \"Stimulus\". "
   ]
  },
  {
   "cell_type": "markdown",
   "metadata": {},
   "source": [
    "You probably noticed that there is an attribute to the function, called at_least. Here it is equal to 1, but you can also see the vowels/stimuli for which the student made more than one mistake by replacing the 1 by 2/3 etc."
   ]
  },
  {
   "cell_type": "code",
   "execution_count": 40,
   "metadata": {},
   "outputs": [
    {
     "data": {
      "text/plain": [
       "['I', 'i', 'I', 'I', 'i', 'i']"
      ]
     },
     "execution_count": 40,
     "metadata": {},
     "output_type": "execute_result"
    }
   ],
   "source": [
    "with_errors(file_dico, key=\"Vowel\", at_least=1)"
   ]
  },
  {
   "cell_type": "markdown",
   "metadata": {},
   "source": [
    "### 2. Count of errors per vowel/stimuli "
   ]
  },
  {
   "cell_type": "markdown",
   "metadata": {},
   "source": [
    "The following cell counts the number of mistakes per stimuli/vowel."
   ]
  },
  {
   "cell_type": "code",
   "execution_count": 41,
   "metadata": {
    "scrolled": true
   },
   "outputs": [
    {
     "data": {
      "text/plain": [
       "{'deed': 0,\n",
       " 'peak': 1,\n",
       " 'bik': 0,\n",
       " 'min': 1,\n",
       " 'pick': 0,\n",
       " 'did': 0,\n",
       " 'keep': 0,\n",
       " 'leak': 1,\n",
       " 'teak': 1,\n",
       " 'bin': 0,\n",
       " 'tick': 1,\n",
       " 'kip': 1,\n",
       " 'mean': 0,\n",
       " 'cheap': 0,\n",
       " 'lick': 0,\n",
       " 'bean': 0}"
      ]
     },
     "execution_count": 41,
     "metadata": {},
     "output_type": "execute_result"
    }
   ],
   "source": [
    "count_errors(file_dico, key=\"Stimulus\", count_one=True)"
   ]
  },
  {
   "cell_type": "markdown",
   "metadata": {},
   "source": [
    "### 3. Vowel/stimuli with no errors"
   ]
  },
  {
   "cell_type": "markdown",
   "metadata": {},
   "source": [
    "This cell makes a list of the vowels/stimuli for which the student did not make a mistake"
   ]
  },
  {
   "cell_type": "code",
   "execution_count": 42,
   "metadata": {},
   "outputs": [
    {
     "data": {
      "text/plain": [
       "['I',\n",
       " 'i',\n",
       " 'i',\n",
       " 'i',\n",
       " 'i',\n",
       " 'I',\n",
       " 'I',\n",
       " 'I',\n",
       " 'I',\n",
       " 'i',\n",
       " 'I',\n",
       " 'I',\n",
       " 'i',\n",
       " 'I',\n",
       " 'i',\n",
       " 'I',\n",
       " 'I',\n",
       " 'i',\n",
       " 'i',\n",
       " 'i',\n",
       " 'I',\n",
       " 'i',\n",
       " 'i',\n",
       " 'I']"
      ]
     },
     "execution_count": 42,
     "metadata": {},
     "output_type": "execute_result"
    }
   ],
   "source": [
    "with_no_errors(file_dico, key=\"Vowel\")"
   ]
  },
  {
   "cell_type": "markdown",
   "metadata": {},
   "source": [
    "### 4. List of the vowels/stimuli for which the student made a mistake or repeated the sound file"
   ]
  },
  {
   "cell_type": "markdown",
   "metadata": {},
   "source": [
    "Here we have what was to become the function criteria_by_key: combining two elements of the file_dico, we print, we make a list of the key (a.k.a. \"s\") and a correspondant criteria (a.k.a. \"e\")."
   ]
  },
  {
   "cell_type": "code",
   "execution_count": 43,
   "metadata": {},
   "outputs": [
    {
     "name": "stdout",
     "output_type": "stream",
     "text": [
      "deed 0.0\n",
      "peak 1.0\n",
      "bik 0.0\n",
      "min 1.0\n",
      "pick 0.0\n",
      "did 0.0\n",
      "min 0.0\n",
      "deed 0.0\n",
      "keep 0.0\n",
      "leak 0.0\n",
      "teak 1.0\n",
      "leak 1.0\n",
      "keep 0.0\n",
      "bin 0.0\n",
      "tick 1.0\n",
      "kip 1.0\n",
      "mean 0.0\n",
      "peak 0.0\n",
      "bik 0.0\n",
      "deed 0.0\n",
      "did 0.0\n",
      "keep 0.0\n",
      "cheap 0.0\n",
      "lick 0.0\n",
      "tick 0.0\n",
      "did 0.0\n",
      "bean 0.0\n",
      "tick 0.0\n",
      "tick 0.0\n",
      "bean 0.0\n"
     ]
    }
   ],
   "source": [
    "for s, e in zip(file_dico[\"Stimulus\"], file_dico[\"NbErreurs\"]):\n",
    "    print(s, e)"
   ]
  },
  {
   "cell_type": "markdown",
   "metadata": {},
   "source": [
    "### 5. Sum of criterias"
   ]
  },
  {
   "cell_type": "markdown",
   "metadata": {},
   "source": [
    "With the function np.sum, you can sum the number of repetitions, of errors, and even the response time. You only have to write the right name, \"Repetitions\", \"NbErrors\", \"Response Time\", respectively."
   ]
  },
  {
   "cell_type": "code",
   "execution_count": 44,
   "metadata": {},
   "outputs": [
    {
     "data": {
      "text/plain": [
       "0.0"
      ]
     },
     "execution_count": 44,
     "metadata": {},
     "output_type": "execute_result"
    }
   ],
   "source": [
    "np.sum(file_dico['Repetitions'])"
   ]
  },
  {
   "cell_type": "markdown",
   "metadata": {},
   "source": [
    "### 6. Combining statistics"
   ]
  },
  {
   "cell_type": "markdown",
   "metadata": {},
   "source": [
    "In the following cell, we use the function count_with_criteria (you can change the key and the criteria), and the tool stat_exo which basically makes a simple table of the sum of wrong and right answers, and response time. Feel free, for this last function, to change the key by \"Stimulus\"."
   ]
  },
  {
   "cell_type": "code",
   "execution_count": 45,
   "metadata": {
    "scrolled": true
   },
   "outputs": [
    {
     "name": "stdout",
     "output_type": "stream",
     "text": [
      "{'I': 20.099112033843994, 'i': 21.82487964630127}\n",
      "key | errors | right | mean resp time\n",
      "--------------------\n",
      "i   |  3.0   | 12 | 21.82487964630127\n",
      "I   |  3.0   | 12 | 20.099112033843994\n"
     ]
    }
   ],
   "source": [
    "# Sum of repetitions\n",
    "print(count_with_criteria(file_dico, key=\"Vowel\", criteria='Response Time'))\n",
    "stat = stat_exo(example_file, 'Vowel')\n",
    "print_stat_exo(stat)"
   ]
  }
 ],
 "metadata": {
  "kernelspec": {
   "display_name": "Python 3",
   "language": "python",
   "name": "python3"
  },
  "language_info": {
   "codemirror_mode": {
    "name": "ipython",
    "version": 3
   },
   "file_extension": ".py",
   "mimetype": "text/x-python",
   "name": "python",
   "nbconvert_exporter": "python",
   "pygments_lexer": "ipython3",
   "version": "3.8.5"
  }
 },
 "nbformat": 4,
 "nbformat_minor": 4
}
