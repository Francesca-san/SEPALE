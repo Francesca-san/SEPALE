{
 "cells": [
  {
   "cell_type": "markdown",
   "metadata": {},
   "source": [
    "# Analysis of an AFC file"
   ]
  },
  {
   "cell_type": "markdown",
   "metadata": {},
   "source": [
    "In this notebook we analyse the data of a single AFC exercice, whether it is a 5AFC or a 2AFC."
   ]
  },
  {
   "cell_type": "markdown",
   "metadata": {},
   "source": [
    "## I. Importation of modules and functions from python scripts"
   ]
  },
  {
   "cell_type": "code",
   "execution_count": null,
   "metadata": {},
   "outputs": [],
   "source": [
    "# We import python modules\n",
    "# numpy : a mathematical function that is very useful!\n",
    "import numpy as np\n",
    "# Pyplot : very important tool if you want to create plots!\n",
    "import matplotlib.pyplot as plt\n",
    "\n",
    "# From the module utils we import the function create_dico\n",
    "# which is helpful if you want to manage files\n",
    "from utils import create_dico\n",
    "\n",
    "# From the module analysis we import all (*)\n",
    "from analysis import *\n",
    "\n",
    "import os"
   ]
  },
  {
   "cell_type": "markdown",
   "metadata": {},
   "source": [
    "## II. Setting the path to the logfile we are to analyse"
   ]
  },
  {
   "cell_type": "markdown",
   "metadata": {},
   "source": [
    "After importing modules and functions, we determine a directory called *example_directory*. In this cell, the path of the file from my computer is used, you'll need to put the logfiles in a special directory, find the path to these logfiles and paste it in quotation marks. \n",
    "\n",
    "The __os.listdir__ function will simply make a list of the files you have in the directory."
   ]
  },
  {
   "cell_type": "code",
   "execution_count": null,
   "metadata": {},
   "outputs": [],
   "source": [
    "# We create an instance of example_directory\n",
    "# by adding the path to the logfiles of a \n",
    "# single student, Jane Doe for anonymity purposes\n",
    "example_directory = \"log_files/L2/Jane Doe_Number/logFiles/logFiles\"\n",
    "# we can list the files in the student's directory\n",
    "# using the function os.listdir\n",
    "os.listdir(example_directory)"
   ]
  },
  {
   "cell_type": "markdown",
   "metadata": {},
   "source": [
    "The __os.listdir__ function enables you to choose out of the list of files the logfile that you want to analyse. After having determined the directory (the *example_directory*) you'll have to choose the path of the file you want to look more closely into."
   ]
  },
  {
   "cell_type": "markdown",
   "metadata": {},
   "source": [
    "We take the directory of a random student, you can change it if you want. To do so, you'll have to change the path by the path to another student's directory, and place it in quotation marks as we did before. \n",
    "The *example_file* is the *example_directory*, plus the path to the logfile you want to analyse. This logfile can be AFC, AX, or Oddity, although these functions only work for AFC files."
   ]
  },
  {
   "cell_type": "code",
   "execution_count": null,
   "metadata": {},
   "outputs": [],
   "source": [
    "# We take the directory of a random student, you can change it\n",
    "example_directory = \"log_files/L1/Jane Doe_Number/logFiles/logFiles\"\n",
    "# example_file = example_directory + \"path to a specific exercise\"\n",
    "example_file = example_directory + \"/2AFC_i_Wed_Apr_14_18_51_10_2021.log\"\n"
   ]
  },
  {
   "cell_type": "markdown",
   "metadata": {},
   "source": [
    "## III. Creation of a dictionary"
   ]
  },
  {
   "cell_type": "markdown",
   "metadata": {},
   "source": [
    "We create a dictionary called *file_dico*, which will \"remember\", in a way, the different keys of the *example_file*.\n",
    "\n",
    "If you go back to the beginning of the document, you'll see that we imported the function __create_dico__ from the module *utils*. This function takes one attribute, (*path*), here *example_file*."
   ]
  },
  {
   "cell_type": "code",
   "execution_count": null,
   "metadata": {},
   "outputs": [],
   "source": [
    "# We create a dictionary for the example_file\n",
    "file_dico = create_dico(example_file)"
   ]
  },
  {
   "cell_type": "markdown",
   "metadata": {},
   "source": [
    "If you want you can print the keys for this exercice. To do so, you'll have to use the function __print__ and put in parentheses what you'd like to see.\n",
    "\n",
    "The keys have also been defined in __create_dico__ where we specified that the keys were in the second line (keys = attributs[1])."
   ]
  },
  {
   "cell_type": "markdown",
   "metadata": {},
   "source": [
    "<span style=\"text-decoration: underline\">Tip</span>: Remember that in computing, the first line is referred to as \"0\", not \"1\"."
   ]
  },
  {
   "cell_type": "code",
   "execution_count": null,
   "metadata": {},
   "outputs": [],
   "source": [
    "print(file_dico.keys())"
   ]
  },
  {
   "cell_type": "markdown",
   "metadata": {},
   "source": [
    "## IV. Analysis of the data"
   ]
  },
  {
   "cell_type": "markdown",
   "metadata": {},
   "source": [
    "### 1. Vowel/stimuli with one or more errors"
   ]
  },
  {
   "cell_type": "markdown",
   "metadata": {},
   "source": [
    "Using the function __with_errors__ that is in the module <span style=\"text-decoration: underline\">analysis</span>, you can choose to show the vowels for which the student made mistakes. You can do the same for the stimuli, you'll just have to indicate that the key is \"Stimulus\". "
   ]
  },
  {
   "cell_type": "markdown",
   "metadata": {},
   "source": [
    "You probably noticed that there is an attribute to the function, called *at_least*. Here, it is equal to 1, but you can also see the vowels/stimuli for which the student made more than one mistake by replacing the 1 by 2/3 etc."
   ]
  },
  {
   "cell_type": "markdown",
   "metadata": {},
   "source": [
    "Above, we imported everything from the module <span style=\"text-decoration: underline\">analysis</span>, it has three attributes that are \"dico\", \"key\", and \"at_least\" (cf. analysis). This means that you'll have to create a dictionary (here, file_dico), and specify the key and the at_least. By default, the key is \"Stimulus\", and at_least = 1."
   ]
  },
  {
   "cell_type": "code",
   "execution_count": null,
   "metadata": {},
   "outputs": [],
   "source": [
    "with_errors(file_dico, key=\"Vowel\", at_least=1)"
   ]
  },
  {
   "cell_type": "markdown",
   "metadata": {},
   "source": [
    "### 2. Count of errors per vowel/stimuli "
   ]
  },
  {
   "cell_type": "markdown",
   "metadata": {},
   "source": [
    "The following cell counts the number of mistakes per stimuli/vowel."
   ]
  },
  {
   "cell_type": "markdown",
   "metadata": {},
   "source": [
    "The function has also been imported from  \"analysis\", the default key is stimulus which means that you don't have to specify it if \"Stimulus\" is the key you want."
   ]
  },
  {
   "cell_type": "code",
   "execution_count": null,
   "metadata": {},
   "outputs": [],
   "source": [
    "count_errors(file_dico, key=\"Stimulus\")"
   ]
  },
  {
   "cell_type": "markdown",
   "metadata": {},
   "source": [
    "### 3. Vowel/stimuli with no errors"
   ]
  },
  {
   "cell_type": "markdown",
   "metadata": {},
   "source": [
    "This cell makes a list of the vowels/stimuli for which the student did not make a mistake."
   ]
  },
  {
   "cell_type": "code",
   "execution_count": null,
   "metadata": {},
   "outputs": [],
   "source": [
    "with_no_errors(file_dico, key=\"Vowel\")"
   ]
  },
  {
   "cell_type": "markdown",
   "metadata": {},
   "source": [
    "### 4. List of the vowels/stimuli for which the student made a mistake or repeated the sound file"
   ]
  },
  {
   "cell_type": "markdown",
   "metadata": {},
   "source": [
    "Here we have what was to become the function __criteria_by_key__: combining two elements of the *file_dico*, we print, we make a list of the *key* (a.k.a. \"s\") and a correspondant *criteria* (a.k.a. \"e\")."
   ]
  },
  {
   "cell_type": "code",
   "execution_count": null,
   "metadata": {},
   "outputs": [],
   "source": [
    "for s, e in zip(file_dico[\"Stimulus\"], file_dico[\"NbErreurs\"]):\n",
    "    print(s, e)"
   ]
  },
  {
   "cell_type": "markdown",
   "metadata": {},
   "source": [
    "### 5. Sum of criterias"
   ]
  },
  {
   "cell_type": "markdown",
   "metadata": {},
   "source": [
    "With the function __np.sum__, you can sum the number of repetitions, of errors, and even the response time. You only have to write the right labels, *Repetitions*, *NbErreurs*, *Response Time*, respectively."
   ]
  },
  {
   "cell_type": "code",
   "execution_count": null,
   "metadata": {},
   "outputs": [],
   "source": [
    "np.sum(file_dico['Repetitions'])"
   ]
  },
  {
   "cell_type": "markdown",
   "metadata": {},
   "source": [
    "### 6. Combining statistics"
   ]
  },
  {
   "cell_type": "markdown",
   "metadata": {},
   "source": [
    "In the following cell, we use the function __count_with_criteria__ (you can change the key and the criteria), and the tool __stat_exo__ which basically makes a simple table of the sum of wrong and right answers, and response time. Feel free, for this last function, to change the key by *Stimulus*."
   ]
  },
  {
   "cell_type": "code",
   "execution_count": null,
   "metadata": {},
   "outputs": [],
   "source": [
    "print(count_with_criteria(file_dico, key=\"Vowel\", criteria='Response Time'))\n",
    "stat = exo_stat(example_file, 'Vowel')\n",
    "print_stat_exo(stat)"
   ]
  },
  {
   "cell_type": "code",
   "execution_count": null,
   "metadata": {},
   "outputs": [],
   "source": []
  }
 ],
 "metadata": {
  "kernelspec": {
   "display_name": "Python 3",
   "language": "python",
   "name": "python3"
  },
  "language_info": {
   "codemirror_mode": {
    "name": "ipython",
    "version": 3
   },
   "file_extension": ".py",
   "mimetype": "text/x-python",
   "name": "python",
   "nbconvert_exporter": "python",
   "pygments_lexer": "ipython3",
   "version": "3.8.5"
  }
 },
 "nbformat": 4,
 "nbformat_minor": 4
}
