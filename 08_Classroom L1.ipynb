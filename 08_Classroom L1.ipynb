{
 "cells": [
  {
   "cell_type": "markdown",
   "metadata": {},
   "source": [
    "# Analysis of the data for a Classroom"
   ]
  },
  {
   "cell_type": "markdown",
   "metadata": {},
   "source": [
    "## I. Importation of modules and functions from python scripts"
   ]
  },
  {
   "cell_type": "code",
   "execution_count": null,
   "metadata": {},
   "outputs": [],
   "source": [
    "# We import python modules\n",
    "# numpy : a mathematical function that is very useful!\n",
    "import numpy as np\n",
    "import os\n",
    "from graphs import *\n",
    "from exo import *\n",
    "from student import *\n",
    "\n",
    "plt.rcParams[\"figure.figsize\"] = (30,20)\n",
    "plt.rcParams[\"font.size\"] = 20"
   ]
  },
  {
   "cell_type": "markdown",
   "metadata": {},
   "source": [
    "In this previous section, we imported modules and functions which will help us for the analysis. \n",
    "The class `Classroom` has been defined in the python script *classroom.py*, we have imported all the modules which contain the functions that we presently need. \n",
    "\n",
    "If you want to see the detail of the functions, you can click on the other notebooks and scripts that are in the Home Page."
   ]
  },
  {
   "cell_type": "markdown",
   "metadata": {},
   "source": [
    "## II. Use of plots"
   ]
  },
  {
   "cell_type": "markdown",
   "metadata": {},
   "source": [
    "### 1. Histograms and pie charts"
   ]
  },
  {
   "cell_type": "markdown",
   "metadata": {},
   "source": [
    "We use the function __hist_all_exos__ which creates histograms for all the students in a classroom. We also use the function __chart_all_exos__ to make pie charts for the first-year students (L1). "
   ]
  },
  {
   "cell_type": "markdown",
   "metadata": {},
   "source": [
    "In this cell we make plots for the number of repetitions per stimuli (for __hist_all_exos__), but remember that you can change these parameters as you please! You can therefore change *Vowel*, and put *Stimulus* instead, and vice versa. Same goes for *Repetitions* which can be replaced by *NbErreurs*, or *Response Time*. Feel free to play around with it. However, remember to change the title, here it's *Repetitions per stimuli/vowel*.\n",
    "\n",
    "If you are doing a __hist_all_exos__, I would recomment setting the *xrotation* at 90 (it is the case here) when the key is \"Stimulus\" because the labels are rather long. If you don't, the labels will overlap."
   ]
  },
  {
   "cell_type": "code",
   "execution_count": null,
   "metadata": {},
   "outputs": [],
   "source": [
    "# We define the base for all the students\n",
    "base_L1 = \"./log_files/L1/\"\n",
    "\n",
    "# We create an empty list called student_list.\n",
    "student_list = []\n",
    "# list_student is the list of students in base_L1.\n",
    "list_students = os.listdir(base_L1)\n",
    "# for all the paths in this list of students\n",
    "for student_path in list_students:\n",
    "    # we create a nex instance called student which\n",
    "    # belongs to the class Student and takes\n",
    "    # two arguments, base_L1 + the student_path.\n",
    "    student = Student(base_L1 + student_path)\n",
    "    # We add student to student_list.\n",
    "    student_list.append(student)\n",
    "\n",
    "# for student in student_list\n",
    "for student in student_list:\n",
    "    # we show the name and surname of the student.\n",
    "    print(student.name, student.surname)\n",
    "    # We call the function hist_all_exos and give\n",
    "    # it the right arguments: the key, criterion,\n",
    "    # title, xlabel, ylabel, and xrotation.\n",
    "    student.hist_all_exos(\"Stimulus\", \"Repetitions\", \"Repetitions per stimuli\", \"Stimulus\",\"Repetition\", 90)\n",
    "    # We call the function chart_all_exos and give it the \n",
    "    # right arguments: the key, criterion, and title.\n",
    "    student.chart_all_exos(\"Vowel\", \"Repetitions\", \"Repetitions per vowel\")"
   ]
  },
  {
   "cell_type": "markdown",
   "metadata": {},
   "source": [
    "### 2. Tables"
   ]
  },
  {
   "cell_type": "markdown",
   "metadata": {},
   "source": [
    "In this cell we use the function __plot_table_by_key__ to make a table of the average of all the parameters (*repetitions*, *number of errors*, and *response time*) per vowel and per stimuli."
   ]
  },
  {
   "cell_type": "code",
   "execution_count": null,
   "metadata": {},
   "outputs": [],
   "source": [
    "base_L1 = \"./log_files/L1/\"\n",
    "\n",
    "student_list = []\n",
    "list_students = os.listdir(base_L1)\n",
    "for student_path in list_students:\n",
    "    student = Student(base_L1 + student_path)\n",
    "    student_list.append(student)\n",
    "\n",
    "\n",
    "for student in student_list:\n",
    "    print(student.name, student.surname)\n",
    "    student.plot_table_by_key(\"Stimulus\", xscale=0.5, yscale=4)    \n",
    "    student.plot_table_by_key(\"Vowel\", xscale=0.5, yscale=4)"
   ]
  },
  {
   "cell_type": "code",
   "execution_count": null,
   "metadata": {},
   "outputs": [],
   "source": []
  }
 ],
 "metadata": {
  "kernelspec": {
   "display_name": "Python 3",
   "language": "python",
   "name": "python3"
  },
  "language_info": {
   "codemirror_mode": {
    "name": "ipython",
    "version": 3
   },
   "file_extension": ".py",
   "mimetype": "text/x-python",
   "name": "python",
   "nbconvert_exporter": "python",
   "pygments_lexer": "ipython3",
   "version": "3.8.5"
  }
 },
 "nbformat": 4,
 "nbformat_minor": 4
}
