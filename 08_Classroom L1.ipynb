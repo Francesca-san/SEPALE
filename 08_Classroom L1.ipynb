{
 "cells": [
  {
   "cell_type": "markdown",
   "metadata": {},
   "source": [
    "# Analysis of the data for a Classroom"
   ]
  },
  {
   "cell_type": "markdown",
   "metadata": {},
   "source": [
    "## I. Importation of modules and functions from python scripts"
   ]
  },
  {
   "cell_type": "code",
   "execution_count": null,
   "metadata": {},
   "outputs": [],
   "source": [
    "# We import python modules\n",
    "# numpy : a mathematical function that is very useful!\n",
    "import numpy as np\n",
    "import os\n",
    "from graphs import *\n",
    "from exo import *\n",
    "from student import *\n",
    "from classroom import *\n",
    "\n",
    "plt.rcParams[\"figure.figsize\"] = (10,10)\n",
    "plt.rcParams[\"font.size\"] = 9"
   ]
  },
  {
   "cell_type": "markdown",
   "metadata": {},
   "source": [
    "In this previous section, we imported modules and functions which will help us for the analysis. \n",
    "The class `Classroom` has been defined in the python script *classroom.py*, we have imported all the modules which contain the functions that we presently need. \n",
    "\n",
    "If you want to see the detail of the functions, you can click on the other notebooks and scripts that are in the Home Page."
   ]
  },
  {
   "cell_type": "markdown",
   "metadata": {},
   "source": [
    "## II. Use of plots"
   ]
  },
  {
   "cell_type": "markdown",
   "metadata": {},
   "source": [
    "### 1. Histograms and pie charts"
   ]
  },
  {
   "cell_type": "markdown",
   "metadata": {},
   "source": [
    "We use the function __hist_all_exos__ which creates histograms for all the students in a classroom. We also use the function __chart_all_exos__ to make pie charts for the first-year students (L1). "
   ]
  },
  {
   "cell_type": "markdown",
   "metadata": {},
   "source": [
    "In this cell we make plots for the number of repetitions per stimuli (for __hist_all_exos__), but remember that you can change these parameters as you please! You can therefore change *Vowel*, and put *Stimulus* instead, and vice versa. Same goes for *Repetitions* which can be replaced by *NbErreurs*, or *Response Time*. Feel free to play around with it. However, remember to change the title, here it's *Repetitions per stimuli/vowel*.\n",
    "\n",
    "If you are doing a __hist_all_exos__, I would recomment setting the *xrotation* at 90 (it is the case here) when the key is \"Stimulus\" because the labels are rather long. If you don't, the labels will overlap."
   ]
  },
  {
   "cell_type": "code",
   "execution_count": null,
   "metadata": {},
   "outputs": [],
   "source": [
    "base_L1 = \"./log_files/L2/\"\n",
    "\n",
    "L1 = Classroom(base_L1)\n",
    "\n",
    "for student in L1.student_list:\n",
    "    print(student.name, student.surname)\n",
    "    student.hist_all_exos(\"Vowel\", \"NbErreurs\", \"Errors per vowel\", \"Vowel\",\"Errors\")"
   ]
  },
  {
   "cell_type": "markdown",
   "metadata": {},
   "source": [
    "### 2. Tables"
   ]
  },
  {
   "cell_type": "markdown",
   "metadata": {},
   "source": [
    "In this cell we use the function __plot_table_by_key__ to make a table of the average of all the parameters (*repetitions*, *number of errors*, and *response time*) per vowel and per stimuli."
   ]
  },
  {
   "cell_type": "code",
   "execution_count": null,
   "metadata": {},
   "outputs": [],
   "source": [
    "base_L1 = \"./log_files/L1/\"\n",
    "\n",
    "L1 = Classroom(base_L1)\n",
    "\n",
    "for student in L1.student_list:\n",
    "    print(student.name, student.surname)\n",
    "    #student.plot_table_by_key(\"Stimulus\", xscale=0.5, yscale=4, at_least=0, target_criteria=\"Response Time\")\n",
    "    student.plot_table_by_key(\"Vowel\", xscale=0.5, yscale=4)"
   ]
  },
  {
   "cell_type": "markdown",
   "metadata": {},
   "source": [
    "### 3. Group bar chart "
   ]
  },
  {
   "cell_type": "markdown",
   "metadata": {},
   "source": [
    "A group bar chart is a histogram with more than one bar. The plot makes an average of the key and displays a bar for each criteria. If you want to see how we did it, you can check the script in <span style=\"text-decoration: underline\">exo.py</span> and <span style=\"text-decoration: underline\">student.py</span>.\n",
    "\n",
    "We recommend only using this plot for the vowels as it rapidly gets messy. However, if you don't have many students, you can delete '#' before *%matplotlib* to stop displaying it as a comment. *%matplotlib* opens the plot on a different window and offers you the possibility to zoom in. However, if you have too many students you'll be flooded with pop-up windows."
   ]
  },
  {
   "cell_type": "code",
   "execution_count": null,
   "metadata": {},
   "outputs": [],
   "source": [
    "base_L1 = \"./log_files/L2/\"\n",
    "\n",
    "L1 = Classroom(base_L1)\n",
    "\n",
    "for student in L1.student_list:\n",
    "    print(student.name, student.surname)\n",
    "    #student.group_bar_hist([\"Repetitions\", \"NbErreurs\"], [\"Averaged number of mistakes and repetitions per vowel\", \n",
    "                            #student.name + \" \" + student.surname], \"Average\", key=\"Vowel\")\n",
    "    student.group_bar_hist([\"Repetitions\", \"NbErreurs\"], \"Averaged number of mistakes and repetitions per vowel\", \n",
    "                           \"Average\", key=\"Vowel\")"
   ]
  },
  {
   "cell_type": "markdown",
   "metadata": {},
   "source": [
    "### 4. Graphic  "
   ]
  },
  {
   "cell_type": "markdown",
   "metadata": {},
   "source": [
    "This graphic displays a line which follows the number of errors per vowel in a chronological order to see if there is an evolution. \n",
    "Although we can see a decrease in terms of errors, it is difficult to say for sure that it is due to the exercises because the students did not make many of them. However, if the project was to be presented earlier, the students would make more exercises and the graphic would be more telling."
   ]
  },
  {
   "cell_type": "markdown",
   "metadata": {},
   "source": [
    "Using the same base as before (*base_L1*), we plot the graphic for all the students in the list of students. "
   ]
  },
  {
   "cell_type": "code",
   "execution_count": null,
   "metadata": {},
   "outputs": [],
   "source": [
    "base_L1 = \"./log_files/L2/\"\n",
    "\n",
    "L1 = Classroom(base_L1)\n",
    "\n",
    "for student in L1.student_list:\n",
    "    print(student.name, student.surname)\n",
    "    student.plot_criteria_by_date(\"Vowel\", \"NbErreurs\", \"Number of errors per vowel through time\", \n",
    "                                  \"Date\", \"Averaged number of mistakes\", 90)"
   ]
  },
  {
   "cell_type": "code",
   "execution_count": null,
   "metadata": {},
   "outputs": [],
   "source": [
    "criterias = np.array([\"Repetitions\", \"NbErreurs\",  \"Response Time\"])\n",
    "print(np.where(criterias == \"Repetitions\")[0][0])\n"
   ]
  },
  {
   "cell_type": "code",
   "execution_count": null,
   "metadata": {},
   "outputs": [],
   "source": []
  }
 ],
 "metadata": {
  "kernelspec": {
   "display_name": "Python 3",
   "language": "python",
   "name": "python3"
  },
  "language_info": {
   "codemirror_mode": {
    "name": "ipython",
    "version": 3
   },
   "file_extension": ".py",
   "mimetype": "text/x-python",
   "name": "python",
   "nbconvert_exporter": "python",
   "pygments_lexer": "ipython3",
   "version": "3.8.10"
  }
 },
 "nbformat": 4,
 "nbformat_minor": 4
}
