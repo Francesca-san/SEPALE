{
 "cells": [
  {
   "cell_type": "code",
   "execution_count": 1,
   "metadata": {},
   "outputs": [],
   "source": [
    "from exo import Exo, AFC2, AFC5\n",
    "from eleve import Eleve\n",
    "from classroom import Classroom\n",
    "from utils import average_dico"
   ]
  },
  {
   "cell_type": "code",
   "execution_count": 2,
   "metadata": {},
   "outputs": [],
   "source": [
    "exo1 = AFC2(\"log_files/L1/Sarah Moreira_1365881_assignsubmission_file_/logFiles (Sarah Moreira)/logFiles (Sarah Moreira)/2AFC_a_Wed_Feb_17_10_18_00_2021.log\")\n",
    "exo2 = AFC5(\"log_files/L1/Sarah Moreira_1365881_assignsubmission_file_/logFiles (Sarah Moreira)/logFiles (Sarah Moreira)/5AFC_1_Sat_Feb_27_09_53_53_2021.log\")\n",
    "exo3 = AFC2(\"log_files/L1/Sarah Moreira_1365881_assignsubmission_file_/logFiles (Sarah Moreira)/logFiles (Sarah Moreira)/2AFC_i_Wed_Feb_17_10_25_03_2021.log\")"
   ]
  },
  {
   "cell_type": "code",
   "execution_count": 3,
   "metadata": {},
   "outputs": [],
   "source": [
    "sarah = Eleve(\"log_files/L1/Sarah Moreira_1365881_assignsubmission_file_\")"
   ]
  },
  {
   "cell_type": "code",
   "execution_count": 4,
   "metadata": {},
   "outputs": [
    {
     "data": {
      "text/plain": [
       "{'a': [99.76160144805908, 37],\n",
       " 'v': [110.06173300743103, 42],\n",
       " 'A': [51.99925708770752, 18],\n",
       " 'I': [82.33307909965515, 26],\n",
       " 'i': [103.92088890075684, 27]}"
      ]
     },
     "execution_count": 4,
     "metadata": {},
     "output_type": "execute_result"
    }
   ],
   "source": [
    "sarah.criteria_by_key(\"Vowel\", \"Response Time\")"
   ]
  },
  {
   "cell_type": "code",
   "execution_count": 5,
   "metadata": {},
   "outputs": [
    {
     "name": "stdout",
     "output_type": "stream",
     "text": [
      "Sarah Moreira (5 exercices)\n",
      "Enzo Mazni (5 exercices)\n",
      "Lauriane Lacour (10 exercices)\n",
      "Loan Tessier (18 exercices)\n",
      "Kelly Veng (5 exercices)\n",
      "Cassandra Amaro Ribeiro (41 exercices)\n",
      "Mathilde Chardon (19 exercices)\n",
      "Emma Appere (33 exercices)\n",
      "Alistair Ziane (5 exercices)\n",
      "Clea Causse (80 exercices)\n",
      "Lisa Metais (0 exercices)\n",
      "Margot Couchard (5 exercices)\n",
      "Manele Boutiche (2 exercices)\n",
      "Aathavan Velan (2 exercices)\n",
      "Barbara Damide (21 exercices)\n",
      "Daphne Quenolle (5 exercices)\n",
      "Lucille Bray (5 exercices)\n",
      "Lucas Vuillot (5 exercices)\n",
      "Perrine Zorlu (5 exercices)\n",
      "Eponine Cinnaman (5 exercices)\n",
      "Jesse Lema (8 exercices)\n",
      "Christine Kiem (1 exercices)\n",
      "Elise Xu (12 exercices)\n",
      "Cherine Ouasti (5 exercices)\n",
      "Rachel Lu Hsing (2 exercices)\n"
     ]
    }
   ],
   "source": [
    "L3 = Classroom(\"./log_files/L1/\")\n",
    "L3.print_names()"
   ]
  },
  {
   "cell_type": "code",
   "execution_count": 6,
   "metadata": {},
   "outputs": [
    {
     "data": {
      "text/plain": [
       "{'tick': [30.0, 160],\n",
       " 'bean': [28.0, 173],\n",
       " 'did': [23.0, 169],\n",
       " 'pack': [14.0, 160],\n",
       " 'mean': [19.0, 157],\n",
       " 'leak': [44.0, 160],\n",
       " 'peak': [60.0, 152],\n",
       " 'min': [57.0, 159],\n",
       " 'back': [11.0, 154],\n",
       " 'pick': [16.0, 142],\n",
       " 'cap': [40.0, 160],\n",
       " 'seek': [23.0, 173],\n",
       " 'buck': [47.0, 249],\n",
       " 'sick': [35.0, 162],\n",
       " 'luck': [30.0, 253],\n",
       " 'pat': [24.0, 193],\n",
       " 'ban': [26.0, 154],\n",
       " 'barn': [61.0, 150],\n",
       " 'tut': [73.0, 258],\n",
       " 'cup': [23.0, 255],\n",
       " 'mutt': [60.0, 251],\n",
       " 'bark': [39.0, 171],\n",
       " 'deed': [13.0, 160],\n",
       " 'cut': [48.0, 242],\n",
       " 'bik': [18.0, 146],\n",
       " 'part': [33.0, 145],\n",
       " 'bin': [51.0, 168],\n",
       " 'mart': [77.0, 183],\n",
       " 'cad': [61.0, 178],\n",
       " 'park': [35.0, 147],\n",
       " 'bun': [38.0, 254],\n",
       " 'mat': [9.0, 165],\n",
       " 'tat': [16.0, 156],\n",
       " 'lick': [37.0, 164],\n",
       " 'tart': [72.0, 138],\n",
       " 'cud': [69.0, 248],\n",
       " 'carp': [56.0, 146],\n",
       " 'cart': [63.0, 149],\n",
       " 'teak': [45.0, 126],\n",
       " 'lack': [36.0, 184],\n",
       " 'putt': [67.0, 251],\n",
       " 'beak': [82.0, 169],\n",
       " 'lark': [84.0, 157],\n",
       " 'keep': [25.0, 152],\n",
       " 'card': [19.0, 146],\n",
       " 'cat': [17.0, 153],\n",
       " 'kip': [34.0, 156],\n",
       " 'cheap': [32.0, 169],\n",
       " 'puck': [81.0, 261],\n",
       " 'chip': [51.0, 161]}"
      ]
     },
     "execution_count": 6,
     "metadata": {},
     "output_type": "execute_result"
    }
   ],
   "source": [
    "L3.criteria_by_key(\"Stimulus\", \"NbErreurs\")"
   ]
  },
  {
   "cell_type": "code",
   "execution_count": 7,
   "metadata": {},
   "outputs": [
    {
     "data": {
      "text/plain": [
       "dict_values([0.153, 0.213, 0.352, 0.233, 0.222])"
      ]
     },
     "execution_count": 7,
     "metadata": {},
     "output_type": "execute_result"
    }
   ],
   "source": [
    "import numpy as np\n",
    "average_dico(L3.criteria_by_key(\"Vowel\", \"NbErreurs\")).values()"
   ]
  },
  {
   "cell_type": "code",
   "execution_count": 8,
   "metadata": {},
   "outputs": [
    {
     "data": {
      "text/plain": [
       "3.33"
      ]
     },
     "execution_count": 8,
     "metadata": {},
     "output_type": "execute_result"
    }
   ],
   "source": [
    "round(3.333333333333, 2)"
   ]
  },
  {
   "cell_type": "code",
   "execution_count": 12,
   "metadata": {},
   "outputs": [
    {
     "data": {
      "image/png": "[encoded data removed]",
      "text/plain": [
       "<Figure size 432x288 with 1 Axes>"
      ]
     },
     "metadata": {
      "needs_background": "light"
     },
     "output_type": "display_data"
    }
   ],
   "source": [
    "L3.plot_table_by_key(\"Vowel\", xscale=2, yscale=2)"
   ]
  },
  {
   "cell_type": "code",
   "execution_count": null,
   "metadata": {},
   "outputs": [],
   "source": []
  }
 ],
 "metadata": {
  "kernelspec": {
   "display_name": "Python 3",
   "language": "python",
   "name": "python3"
  },
  "language_info": {
   "codemirror_mode": {
    "name": "ipython",
    "version": 3
   },
   "file_extension": ".py",
   "mimetype": "text/x-python",
   "name": "python",
   "nbconvert_exporter": "python",
   "pygments_lexer": "ipython3",
   "version": "3.8.5"
  }
 },
 "nbformat": 4,
 "nbformat_minor": 4
}
