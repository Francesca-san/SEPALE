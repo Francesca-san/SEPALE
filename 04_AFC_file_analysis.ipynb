{
 "cells": [
  {
   "cell_type": "code",
   "execution_count": 1,
   "metadata": {},
   "outputs": [],
   "source": [
    "# On importe des petits modules python bien sympa\n",
    "# numpy : fonctions mathématiques vraiment convenables !\n",
    "import numpy as np\n",
    "# Pyplot : super ! ça va nous aider à afficher de belles courbes des familles !\n",
    "import matplotlib.pyplot as plt\n",
    "\n",
    "# On importe les fonctions faites maison de la mort qui tue\n",
    "# depuis le module utils (fichier utils.py) pour gérer les fichiers et tout\n",
    "from utils import create_dico\n",
    "\n",
    "# Là on rentre dans le dur ! on importe les fonctions d'analyse qui font briller en société !\n",
    "from analysis import with_errors, count_errors, count_with_criteria, with_no_errors, count_right"
   ]
  },
  {
   "cell_type": "code",
   "execution_count": 2,
   "metadata": {},
   "outputs": [
    {
     "data": {
      "text/plain": [
       "['AX_a_Thu_Mar_11_22_39_47_2021.log',\n",
       " '2AFC_i_Sun_Feb_07_18_30_06_2021.log',\n",
       " 'AX_av_Sun_Mar_28_17_17_04_2021.log',\n",
       " 'AX_av_Sat_Apr_24_16_01_44_2021.log',\n",
       " 'AX_a_Tue_Mar_16_14_54_22_2021.log',\n",
       " '2AFC_a_Sun_Mar_07_14_17_23_2021.log',\n",
       " '2AFC_i_Wed_Mar_24_15_26_11_2021.log',\n",
       " '2AFC_av_Thu_Mar_11_22_44_13_2021.log',\n",
       " '2AFC_av_Sun_Mar_07_14_19_34_2021.log',\n",
       " 'AX_a_Fri_Apr_02_16_13_54_2021.log',\n",
       " '5AFC_2_Thu_Apr_08_17_09_38_2021.log',\n",
       " '2AFC_av_Fri_Feb_26_12_10_54_2021.log',\n",
       " 'AX_a_Sun_Mar_07_14_14_50_2021.log',\n",
       " '2AFC_a_Thu_Mar_11_22_42_20_2021.log',\n",
       " '2AFC_i_Tue_Mar_30_16_28_19_2021.log',\n",
       " '2AFC_a_Wed_Mar_24_15_22_48_2021.log',\n",
       " '2AFC_av_Sat_Apr_24_16_08_22_2021.log',\n",
       " 'AX_i_Mon_Mar_01_16_40_56_2021.log',\n",
       " '5AFC_2_Wed_Apr_21_15_15_48_2021.log',\n",
       " '5AFC_2_Sun_Mar_07_14_25_07_2021.log',\n",
       " 'AX_av_Sun_Mar_07_14_12_06_2021.log',\n",
       " '2AFC_av_Tue_Mar_16_14_59_03_2021.log',\n",
       " 'AX_i_Wed_Apr_21_14_54_50_2021.log',\n",
       " 'AX_a_Wed_Apr_21_15_02_16_2021.log',\n",
       " '5AFC_2_Sun_May_02_16_55_49_2021.log',\n",
       " '2AFC_a_Fri_Apr_30_19_47_26_2021.log',\n",
       " '5AFC_1_Fri_Feb_26_12_15_12_2021.log',\n",
       " '5AFC_2_Thu_Mar_11_22_50_30_2021.log',\n",
       " 'AX_i_Fri_Apr_02_16_08_59_2021.log',\n",
       " '5AFC_1_Fri_Apr_30_19_52_43_2021.log',\n",
       " '5AFC_2_Sun_Mar_28_17_07_22_2021.log',\n",
       " 'AX_av_Thu_Mar_11_22_37_05_2021.log',\n",
       " 'AX_a_Mon_Mar_01_16_46_06_2021.log',\n",
       " 'AX_i_Sun_Mar_28_17_14_50_2021.log',\n",
       " 'AX_i_Tue_Mar_30_16_16_44_2021.log',\n",
       " '2AFC_a_Thu_Apr_08_17_01_32_2021.log',\n",
       " '2AFC_av_Fri_Apr_16_15_06_51_2021.log',\n",
       " '2AFC_a_Tue_Mar_30_16_23_58_2021.log',\n",
       " 'AX_av_Wed_Apr_14_18_30_44_2021.log',\n",
       " 'AX_a_Thu_Apr_08_16_59_09_2021.log',\n",
       " '2AFC_i_Tue_Mar_16_15_01_07_2021.log',\n",
       " '2AFC_i_Fri_Apr_02_16_20_19_2021.log',\n",
       " '5AFC_2_Tue_Mar_16_15_05_31_2021.log',\n",
       " '2AFC_a_Wed_Apr_14_18_35_45_2021.log',\n",
       " '5AFC_2_Mon_Mar_01_18_20_50_2021.log',\n",
       " 'AX_av_Tue_Mar_16_14_52_00_2021.log',\n",
       " '2AFC_i_Sun_May_02_16_52_24_2021.log',\n",
       " 'AX_a_Wed_Mar_24_15_18_21_2021.log',\n",
       " '2AFC_i_Fri_Apr_16_15_08_44_2021.log',\n",
       " '5AFC_1_Sun_Mar_28_17_04_19_2021.log',\n",
       " 'AX_i_Tue_Mar_16_14_49_39_2021.log',\n",
       " 'ListeOddity_1_00.txt',\n",
       " '2AFC_av_Thu_Apr_08_17_03_21_2021.log',\n",
       " 'AX_av_Mon_Mar_01_16_43_17_2021.log',\n",
       " 'AX_a_Fri_Feb_26_11_59_39_2021.log',\n",
       " '2AFC_av_Wed_Mar_24_15_24_30_2021.log',\n",
       " 'AX_a_Wed_Apr_14_18_33_17_2021.log',\n",
       " 'AX_a_Sat_Apr_24_16_04_04_2021.log',\n",
       " '5AFC_2_Sat_Apr_24_16_14_09_2021.log',\n",
       " 'AX_a_Sun_Mar_28_17_19_34_2021.log',\n",
       " '2AFC_i_Sun_Mar_07_14_21_17_2021.log',\n",
       " '5AFC_2_Fri_Apr_30_19_54_43_2021.log',\n",
       " 'AX_av_Wed_Mar_24_15_14_12_2021.log',\n",
       " 'AX_i_Wed_Mar_24_15_11_50_2021.log',\n",
       " '2AFC_av_Wed_Apr_21_15_05_57_2021.log',\n",
       " 'AX_i_Sat_Apr_24_15_59_49_2021.log',\n",
       " '5AFC_1_Wed_Apr_14_18_40_52_2021.log',\n",
       " '5AFC_2_Wed_Mar_24_15_30_53_2021.log',\n",
       " 'AX_i_Thu_Mar_11_22_34_55_2021.log',\n",
       " '2AFC_i_Fri_Feb_26_12_12_54_2021.log',\n",
       " '5AFC_1_Sat_Apr_24_16_12_07_2021.log',\n",
       " 'AX_i_Fri_Apr_16_14_58_02_2021.log',\n",
       " 'AX_i_Fri_Apr_30_19_40_31_2021.log',\n",
       " 'AX_a_Sun_May_02_16_46_52_2021.log',\n",
       " 'AX_av_Thu_Apr_08_16_56_52_2021.log',\n",
       " 'AX_av_Wed_Apr_21_14_57_19_2021.log',\n",
       " 'AX_a_Fri_Apr_30_19_45_02_2021.log',\n",
       " '2AFC_i_Thu_Apr_08_17_05_19_2021.log',\n",
       " 'ListeOddity_2_00.txt',\n",
       " 'AX_av_Tue_Mar_30_16_18_52_2021.log',\n",
       " 'AX_i_Sun_Mar_07_14_09_52_2021.log',\n",
       " '5AFC_2_Fri_Apr_16_15_12_26_2021.log',\n",
       " '2AFC_a_Fri_Apr_02_16_16_28_2021.log',\n",
       " '2AFC_i_Thu_Mar_11_22_46_02_2021.log',\n",
       " 'AX_a_Wed_Apr_21_14_59_48_2021.log',\n",
       " '2AFC_av_Sun_May_02_16_50_39_2021.log',\n",
       " '2AFC_i_Sat_Apr_24_16_10_12_2021.log',\n",
       " 'AX_a_Sun_Feb_07_18_21_07_2021.log',\n",
       " '5AFC_1_Wed_Apr_21_15_10_40_2021.log',\n",
       " '5AFC_2_Tue_Mar_30_16_32_32_2021.log',\n",
       " 'AX_a_Fri_Apr_16_15_02_42_2021.log',\n",
       " '5AFC_1_Thu_Apr_08_17_07_26_2021.log',\n",
       " '2AFC_a_Mon_Mar_01_16_48_32_2021.log',\n",
       " '2AFC_av_Tue_Mar_30_16_26_11_2021.log',\n",
       " '5AFC_1_Wed_Mar_24_15_28_47_2021.log',\n",
       " 'AX_av_Sun_May_02_16_43_56_2021.log',\n",
       " '2AFC_av_Sun_Feb_07_18_28_12_2021.log',\n",
       " '2AFC_a_Sat_Apr_24_16_06_38_2021.log',\n",
       " 'AX_i_Sun_May_02_16_41_31_2021.log',\n",
       " 'AX_av_Fri_Feb_26_12_03_08_2021.log',\n",
       " '2AFC_a_Sun_May_02_16_48_53_2021.log',\n",
       " '5AFC_1_Fri_Apr_16_15_10_29_2021.log',\n",
       " 'AX_av_Fri_Apr_02_16_11_12_2021.log',\n",
       " '2AFC_i_Wed_Apr_14_18_39_05_2021.log',\n",
       " 'AX_av_Fri_Apr_30_19_42_41_2021.log',\n",
       " '2AFC_a_Fri_Apr_16_15_05_09_2021.log',\n",
       " 'AX_av_Sun_Feb_07_18_17_51_2021.log',\n",
       " '5AFC_1_Sun_May_02_16_54_05_2021.log',\n",
       " 'AX_i_Fri_Feb_26_12_06_00_2021.log',\n",
       " '5AFC_1_Mon_Mar_01_18_18_44_2021.log',\n",
       " 'AX_i_Wed_Jan_27_17_57_16_2021.log',\n",
       " '2AFC_av_Mon_Mar_01_18_01_12_2021.log',\n",
       " '5AFC_1_Tue_Mar_30_16_30_21_2021.log',\n",
       " '2AFC_a_Fri_Feb_26_12_09_02_2021.log',\n",
       " '5AFC_2_Wed_Apr_14_18_42_48_2021.log',\n",
       " '5AFC_2_Fri_Feb_26_12_17_40_2021.log',\n",
       " '5AFC_1_Fri_Apr_02_16_22_25_2021.log',\n",
       " '2AFC_i_Fri_Apr_30_19_50_43_2021.log',\n",
       " 'AX_a_Tue_Mar_30_16_21_20_2021.log',\n",
       " '2AFC_a_Wed_Apr_21_15_04_22_2021.log',\n",
       " 'AX_i_Wed_Apr_14_18_27_57_2021.log',\n",
       " '2AFC_i_Mon_Mar_01_18_03_19_2021.log',\n",
       " 'AX_av_Fri_Apr_16_15_00_08_2021.log',\n",
       " '2AFC_i_Wed_Apr_21_15_08_38_2021.log',\n",
       " '2AFC_av_Fri_Apr_30_19_49_00_2021.log',\n",
       " '5AFC_1_Thu_Mar_11_22_48_20_2021.log',\n",
       " '2AFC_a_Sun_Feb_07_18_25_46_2021.log',\n",
       " '5AFC_1_Tue_Mar_16_15_03_12_2021.log',\n",
       " '2AFC_a_Tue_Mar_16_14_57_08_2021.log',\n",
       " '2AFC_av_Fri_Apr_02_16_18_21_2021.log',\n",
       " '5AFC_2_Fri_Apr_02_16_24_33_2021.log',\n",
       " 'AX_i_Thu_Apr_08_16_54_52_2021.log',\n",
       " '5AFC_1_Sun_Mar_07_14_23_06_2021.log',\n",
       " '2AFC_av_Wed_Apr_14_18_37_19_2021.log']"
      ]
     },
     "execution_count": 2,
     "metadata": {},
     "output_type": "execute_result"
    }
   ],
   "source": [
    "import os\n",
    "dossier_exemple = \"log_files/Clea Causse_1365770_assignsubmission_file_/logFiles CAUSSE Clea/logFiles\"\n",
    "# Là je t'affiche les fichiers que tu pourras utiliser !\n",
    "os.listdir(dossier_exemple)"
   ]
  },
  {
   "cell_type": "code",
   "execution_count": 427,
   "metadata": {},
   "outputs": [],
   "source": [
    "# On prend le dossier de quelqu'un en exemple (tu peux le changer)\n",
    "dossier_exemple = \"log_files/Clea Causse_1365770_assignsubmission_file_/logFiles CAUSSE Clea/logFiles\"\n",
    "#fichier_exemple = dossier_exemple + \"/5AFC_2_Sat_Jan_30_22_11_07_2021.log\"\n",
    "fichier_exemple = dossier_exemple + \"/5AFC_1_Thu_Apr_08_17_07_26_2021.log\"\n"
   ]
  },
  {
   "cell_type": "code",
   "execution_count": 428,
   "metadata": {},
   "outputs": [],
   "source": [
    "# On créé le dico pour le logfile de kelly\n",
    "dico_alistair = create_dico(fichier_exemple)"
   ]
  },
  {
   "cell_type": "code",
   "execution_count": 429,
   "metadata": {},
   "outputs": [
    {
     "name": "stdout",
     "output_type": "stream",
     "text": [
      "dict_keys(['Sound File', 'Stimulus', 'Vowel', 'FirstResponse', 'Response Time', 'NbErreurs', 'Repetitions', 'date'])\n"
     ]
    }
   ],
   "source": [
    "# Voici les \"keys\" pour lesquelles on a des données\n",
    "print(dico_alistair.keys())"
   ]
  },
  {
   "cell_type": "code",
   "execution_count": 430,
   "metadata": {},
   "outputs": [
    {
     "data": {
      "text/plain": [
       "{'I': 2.0, 'i': 1.0, 'A': 4.0, 'a': 2.0, 'v': 2.0}"
      ]
     },
     "execution_count": 430,
     "metadata": {},
     "output_type": "execute_result"
    }
   ],
   "source": [
    "# comptage des erreus pour chaque voyelle\n",
    "count_errors(dico_alistair, key=\"Vowel\", count_one=False)"
   ]
  },
  {
   "cell_type": "code",
   "execution_count": 431,
   "metadata": {},
   "outputs": [
    {
     "data": {
      "text/plain": [
       "{'I': 1, 'i': 8, 'A': 3, 'a': 7, 'v': 3}"
      ]
     },
     "execution_count": 431,
     "metadata": {},
     "output_type": "execute_result"
    }
   ],
   "source": [
    "count_right(dico_alistair, key=\"Vowel\")"
   ]
  },
  {
   "cell_type": "code",
   "execution_count": 432,
   "metadata": {
    "scrolled": true
   },
   "outputs": [
    {
     "data": {
      "text/plain": [
       "{'bean': 0,\n",
       " 'bik': 0,\n",
       " 'part': 0,\n",
       " 'pat': 0,\n",
       " 'beak': 1.0,\n",
       " 'luck': 0,\n",
       " 'lack': 2.0,\n",
       " 'lark': 3.0,\n",
       " 'chip': 0,\n",
       " 'bark': 0,\n",
       " 'putt': 1.0,\n",
       " 'mean': 1.0,\n",
       " 'lick': 0,\n",
       " 'mart': 1.0,\n",
       " 'min': 1.0,\n",
       " 'mat': 0,\n",
       " 'mutt': 0,\n",
       " 'cap': 0,\n",
       " 'cup': 1.0,\n",
       " 'back': 0}"
      ]
     },
     "execution_count": 432,
     "metadata": {},
     "output_type": "execute_result"
    }
   ],
   "source": [
    "# comptage des erreurs pour chaque voyelle\n",
    "count_errors(dico_alistair, key=\"Stimulus\", count_one=False)"
   ]
  },
  {
   "cell_type": "code",
   "execution_count": 433,
   "metadata": {},
   "outputs": [
    {
     "data": {
      "text/plain": [
       "0.0"
      ]
     },
     "execution_count": 433,
     "metadata": {},
     "output_type": "execute_result"
    }
   ],
   "source": [
    "np.sum(dico_alistair['Repetitions'])"
   ]
  },
  {
   "cell_type": "code",
   "execution_count": 434,
   "metadata": {
    "scrolled": true
   },
   "outputs": [
    {
     "data": {
      "text/plain": [
       "{'bean': 0,\n",
       " 'bik': 0,\n",
       " 'part': 0,\n",
       " 'pat': 0,\n",
       " 'beak': 0,\n",
       " 'luck': 0,\n",
       " 'lack': 0,\n",
       " 'lark': 0,\n",
       " 'chip': 0,\n",
       " 'bark': 0,\n",
       " 'putt': 0,\n",
       " 'mean': 0,\n",
       " 'lick': 0,\n",
       " 'mart': 0,\n",
       " 'min': 0,\n",
       " 'mat': 0,\n",
       " 'mutt': 0,\n",
       " 'cap': 0,\n",
       " 'cup': 0,\n",
       " 'back': 0}"
      ]
     },
     "execution_count": 434,
     "metadata": {},
     "output_type": "execute_result"
    }
   ],
   "source": [
    "# Somme des répétitions\n",
    "count_with_criteria(dico_alistair, key=\"Stimulus\", criteria='Repetitions')"
   ]
  },
  {
   "cell_type": "code",
   "execution_count": null,
   "metadata": {},
   "outputs": [],
   "source": []
  },
  {
   "cell_type": "code",
   "execution_count": null,
   "metadata": {},
   "outputs": [],
   "source": []
  }
 ],
 "metadata": {
  "kernelspec": {
   "display_name": "Python 3",
   "language": "python",
   "name": "python3"
  },
  "language_info": {
   "codemirror_mode": {
    "name": "ipython",
    "version": 3
   },
   "file_extension": ".py",
   "mimetype": "text/x-python",
   "name": "python",
   "nbconvert_exporter": "python",
   "pygments_lexer": "ipython3",
   "version": "3.8.5"
  }
 },
 "nbformat": 4,
 "nbformat_minor": 4
}
