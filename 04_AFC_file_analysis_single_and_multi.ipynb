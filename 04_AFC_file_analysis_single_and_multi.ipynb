{
 "cells": [
  {
   "cell_type": "markdown",
   "metadata": {},
   "source": [
    "# This notebook contains functions to analyse one or several AFC files for a single student"
   ]
  },
  {
   "cell_type": "markdown",
   "metadata": {},
   "source": [
    "## I. Importation of modules and functions from python scripts"
   ]
  },
  {
   "cell_type": "code",
   "execution_count": null,
   "metadata": {},
   "outputs": [],
   "source": [
    "# We import python modules\n",
    "# numpy : a mathematical function that is very useful!\n",
    "import numpy as np\n",
    "# Pyplot : very important tool if you want to create plots!\n",
    "import matplotlib.pyplot as plt\n",
    "\n",
    "# From the module utils we import the function create_dico\n",
    "# which is helpful if you want to manage files\n",
    "from utils import create_dico\n",
    "\n",
    "# From the module analysis we import many functions\n",
    "from analysis import with_errors, count_errors, count_with_criteria, with_no_errors, count_right\n",
    "\n",
    "import os"
   ]
  },
  {
   "cell_type": "markdown",
   "metadata": {},
   "source": [
    "## II. Setting the path to the logfile we are to analyse"
   ]
  },
  {
   "cell_type": "code",
   "execution_count": null,
   "metadata": {},
   "outputs": [],
   "source": [
    "example_directory = \"log_files/L2/Jane Doe_Number/logFiles/logFiles\"\n",
    "# The function listdir makes a list of \n",
    "# all the files in example_directory\n",
    "os.listdir(example_directory)"
   ]
  },
  {
   "cell_type": "code",
   "execution_count": null,
   "metadata": {},
   "outputs": [],
   "source": [
    "# We take the directory of a random student, you can change it\n",
    "example_directory = \"log_files/L2/Jane Doe_Number/logFiles/logFiles/\"\n",
    "# example_file = example_directory + \"path to the exercise\"\n",
    "example_file = example_directory + \"2AFC_i_Mon_Mar_01_17_23_45_2021.log\"\n"
   ]
  },
  {
   "cell_type": "markdown",
   "metadata": {},
   "source": [
    "## III. Creation of a dictionary"
   ]
  },
  {
   "cell_type": "markdown",
   "metadata": {},
   "source": [
    "We create a dictionary called *exo_dico*, which will \"remember\", in a way, the different keys of the *example_file*."
   ]
  },
  {
   "cell_type": "markdown",
   "metadata": {},
   "source": [
    "Using the different functions that we imported earlier, we count the number of mistakes (__count_error__), of right answers (__count_right__), of repetitions (__np.sum__) etc. Don't forget that you can always change the key or the criteria you want to count!"
   ]
  },
  {
   "cell_type": "code",
   "execution_count": null,
   "metadata": {},
   "outputs": [],
   "source": [
    "dico_exo = create_dico(example_file)\n",
    "\n",
    "print(dico_exo.keys())\n",
    "print(count_errors(dico_exo, key=\"Vowel\", count_one=False))\n",
    "print(count_right(dico_exo, key=\"Vowel\"))\n",
    "print(count_errors(dico_exo, key=\"Stimulus\", count_one=False))\n",
    "print(np.sum(dico_exo['Repetitions']))\n",
    "print(count_with_criteria(dico_exo, key=\"Stimulus\", criteria='NbErreurs'))\n",
    "print(np.sum(dico_exo[\"Response Time\"]))\n"
   ]
  },
  {
   "cell_type": "markdown",
   "metadata": {},
   "source": [
    "## III. Use of functions to make a simple table"
   ]
  },
  {
   "cell_type": "markdown",
   "metadata": {},
   "source": [
    "### 1. Right and wrong answers"
   ]
  },
  {
   "cell_type": "markdown",
   "metadata": {},
   "source": [
    "With the same technique as before we create a dictionary for the exercise.\n",
    "With the functions that we imported from the module analysis, we count the right and wrong answers and then make a rudimentary table that makes it easier to visualise the statistics for the file."
   ]
  },
  {
   "cell_type": "markdown",
   "metadata": {},
   "source": [
    "As always, you can change the key and criteria."
   ]
  },
  {
   "cell_type": "code",
   "execution_count": null,
   "metadata": {},
   "outputs": [],
   "source": [
    "dico_exo = create_dico(example_file)\n",
    "print(dico_exo.keys())\n",
    "err_vowels = count_errors(dico_exo, key=\"Vowel\", count_one=False)\n",
    "right_vowels = count_right(dico_exo, key=\"Vowel\")\n",
    "err_stimulus = count_errors(dico_exo, key=\"Stimulus\", count_one=False)\n",
    "sum_rep = np.sum(dico_exo['Repetitions'])\n",
    "rep_by_stimulus = count_with_criteria(dico_exo, key=\"Stimulus\", criteria='Repetitions')\n",
    "sum_time = np.sum(dico_exo[\"Response Time\"])\n",
    "\n",
    "vowel_keys = set(list(err_vowels.keys()) + list(right_vowels.keys()))\n",
    "print(\"key | errors | right\")\n",
    "print(\"--------------------\")\n",
    "for k in vowel_keys:\n",
    "    if k in err_vowels.keys():\n",
    "        error = err_vowels[k]\n",
    "    else:\n",
    "        error = 0\n",
    "    if k in right_vowels.keys():\n",
    "        right = right_vowels[k]\n",
    "    else:\n",
    "        right = 0\n",
    "    print(f\"{k}   |  {error}   | {right}\")"
   ]
  },
  {
   "cell_type": "markdown",
   "metadata": {},
   "source": [
    "You can set a list using the functions. Here we make a list of the vowels for which the student made a mistake, and the ones for which the student made no mistakes. It is not surprising, here, to obtain all the vowels, but feel free to play around with it."
   ]
  },
  {
   "cell_type": "code",
   "execution_count": null,
   "metadata": {},
   "outputs": [],
   "source": [
    "set(list(err_vowels.keys()) + list(right_vowels.keys()))\n"
   ]
  },
  {
   "cell_type": "markdown",
   "metadata": {},
   "source": [
    "### 2. Right and wrong answers and response time"
   ]
  },
  {
   "cell_type": "markdown",
   "metadata": {},
   "source": [
    "We create a dictionary for the same file but this time with three attributes: the sum of errors (__count_errors__), the sum of right answers (__count_right__), and the total response time (__count_with_criteria__). The dictionaries for these functions are called *err_dico*, *right_dico*, and *time_dico*, respectively."
   ]
  },
  {
   "cell_type": "markdown",
   "metadata": {},
   "source": [
    "With the function __time_counters__ we count the number of times we encounter a specific key so that we can devide the total by the result of __time_counters__ and obtain the average."
   ]
  },
  {
   "cell_type": "markdown",
   "metadata": {},
   "source": [
    "The function __print_stat_exos__ displays a simple table."
   ]
  },
  {
   "cell_type": "code",
   "execution_count": null,
   "metadata": {},
   "outputs": [],
   "source": [
    "def exo_stat(file, key=\"Vowel\"):\n",
    "    dico_exo = create_dico(file)\n",
    "    err_dico = count_errors(dico_exo, key=key, count_one=False)\n",
    "    right_dico = count_right(dico_exo, key=key)\n",
    "    time_dico = count_with_criteria(dico_exo, key=key, criteria='Response Time')\n",
    "\n",
    "    keys = set(list(err_dico.keys()) + list(right_dico.keys()))\n",
    "    res = {}\n",
    "    # we create a new empty dictionary called time_counters\n",
    "    time_counters = {}\n",
    "    # for the variable \"k\" in keys\n",
    "    for k in keys:\n",
    "        # if it is the first time we encounter it\n",
    "        # the time_counters will be set at value 0\n",
    "        time_counters[k] = 0\n",
    "    for k in keys:\n",
    "        # if we already encountered k in the dico of errors\n",
    "        if k in err_dico.keys():\n",
    "            # then errors will take the value of k\n",
    "            error = err_dico[k]\n",
    "        else:\n",
    "            # else, error takes the value 0\n",
    "            error = 0\n",
    "        if k in right_dico.keys():\n",
    "            right = right_dico[k]\n",
    "        else:\n",
    "            right = 0\n",
    "        if k in time_dico.keys():\n",
    "            time = time_dico[k]\n",
    "            # We increase the counter by increments\n",
    "            time_counters[k] += 1\n",
    "        else:\n",
    "            time = 0\n",
    "        # the dictionary res that we created earlier\n",
    "        # will take the values of error, right and time.\n",
    "        res[k] = [error, right, time]\n",
    "    # We calculate the average for each key\n",
    "    for k in keys:\n",
    "        # we divide the total by the number of occurrences.\n",
    "        res[k][2] /= time_counters[k]\n",
    "    return res\n",
    "\n",
    "def stat_mult_exo(list_files, key=\"Vowel\"):\n",
    "    # key : [attribute 1, attribute 2]\n",
    "    # attribute 1 = sum of wrong answers,\n",
    "    # attribute 2 = sum of right answers\n",
    "    dico_res = {}\n",
    "    # for any file in the list of files\n",
    "    # we provide to the function,\n",
    "    for file in list_files:\n",
    "        # we retrieve the statistics for an exercise\n",
    "        dico_exo = exo_stat(file, key=key)\n",
    "        # We combine the data\n",
    "        for k, v in dico_exo.items():\n",
    "            # If we have already encountered this key, we add the value\n",
    "            if k in dico_res.keys():\n",
    "                # we combine the first attribute\n",
    "                dico_res[k][0] += dico_exo[k][0]\n",
    "                # we combine the second attribute\n",
    "                dico_res[k][1] += dico_exo[k][1]\n",
    "            else:\n",
    "                # If not, we set up the values corresponding\n",
    "                # to the key for the current exercise\n",
    "                dico_res[k] = dico_exo[k]\n",
    "    return dico_res\n",
    "\n",
    "# We create a rudimentary table to display the results.\n",
    "def print_stat_exo(dico_exo):\n",
    "    print(\"| key  | errors | right |      resp time      |\")\n",
    "    print(\"|---------------------------------------------|\")\n",
    "    for k, v in dico_exo.items():\n",
    "        print(f\"| {k}    |   {v[0]}  |   {v[1]}  | {v[2]}  |\")"
   ]
  },
  {
   "cell_type": "code",
   "execution_count": null,
   "metadata": {},
   "outputs": [],
   "source": [
    "dico_multi = stat_mult_exo([example_file], key=\"Vowel\")\n",
    "print_stat_exo(dico_multi)"
   ]
  },
  {
   "cell_type": "markdown",
   "metadata": {},
   "source": [
    "## IV. Selecting files that have the pattern \"AFC\" to analyse them"
   ]
  },
  {
   "cell_type": "markdown",
   "metadata": {},
   "source": [
    "### 1. Definitions of functions"
   ]
  },
  {
   "cell_type": "markdown",
   "metadata": {},
   "source": [
    "The function __get_files_directory__ has two attributes that are *directory* and *pattern = \"AFC\"*. The purpose of the function is to add a backslash if the *example_directory* does not have one at the end, it avoids the raise of errors. \n",
    "\n",
    "The previous function also makes a list of the files that have the demanded pattern (here \"AFC\"), and this list is used in the function __get_files_mult_directory__."
   ]
  },
  {
   "cell_type": "code",
   "execution_count": null,
   "metadata": {},
   "outputs": [],
   "source": [
    "example_directory = \"log_files/L2/Jane Doe_Number/logFiles/logFiles/\"\n",
    "\n",
    "# We retrieve the files with the pattern \"AFC\"\n",
    "def get_files_directory(directory, pattern=\"AFC\"):\n",
    "    # if the last element of the directory is not \"/\"\n",
    "    if directory[-1] != \"/\":\n",
    "        # then, we add it.\n",
    "        directory += \"/\"\n",
    "    # we do it only on file that gave the demanded \n",
    "    # pattern, if they are in the directory\n",
    "    return [directory + file for file in os.listdir(directory) if  pattern in file]\n",
    "\n",
    "# Now we try to broaden our scope and analyse more \n",
    "# than one file at the time. To do so, we compile the\n",
    "# precedent function to this one and eturn a list of\n",
    "# files which have one thing in common: their pattern.\n",
    "def get_files_mult_directory(directory_list, pattern=\"AFC\"):\n",
    "    res = []\n",
    "    for d in directory_list:\n",
    "        res.extend(get_files_directory(d, pattern=pattern))\n",
    "    return res\n"
   ]
  },
  {
   "cell_type": "markdown",
   "metadata": {},
   "source": [
    "### 2. Application of the previously introduced functions"
   ]
  },
  {
   "cell_type": "markdown",
   "metadata": {},
   "source": [
    "The following cell is the application of the functions that have been defined previously.\n",
    "\n",
    "In this sense, we take the path to a directory that contains a certain number of files and we make a table which sums the different parameters."
   ]
  },
  {
   "cell_type": "markdown",
   "metadata": {},
   "source": [
    "Feel free to change the parameters."
   ]
  },
  {
   "cell_type": "code",
   "execution_count": null,
   "metadata": {},
   "outputs": [],
   "source": [
    "directory_list = [\"log_files/L2/Jane Doe_Number/logFiles/logFiles/\"]\n",
    "\n",
    "AFC_files = get_files_mult_directory(directory_list, pattern=\"AFC\")\n",
    "dico_multi = stat_mult_exo(AFC_files, key=\"Vowel\")\n",
    "print_stat_exo(dico_multi)"
   ]
  },
  {
   "cell_type": "code",
   "execution_count": null,
   "metadata": {},
   "outputs": [],
   "source": []
  }
 ],
 "metadata": {
  "kernelspec": {
   "display_name": "Python 3",
   "language": "python",
   "name": "python3"
  },
  "language_info": {
   "codemirror_mode": {
    "name": "ipython",
    "version": 3
   },
   "file_extension": ".py",
   "mimetype": "text/x-python",
   "name": "python",
   "nbconvert_exporter": "python",
   "pygments_lexer": "ipython3",
   "version": "3.8.5"
  }
 },
 "nbformat": 4,
 "nbformat_minor": 4
}
